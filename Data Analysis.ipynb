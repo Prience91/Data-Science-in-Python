{
 "cells": [
  {
   "cell_type": "markdown",
   "id": "86865b8b-6dde-4aeb-bcb2-9378fdbc8c7a",
   "metadata": {},
   "source": [
    "## Basics of Data Wrangling"
   ]
  },
  {
   "cell_type": "code",
   "execution_count": 9,
   "id": "dc81f3f4-a034-43d3-8c12-0c896481aba0",
   "metadata": {},
   "outputs": [
    {
     "data": {
      "text/html": [
       "<div>\n",
       "<style scoped>\n",
       "    .dataframe tbody tr th:only-of-type {\n",
       "        vertical-align: middle;\n",
       "    }\n",
       "\n",
       "    .dataframe tbody tr th {\n",
       "        vertical-align: top;\n",
       "    }\n",
       "\n",
       "    .dataframe thead th {\n",
       "        text-align: right;\n",
       "    }\n",
       "</style>\n",
       "<table border=\"1\" class=\"dataframe\">\n",
       "  <thead>\n",
       "    <tr style=\"text-align: right;\">\n",
       "      <th></th>\n",
       "      <th>symboling</th>\n",
       "      <th>normalized-losses</th>\n",
       "      <th>make</th>\n",
       "      <th>fuel-type</th>\n",
       "      <th>aspiration</th>\n",
       "      <th>num-of-doors</th>\n",
       "      <th>body-style</th>\n",
       "      <th>drive-wheels</th>\n",
       "      <th>engine-location</th>\n",
       "      <th>wheel-base</th>\n",
       "      <th>...</th>\n",
       "      <th>engine-size</th>\n",
       "      <th>fuel-system</th>\n",
       "      <th>bore</th>\n",
       "      <th>stroke</th>\n",
       "      <th>compression-ratio</th>\n",
       "      <th>horsepower</th>\n",
       "      <th>peak-rpm</th>\n",
       "      <th>city-mpg</th>\n",
       "      <th>highway-mpg</th>\n",
       "      <th>price</th>\n",
       "    </tr>\n",
       "  </thead>\n",
       "  <tbody>\n",
       "    <tr>\n",
       "      <th>0</th>\n",
       "      <td>3</td>\n",
       "      <td>?</td>\n",
       "      <td>alfa-romero</td>\n",
       "      <td>gas</td>\n",
       "      <td>std</td>\n",
       "      <td>two</td>\n",
       "      <td>convertible</td>\n",
       "      <td>rwd</td>\n",
       "      <td>front</td>\n",
       "      <td>88.6</td>\n",
       "      <td>...</td>\n",
       "      <td>130</td>\n",
       "      <td>mpfi</td>\n",
       "      <td>3.47</td>\n",
       "      <td>2.68</td>\n",
       "      <td>9.0</td>\n",
       "      <td>111</td>\n",
       "      <td>5000</td>\n",
       "      <td>21</td>\n",
       "      <td>27</td>\n",
       "      <td>16500</td>\n",
       "    </tr>\n",
       "    <tr>\n",
       "      <th>1</th>\n",
       "      <td>1</td>\n",
       "      <td>?</td>\n",
       "      <td>alfa-romero</td>\n",
       "      <td>gas</td>\n",
       "      <td>std</td>\n",
       "      <td>two</td>\n",
       "      <td>hatchback</td>\n",
       "      <td>rwd</td>\n",
       "      <td>front</td>\n",
       "      <td>94.5</td>\n",
       "      <td>...</td>\n",
       "      <td>152</td>\n",
       "      <td>mpfi</td>\n",
       "      <td>2.68</td>\n",
       "      <td>3.47</td>\n",
       "      <td>9.0</td>\n",
       "      <td>154</td>\n",
       "      <td>5000</td>\n",
       "      <td>19</td>\n",
       "      <td>26</td>\n",
       "      <td>16500</td>\n",
       "    </tr>\n",
       "    <tr>\n",
       "      <th>2</th>\n",
       "      <td>2</td>\n",
       "      <td>164</td>\n",
       "      <td>audi</td>\n",
       "      <td>gas</td>\n",
       "      <td>std</td>\n",
       "      <td>four</td>\n",
       "      <td>sedan</td>\n",
       "      <td>fwd</td>\n",
       "      <td>front</td>\n",
       "      <td>99.8</td>\n",
       "      <td>...</td>\n",
       "      <td>109</td>\n",
       "      <td>mpfi</td>\n",
       "      <td>3.19</td>\n",
       "      <td>3.40</td>\n",
       "      <td>10.0</td>\n",
       "      <td>102</td>\n",
       "      <td>5500</td>\n",
       "      <td>24</td>\n",
       "      <td>30</td>\n",
       "      <td>13950</td>\n",
       "    </tr>\n",
       "    <tr>\n",
       "      <th>3</th>\n",
       "      <td>2</td>\n",
       "      <td>164</td>\n",
       "      <td>audi</td>\n",
       "      <td>gas</td>\n",
       "      <td>std</td>\n",
       "      <td>four</td>\n",
       "      <td>sedan</td>\n",
       "      <td>4wd</td>\n",
       "      <td>front</td>\n",
       "      <td>99.4</td>\n",
       "      <td>...</td>\n",
       "      <td>136</td>\n",
       "      <td>mpfi</td>\n",
       "      <td>3.19</td>\n",
       "      <td>3.40</td>\n",
       "      <td>8.0</td>\n",
       "      <td>115</td>\n",
       "      <td>5500</td>\n",
       "      <td>18</td>\n",
       "      <td>22</td>\n",
       "      <td>17450</td>\n",
       "    </tr>\n",
       "    <tr>\n",
       "      <th>4</th>\n",
       "      <td>2</td>\n",
       "      <td>?</td>\n",
       "      <td>audi</td>\n",
       "      <td>gas</td>\n",
       "      <td>std</td>\n",
       "      <td>two</td>\n",
       "      <td>sedan</td>\n",
       "      <td>fwd</td>\n",
       "      <td>front</td>\n",
       "      <td>99.8</td>\n",
       "      <td>...</td>\n",
       "      <td>136</td>\n",
       "      <td>mpfi</td>\n",
       "      <td>3.19</td>\n",
       "      <td>3.40</td>\n",
       "      <td>8.5</td>\n",
       "      <td>110</td>\n",
       "      <td>5500</td>\n",
       "      <td>19</td>\n",
       "      <td>25</td>\n",
       "      <td>15250</td>\n",
       "    </tr>\n",
       "  </tbody>\n",
       "</table>\n",
       "<p>5 rows × 26 columns</p>\n",
       "</div>"
      ],
      "text/plain": [
       "   symboling normalized-losses         make fuel-type aspiration num-of-doors  \\\n",
       "0          3                 ?  alfa-romero       gas        std          two   \n",
       "1          1                 ?  alfa-romero       gas        std          two   \n",
       "2          2               164         audi       gas        std         four   \n",
       "3          2               164         audi       gas        std         four   \n",
       "4          2                 ?         audi       gas        std          two   \n",
       "\n",
       "    body-style drive-wheels engine-location  wheel-base  ...  engine-size  \\\n",
       "0  convertible          rwd           front        88.6  ...          130   \n",
       "1    hatchback          rwd           front        94.5  ...          152   \n",
       "2        sedan          fwd           front        99.8  ...          109   \n",
       "3        sedan          4wd           front        99.4  ...          136   \n",
       "4        sedan          fwd           front        99.8  ...          136   \n",
       "\n",
       "   fuel-system  bore  stroke compression-ratio horsepower  peak-rpm city-mpg  \\\n",
       "0         mpfi  3.47    2.68               9.0        111      5000       21   \n",
       "1         mpfi  2.68    3.47               9.0        154      5000       19   \n",
       "2         mpfi  3.19    3.40              10.0        102      5500       24   \n",
       "3         mpfi  3.19    3.40               8.0        115      5500       18   \n",
       "4         mpfi  3.19    3.40               8.5        110      5500       19   \n",
       "\n",
       "  highway-mpg  price  \n",
       "0          27  16500  \n",
       "1          26  16500  \n",
       "2          30  13950  \n",
       "3          22  17450  \n",
       "4          25  15250  \n",
       "\n",
       "[5 rows x 26 columns]"
      ]
     },
     "execution_count": 9,
     "metadata": {},
     "output_type": "execute_result"
    }
   ],
   "source": [
    "import pandas as pd\n",
    "Cars = pd.read_csv(\"usedcars.csv\")\n",
    "headers = [\"symboling\",\"normalized-losses\",\"make\",\"fuel-type\",\"aspiration\", \"num-of-doors\",\"body-style\",\n",
    "         \"drive-wheels\",\"engine-location\",\"wheel-base\", \"length\",\"width\",\"height\",\"curb-weight\",\"engine-type\",\n",
    "         \"num-of-cylinders\", \"engine-size\",\"fuel-system\",\"bore\",\"stroke\",\"compression-ratio\",\"horsepower\",\n",
    "         \"peak-rpm\",\"city-mpg\",\"highway-mpg\",\"price\"]\n",
    "Cars.columns = headers\n",
    "Cars.head()"
   ]
  },
  {
   "cell_type": "code",
   "execution_count": 11,
   "id": "4a528825-cb5c-426a-a261-de7cc8c431c4",
   "metadata": {},
   "outputs": [
    {
     "name": "stdout",
     "output_type": "stream",
     "text": [
      "<class 'pandas.core.frame.DataFrame'>\n",
      "RangeIndex: 204 entries, 0 to 203\n",
      "Data columns (total 26 columns):\n",
      " #   Column             Non-Null Count  Dtype  \n",
      "---  ------             --------------  -----  \n",
      " 0   symboling          204 non-null    int64  \n",
      " 1   normalized-losses  204 non-null    object \n",
      " 2   make               204 non-null    object \n",
      " 3   fuel-type          204 non-null    object \n",
      " 4   aspiration         204 non-null    object \n",
      " 5   num-of-doors       204 non-null    object \n",
      " 6   body-style         204 non-null    object \n",
      " 7   drive-wheels       204 non-null    object \n",
      " 8   engine-location    204 non-null    object \n",
      " 9   wheel-base         204 non-null    float64\n",
      " 10  length             204 non-null    float64\n",
      " 11  width              204 non-null    float64\n",
      " 12  height             204 non-null    float64\n",
      " 13  curb-weight        204 non-null    int64  \n",
      " 14  engine-type        204 non-null    object \n",
      " 15  num-of-cylinders   204 non-null    object \n",
      " 16  engine-size        204 non-null    int64  \n",
      " 17  fuel-system        204 non-null    object \n",
      " 18  bore               204 non-null    object \n",
      " 19  stroke             204 non-null    object \n",
      " 20  compression-ratio  204 non-null    float64\n",
      " 21  horsepower         204 non-null    object \n",
      " 22  peak-rpm           204 non-null    object \n",
      " 23  city-mpg           204 non-null    int64  \n",
      " 24  highway-mpg        204 non-null    int64  \n",
      " 25  price              204 non-null    object \n",
      "dtypes: float64(5), int64(5), object(16)\n",
      "memory usage: 41.6+ KB\n"
     ]
    }
   ],
   "source": [
    "Cars.info()"
   ]
  },
  {
   "cell_type": "code",
   "execution_count": 12,
   "id": "1012b7d0-e705-46e9-a330-69f799d66ebf",
   "metadata": {},
   "outputs": [
    {
     "data": {
      "text/plain": [
       "array(['?', '164', '158', '192', '188', '121', '98', '81', '118', '148',\n",
       "       '110', '145', '137', '101', '78', '106', '85', '107', '104', '113',\n",
       "       '150', '129', '115', '93', '142', '161', '153', '125', '128',\n",
       "       '122', '103', '168', '108', '194', '231', '119', '154', '74',\n",
       "       '186', '83', '102', '89', '87', '77', '91', '134', '65', '197',\n",
       "       '90', '94', '256', '95'], dtype=object)"
      ]
     },
     "execution_count": 12,
     "metadata": {},
     "output_type": "execute_result"
    }
   ],
   "source": [
    "#Lets just work on cleaning the column titled \"normalized losses\" to make sure everything can statistically anlalyzed. Current the data type is object\n",
    "Cars[\"normalized-losses\"].unique()# turns out we have questionmark"
   ]
  },
  {
   "cell_type": "markdown",
   "id": "78887744-857f-452d-8d66-a7aad494fb41",
   "metadata": {},
   "source": [
    "Replacing the missing value with average"
   ]
  },
  {
   "cell_type": "code",
   "execution_count": 16,
   "id": "eedfa629-2aba-4127-93e6-8be518240b9d",
   "metadata": {},
   "outputs": [
    {
     "data": {
      "text/plain": [
       "0      NaN\n",
       "1      NaN\n",
       "2    164.0\n",
       "3    164.0\n",
       "4      NaN\n",
       "Name: normalized-losses, dtype: float64"
      ]
     },
     "execution_count": 16,
     "metadata": {},
     "output_type": "execute_result"
    }
   ],
   "source": [
    "#We need to prepare the data for finding the mean value before the \"?\" can be replaced with the mean\n",
    "import numpy as np\n",
    "Cars[\"normalized-losses\"] = Cars[\"normalized-losses\"].replace(\"?\", np.nan).astype(float)\n",
    "Cars[\"normalized-losses\"].head() "
   ]
  },
  {
   "cell_type": "code",
   "execution_count": 17,
   "id": "d5299e16-cc28-40a9-8a55-217a0a42a5cd",
   "metadata": {},
   "outputs": [
    {
     "data": {
      "text/plain": [
       "0    122.0\n",
       "1    122.0\n",
       "2    164.0\n",
       "3    164.0\n",
       "4    122.0\n",
       "Name: normalized-losses, dtype: float64"
      ]
     },
     "execution_count": 17,
     "metadata": {},
     "output_type": "execute_result"
    }
   ],
   "source": [
    "#Now lets find the mean\n",
    "nl_mean = Cars[\"normalized-losses\"].mean()\n",
    "Cars[\"normalized-losses\"] = Cars[\"normalized-losses\"].replace(np.nan, nl_mean)\n",
    "Cars[\"normalized-losses\"].head()\n",
    "#So, this deals with the missing value in the column of choice"
   ]
  },
  {
   "cell_type": "raw",
   "id": "845b1c15-4969-4f24-b44d-46b6b9109e6c",
   "metadata": {},
   "source": [
    "Replacing the missing value with back filling"
   ]
  },
  {
   "cell_type": "code",
   "execution_count": 18,
   "id": "94d3c056-a353-4da6-a307-9130a98b3e18",
   "metadata": {},
   "outputs": [
    {
     "name": "stderr",
     "output_type": "stream",
     "text": [
      "C:\\Users\\prien\\AppData\\Local\\Temp\\ipykernel_1480\\2558093519.py:3: FutureWarning: A value is trying to be set on a copy of a DataFrame or Series through chained assignment using an inplace method.\n",
      "The behavior will change in pandas 3.0. This inplace method will never work because the intermediate object on which we are setting values always behaves as a copy.\n",
      "\n",
      "For example, when doing 'df[col].method(value, inplace=True)', try using 'df.method({col: value}, inplace=True)' or df[col] = df[col].method(value) instead, to perform the operation inplace on the original object.\n",
      "\n",
      "\n",
      "  Cars[\"bore\"].replace(\"?\", np.nan, inplace=True)\n"
     ]
    }
   ],
   "source": [
    "#Cars[\"bore\"].unique()\n",
    "import numpy as np\n",
    "Cars[\"bore\"].replace(\"?\", np.nan, inplace=True) "
   ]
  },
  {
   "cell_type": "code",
   "execution_count": 19,
   "id": "ded04aa4-c392-495f-bf5a-477569deaf53",
   "metadata": {},
   "outputs": [
    {
     "name": "stderr",
     "output_type": "stream",
     "text": [
      "C:\\Users\\prien\\AppData\\Local\\Temp\\ipykernel_1480\\4260004161.py:1: FutureWarning: A value is trying to be set on a copy of a DataFrame or Series through chained assignment using an inplace method.\n",
      "The behavior will change in pandas 3.0. This inplace method will never work because the intermediate object on which we are setting values always behaves as a copy.\n",
      "\n",
      "For example, when doing 'df[col].method(value, inplace=True)', try using 'df.method({col: value}, inplace=True)' or df[col] = df[col].method(value) instead, to perform the operation inplace on the original object.\n",
      "\n",
      "\n",
      "  Cars[\"bore\"].bfill(inplace = True)\n"
     ]
    },
    {
     "data": {
      "text/plain": [
       "array(['3.47', '2.68', '3.19', '3.13', '3.50', '3.31', '3.62', '2.91',\n",
       "       '3.03', '2.97', '3.34', '3.60', '2.92', '3.15', '3.43', '3.63',\n",
       "       '3.54', '3.08', '3.39', '3.76', '3.58', '3.46', '3.80', '3.78',\n",
       "       '3.17', '3.35', '3.59', '2.99', '3.33', '3.70', '3.61', '3.94',\n",
       "       '3.74', '2.54', '3.05', '3.27', '3.24', '3.01'], dtype=object)"
      ]
     },
     "execution_count": 19,
     "metadata": {},
     "output_type": "execute_result"
    }
   ],
   "source": [
    "Cars[\"bore\"].bfill(inplace = True)\n",
    "Cars[\"bore\"].unique()"
   ]
  },
  {
   "cell_type": "markdown",
   "id": "bc197d7c-2a1a-4bc9-a2a1-037ba9e5c1f9",
   "metadata": {},
   "source": [
    "Replacing the missing value with most frequent value especially for object types"
   ]
  },
  {
   "cell_type": "code",
   "execution_count": 23,
   "id": "51ed52f7-36a4-4522-8e3c-0e6759dc1ae6",
   "metadata": {},
   "outputs": [
    {
     "data": {
      "text/plain": [
       "array(['two', 'four', '?'], dtype=object)"
      ]
     },
     "execution_count": 23,
     "metadata": {},
     "output_type": "execute_result"
    }
   ],
   "source": [
    "#Now working with object type columns\n",
    "Cars[\"num-of-doors\"].unique()"
   ]
  },
  {
   "cell_type": "code",
   "execution_count": 24,
   "id": "25dc6b06-6271-4057-af5b-f7a3dabf9232",
   "metadata": {},
   "outputs": [
    {
     "data": {
      "text/plain": [
       "num-of-doors\n",
       "four    114\n",
       "two      88\n",
       "?         2\n",
       "Name: count, dtype: int64"
      ]
     },
     "execution_count": 24,
     "metadata": {},
     "output_type": "execute_result"
    }
   ],
   "source": [
    "#We are certaining averaging 2 nad 4 to fill the \"?\" value so we choose to fll the missing data with the most popular number of doors\n",
    "Cars[\"num-of-doors\"].value_counts() #turns out four door cars are most popular"
   ]
  },
  {
   "cell_type": "code",
   "execution_count": 27,
   "id": "092fc412-e3d8-4df3-afbe-8b1a4100ab37",
   "metadata": {},
   "outputs": [
    {
     "name": "stderr",
     "output_type": "stream",
     "text": [
      "C:\\Users\\prien\\AppData\\Local\\Temp\\ipykernel_1480\\98901155.py:1: FutureWarning: A value is trying to be set on a copy of a DataFrame or Series through chained assignment using an inplace method.\n",
      "The behavior will change in pandas 3.0. This inplace method will never work because the intermediate object on which we are setting values always behaves as a copy.\n",
      "\n",
      "For example, when doing 'df[col].method(value, inplace=True)', try using 'df.method({col: value}, inplace=True)' or df[col] = df[col].method(value) instead, to perform the operation inplace on the original object.\n",
      "\n",
      "\n",
      "  Cars[\"num-of-doors\"].replace(\"?\", \"four\", inplace=True)\n"
     ]
    },
    {
     "data": {
      "text/plain": [
       "num-of-doors\n",
       "four    116\n",
       "two      88\n",
       "Name: count, dtype: int64"
      ]
     },
     "execution_count": 27,
     "metadata": {},
     "output_type": "execute_result"
    }
   ],
   "source": [
    "Cars[\"num-of-doors\"].replace(\"?\", \"four\", inplace=True)\n",
    "Cars[\"num-of-doors\"].value_counts() #so the job is done without having to convert the datatype into integer or float"
   ]
  },
  {
   "cell_type": "markdown",
   "id": "b343e1f7-9275-4e33-8c5c-14f123dfe761",
   "metadata": {},
   "source": [
    "Deleting the missing value by referring to a specific column of interest"
   ]
  },
  {
   "cell_type": "code",
   "execution_count": 29,
   "id": "f9050d88-91e0-42ed-a4f7-5652311d3e97",
   "metadata": {},
   "outputs": [
    {
     "data": {
      "text/plain": [
       "array(['16500', '13950', '17450', '15250', '17710', '18920', '23875', '?',\n",
       "       '16430', '16925', '20970', '21105', '24565', '30760', '41315',\n",
       "       '36880', '5151', '6295', '6575', '5572', '6377', '7957', '6229',\n",
       "       '6692', '7609', '8558', '8921', '12964', '6479', '6855', '5399',\n",
       "       '6529', '7129', '7295', '7895', '9095', '8845', '10295', '12945',\n",
       "       '10345', '6785', '11048', '32250', '35550', '36000', '5195',\n",
       "       '6095', '6795', '6695', '7395', '10945', '11845', '13645', '15645',\n",
       "       '8495', '10595', '10245', '10795', '11245', '18280', '18344',\n",
       "       '25552', '28248', '28176', '31600', '34184', '35056', '40960',\n",
       "       '45400', '16503', '5389', '6189', '6669', '7689', '9959', '8499',\n",
       "       '12629', '14869', '14489', '6989', '8189', '9279', '5499', '7099',\n",
       "       '6649', '6849', '7349', '7299', '7799', '7499', '7999', '8249',\n",
       "       '8949', '9549', '13499', '14399', '17199', '19699', '18399',\n",
       "       '11900', '13200', '12440', '13860', '15580', '16900', '16695',\n",
       "       '17075', '16630', '17950', '18150', '12764', '22018', '32528',\n",
       "       '34028', '37028', '9295', '9895', '11850', '12170', '15040',\n",
       "       '15510', '18620', '5118', '7053', '7603', '7126', '7775', '9960',\n",
       "       '9233', '11259', '7463', '10198', '8013', '11694', '5348', '6338',\n",
       "       '6488', '6918', '7898', '8778', '6938', '7198', '7788', '7738',\n",
       "       '8358', '9258', '8058', '8238', '9298', '9538', '8449', '9639',\n",
       "       '9989', '11199', '11549', '17669', '8948', '10698', '9988',\n",
       "       '10898', '11248', '16558', '15998', '15690', '15750', '7975',\n",
       "       '7995', '8195', '9495', '9995', '11595', '9980', '13295', '13845',\n",
       "       '12290', '12940', '13415', '15985', '16515', '18420', '18950',\n",
       "       '16845', '19045', '21485', '22470', '22625'], dtype=object)"
      ]
     },
     "execution_count": 29,
     "metadata": {},
     "output_type": "execute_result"
    }
   ],
   "source": [
    "#Now we have to delete all records of which the price points are missing. If there are missing values in other uncleaned columns we will keep it as it is\n",
    "#Cars.columns\n",
    "Cars[\"price\"].unique()"
   ]
  },
  {
   "cell_type": "code",
   "execution_count": 32,
   "id": "1fd7f13d-6449-476f-8b67-fb5b8a89d5c4",
   "metadata": {},
   "outputs": [
    {
     "name": "stderr",
     "output_type": "stream",
     "text": [
      "C:\\Users\\prien\\AppData\\Local\\Temp\\ipykernel_1480\\2654589673.py:2: FutureWarning: A value is trying to be set on a copy of a DataFrame or Series through chained assignment using an inplace method.\n",
      "The behavior will change in pandas 3.0. This inplace method will never work because the intermediate object on which we are setting values always behaves as a copy.\n",
      "\n",
      "For example, when doing 'df[col].method(value, inplace=True)', try using 'df.method({col: value}, inplace=True)' or df[col] = df[col].method(value) instead, to perform the operation inplace on the original object.\n",
      "\n",
      "\n",
      "  Cars[\"price\"].replace(\"?\", np.nan, inplace=True) # remember unless we are replacing a value with a descriptive statistic such as mean. we dont need to convert the\n"
     ]
    }
   ],
   "source": [
    "import numpy as np\n",
    "Cars[\"price\"].replace(\"?\", np.nan, inplace=True) # remember unless we are replacing a value with a descriptive statistic such as mean. we dont need to convert the\n",
    "                                                 # data type into numerical format  "
   ]
  },
  {
   "cell_type": "code",
   "execution_count": 33,
   "id": "c5c0be34-84c7-4c81-8728-de02d750d6d3",
   "metadata": {},
   "outputs": [
    {
     "data": {
      "text/plain": [
       "array(['16500', '13950', '17450', '15250', '17710', '18920', '23875',\n",
       "       '16430', '16925', '20970', '21105', '24565', '30760', '41315',\n",
       "       '36880', '5151', '6295', '6575', '5572', '6377', '7957', '6229',\n",
       "       '6692', '7609', '8558', '8921', '12964', '6479', '6855', '5399',\n",
       "       '6529', '7129', '7295', '7895', '9095', '8845', '10295', '12945',\n",
       "       '10345', '6785', '11048', '32250', '35550', '36000', '5195',\n",
       "       '6095', '6795', '6695', '7395', '10945', '11845', '13645', '15645',\n",
       "       '8495', '10595', '10245', '10795', '11245', '18280', '18344',\n",
       "       '25552', '28248', '28176', '31600', '34184', '35056', '40960',\n",
       "       '45400', '16503', '5389', '6189', '6669', '7689', '9959', '8499',\n",
       "       '12629', '14869', '14489', '6989', '8189', '9279', '5499', '7099',\n",
       "       '6649', '6849', '7349', '7299', '7799', '7499', '7999', '8249',\n",
       "       '8949', '9549', '13499', '14399', '17199', '19699', '18399',\n",
       "       '11900', '13200', '12440', '13860', '15580', '16900', '16695',\n",
       "       '17075', '16630', '17950', '18150', '12764', '22018', '32528',\n",
       "       '34028', '37028', '9295', '9895', '11850', '12170', '15040',\n",
       "       '15510', '18620', '5118', '7053', '7603', '7126', '7775', '9960',\n",
       "       '9233', '11259', '7463', '10198', '8013', '11694', '5348', '6338',\n",
       "       '6488', '6918', '7898', '8778', '6938', '7198', '7788', '7738',\n",
       "       '8358', '9258', '8058', '8238', '9298', '9538', '8449', '9639',\n",
       "       '9989', '11199', '11549', '17669', '8948', '10698', '9988',\n",
       "       '10898', '11248', '16558', '15998', '15690', '15750', '7975',\n",
       "       '7995', '8195', '9495', '9995', '11595', '9980', '13295', '13845',\n",
       "       '12290', '12940', '13415', '15985', '16515', '18420', '18950',\n",
       "       '16845', '19045', '21485', '22470', '22625'], dtype=object)"
      ]
     },
     "execution_count": 33,
     "metadata": {},
     "output_type": "execute_result"
    }
   ],
   "source": [
    "Cars.dropna(subset = [\"price\"], axis = 0, inplace = True) #realize that even if price is a column we are using axis = 0 before we are operating on rows based on\n",
    "                                                          #missing value in price series. And, we normally drop the unavailable regressand than fill it with\n",
    "                                                          #different methods\n",
    "Cars[\"price\"].unique()"
   ]
  },
  {
   "cell_type": "markdown",
   "id": "c376b06e-90de-44bc-9273-55d7d58235d1",
   "metadata": {},
   "source": [
    "Reformatting the data type for statistical analysis"
   ]
  },
  {
   "cell_type": "code",
   "execution_count": 36,
   "id": "1ef1bb66-e0a7-4489-b951-fc26f2c85fd7",
   "metadata": {},
   "outputs": [
    {
     "name": "stdout",
     "output_type": "stream",
     "text": [
      "<class 'pandas.core.frame.DataFrame'>\n",
      "Index: 200 entries, 0 to 203\n",
      "Data columns (total 26 columns):\n",
      " #   Column             Non-Null Count  Dtype  \n",
      "---  ------             --------------  -----  \n",
      " 0   symboling          200 non-null    int64  \n",
      " 1   normalized-losses  200 non-null    float64\n",
      " 2   make               200 non-null    object \n",
      " 3   fuel-type          200 non-null    object \n",
      " 4   aspiration         200 non-null    object \n",
      " 5   num-of-doors       200 non-null    object \n",
      " 6   body-style         200 non-null    object \n",
      " 7   drive-wheels       200 non-null    object \n",
      " 8   engine-location    200 non-null    object \n",
      " 9   wheel-base         200 non-null    float64\n",
      " 10  length             200 non-null    float64\n",
      " 11  width              200 non-null    float64\n",
      " 12  height             200 non-null    float64\n",
      " 13  curb-weight        200 non-null    int64  \n",
      " 14  engine-type        200 non-null    object \n",
      " 15  num-of-cylinders   200 non-null    object \n",
      " 16  engine-size        200 non-null    int64  \n",
      " 17  fuel-system        200 non-null    object \n",
      " 18  bore               200 non-null    object \n",
      " 19  stroke             200 non-null    object \n",
      " 20  compression-ratio  200 non-null    float64\n",
      " 21  horsepower         200 non-null    object \n",
      " 22  peak-rpm           200 non-null    object \n",
      " 23  city-mpg           200 non-null    int64  \n",
      " 24  highway-mpg        200 non-null    int64  \n",
      " 25  price              200 non-null    object \n",
      "dtypes: float64(6), int64(5), object(15)\n",
      "memory usage: 42.2+ KB\n"
     ]
    }
   ],
   "source": [
    "Cars.info()"
   ]
  },
  {
   "cell_type": "code",
   "execution_count": 37,
   "id": "54e0a080-e73d-4913-b42b-2b68ca51fdf8",
   "metadata": {},
   "outputs": [
    {
     "name": "stdout",
     "output_type": "stream",
     "text": [
      "error\n"
     ]
    }
   ],
   "source": [
    "#Lets get bore, stroke, horsepower, peak-rpm, and price \n",
    "try: #try because i have hunch that inplace will not work in astype function\n",
    "    Cars[[\"bore\", \"price\"]].astype(float, inplace=True)\n",
    "except:\n",
    "    print(\"error\")"
   ]
  },
  {
   "cell_type": "code",
   "execution_count": 39,
   "id": "a72cf0ab-4e6e-4f10-b500-7b4ee14beba5",
   "metadata": {},
   "outputs": [
    {
     "name": "stdout",
     "output_type": "stream",
     "text": [
      "<class 'pandas.core.frame.DataFrame'>\n",
      "Index: 200 entries, 0 to 203\n",
      "Data columns (total 26 columns):\n",
      " #   Column             Non-Null Count  Dtype  \n",
      "---  ------             --------------  -----  \n",
      " 0   symboling          200 non-null    int64  \n",
      " 1   normalized-losses  200 non-null    float64\n",
      " 2   make               200 non-null    object \n",
      " 3   fuel-type          200 non-null    object \n",
      " 4   aspiration         200 non-null    object \n",
      " 5   num-of-doors       200 non-null    object \n",
      " 6   body-style         200 non-null    object \n",
      " 7   drive-wheels       200 non-null    object \n",
      " 8   engine-location    200 non-null    object \n",
      " 9   wheel-base         200 non-null    float64\n",
      " 10  length             200 non-null    float64\n",
      " 11  width              200 non-null    float64\n",
      " 12  height             200 non-null    float64\n",
      " 13  curb-weight        200 non-null    int64  \n",
      " 14  engine-type        200 non-null    object \n",
      " 15  num-of-cylinders   200 non-null    object \n",
      " 16  engine-size        200 non-null    int64  \n",
      " 17  fuel-system        200 non-null    object \n",
      " 18  bore               200 non-null    float64\n",
      " 19  stroke             200 non-null    object \n",
      " 20  compression-ratio  200 non-null    float64\n",
      " 21  horsepower         200 non-null    object \n",
      " 22  peak-rpm           200 non-null    object \n",
      " 23  city-mpg           200 non-null    int64  \n",
      " 24  highway-mpg        200 non-null    int64  \n",
      " 25  price              200 non-null    float64\n",
      "dtypes: float64(8), int64(5), object(13)\n",
      "memory usage: 42.2+ KB\n"
     ]
    }
   ],
   "source": [
    "Cars[\"bore\"] = Cars[\"bore\"].astype(float)\n",
    "Cars[\"price\"] = Cars[\"price\"].astype(float)\n",
    "Cars.info()"
   ]
  },
  {
   "cell_type": "code",
   "execution_count": 40,
   "id": "c7041858-c050-4328-8f8f-c78adf0b0e4e",
   "metadata": {},
   "outputs": [],
   "source": [
    "#lets convert mpg into kilometers per litre\n",
    "Cars.rename(columns = {\"city-mpg\":\"city-kpl\", \"highway-mpg\":\"highway-kpl\"}, inplace = True)"
   ]
  },
  {
   "cell_type": "code",
   "execution_count": 41,
   "id": "356ebc5a-eb6e-451f-96b8-5ddccc399bd8",
   "metadata": {},
   "outputs": [
    {
     "data": {
      "text/html": [
       "<div>\n",
       "<style scoped>\n",
       "    .dataframe tbody tr th:only-of-type {\n",
       "        vertical-align: middle;\n",
       "    }\n",
       "\n",
       "    .dataframe tbody tr th {\n",
       "        vertical-align: top;\n",
       "    }\n",
       "\n",
       "    .dataframe thead th {\n",
       "        text-align: right;\n",
       "    }\n",
       "</style>\n",
       "<table border=\"1\" class=\"dataframe\">\n",
       "  <thead>\n",
       "    <tr style=\"text-align: right;\">\n",
       "      <th></th>\n",
       "      <th>city-kpl</th>\n",
       "      <th>highway-kpl</th>\n",
       "    </tr>\n",
       "  </thead>\n",
       "  <tbody>\n",
       "    <tr>\n",
       "      <th>0</th>\n",
       "      <td>8.9271</td>\n",
       "      <td>11.4777</td>\n",
       "    </tr>\n",
       "    <tr>\n",
       "      <th>1</th>\n",
       "      <td>8.0769</td>\n",
       "      <td>11.0526</td>\n",
       "    </tr>\n",
       "    <tr>\n",
       "      <th>2</th>\n",
       "      <td>10.2024</td>\n",
       "      <td>12.7530</td>\n",
       "    </tr>\n",
       "    <tr>\n",
       "      <th>3</th>\n",
       "      <td>7.6518</td>\n",
       "      <td>9.3522</td>\n",
       "    </tr>\n",
       "    <tr>\n",
       "      <th>4</th>\n",
       "      <td>8.0769</td>\n",
       "      <td>10.6275</td>\n",
       "    </tr>\n",
       "  </tbody>\n",
       "</table>\n",
       "</div>"
      ],
      "text/plain": [
       "   city-kpl  highway-kpl\n",
       "0    8.9271      11.4777\n",
       "1    8.0769      11.0526\n",
       "2   10.2024      12.7530\n",
       "3    7.6518       9.3522\n",
       "4    8.0769      10.6275"
      ]
     },
     "execution_count": 41,
     "metadata": {},
     "output_type": "execute_result"
    }
   ],
   "source": [
    "Cars[\"city-kpl\"] = Cars[\"city-kpl\"]*0.4251 #converting mpg to kpl)\n",
    "Cars[\"highway-kpl\"] = Cars[\"highway-kpl\"]*0.4251\n",
    "Cars[[\"city-kpl\", \"highway-kpl\"]].head()"
   ]
  },
  {
   "cell_type": "code",
   "execution_count": 42,
   "id": "1d30d8db-cb31-4ad3-af62-9af222fb1aff",
   "metadata": {},
   "outputs": [
    {
     "data": {
      "text/html": [
       "<div>\n",
       "<style scoped>\n",
       "    .dataframe tbody tr th:only-of-type {\n",
       "        vertical-align: middle;\n",
       "    }\n",
       "\n",
       "    .dataframe tbody tr th {\n",
       "        vertical-align: top;\n",
       "    }\n",
       "\n",
       "    .dataframe thead th {\n",
       "        text-align: right;\n",
       "    }\n",
       "</style>\n",
       "<table border=\"1\" class=\"dataframe\">\n",
       "  <thead>\n",
       "    <tr style=\"text-align: right;\">\n",
       "      <th></th>\n",
       "      <th>symboling</th>\n",
       "      <th>normalized-losses</th>\n",
       "      <th>make</th>\n",
       "      <th>fuel-type</th>\n",
       "      <th>aspiration</th>\n",
       "      <th>num-of-doors</th>\n",
       "      <th>body-style</th>\n",
       "      <th>drive-wheels</th>\n",
       "      <th>engine-location</th>\n",
       "      <th>wheel-base</th>\n",
       "      <th>...</th>\n",
       "      <th>engine-size</th>\n",
       "      <th>fuel-system</th>\n",
       "      <th>bore</th>\n",
       "      <th>stroke</th>\n",
       "      <th>compression-ratio</th>\n",
       "      <th>horsepower</th>\n",
       "      <th>peak-rpm</th>\n",
       "      <th>city-kpl</th>\n",
       "      <th>highway-kpl</th>\n",
       "      <th>price</th>\n",
       "    </tr>\n",
       "  </thead>\n",
       "  <tbody>\n",
       "    <tr>\n",
       "      <th>0</th>\n",
       "      <td>3</td>\n",
       "      <td>122.0</td>\n",
       "      <td>alfa-romero</td>\n",
       "      <td>gas</td>\n",
       "      <td>std</td>\n",
       "      <td>two</td>\n",
       "      <td>convertible</td>\n",
       "      <td>rwd</td>\n",
       "      <td>front</td>\n",
       "      <td>88.6</td>\n",
       "      <td>...</td>\n",
       "      <td>130</td>\n",
       "      <td>mpfi</td>\n",
       "      <td>3.47</td>\n",
       "      <td>2.68</td>\n",
       "      <td>9.0</td>\n",
       "      <td>111</td>\n",
       "      <td>5000</td>\n",
       "      <td>8.9271</td>\n",
       "      <td>11.4777</td>\n",
       "      <td>16500.0</td>\n",
       "    </tr>\n",
       "    <tr>\n",
       "      <th>1</th>\n",
       "      <td>1</td>\n",
       "      <td>122.0</td>\n",
       "      <td>alfa-romero</td>\n",
       "      <td>gas</td>\n",
       "      <td>std</td>\n",
       "      <td>two</td>\n",
       "      <td>hatchback</td>\n",
       "      <td>rwd</td>\n",
       "      <td>front</td>\n",
       "      <td>94.5</td>\n",
       "      <td>...</td>\n",
       "      <td>152</td>\n",
       "      <td>mpfi</td>\n",
       "      <td>2.68</td>\n",
       "      <td>3.47</td>\n",
       "      <td>9.0</td>\n",
       "      <td>154</td>\n",
       "      <td>5000</td>\n",
       "      <td>8.0769</td>\n",
       "      <td>11.0526</td>\n",
       "      <td>16500.0</td>\n",
       "    </tr>\n",
       "    <tr>\n",
       "      <th>2</th>\n",
       "      <td>2</td>\n",
       "      <td>164.0</td>\n",
       "      <td>audi</td>\n",
       "      <td>gas</td>\n",
       "      <td>std</td>\n",
       "      <td>four</td>\n",
       "      <td>sedan</td>\n",
       "      <td>fwd</td>\n",
       "      <td>front</td>\n",
       "      <td>99.8</td>\n",
       "      <td>...</td>\n",
       "      <td>109</td>\n",
       "      <td>mpfi</td>\n",
       "      <td>3.19</td>\n",
       "      <td>3.40</td>\n",
       "      <td>10.0</td>\n",
       "      <td>102</td>\n",
       "      <td>5500</td>\n",
       "      <td>10.2024</td>\n",
       "      <td>12.7530</td>\n",
       "      <td>13950.0</td>\n",
       "    </tr>\n",
       "    <tr>\n",
       "      <th>3</th>\n",
       "      <td>2</td>\n",
       "      <td>164.0</td>\n",
       "      <td>audi</td>\n",
       "      <td>gas</td>\n",
       "      <td>std</td>\n",
       "      <td>four</td>\n",
       "      <td>sedan</td>\n",
       "      <td>4wd</td>\n",
       "      <td>front</td>\n",
       "      <td>99.4</td>\n",
       "      <td>...</td>\n",
       "      <td>136</td>\n",
       "      <td>mpfi</td>\n",
       "      <td>3.19</td>\n",
       "      <td>3.40</td>\n",
       "      <td>8.0</td>\n",
       "      <td>115</td>\n",
       "      <td>5500</td>\n",
       "      <td>7.6518</td>\n",
       "      <td>9.3522</td>\n",
       "      <td>17450.0</td>\n",
       "    </tr>\n",
       "    <tr>\n",
       "      <th>4</th>\n",
       "      <td>2</td>\n",
       "      <td>122.0</td>\n",
       "      <td>audi</td>\n",
       "      <td>gas</td>\n",
       "      <td>std</td>\n",
       "      <td>two</td>\n",
       "      <td>sedan</td>\n",
       "      <td>fwd</td>\n",
       "      <td>front</td>\n",
       "      <td>99.8</td>\n",
       "      <td>...</td>\n",
       "      <td>136</td>\n",
       "      <td>mpfi</td>\n",
       "      <td>3.19</td>\n",
       "      <td>3.40</td>\n",
       "      <td>8.5</td>\n",
       "      <td>110</td>\n",
       "      <td>5500</td>\n",
       "      <td>8.0769</td>\n",
       "      <td>10.6275</td>\n",
       "      <td>15250.0</td>\n",
       "    </tr>\n",
       "  </tbody>\n",
       "</table>\n",
       "<p>5 rows × 26 columns</p>\n",
       "</div>"
      ],
      "text/plain": [
       "   symboling  normalized-losses         make fuel-type aspiration  \\\n",
       "0          3              122.0  alfa-romero       gas        std   \n",
       "1          1              122.0  alfa-romero       gas        std   \n",
       "2          2              164.0         audi       gas        std   \n",
       "3          2              164.0         audi       gas        std   \n",
       "4          2              122.0         audi       gas        std   \n",
       "\n",
       "  num-of-doors   body-style drive-wheels engine-location  wheel-base  ...  \\\n",
       "0          two  convertible          rwd           front        88.6  ...   \n",
       "1          two    hatchback          rwd           front        94.5  ...   \n",
       "2         four        sedan          fwd           front        99.8  ...   \n",
       "3         four        sedan          4wd           front        99.4  ...   \n",
       "4          two        sedan          fwd           front        99.8  ...   \n",
       "\n",
       "   engine-size  fuel-system  bore  stroke compression-ratio horsepower  \\\n",
       "0          130         mpfi  3.47    2.68               9.0        111   \n",
       "1          152         mpfi  2.68    3.47               9.0        154   \n",
       "2          109         mpfi  3.19    3.40              10.0        102   \n",
       "3          136         mpfi  3.19    3.40               8.0        115   \n",
       "4          136         mpfi  3.19    3.40               8.5        110   \n",
       "\n",
       "   peak-rpm city-kpl  highway-kpl    price  \n",
       "0      5000   8.9271      11.4777  16500.0  \n",
       "1      5000   8.0769      11.0526  16500.0  \n",
       "2      5500  10.2024      12.7530  13950.0  \n",
       "3      5500   7.6518       9.3522  17450.0  \n",
       "4      5500   8.0769      10.6275  15250.0  \n",
       "\n",
       "[5 rows x 26 columns]"
      ]
     },
     "execution_count": 42,
     "metadata": {},
     "output_type": "execute_result"
    }
   ],
   "source": [
    "Cars.head()"
   ]
  },
  {
   "cell_type": "markdown",
   "id": "5ec2d2d5-6bb8-4208-9ec9-b42bfc8a277c",
   "metadata": {},
   "source": [
    "### Normalization of data"
   ]
  },
  {
   "cell_type": "code",
   "execution_count": 46,
   "id": "12382583-78db-4607-8781-344f46b2b9cb",
   "metadata": {},
   "outputs": [
    {
     "name": "stdout",
     "output_type": "stream",
     "text": [
      "<class 'pandas.core.series.Series'>\n",
      "Index: 200 entries, 0 to 203\n",
      "Series name: bore\n",
      "Non-Null Count  Dtype  \n",
      "--------------  -----  \n",
      "200 non-null    float64\n",
      "dtypes: float64(1)\n",
      "memory usage: 3.1 KB\n"
     ]
    }
   ],
   "source": [
    "#It appears that we need to input \"bore\", \"stroke\", and \"compression ratio\" in a mathematical formula, and therefore they need to be normalized\n",
    "Cars[\"bore\"].info()"
   ]
  },
  {
   "cell_type": "code",
   "execution_count": 47,
   "id": "712caa19-c087-40c5-865f-f96c51a8e0fe",
   "metadata": {},
   "outputs": [
    {
     "name": "stderr",
     "output_type": "stream",
     "text": [
      "C:\\Users\\prien\\AppData\\Local\\Temp\\ipykernel_1480\\3416508050.py:2: FutureWarning: A value is trying to be set on a copy of a DataFrame or Series through chained assignment using an inplace method.\n",
      "The behavior will change in pandas 3.0. This inplace method will never work because the intermediate object on which we are setting values always behaves as a copy.\n",
      "\n",
      "For example, when doing 'df[col].method(value, inplace=True)', try using 'df.method({col: value}, inplace=True)' or df[col] = df[col].method(value) instead, to perform the operation inplace on the original object.\n",
      "\n",
      "\n",
      "  Cars[\"stroke\"].replace(\"?\", np.nan, inplace=True)\n",
      "C:\\Users\\prien\\AppData\\Local\\Temp\\ipykernel_1480\\3416508050.py:5: FutureWarning: A value is trying to be set on a copy of a DataFrame or Series through chained assignment using an inplace method.\n",
      "The behavior will change in pandas 3.0. This inplace method will never work because the intermediate object on which we are setting values always behaves as a copy.\n",
      "\n",
      "For example, when doing 'df[col].method(value, inplace=True)', try using 'df.method({col: value}, inplace=True)' or df[col] = df[col].method(value) instead, to perform the operation inplace on the original object.\n",
      "\n",
      "\n",
      "  Cars[\"stroke\"].replace(np.nan, stroke_mean, inplace=True)\n"
     ]
    },
    {
     "data": {
      "text/plain": [
       "array([2.68      , 3.47      , 3.4       , 2.8       , 3.19      ,\n",
       "       3.39      , 3.03      , 3.11      , 3.23      , 3.46      ,\n",
       "       3.9       , 3.41      , 3.07      , 3.58      , 4.17      ,\n",
       "       2.76      , 3.15      , 3.25984694, 3.16      , 3.64      ,\n",
       "       3.1       , 3.35      , 3.12      , 3.86      , 3.29      ,\n",
       "       3.27      , 3.52      , 2.19      , 3.21      , 2.9       ,\n",
       "       2.07      , 2.36      , 2.64      , 3.08      , 3.5       ,\n",
       "       3.54      , 2.87      ])"
      ]
     },
     "execution_count": 47,
     "metadata": {},
     "output_type": "execute_result"
    }
   ],
   "source": [
    "import numpy as np\n",
    "Cars[\"stroke\"].replace(\"?\", np.nan, inplace=True)\n",
    "Cars[\"stroke\"] = Cars[\"stroke\"].astype(float)\n",
    "stroke_mean = Cars[\"stroke\"].mean()\n",
    "Cars[\"stroke\"].replace(np.nan, stroke_mean, inplace=True)\n",
    "Cars[\"stroke\"].unique()"
   ]
  },
  {
   "cell_type": "code",
   "execution_count": 50,
   "id": "62e9c06a-618a-44b6-8901-edb725339955",
   "metadata": {},
   "outputs": [],
   "source": [
    "Bore_N = (Cars[\"bore\"] - Cars[\"bore\"].min())/(Cars[\"bore\"].max()-Cars[\"bore\"].min())\n",
    "Stroke_N =(Cars[\"stroke\"] - Cars[\"stroke\"].min())/(Cars[\"stroke\"].max()-Cars[\"stroke\"].min())\n",
    "Compression_ratio_N = (Cars[\"compression-ratio\"] - Cars[\"compression-ratio\"].min())/(Cars[\"compression-ratio\"].max() - Cars[\"compression-ratio\"].min()) "
   ]
  },
  {
   "cell_type": "code",
   "execution_count": 51,
   "id": "7520f521-d26a-424b-abfc-1814a74d5c51",
   "metadata": {},
   "outputs": [
    {
     "data": {
      "text/html": [
       "<div>\n",
       "<style scoped>\n",
       "    .dataframe tbody tr th:only-of-type {\n",
       "        vertical-align: middle;\n",
       "    }\n",
       "\n",
       "    .dataframe tbody tr th {\n",
       "        vertical-align: top;\n",
       "    }\n",
       "\n",
       "    .dataframe thead th {\n",
       "        text-align: right;\n",
       "    }\n",
       "</style>\n",
       "<table border=\"1\" class=\"dataframe\">\n",
       "  <thead>\n",
       "    <tr style=\"text-align: right;\">\n",
       "      <th></th>\n",
       "      <th>Bore_N</th>\n",
       "      <th>Stroke_N</th>\n",
       "      <th>Compression_ration_N</th>\n",
       "    </tr>\n",
       "  </thead>\n",
       "  <tbody>\n",
       "    <tr>\n",
       "      <th>0</th>\n",
       "      <td>0.664286</td>\n",
       "      <td>0.290476</td>\n",
       "      <td>0.12500</td>\n",
       "    </tr>\n",
       "    <tr>\n",
       "      <th>1</th>\n",
       "      <td>0.100000</td>\n",
       "      <td>0.666667</td>\n",
       "      <td>0.12500</td>\n",
       "    </tr>\n",
       "    <tr>\n",
       "      <th>2</th>\n",
       "      <td>0.464286</td>\n",
       "      <td>0.633333</td>\n",
       "      <td>0.18750</td>\n",
       "    </tr>\n",
       "    <tr>\n",
       "      <th>3</th>\n",
       "      <td>0.464286</td>\n",
       "      <td>0.633333</td>\n",
       "      <td>0.06250</td>\n",
       "    </tr>\n",
       "    <tr>\n",
       "      <th>4</th>\n",
       "      <td>0.464286</td>\n",
       "      <td>0.633333</td>\n",
       "      <td>0.09375</td>\n",
       "    </tr>\n",
       "  </tbody>\n",
       "</table>\n",
       "</div>"
      ],
      "text/plain": [
       "     Bore_N  Stroke_N  Compression_ration_N\n",
       "0  0.664286  0.290476               0.12500\n",
       "1  0.100000  0.666667               0.12500\n",
       "2  0.464286  0.633333               0.18750\n",
       "3  0.464286  0.633333               0.06250\n",
       "4  0.464286  0.633333               0.09375"
      ]
     },
     "execution_count": 51,
     "metadata": {},
     "output_type": "execute_result"
    }
   ],
   "source": [
    "Normalized = pd.DataFrame([Bore_N, Stroke_N, Compression_ratio_N])\n",
    "Normalized = Normalized.T\n",
    "Names = [\"Bore_N\", \"Stroke_N\", \"Compression_ration_N\"]\n",
    "Normalized.columns = Names\n",
    "Normalized.head()"
   ]
  },
  {
   "cell_type": "code",
   "execution_count": 52,
   "id": "d62a41bd-ca9f-4d62-84a8-48ad40621494",
   "metadata": {},
   "outputs": [
    {
     "data": {
      "text/plain": [
       "Index(['symboling', 'normalized-losses', 'make', 'fuel-type', 'aspiration',\n",
       "       'num-of-doors', 'body-style', 'drive-wheels', 'engine-location',\n",
       "       'wheel-base', 'length', 'width', 'height', 'curb-weight', 'engine-type',\n",
       "       'num-of-cylinders', 'engine-size', 'fuel-system', 'bore', 'stroke',\n",
       "       'compression-ratio', 'horsepower', 'peak-rpm', 'city-kpl',\n",
       "       'highway-kpl', 'price', 'Bore_N', 'Stroke_N', 'Compression_ration_N'],\n",
       "      dtype='object')"
      ]
     },
     "execution_count": 52,
     "metadata": {},
     "output_type": "execute_result"
    }
   ],
   "source": [
    "Cars = pd.merge(Cars, Normalized, how=\"outer\", left_index=True, right_index=True)\n",
    "Cars.columns"
   ]
  },
  {
   "cell_type": "code",
   "execution_count": 53,
   "id": "1d673b31-8633-4ca9-b26a-4ddbc64bbab3",
   "metadata": {},
   "outputs": [],
   "source": [
    "To_drop = Cars[[\"bore\", \"stroke\", \"compression-ratio\"]] #Meanwhile, lets get rid of the original values of the given columns\n",
    "Cars.drop(To_drop, axis=1, inplace=True)"
   ]
  },
  {
   "cell_type": "code",
   "execution_count": 55,
   "id": "948e2250-6fd7-4f8b-bc6f-3077ae8bef6a",
   "metadata": {},
   "outputs": [
    {
     "data": {
      "text/html": [
       "<div>\n",
       "<style scoped>\n",
       "    .dataframe tbody tr th:only-of-type {\n",
       "        vertical-align: middle;\n",
       "    }\n",
       "\n",
       "    .dataframe tbody tr th {\n",
       "        vertical-align: top;\n",
       "    }\n",
       "\n",
       "    .dataframe thead th {\n",
       "        text-align: right;\n",
       "    }\n",
       "</style>\n",
       "<table border=\"1\" class=\"dataframe\">\n",
       "  <thead>\n",
       "    <tr style=\"text-align: right;\">\n",
       "      <th></th>\n",
       "      <th>symboling</th>\n",
       "      <th>normalized-losses</th>\n",
       "      <th>make</th>\n",
       "      <th>fuel-type</th>\n",
       "      <th>aspiration</th>\n",
       "      <th>num-of-doors</th>\n",
       "      <th>body-style</th>\n",
       "      <th>drive-wheels</th>\n",
       "      <th>engine-location</th>\n",
       "      <th>wheel-base</th>\n",
       "      <th>...</th>\n",
       "      <th>engine-size</th>\n",
       "      <th>fuel-system</th>\n",
       "      <th>horsepower</th>\n",
       "      <th>peak-rpm</th>\n",
       "      <th>city-kpl</th>\n",
       "      <th>highway-kpl</th>\n",
       "      <th>price</th>\n",
       "      <th>Bore_N</th>\n",
       "      <th>Stroke_N</th>\n",
       "      <th>Compression_ration_N</th>\n",
       "    </tr>\n",
       "  </thead>\n",
       "  <tbody>\n",
       "    <tr>\n",
       "      <th>0</th>\n",
       "      <td>3</td>\n",
       "      <td>122.0</td>\n",
       "      <td>alfa-romero</td>\n",
       "      <td>gas</td>\n",
       "      <td>std</td>\n",
       "      <td>two</td>\n",
       "      <td>convertible</td>\n",
       "      <td>rwd</td>\n",
       "      <td>front</td>\n",
       "      <td>88.6</td>\n",
       "      <td>...</td>\n",
       "      <td>130</td>\n",
       "      <td>mpfi</td>\n",
       "      <td>111</td>\n",
       "      <td>5000</td>\n",
       "      <td>8.9271</td>\n",
       "      <td>11.4777</td>\n",
       "      <td>16500.0</td>\n",
       "      <td>0.664286</td>\n",
       "      <td>0.290476</td>\n",
       "      <td>0.12500</td>\n",
       "    </tr>\n",
       "    <tr>\n",
       "      <th>1</th>\n",
       "      <td>1</td>\n",
       "      <td>122.0</td>\n",
       "      <td>alfa-romero</td>\n",
       "      <td>gas</td>\n",
       "      <td>std</td>\n",
       "      <td>two</td>\n",
       "      <td>hatchback</td>\n",
       "      <td>rwd</td>\n",
       "      <td>front</td>\n",
       "      <td>94.5</td>\n",
       "      <td>...</td>\n",
       "      <td>152</td>\n",
       "      <td>mpfi</td>\n",
       "      <td>154</td>\n",
       "      <td>5000</td>\n",
       "      <td>8.0769</td>\n",
       "      <td>11.0526</td>\n",
       "      <td>16500.0</td>\n",
       "      <td>0.100000</td>\n",
       "      <td>0.666667</td>\n",
       "      <td>0.12500</td>\n",
       "    </tr>\n",
       "    <tr>\n",
       "      <th>2</th>\n",
       "      <td>2</td>\n",
       "      <td>164.0</td>\n",
       "      <td>audi</td>\n",
       "      <td>gas</td>\n",
       "      <td>std</td>\n",
       "      <td>four</td>\n",
       "      <td>sedan</td>\n",
       "      <td>fwd</td>\n",
       "      <td>front</td>\n",
       "      <td>99.8</td>\n",
       "      <td>...</td>\n",
       "      <td>109</td>\n",
       "      <td>mpfi</td>\n",
       "      <td>102</td>\n",
       "      <td>5500</td>\n",
       "      <td>10.2024</td>\n",
       "      <td>12.7530</td>\n",
       "      <td>13950.0</td>\n",
       "      <td>0.464286</td>\n",
       "      <td>0.633333</td>\n",
       "      <td>0.18750</td>\n",
       "    </tr>\n",
       "    <tr>\n",
       "      <th>3</th>\n",
       "      <td>2</td>\n",
       "      <td>164.0</td>\n",
       "      <td>audi</td>\n",
       "      <td>gas</td>\n",
       "      <td>std</td>\n",
       "      <td>four</td>\n",
       "      <td>sedan</td>\n",
       "      <td>4wd</td>\n",
       "      <td>front</td>\n",
       "      <td>99.4</td>\n",
       "      <td>...</td>\n",
       "      <td>136</td>\n",
       "      <td>mpfi</td>\n",
       "      <td>115</td>\n",
       "      <td>5500</td>\n",
       "      <td>7.6518</td>\n",
       "      <td>9.3522</td>\n",
       "      <td>17450.0</td>\n",
       "      <td>0.464286</td>\n",
       "      <td>0.633333</td>\n",
       "      <td>0.06250</td>\n",
       "    </tr>\n",
       "    <tr>\n",
       "      <th>4</th>\n",
       "      <td>2</td>\n",
       "      <td>122.0</td>\n",
       "      <td>audi</td>\n",
       "      <td>gas</td>\n",
       "      <td>std</td>\n",
       "      <td>two</td>\n",
       "      <td>sedan</td>\n",
       "      <td>fwd</td>\n",
       "      <td>front</td>\n",
       "      <td>99.8</td>\n",
       "      <td>...</td>\n",
       "      <td>136</td>\n",
       "      <td>mpfi</td>\n",
       "      <td>110</td>\n",
       "      <td>5500</td>\n",
       "      <td>8.0769</td>\n",
       "      <td>10.6275</td>\n",
       "      <td>15250.0</td>\n",
       "      <td>0.464286</td>\n",
       "      <td>0.633333</td>\n",
       "      <td>0.09375</td>\n",
       "    </tr>\n",
       "  </tbody>\n",
       "</table>\n",
       "<p>5 rows × 26 columns</p>\n",
       "</div>"
      ],
      "text/plain": [
       "   symboling  normalized-losses         make fuel-type aspiration  \\\n",
       "0          3              122.0  alfa-romero       gas        std   \n",
       "1          1              122.0  alfa-romero       gas        std   \n",
       "2          2              164.0         audi       gas        std   \n",
       "3          2              164.0         audi       gas        std   \n",
       "4          2              122.0         audi       gas        std   \n",
       "\n",
       "  num-of-doors   body-style drive-wheels engine-location  wheel-base  ...  \\\n",
       "0          two  convertible          rwd           front        88.6  ...   \n",
       "1          two    hatchback          rwd           front        94.5  ...   \n",
       "2         four        sedan          fwd           front        99.8  ...   \n",
       "3         four        sedan          4wd           front        99.4  ...   \n",
       "4          two        sedan          fwd           front        99.8  ...   \n",
       "\n",
       "   engine-size  fuel-system  horsepower  peak-rpm city-kpl highway-kpl  \\\n",
       "0          130         mpfi         111      5000   8.9271     11.4777   \n",
       "1          152         mpfi         154      5000   8.0769     11.0526   \n",
       "2          109         mpfi         102      5500  10.2024     12.7530   \n",
       "3          136         mpfi         115      5500   7.6518      9.3522   \n",
       "4          136         mpfi         110      5500   8.0769     10.6275   \n",
       "\n",
       "     price    Bore_N  Stroke_N Compression_ration_N  \n",
       "0  16500.0  0.664286  0.290476              0.12500  \n",
       "1  16500.0  0.100000  0.666667              0.12500  \n",
       "2  13950.0  0.464286  0.633333              0.18750  \n",
       "3  17450.0  0.464286  0.633333              0.06250  \n",
       "4  15250.0  0.464286  0.633333              0.09375  \n",
       "\n",
       "[5 rows x 26 columns]"
      ]
     },
     "execution_count": 55,
     "metadata": {},
     "output_type": "execute_result"
    }
   ],
   "source": [
    "Cars.head() #We can see the normalized value in the last three columns"
   ]
  },
  {
   "cell_type": "markdown",
   "id": "6c3386b9-a592-4c1f-8a8a-e67381e55bbf",
   "metadata": {},
   "source": [
    "### Binning"
   ]
  },
  {
   "cell_type": "code",
   "execution_count": 60,
   "id": "b825d3fe-fe79-4f7b-b8b1-99c667ef4712",
   "metadata": {},
   "outputs": [
    {
     "name": "stdout",
     "output_type": "stream",
     "text": [
      "['111' '154' '102' '115' '110' '140' '101' '121' '182' '48' '70' '68' '88'\n",
      " '145' '58' '76' '60' '86' '100' '78' '90' '176' '262' '135' '84' '64'\n",
      " '120' '72' '123' '155' '184' '175' '116' '69' '55' '97' '152' '160' '200'\n",
      " '95' '142' '143' '207' '?' '73' '82' '94' '62' '56' '112' '92' '161'\n",
      " '156' '52' '85' '114' '162' '134' '106']\n",
      "59\n",
      "object\n"
     ]
    }
   ],
   "source": [
    "#Lets assume that the car price does not need a continuous scaled value in horsepower but three ranges for determination. Hence, lets change the horsepower\n",
    "#value into \"High\", \"Medium\", and \"Low\" range\n",
    "print(Cars[\"horsepower\"].unique())\n",
    "print(Cars[\"horsepower\"].nunique()) #59 unique values with a non-numeric values\n",
    "print(Cars[\"horsepower\"].dtype)"
   ]
  },
  {
   "cell_type": "code",
   "execution_count": 61,
   "id": "f8bf1b8e-1717-4921-9b51-cc0374b86584",
   "metadata": {},
   "outputs": [
    {
     "name": "stderr",
     "output_type": "stream",
     "text": [
      "C:\\Users\\prien\\AppData\\Local\\Temp\\ipykernel_1480\\1997322454.py:2: FutureWarning: A value is trying to be set on a copy of a DataFrame or Series through chained assignment using an inplace method.\n",
      "The behavior will change in pandas 3.0. This inplace method will never work because the intermediate object on which we are setting values always behaves as a copy.\n",
      "\n",
      "For example, when doing 'df[col].method(value, inplace=True)', try using 'df.method({col: value}, inplace=True)' or df[col] = df[col].method(value) instead, to perform the operation inplace on the original object.\n",
      "\n",
      "\n",
      "  Cars[\"horsepower\"].replace(\"?\", np.nan, inplace=True)\n"
     ]
    }
   ],
   "source": [
    "import numpy as np\n",
    "Cars[\"horsepower\"].replace(\"?\", np.nan, inplace=True)"
   ]
  },
  {
   "cell_type": "code",
   "execution_count": 62,
   "id": "ff21de3f-538d-4046-854e-522ef40d6dfe",
   "metadata": {},
   "outputs": [
    {
     "name": "stderr",
     "output_type": "stream",
     "text": [
      "C:\\Users\\prien\\AppData\\Local\\Temp\\ipykernel_1480\\3879790278.py:3: FutureWarning: A value is trying to be set on a copy of a DataFrame or Series through chained assignment using an inplace method.\n",
      "The behavior will change in pandas 3.0. This inplace method will never work because the intermediate object on which we are setting values always behaves as a copy.\n",
      "\n",
      "For example, when doing 'df[col].method(value, inplace=True)', try using 'df.method({col: value}, inplace=True)' or df[col] = df[col].method(value) instead, to perform the operation inplace on the original object.\n",
      "\n",
      "\n",
      "  Cars[\"horsepower\"].replace(np.nan, Cars[\"horsepower\"].mean(), inplace=True)\n"
     ]
    }
   ],
   "source": [
    "#Cars[\"horsepower\"] = Cars[\"horsepower\"].astype(int)\n",
    "Cars[\"horsepower\"] = Cars[\"horsepower\"].astype(float)\n",
    "Cars[\"horsepower\"].replace(np.nan, Cars[\"horsepower\"].mean(), inplace=True) "
   ]
  },
  {
   "cell_type": "code",
   "execution_count": 63,
   "id": "014ad4f7-22c1-46a4-b394-12fadbcbda04",
   "metadata": {},
   "outputs": [
    {
     "data": {
      "text/plain": [
       "array([ 48.        , 119.33333333, 190.66666667, 262.        ])"
      ]
     },
     "execution_count": 63,
     "metadata": {},
     "output_type": "execute_result"
    }
   ],
   "source": [
    "#Now, we want to create 3 bins to bin all 59 different horsepower data into High, Medium, Low\n",
    "bin_value = np.linspace(Cars[\"horsepower\"].min(), Cars[\"horsepower\"].max(), 4) #we needto create  4 seperate bins because we need four data points to accomodate 3bars in a histogram\n",
    "bin_value"
   ]
  },
  {
   "cell_type": "code",
   "execution_count": 64,
   "id": "60075cdf-7640-44dd-aa27-57d65f07bb0d",
   "metadata": {},
   "outputs": [],
   "source": [
    "Bin_type = [\"Low\", \"Medium\", \"High\"] \n",
    "Cars[\"horsepower-binned\"] = pd.cut(Cars[\"horsepower\"], bin_value, labels=Bin_type, include_lowest=True)\n",
    "Cars[[\"horsepower\", \"horsepower-binned\"]].head(10)\n",
    "Cars.drop(\"horsepower\", axis=1, inplace=True) #we dont need the elaborated version of horsepower column anymore"
   ]
  },
  {
   "cell_type": "code",
   "execution_count": 76,
   "id": "ed91c738-e543-431a-aea5-3418f0771541",
   "metadata": {},
   "outputs": [
    {
     "data": {
      "text/plain": [
       "horsepower-binned\n",
       "Low       152\n",
       "Medium     43\n",
       "High        5\n",
       "Name: count, dtype: int64"
      ]
     },
     "execution_count": 76,
     "metadata": {},
     "output_type": "execute_result"
    }
   ],
   "source": [
    "#Lets count the number of values that got binned in certain bin\n",
    "Cars[\"horsepower-binned\"].value_counts()"
   ]
  },
  {
   "cell_type": "code",
   "execution_count": 78,
   "id": "cadc83ed-0415-4cbb-94f4-f9e8f8cbc38f",
   "metadata": {},
   "outputs": [
    {
     "data": {
      "text/plain": [
       "(array([152.,   0.,   0.,   0.,   0.,  43.,   0.,   0.,   0.,   5.]),\n",
       " array([0. , 0.2, 0.4, 0.6, 0.8, 1. , 1.2, 1.4, 1.6, 1.8, 2. ]),\n",
       " <BarContainer object of 10 artists>)"
      ]
     },
     "execution_count": 78,
     "metadata": {},
     "output_type": "execute_result"
    },
    {
     "data": {
      "image/png": "[encoded data removed]",
      "text/plain": [
       "<Figure size 640x480 with 1 Axes>"
      ]
     },
     "metadata": {},
     "output_type": "display_data"
    }
   ],
   "source": [
    "import matplotlib.pyplot as plt\n",
    "plt.hist(Cars[\"horsepower-binned\"]) "
   ]
  },
  {
   "cell_type": "markdown",
   "id": "c8053426-c38f-4012-99e6-6a9dc3c88bf2",
   "metadata": {},
   "source": [
    "### Assigning Indicators to Categorical Variables\n",
    "##### Assigning indicators to Categorical variables helps in bringing them into regression analysis"
   ]
  },
  {
   "cell_type": "code",
   "execution_count": 80,
   "id": "c492ea9f-7721-4f45-b9b5-a4ce986c677a",
   "metadata": {},
   "outputs": [
    {
     "data": {
      "text/html": [
       "<div>\n",
       "<style scoped>\n",
       "    .dataframe tbody tr th:only-of-type {\n",
       "        vertical-align: middle;\n",
       "    }\n",
       "\n",
       "    .dataframe tbody tr th {\n",
       "        vertical-align: top;\n",
       "    }\n",
       "\n",
       "    .dataframe thead th {\n",
       "        text-align: right;\n",
       "    }\n",
       "</style>\n",
       "<table border=\"1\" class=\"dataframe\">\n",
       "  <thead>\n",
       "    <tr style=\"text-align: right;\">\n",
       "      <th></th>\n",
       "      <th>diesel</th>\n",
       "      <th>gas</th>\n",
       "    </tr>\n",
       "  </thead>\n",
       "  <tbody>\n",
       "    <tr>\n",
       "      <th>0</th>\n",
       "      <td>False</td>\n",
       "      <td>True</td>\n",
       "    </tr>\n",
       "    <tr>\n",
       "      <th>1</th>\n",
       "      <td>False</td>\n",
       "      <td>True</td>\n",
       "    </tr>\n",
       "    <tr>\n",
       "      <th>2</th>\n",
       "      <td>False</td>\n",
       "      <td>True</td>\n",
       "    </tr>\n",
       "    <tr>\n",
       "      <th>3</th>\n",
       "      <td>False</td>\n",
       "      <td>True</td>\n",
       "    </tr>\n",
       "    <tr>\n",
       "      <th>4</th>\n",
       "      <td>False</td>\n",
       "      <td>True</td>\n",
       "    </tr>\n",
       "  </tbody>\n",
       "</table>\n",
       "</div>"
      ],
      "text/plain": [
       "   diesel   gas\n",
       "0   False  True\n",
       "1   False  True\n",
       "2   False  True\n",
       "3   False  True\n",
       "4   False  True"
      ]
     },
     "execution_count": 80,
     "metadata": {},
     "output_type": "execute_result"
    }
   ],
   "source": [
    "#Lets get the indicator values for fuel type \n",
    "Dummy_variables = pd.get_dummies(Cars[\"fuel-type\"]) #later in Machine Learning notebook, we shall learn how to assign indicators to multiple categories at once through \n",
    "                                                    #one hot encoding\n",
    "Dummy_variables.head() #Converting the bool dtype of dummies to binary integers is detailed in Statistics in Python notebook"
   ]
  },
  {
   "cell_type": "code",
   "execution_count": 81,
   "id": "a421fcaa-44fe-4012-bdcf-55ed54a4a30c",
   "metadata": {},
   "outputs": [],
   "source": [
    "Dummy_variables.rename(columns={\"diesel\":\"fueltype-diesel\", \"gas\":\"fueltype-gas\"}, inplace=True)"
   ]
  },
  {
   "cell_type": "code",
   "execution_count": 82,
   "id": "620d74c1-1ce8-4a4e-ac8d-491d5fd5767d",
   "metadata": {},
   "outputs": [
    {
     "data": {
      "text/html": [
       "<div>\n",
       "<style scoped>\n",
       "    .dataframe tbody tr th:only-of-type {\n",
       "        vertical-align: middle;\n",
       "    }\n",
       "\n",
       "    .dataframe tbody tr th {\n",
       "        vertical-align: top;\n",
       "    }\n",
       "\n",
       "    .dataframe thead th {\n",
       "        text-align: right;\n",
       "    }\n",
       "</style>\n",
       "<table border=\"1\" class=\"dataframe\">\n",
       "  <thead>\n",
       "    <tr style=\"text-align: right;\">\n",
       "      <th></th>\n",
       "      <th>symboling</th>\n",
       "      <th>normalized-losses</th>\n",
       "      <th>make</th>\n",
       "      <th>fuel-type</th>\n",
       "      <th>aspiration</th>\n",
       "      <th>num-of-doors</th>\n",
       "      <th>body-style</th>\n",
       "      <th>drive-wheels</th>\n",
       "      <th>engine-location</th>\n",
       "      <th>wheel-base</th>\n",
       "      <th>...</th>\n",
       "      <th>peak-rpm</th>\n",
       "      <th>city-kpl</th>\n",
       "      <th>highway-kpl</th>\n",
       "      <th>price</th>\n",
       "      <th>Bore_N</th>\n",
       "      <th>Stroke_N</th>\n",
       "      <th>Compression_ration_N</th>\n",
       "      <th>horsepower-binned</th>\n",
       "      <th>fueltype-diesel</th>\n",
       "      <th>fueltype-gas</th>\n",
       "    </tr>\n",
       "  </thead>\n",
       "  <tbody>\n",
       "    <tr>\n",
       "      <th>0</th>\n",
       "      <td>3</td>\n",
       "      <td>122.0</td>\n",
       "      <td>alfa-romero</td>\n",
       "      <td>gas</td>\n",
       "      <td>std</td>\n",
       "      <td>two</td>\n",
       "      <td>convertible</td>\n",
       "      <td>rwd</td>\n",
       "      <td>front</td>\n",
       "      <td>88.6</td>\n",
       "      <td>...</td>\n",
       "      <td>5000</td>\n",
       "      <td>8.9271</td>\n",
       "      <td>11.4777</td>\n",
       "      <td>16500.0</td>\n",
       "      <td>0.664286</td>\n",
       "      <td>0.290476</td>\n",
       "      <td>0.12500</td>\n",
       "      <td>Low</td>\n",
       "      <td>False</td>\n",
       "      <td>True</td>\n",
       "    </tr>\n",
       "    <tr>\n",
       "      <th>1</th>\n",
       "      <td>1</td>\n",
       "      <td>122.0</td>\n",
       "      <td>alfa-romero</td>\n",
       "      <td>gas</td>\n",
       "      <td>std</td>\n",
       "      <td>two</td>\n",
       "      <td>hatchback</td>\n",
       "      <td>rwd</td>\n",
       "      <td>front</td>\n",
       "      <td>94.5</td>\n",
       "      <td>...</td>\n",
       "      <td>5000</td>\n",
       "      <td>8.0769</td>\n",
       "      <td>11.0526</td>\n",
       "      <td>16500.0</td>\n",
       "      <td>0.100000</td>\n",
       "      <td>0.666667</td>\n",
       "      <td>0.12500</td>\n",
       "      <td>Medium</td>\n",
       "      <td>False</td>\n",
       "      <td>True</td>\n",
       "    </tr>\n",
       "    <tr>\n",
       "      <th>2</th>\n",
       "      <td>2</td>\n",
       "      <td>164.0</td>\n",
       "      <td>audi</td>\n",
       "      <td>gas</td>\n",
       "      <td>std</td>\n",
       "      <td>four</td>\n",
       "      <td>sedan</td>\n",
       "      <td>fwd</td>\n",
       "      <td>front</td>\n",
       "      <td>99.8</td>\n",
       "      <td>...</td>\n",
       "      <td>5500</td>\n",
       "      <td>10.2024</td>\n",
       "      <td>12.7530</td>\n",
       "      <td>13950.0</td>\n",
       "      <td>0.464286</td>\n",
       "      <td>0.633333</td>\n",
       "      <td>0.18750</td>\n",
       "      <td>Low</td>\n",
       "      <td>False</td>\n",
       "      <td>True</td>\n",
       "    </tr>\n",
       "    <tr>\n",
       "      <th>3</th>\n",
       "      <td>2</td>\n",
       "      <td>164.0</td>\n",
       "      <td>audi</td>\n",
       "      <td>gas</td>\n",
       "      <td>std</td>\n",
       "      <td>four</td>\n",
       "      <td>sedan</td>\n",
       "      <td>4wd</td>\n",
       "      <td>front</td>\n",
       "      <td>99.4</td>\n",
       "      <td>...</td>\n",
       "      <td>5500</td>\n",
       "      <td>7.6518</td>\n",
       "      <td>9.3522</td>\n",
       "      <td>17450.0</td>\n",
       "      <td>0.464286</td>\n",
       "      <td>0.633333</td>\n",
       "      <td>0.06250</td>\n",
       "      <td>Low</td>\n",
       "      <td>False</td>\n",
       "      <td>True</td>\n",
       "    </tr>\n",
       "    <tr>\n",
       "      <th>4</th>\n",
       "      <td>2</td>\n",
       "      <td>122.0</td>\n",
       "      <td>audi</td>\n",
       "      <td>gas</td>\n",
       "      <td>std</td>\n",
       "      <td>two</td>\n",
       "      <td>sedan</td>\n",
       "      <td>fwd</td>\n",
       "      <td>front</td>\n",
       "      <td>99.8</td>\n",
       "      <td>...</td>\n",
       "      <td>5500</td>\n",
       "      <td>8.0769</td>\n",
       "      <td>10.6275</td>\n",
       "      <td>15250.0</td>\n",
       "      <td>0.464286</td>\n",
       "      <td>0.633333</td>\n",
       "      <td>0.09375</td>\n",
       "      <td>Low</td>\n",
       "      <td>False</td>\n",
       "      <td>True</td>\n",
       "    </tr>\n",
       "  </tbody>\n",
       "</table>\n",
       "<p>5 rows × 28 columns</p>\n",
       "</div>"
      ],
      "text/plain": [
       "   symboling  normalized-losses         make fuel-type aspiration  \\\n",
       "0          3              122.0  alfa-romero       gas        std   \n",
       "1          1              122.0  alfa-romero       gas        std   \n",
       "2          2              164.0         audi       gas        std   \n",
       "3          2              164.0         audi       gas        std   \n",
       "4          2              122.0         audi       gas        std   \n",
       "\n",
       "  num-of-doors   body-style drive-wheels engine-location  wheel-base  ...  \\\n",
       "0          two  convertible          rwd           front        88.6  ...   \n",
       "1          two    hatchback          rwd           front        94.5  ...   \n",
       "2         four        sedan          fwd           front        99.8  ...   \n",
       "3         four        sedan          4wd           front        99.4  ...   \n",
       "4          two        sedan          fwd           front        99.8  ...   \n",
       "\n",
       "   peak-rpm  city-kpl  highway-kpl    price    Bore_N  Stroke_N  \\\n",
       "0      5000    8.9271      11.4777  16500.0  0.664286  0.290476   \n",
       "1      5000    8.0769      11.0526  16500.0  0.100000  0.666667   \n",
       "2      5500   10.2024      12.7530  13950.0  0.464286  0.633333   \n",
       "3      5500    7.6518       9.3522  17450.0  0.464286  0.633333   \n",
       "4      5500    8.0769      10.6275  15250.0  0.464286  0.633333   \n",
       "\n",
       "   Compression_ration_N horsepower-binned fueltype-diesel  fueltype-gas  \n",
       "0               0.12500               Low           False          True  \n",
       "1               0.12500            Medium           False          True  \n",
       "2               0.18750               Low           False          True  \n",
       "3               0.06250               Low           False          True  \n",
       "4               0.09375               Low           False          True  \n",
       "\n",
       "[5 rows x 28 columns]"
      ]
     },
     "execution_count": 82,
     "metadata": {},
     "output_type": "execute_result"
    }
   ],
   "source": [
    "Cars = pd.concat([Cars, Dummy_variables], axis=1)\n",
    "Cars.head()"
   ]
  },
  {
   "cell_type": "markdown",
   "id": "3af7a560-0f1b-41d6-8e1a-741c34980cdf",
   "metadata": {},
   "source": [
    "## Exploratory Data analysis"
   ]
  },
  {
   "cell_type": "markdown",
   "id": "7c236227-a325-4717-ae85-e7fe77cdd245",
   "metadata": {},
   "source": [
    "Working with continuous data (Integers and floats)"
   ]
  },
  {
   "cell_type": "code",
   "execution_count": 86,
   "id": "7bea82bd-a46a-4ddd-8839-dcd9c9335ab8",
   "metadata": {},
   "outputs": [
    {
     "data": {
      "text/html": [
       "<div>\n",
       "<style scoped>\n",
       "    .dataframe tbody tr th:only-of-type {\n",
       "        vertical-align: middle;\n",
       "    }\n",
       "\n",
       "    .dataframe tbody tr th {\n",
       "        vertical-align: top;\n",
       "    }\n",
       "\n",
       "    .dataframe thead th {\n",
       "        text-align: right;\n",
       "    }\n",
       "</style>\n",
       "<table border=\"1\" class=\"dataframe\">\n",
       "  <thead>\n",
       "    <tr style=\"text-align: right;\">\n",
       "      <th></th>\n",
       "      <th>symboling</th>\n",
       "      <th>normalized-losses</th>\n",
       "      <th>wheel-base</th>\n",
       "      <th>length</th>\n",
       "      <th>width</th>\n",
       "      <th>height</th>\n",
       "      <th>curb-weight</th>\n",
       "      <th>engine-size</th>\n",
       "      <th>city-kpl</th>\n",
       "      <th>highway-kpl</th>\n",
       "      <th>price</th>\n",
       "      <th>Bore_N</th>\n",
       "      <th>Stroke_N</th>\n",
       "      <th>Compression_ration_N</th>\n",
       "    </tr>\n",
       "  </thead>\n",
       "  <tbody>\n",
       "    <tr>\n",
       "      <th>symboling</th>\n",
       "      <td>1.000000</td>\n",
       "      <td>0.469772</td>\n",
       "      <td>-0.529145</td>\n",
       "      <td>-0.364511</td>\n",
       "      <td>-0.237262</td>\n",
       "      <td>-0.542261</td>\n",
       "      <td>-0.234743</td>\n",
       "      <td>-0.112069</td>\n",
       "      <td>-0.030158</td>\n",
       "      <td>0.041248</td>\n",
       "      <td>-0.083327</td>\n",
       "      <td>-0.137794</td>\n",
       "      <td>0.008244</td>\n",
       "      <td>-0.181073</td>\n",
       "    </tr>\n",
       "    <tr>\n",
       "      <th>normalized-losses</th>\n",
       "      <td>0.469772</td>\n",
       "      <td>1.000000</td>\n",
       "      <td>-0.057068</td>\n",
       "      <td>0.019433</td>\n",
       "      <td>0.086961</td>\n",
       "      <td>-0.377664</td>\n",
       "      <td>0.099404</td>\n",
       "      <td>0.112362</td>\n",
       "      <td>-0.225255</td>\n",
       "      <td>-0.182011</td>\n",
       "      <td>0.133999</td>\n",
       "      <td>-0.025934</td>\n",
       "      <td>0.055759</td>\n",
       "      <td>-0.114738</td>\n",
       "    </tr>\n",
       "    <tr>\n",
       "      <th>wheel-base</th>\n",
       "      <td>-0.529145</td>\n",
       "      <td>-0.057068</td>\n",
       "      <td>1.000000</td>\n",
       "      <td>0.879005</td>\n",
       "      <td>0.814593</td>\n",
       "      <td>0.583789</td>\n",
       "      <td>0.787584</td>\n",
       "      <td>0.576779</td>\n",
       "      <td>-0.480029</td>\n",
       "      <td>-0.552211</td>\n",
       "      <td>0.589147</td>\n",
       "      <td>0.498650</td>\n",
       "      <td>0.144675</td>\n",
       "      <td>0.249689</td>\n",
       "    </tr>\n",
       "    <tr>\n",
       "      <th>length</th>\n",
       "      <td>-0.364511</td>\n",
       "      <td>0.019433</td>\n",
       "      <td>0.879005</td>\n",
       "      <td>1.000000</td>\n",
       "      <td>0.857271</td>\n",
       "      <td>0.492955</td>\n",
       "      <td>0.881058</td>\n",
       "      <td>0.685531</td>\n",
       "      <td>-0.667658</td>\n",
       "      <td>-0.700186</td>\n",
       "      <td>0.691044</td>\n",
       "      <td>0.608616</td>\n",
       "      <td>0.120888</td>\n",
       "      <td>0.159203</td>\n",
       "    </tr>\n",
       "    <tr>\n",
       "      <th>width</th>\n",
       "      <td>-0.237262</td>\n",
       "      <td>0.086961</td>\n",
       "      <td>0.814593</td>\n",
       "      <td>0.857271</td>\n",
       "      <td>1.000000</td>\n",
       "      <td>0.300995</td>\n",
       "      <td>0.867720</td>\n",
       "      <td>0.731100</td>\n",
       "      <td>-0.638155</td>\n",
       "      <td>-0.684700</td>\n",
       "      <td>0.752795</td>\n",
       "      <td>0.547786</td>\n",
       "      <td>0.182855</td>\n",
       "      <td>0.189008</td>\n",
       "    </tr>\n",
       "    <tr>\n",
       "      <th>height</th>\n",
       "      <td>-0.542261</td>\n",
       "      <td>-0.377664</td>\n",
       "      <td>0.583789</td>\n",
       "      <td>0.492955</td>\n",
       "      <td>0.300995</td>\n",
       "      <td>1.000000</td>\n",
       "      <td>0.310660</td>\n",
       "      <td>0.076255</td>\n",
       "      <td>-0.057087</td>\n",
       "      <td>-0.111568</td>\n",
       "      <td>0.137284</td>\n",
       "      <td>0.179955</td>\n",
       "      <td>-0.081273</td>\n",
       "      <td>0.259526</td>\n",
       "    </tr>\n",
       "    <tr>\n",
       "      <th>curb-weight</th>\n",
       "      <td>-0.234743</td>\n",
       "      <td>0.099404</td>\n",
       "      <td>0.787584</td>\n",
       "      <td>0.881058</td>\n",
       "      <td>0.867720</td>\n",
       "      <td>0.310660</td>\n",
       "      <td>1.000000</td>\n",
       "      <td>0.849090</td>\n",
       "      <td>-0.750390</td>\n",
       "      <td>-0.795515</td>\n",
       "      <td>0.834420</td>\n",
       "      <td>0.642965</td>\n",
       "      <td>0.168642</td>\n",
       "      <td>0.156444</td>\n",
       "    </tr>\n",
       "    <tr>\n",
       "      <th>engine-size</th>\n",
       "      <td>-0.112069</td>\n",
       "      <td>0.112362</td>\n",
       "      <td>0.576779</td>\n",
       "      <td>0.685531</td>\n",
       "      <td>0.731100</td>\n",
       "      <td>0.076255</td>\n",
       "      <td>0.849090</td>\n",
       "      <td>1.000000</td>\n",
       "      <td>-0.651002</td>\n",
       "      <td>-0.679877</td>\n",
       "      <td>0.872337</td>\n",
       "      <td>0.566646</td>\n",
       "      <td>0.208004</td>\n",
       "      <td>0.029005</td>\n",
       "    </tr>\n",
       "    <tr>\n",
       "      <th>city-kpl</th>\n",
       "      <td>-0.030158</td>\n",
       "      <td>-0.225255</td>\n",
       "      <td>-0.480029</td>\n",
       "      <td>-0.667658</td>\n",
       "      <td>-0.638155</td>\n",
       "      <td>-0.057087</td>\n",
       "      <td>-0.750390</td>\n",
       "      <td>-0.651002</td>\n",
       "      <td>1.000000</td>\n",
       "      <td>0.972024</td>\n",
       "      <td>-0.687186</td>\n",
       "      <td>-0.586976</td>\n",
       "      <td>-0.040677</td>\n",
       "      <td>0.330897</td>\n",
       "    </tr>\n",
       "    <tr>\n",
       "      <th>highway-kpl</th>\n",
       "      <td>0.041248</td>\n",
       "      <td>-0.182011</td>\n",
       "      <td>-0.552211</td>\n",
       "      <td>-0.700186</td>\n",
       "      <td>-0.684700</td>\n",
       "      <td>-0.111568</td>\n",
       "      <td>-0.795515</td>\n",
       "      <td>-0.679877</td>\n",
       "      <td>0.972024</td>\n",
       "      <td>1.000000</td>\n",
       "      <td>-0.705115</td>\n",
       "      <td>-0.595528</td>\n",
       "      <td>-0.040282</td>\n",
       "      <td>0.267929</td>\n",
       "    </tr>\n",
       "    <tr>\n",
       "      <th>price</th>\n",
       "      <td>-0.083327</td>\n",
       "      <td>0.133999</td>\n",
       "      <td>0.589147</td>\n",
       "      <td>0.691044</td>\n",
       "      <td>0.752795</td>\n",
       "      <td>0.137284</td>\n",
       "      <td>0.834420</td>\n",
       "      <td>0.872337</td>\n",
       "      <td>-0.687186</td>\n",
       "      <td>-0.705115</td>\n",
       "      <td>1.000000</td>\n",
       "      <td>0.543059</td>\n",
       "      <td>0.083296</td>\n",
       "      <td>0.071176</td>\n",
       "    </tr>\n",
       "    <tr>\n",
       "      <th>Bore_N</th>\n",
       "      <td>-0.137794</td>\n",
       "      <td>-0.025934</td>\n",
       "      <td>0.498650</td>\n",
       "      <td>0.608616</td>\n",
       "      <td>0.547786</td>\n",
       "      <td>0.179955</td>\n",
       "      <td>0.642965</td>\n",
       "      <td>0.566646</td>\n",
       "      <td>-0.586976</td>\n",
       "      <td>-0.595528</td>\n",
       "      <td>0.543059</td>\n",
       "      <td>1.000000</td>\n",
       "      <td>-0.051062</td>\n",
       "      <td>0.001159</td>\n",
       "    </tr>\n",
       "    <tr>\n",
       "      <th>Stroke_N</th>\n",
       "      <td>0.008244</td>\n",
       "      <td>0.055759</td>\n",
       "      <td>0.144675</td>\n",
       "      <td>0.120888</td>\n",
       "      <td>0.182855</td>\n",
       "      <td>-0.081273</td>\n",
       "      <td>0.168642</td>\n",
       "      <td>0.208004</td>\n",
       "      <td>-0.040677</td>\n",
       "      <td>-0.040282</td>\n",
       "      <td>0.083296</td>\n",
       "      <td>-0.051062</td>\n",
       "      <td>1.000000</td>\n",
       "      <td>0.186761</td>\n",
       "    </tr>\n",
       "    <tr>\n",
       "      <th>Compression_ration_N</th>\n",
       "      <td>-0.181073</td>\n",
       "      <td>-0.114738</td>\n",
       "      <td>0.249689</td>\n",
       "      <td>0.159203</td>\n",
       "      <td>0.189008</td>\n",
       "      <td>0.259526</td>\n",
       "      <td>0.156444</td>\n",
       "      <td>0.029005</td>\n",
       "      <td>0.330897</td>\n",
       "      <td>0.267929</td>\n",
       "      <td>0.071176</td>\n",
       "      <td>0.001159</td>\n",
       "      <td>0.186761</td>\n",
       "      <td>1.000000</td>\n",
       "    </tr>\n",
       "  </tbody>\n",
       "</table>\n",
       "</div>"
      ],
      "text/plain": [
       "                      symboling  normalized-losses  wheel-base    length  \\\n",
       "symboling              1.000000           0.469772   -0.529145 -0.364511   \n",
       "normalized-losses      0.469772           1.000000   -0.057068  0.019433   \n",
       "wheel-base            -0.529145          -0.057068    1.000000  0.879005   \n",
       "length                -0.364511           0.019433    0.879005  1.000000   \n",
       "width                 -0.237262           0.086961    0.814593  0.857271   \n",
       "height                -0.542261          -0.377664    0.583789  0.492955   \n",
       "curb-weight           -0.234743           0.099404    0.787584  0.881058   \n",
       "engine-size           -0.112069           0.112362    0.576779  0.685531   \n",
       "city-kpl              -0.030158          -0.225255   -0.480029 -0.667658   \n",
       "highway-kpl            0.041248          -0.182011   -0.552211 -0.700186   \n",
       "price                 -0.083327           0.133999    0.589147  0.691044   \n",
       "Bore_N                -0.137794          -0.025934    0.498650  0.608616   \n",
       "Stroke_N               0.008244           0.055759    0.144675  0.120888   \n",
       "Compression_ration_N  -0.181073          -0.114738    0.249689  0.159203   \n",
       "\n",
       "                         width    height  curb-weight  engine-size  city-kpl  \\\n",
       "symboling            -0.237262 -0.542261    -0.234743    -0.112069 -0.030158   \n",
       "normalized-losses     0.086961 -0.377664     0.099404     0.112362 -0.225255   \n",
       "wheel-base            0.814593  0.583789     0.787584     0.576779 -0.480029   \n",
       "length                0.857271  0.492955     0.881058     0.685531 -0.667658   \n",
       "width                 1.000000  0.300995     0.867720     0.731100 -0.638155   \n",
       "height                0.300995  1.000000     0.310660     0.076255 -0.057087   \n",
       "curb-weight           0.867720  0.310660     1.000000     0.849090 -0.750390   \n",
       "engine-size           0.731100  0.076255     0.849090     1.000000 -0.651002   \n",
       "city-kpl             -0.638155 -0.057087    -0.750390    -0.651002  1.000000   \n",
       "highway-kpl          -0.684700 -0.111568    -0.795515    -0.679877  0.972024   \n",
       "price                 0.752795  0.137284     0.834420     0.872337 -0.687186   \n",
       "Bore_N                0.547786  0.179955     0.642965     0.566646 -0.586976   \n",
       "Stroke_N              0.182855 -0.081273     0.168642     0.208004 -0.040677   \n",
       "Compression_ration_N  0.189008  0.259526     0.156444     0.029005  0.330897   \n",
       "\n",
       "                      highway-kpl     price    Bore_N  Stroke_N  \\\n",
       "symboling                0.041248 -0.083327 -0.137794  0.008244   \n",
       "normalized-losses       -0.182011  0.133999 -0.025934  0.055759   \n",
       "wheel-base              -0.552211  0.589147  0.498650  0.144675   \n",
       "length                  -0.700186  0.691044  0.608616  0.120888   \n",
       "width                   -0.684700  0.752795  0.547786  0.182855   \n",
       "height                  -0.111568  0.137284  0.179955 -0.081273   \n",
       "curb-weight             -0.795515  0.834420  0.642965  0.168642   \n",
       "engine-size             -0.679877  0.872337  0.566646  0.208004   \n",
       "city-kpl                 0.972024 -0.687186 -0.586976 -0.040677   \n",
       "highway-kpl              1.000000 -0.705115 -0.595528 -0.040282   \n",
       "price                   -0.705115  1.000000  0.543059  0.083296   \n",
       "Bore_N                  -0.595528  0.543059  1.000000 -0.051062   \n",
       "Stroke_N                -0.040282  0.083296 -0.051062  1.000000   \n",
       "Compression_ration_N     0.267929  0.071176  0.001159  0.186761   \n",
       "\n",
       "                      Compression_ration_N  \n",
       "symboling                        -0.181073  \n",
       "normalized-losses                -0.114738  \n",
       "wheel-base                        0.249689  \n",
       "length                            0.159203  \n",
       "width                             0.189008  \n",
       "height                            0.259526  \n",
       "curb-weight                       0.156444  \n",
       "engine-size                       0.029005  \n",
       "city-kpl                          0.330897  \n",
       "highway-kpl                       0.267929  \n",
       "price                             0.071176  \n",
       "Bore_N                            0.001159  \n",
       "Stroke_N                          0.186761  \n",
       "Compression_ration_N              1.000000  "
      ]
     },
     "execution_count": 86,
     "metadata": {},
     "output_type": "execute_result"
    }
   ],
   "source": [
    "#Lets being with the quick observation of the correlation between the data types in the dataframe that are numerical (non-object type)\n",
    "numeric_cars = Cars.select_dtypes(include=[\"int64\", \"float64\"])\n",
    "numeric_cars.corr() #this function seem to fall under pandas"
   ]
  },
  {
   "cell_type": "code",
   "execution_count": 87,
   "id": "7e7fe832-d56b-42eb-a6cf-80e6ab94f454",
   "metadata": {},
   "outputs": [
    {
     "data": {
      "text/html": [
       "<div>\n",
       "<style scoped>\n",
       "    .dataframe tbody tr th:only-of-type {\n",
       "        vertical-align: middle;\n",
       "    }\n",
       "\n",
       "    .dataframe tbody tr th {\n",
       "        vertical-align: top;\n",
       "    }\n",
       "\n",
       "    .dataframe thead th {\n",
       "        text-align: right;\n",
       "    }\n",
       "</style>\n",
       "<table border=\"1\" class=\"dataframe\">\n",
       "  <thead>\n",
       "    <tr style=\"text-align: right;\">\n",
       "      <th></th>\n",
       "      <th>Bore_N</th>\n",
       "      <th>Stroke_N</th>\n",
       "      <th>Compression_ration_N</th>\n",
       "      <th>highway-kpl</th>\n",
       "      <th>city-kpl</th>\n",
       "    </tr>\n",
       "  </thead>\n",
       "  <tbody>\n",
       "    <tr>\n",
       "      <th>Bore_N</th>\n",
       "      <td>1.000000</td>\n",
       "      <td>-0.051062</td>\n",
       "      <td>0.001159</td>\n",
       "      <td>-0.595528</td>\n",
       "      <td>-0.586976</td>\n",
       "    </tr>\n",
       "    <tr>\n",
       "      <th>Stroke_N</th>\n",
       "      <td>-0.051062</td>\n",
       "      <td>1.000000</td>\n",
       "      <td>0.186761</td>\n",
       "      <td>-0.040282</td>\n",
       "      <td>-0.040677</td>\n",
       "    </tr>\n",
       "    <tr>\n",
       "      <th>Compression_ration_N</th>\n",
       "      <td>0.001159</td>\n",
       "      <td>0.186761</td>\n",
       "      <td>1.000000</td>\n",
       "      <td>0.267929</td>\n",
       "      <td>0.330897</td>\n",
       "    </tr>\n",
       "    <tr>\n",
       "      <th>highway-kpl</th>\n",
       "      <td>-0.595528</td>\n",
       "      <td>-0.040282</td>\n",
       "      <td>0.267929</td>\n",
       "      <td>1.000000</td>\n",
       "      <td>0.972024</td>\n",
       "    </tr>\n",
       "    <tr>\n",
       "      <th>city-kpl</th>\n",
       "      <td>-0.586976</td>\n",
       "      <td>-0.040677</td>\n",
       "      <td>0.330897</td>\n",
       "      <td>0.972024</td>\n",
       "      <td>1.000000</td>\n",
       "    </tr>\n",
       "  </tbody>\n",
       "</table>\n",
       "</div>"
      ],
      "text/plain": [
       "                        Bore_N  Stroke_N  Compression_ration_N  highway-kpl  \\\n",
       "Bore_N                1.000000 -0.051062              0.001159    -0.595528   \n",
       "Stroke_N             -0.051062  1.000000              0.186761    -0.040282   \n",
       "Compression_ration_N  0.001159  0.186761              1.000000     0.267929   \n",
       "highway-kpl          -0.595528 -0.040282              0.267929     1.000000   \n",
       "city-kpl             -0.586976 -0.040677              0.330897     0.972024   \n",
       "\n",
       "                      city-kpl  \n",
       "Bore_N               -0.586976  \n",
       "Stroke_N             -0.040677  \n",
       "Compression_ration_N  0.330897  \n",
       "highway-kpl           0.972024  \n",
       "city-kpl              1.000000  "
      ]
     },
     "execution_count": 87,
     "metadata": {},
     "output_type": "execute_result"
    }
   ],
   "source": [
    "Engine_specific = Cars[[\"Bore_N\", \"Stroke_N\", \"Compression_ration_N\", \"highway-kpl\", \"city-kpl\"]]\n",
    "Engine_specific_corr = Engine_specific.corr()\n",
    "Engine_specific_corr"
   ]
  },
  {
   "cell_type": "markdown",
   "id": "593319cc-8b3e-4159-9c02-5a82b82ebc52",
   "metadata": {},
   "source": [
    "Conducting Exploratory Data Analysis through visualizations "
   ]
  },
  {
   "cell_type": "code",
   "execution_count": 89,
   "id": "73041208-5a30-4223-a6b8-ceb09bd3db4b",
   "metadata": {},
   "outputs": [
    {
     "data": {
      "text/plain": [
       "Index(['symboling', 'normalized-losses', 'make', 'fuel-type', 'aspiration',\n",
       "       'num-of-doors', 'body-style', 'drive-wheels', 'engine-location',\n",
       "       'wheel-base', 'length', 'width', 'height', 'curb-weight', 'engine-type',\n",
       "       'num-of-cylinders', 'engine-size', 'fuel-system', 'peak-rpm',\n",
       "       'city-kpl', 'highway-kpl', 'price', 'Bore_N', 'Stroke_N',\n",
       "       'Compression_ration_N', 'horsepower-binned', 'fueltype-diesel',\n",
       "       'fueltype-gas'],\n",
       "      dtype='object')"
      ]
     },
     "execution_count": 89,
     "metadata": {},
     "output_type": "execute_result"
    }
   ],
   "source": [
    "Cars.columns"
   ]
  },
  {
   "cell_type": "code",
   "execution_count": 90,
   "id": "d1356f79-2293-4f7b-9b0b-4b16a02adf84",
   "metadata": {},
   "outputs": [
    {
     "data": {
      "text/html": [
       "<div>\n",
       "<style scoped>\n",
       "    .dataframe tbody tr th:only-of-type {\n",
       "        vertical-align: middle;\n",
       "    }\n",
       "\n",
       "    .dataframe tbody tr th {\n",
       "        vertical-align: top;\n",
       "    }\n",
       "\n",
       "    .dataframe thead th {\n",
       "        text-align: right;\n",
       "    }\n",
       "</style>\n",
       "<table border=\"1\" class=\"dataframe\">\n",
       "  <thead>\n",
       "    <tr style=\"text-align: right;\">\n",
       "      <th></th>\n",
       "      <th>engine-size</th>\n",
       "      <th>price</th>\n",
       "    </tr>\n",
       "  </thead>\n",
       "  <tbody>\n",
       "    <tr>\n",
       "      <th>engine-size</th>\n",
       "      <td>1.000000</td>\n",
       "      <td>0.872337</td>\n",
       "    </tr>\n",
       "    <tr>\n",
       "      <th>price</th>\n",
       "      <td>0.872337</td>\n",
       "      <td>1.000000</td>\n",
       "    </tr>\n",
       "  </tbody>\n",
       "</table>\n",
       "</div>"
      ],
      "text/plain": [
       "             engine-size     price\n",
       "engine-size     1.000000  0.872337\n",
       "price           0.872337  1.000000"
      ]
     },
     "execution_count": 90,
     "metadata": {},
     "output_type": "execute_result"
    }
   ],
   "source": [
    "#Trying to conduct quick correlation nad regression analysis between \"engine size\" and \"price of cars\"\n",
    "Quick_corr = Cars[[\"engine-size\", \"price\"]]\n",
    "Quick_corr = Quick_corr.corr()\n",
    "Quick_corr"
   ]
  },
  {
   "cell_type": "code",
   "execution_count": 91,
   "id": "4f575249-5601-47cd-9e19-2d64b8a22654",
   "metadata": {},
   "outputs": [
    {
     "data": {
      "text/plain": [
       "<Axes: xlabel='engine-size', ylabel='price'>"
      ]
     },
     "execution_count": 91,
     "metadata": {},
     "output_type": "execute_result"
    },
    {
     "data": {
      "image/png": "[encoded data removed]",
      "text/plain": [
       "<Figure size 640x480 with 1 Axes>"
      ]
     },
     "metadata": {},
     "output_type": "display_data"
    }
   ],
   "source": [
    "import matplotlib as plt\n",
    "import seaborn as sns\n",
    "sns.regplot(x=\"engine-size\", y=\"price\", data=Cars) #Note that the plot allows certain level of acceptable error bound when there isnt enough data at the topright corner \n",
    "#plt.ylim(0,) #limiting y-axis between 0 and what is comfortably necessary \n",
    "#strong corr of 0.8 is also accompanied by strong regression visualization"
   ]
  },
  {
   "cell_type": "code",
   "execution_count": 92,
   "id": "dd2cd089-0525-4db9-996c-22735fbf5d21",
   "metadata": {},
   "outputs": [],
   "source": [
    "#Lets repeat the process for \"peak-rpm\" and \"price\". But, \"peak-rpm\" needs a quick data cleaning\n",
    "Cars[\"peak-rpm\"].unique()\n",
    "Cars[\"peak-rpm\"] = Cars[\"peak-rpm\"].replace(\"?\", np.nan).astype(float)"
   ]
  },
  {
   "cell_type": "code",
   "execution_count": 93,
   "id": "db598abc-4610-4a52-9748-c7b8b6aa0fd6",
   "metadata": {},
   "outputs": [
    {
     "data": {
      "text/html": [
       "<div>\n",
       "<style scoped>\n",
       "    .dataframe tbody tr th:only-of-type {\n",
       "        vertical-align: middle;\n",
       "    }\n",
       "\n",
       "    .dataframe tbody tr th {\n",
       "        vertical-align: top;\n",
       "    }\n",
       "\n",
       "    .dataframe thead th {\n",
       "        text-align: right;\n",
       "    }\n",
       "</style>\n",
       "<table border=\"1\" class=\"dataframe\">\n",
       "  <thead>\n",
       "    <tr style=\"text-align: right;\">\n",
       "      <th></th>\n",
       "      <th>peak-rpm</th>\n",
       "      <th>price</th>\n",
       "    </tr>\n",
       "  </thead>\n",
       "  <tbody>\n",
       "    <tr>\n",
       "      <th>peak-rpm</th>\n",
       "      <td>1.000000</td>\n",
       "      <td>-0.101625</td>\n",
       "    </tr>\n",
       "    <tr>\n",
       "      <th>price</th>\n",
       "      <td>-0.101625</td>\n",
       "      <td>1.000000</td>\n",
       "    </tr>\n",
       "  </tbody>\n",
       "</table>\n",
       "</div>"
      ],
      "text/plain": [
       "          peak-rpm     price\n",
       "peak-rpm  1.000000 -0.101625\n",
       "price    -0.101625  1.000000"
      ]
     },
     "execution_count": 93,
     "metadata": {},
     "output_type": "execute_result"
    }
   ],
   "source": [
    "quick_corr1 = Cars[[\"peak-rpm\", \"price\"]]\n",
    "quick_corr1.corr() #a very weak negative correlation"
   ]
  },
  {
   "cell_type": "code",
   "execution_count": 94,
   "id": "66fb0109-9bc8-47e7-b677-5aec44ee3b1f",
   "metadata": {},
   "outputs": [
    {
     "data": {
      "text/plain": [
       "<Axes: xlabel='peak-rpm', ylabel='price'>"
      ]
     },
     "execution_count": 94,
     "metadata": {},
     "output_type": "execute_result"
    },
    {
     "data": {
      "image/png": "[encoded data removed]",
      "text/plain": [
       "<Figure size 640x480 with 1 Axes>"
      ]
     },
     "metadata": {},
     "output_type": "display_data"
    }
   ],
   "source": [
    "sns.regplot(x=\"peak-rpm\", y=\"price\", data=Cars)\n",
    "#A weak correlating being accompanied by a weak regression"
   ]
  },
  {
   "cell_type": "markdown",
   "id": "44f40ccd-ed61-470c-bc5d-c10ff1d262f1",
   "metadata": {},
   "source": [
    "Working with Pearson Correlation Coefficient and P-value [SciPy]"
   ]
  },
  {
   "cell_type": "code",
   "execution_count": 102,
   "id": "cb12cb96-a73f-4150-8dd7-4c9d52a81783",
   "metadata": {},
   "outputs": [
    {
     "name": "stdout",
     "output_type": "stream",
     "text": [
      "The pearson coefficient is 0.0711755917068172 and the p-value is 0.31656752744423394\n"
     ]
    }
   ],
   "source": [
    "#Finding Pearson Correlation coefficient between \"Compression ratio\" and \"price\"\n",
    "from scipy import stats\n",
    "pearson_coef, p_value = stats.pearsonr(Cars[\"Compression_ration_N\"], Cars[\"price\"])\n",
    "print(f\"The pearson coefficient is {pearson_coef} and the p-value is {p_value}\")\n",
    "#As we can see the correlation value of 0.07 and the p-value of 0.31 is turining out to be hopeless\n",
    "#We are yet to learn to produce correlation and p-value matrix using this method"
   ]
  },
  {
   "cell_type": "markdown",
   "id": "8869f47d-bdbc-49b1-96ba-09dda3d7ca68",
   "metadata": {},
   "source": [
    "#### Working with categorical data (int, objects)"
   ]
  },
  {
   "cell_type": "code",
   "execution_count": 105,
   "id": "55e099d1-8448-48ba-a61a-4d0da790ff7d",
   "metadata": {},
   "outputs": [
    {
     "data": {
      "text/plain": [
       "body-style\n",
       "sedan          94\n",
       "hatchback      68\n",
       "wagon          25\n",
       "hardtop         8\n",
       "convertible     5\n",
       "Name: count, dtype: int64"
      ]
     },
     "execution_count": 105,
     "metadata": {},
     "output_type": "execute_result"
    }
   ],
   "source": [
    "#Let's observe the relationship between \"body-style\" and \"price\"\n",
    "Cars[\"body-style\"].value_counts() #value_counts is a smart way to visually inspect the value distribution across categories"
   ]
  },
  {
   "cell_type": "code",
   "execution_count": 107,
   "id": "469b8eff-8330-4483-b67e-441909b7ea6b",
   "metadata": {},
   "outputs": [
    {
     "data": {
      "text/html": [
       "<div>\n",
       "<style scoped>\n",
       "    .dataframe tbody tr th:only-of-type {\n",
       "        vertical-align: middle;\n",
       "    }\n",
       "\n",
       "    .dataframe tbody tr th {\n",
       "        vertical-align: top;\n",
       "    }\n",
       "\n",
       "    .dataframe thead th {\n",
       "        text-align: right;\n",
       "    }\n",
       "</style>\n",
       "<table border=\"1\" class=\"dataframe\">\n",
       "  <thead>\n",
       "    <tr style=\"text-align: right;\">\n",
       "      <th></th>\n",
       "      <th>count</th>\n",
       "    </tr>\n",
       "    <tr>\n",
       "      <th>body-style</th>\n",
       "      <th></th>\n",
       "    </tr>\n",
       "  </thead>\n",
       "  <tbody>\n",
       "    <tr>\n",
       "      <th>sedan</th>\n",
       "      <td>94</td>\n",
       "    </tr>\n",
       "    <tr>\n",
       "      <th>hatchback</th>\n",
       "      <td>68</td>\n",
       "    </tr>\n",
       "    <tr>\n",
       "      <th>wagon</th>\n",
       "      <td>25</td>\n",
       "    </tr>\n",
       "    <tr>\n",
       "      <th>hardtop</th>\n",
       "      <td>8</td>\n",
       "    </tr>\n",
       "    <tr>\n",
       "      <th>convertible</th>\n",
       "      <td>5</td>\n",
       "    </tr>\n",
       "  </tbody>\n",
       "</table>\n",
       "</div>"
      ],
      "text/plain": [
       "             count\n",
       "body-style        \n",
       "sedan           94\n",
       "hatchback       68\n",
       "wagon           25\n",
       "hardtop          8\n",
       "convertible      5"
      ]
     },
     "execution_count": 107,
     "metadata": {},
     "output_type": "execute_result"
    }
   ],
   "source": [
    "#The value counts loos very rich, lets convert it to a dataframe\n",
    "Body_counts = Cars[\"body-style\"].value_counts().to_frame()\n",
    "Body_counts"
   ]
  },
  {
   "cell_type": "code",
   "execution_count": 108,
   "id": "e42e5567-3a99-4bd7-a9d2-2c890106dc66",
   "metadata": {},
   "outputs": [
    {
     "data": {
      "text/plain": [
       "<Axes: xlabel='body-style', ylabel='price'>"
      ]
     },
     "execution_count": 108,
     "metadata": {},
     "output_type": "execute_result"
    },
    {
     "data": {
      "image/png": "[encoded data removed]",
      "text/plain": [
       "<Figure size 640x480 with 1 Axes>"
      ]
     },
     "metadata": {},
     "output_type": "display_data"
    }
   ],
   "source": [
    "import matplotlib as pyplot\n",
    "import seaborn as sns\n",
    "sns.boxplot(x=\"body-style\", y=\"price\", data=Cars) #The price range overlaps way too much across the interquartile range of different body types. \n",
    "                                                  #Hence, body type is not a good predictor of car prices"
   ]
  },
  {
   "cell_type": "code",
   "execution_count": 109,
   "id": "33e0294c-5c33-4810-bcc0-c96e3a0e39e4",
   "metadata": {},
   "outputs": [
    {
     "data": {
      "text/plain": [
       "horsepower-binned\n",
       "Low       152\n",
       "Medium     43\n",
       "High        5\n",
       "Name: count, dtype: int64"
      ]
     },
     "execution_count": 109,
     "metadata": {},
     "output_type": "execute_result"
    }
   ],
   "source": [
    "#Lets observe the relationship between \"horsepower-binned\" and \"price\"\n",
    "Cars[\"horsepower-binned\"].value_counts() #The value is unevenly distributed and may not be a quality data to assign predictions"
   ]
  },
  {
   "cell_type": "code",
   "execution_count": 110,
   "id": "8045b270-e843-48f8-84c4-afa3a467852c",
   "metadata": {},
   "outputs": [
    {
     "data": {
      "text/plain": [
       "<Axes: xlabel='horsepower-binned', ylabel='price'>"
      ]
     },
     "execution_count": 110,
     "metadata": {},
     "output_type": "execute_result"
    },
    {
     "data": {
      "image/png": "[encoded data removed]",
      "text/plain": [
       "<Figure size 640x480 with 1 Axes>"
      ]
     },
     "metadata": {},
     "output_type": "display_data"
    }
   ],
   "source": [
    "import matplotlib as pyplot\n",
    "import seaborn as sns\n",
    "sns.boxplot(x=\"horsepower-binned\", y=\"price\", data=Cars) # as you can see there is no overlap in price at the interquartile range between cars with different hrorsepower, \n",
    "                                                         #undoubtedly, horsepower range is a good categorical variable to predict car prices"
   ]
  },
  {
   "cell_type": "markdown",
   "id": "36a2c6f6-7c65-4d20-a03b-2f245b3bf3a3",
   "metadata": {},
   "source": [
    "Analysis of the categorical data through grouping "
   ]
  },
  {
   "cell_type": "code",
   "execution_count": 112,
   "id": "96666faa-e914-4669-950e-bda330d9b774",
   "metadata": {},
   "outputs": [
    {
     "data": {
      "text/plain": [
       "drive-wheels\n",
       "fwd    118\n",
       "rwd     74\n",
       "4wd      8\n",
       "Name: count, dtype: int64"
      ]
     },
     "execution_count": 112,
     "metadata": {},
     "output_type": "execute_result"
    }
   ],
   "source": [
    "#lets observe how does the price points of the Car varies based on drive wheels and horsepower-binned\n",
    "Cars[\"drive-wheels\"].value_counts() #not a very bad distribution of values"
   ]
  },
  {
   "cell_type": "code",
   "execution_count": 113,
   "id": "3a04feaa-0108-4bf1-8233-7c690fcb21ed",
   "metadata": {},
   "outputs": [
    {
     "name": "stderr",
     "output_type": "stream",
     "text": [
      "C:\\Users\\prien\\AppData\\Local\\Temp\\ipykernel_1480\\303024890.py:2: FutureWarning: The default of observed=False is deprecated and will be changed to True in a future version of pandas. Pass observed=False to retain current behavior or observed=True to adopt the future default and silence this warning.\n",
      "  Cars_grouped = Group_data1.groupby([\"drive-wheels\", \"horsepower-binned\"], as_index=False)[\"price\"].mean() #If as_index is kept True we wont be able to create a pivot table from it later on\n"
     ]
    },
    {
     "data": {
      "text/html": [
       "<div>\n",
       "<style scoped>\n",
       "    .dataframe tbody tr th:only-of-type {\n",
       "        vertical-align: middle;\n",
       "    }\n",
       "\n",
       "    .dataframe tbody tr th {\n",
       "        vertical-align: top;\n",
       "    }\n",
       "\n",
       "    .dataframe thead th {\n",
       "        text-align: right;\n",
       "    }\n",
       "</style>\n",
       "<table border=\"1\" class=\"dataframe\">\n",
       "  <thead>\n",
       "    <tr style=\"text-align: right;\">\n",
       "      <th></th>\n",
       "      <th>drive-wheels</th>\n",
       "      <th>horsepower-binned</th>\n",
       "      <th>price</th>\n",
       "    </tr>\n",
       "  </thead>\n",
       "  <tbody>\n",
       "    <tr>\n",
       "      <th>0</th>\n",
       "      <td>4wd</td>\n",
       "      <td>Low</td>\n",
       "      <td>10241.000000</td>\n",
       "    </tr>\n",
       "    <tr>\n",
       "      <th>1</th>\n",
       "      <td>4wd</td>\n",
       "      <td>Medium</td>\n",
       "      <td>NaN</td>\n",
       "    </tr>\n",
       "    <tr>\n",
       "      <th>2</th>\n",
       "      <td>4wd</td>\n",
       "      <td>High</td>\n",
       "      <td>NaN</td>\n",
       "    </tr>\n",
       "    <tr>\n",
       "      <th>3</th>\n",
       "      <td>fwd</td>\n",
       "      <td>Low</td>\n",
       "      <td>8647.138889</td>\n",
       "    </tr>\n",
       "    <tr>\n",
       "      <th>4</th>\n",
       "      <td>fwd</td>\n",
       "      <td>Medium</td>\n",
       "      <td>15699.300000</td>\n",
       "    </tr>\n",
       "    <tr>\n",
       "      <th>5</th>\n",
       "      <td>fwd</td>\n",
       "      <td>High</td>\n",
       "      <td>NaN</td>\n",
       "    </tr>\n",
       "    <tr>\n",
       "      <th>6</th>\n",
       "      <td>rwd</td>\n",
       "      <td>Low</td>\n",
       "      <td>13864.388889</td>\n",
       "    </tr>\n",
       "    <tr>\n",
       "      <th>7</th>\n",
       "      <td>rwd</td>\n",
       "      <td>Medium</td>\n",
       "      <td>24543.181818</td>\n",
       "    </tr>\n",
       "    <tr>\n",
       "      <th>8</th>\n",
       "      <td>rwd</td>\n",
       "      <td>High</td>\n",
       "      <td>31856.600000</td>\n",
       "    </tr>\n",
       "  </tbody>\n",
       "</table>\n",
       "</div>"
      ],
      "text/plain": [
       "  drive-wheels horsepower-binned         price\n",
       "0          4wd               Low  10241.000000\n",
       "1          4wd            Medium           NaN\n",
       "2          4wd              High           NaN\n",
       "3          fwd               Low   8647.138889\n",
       "4          fwd            Medium  15699.300000\n",
       "5          fwd              High           NaN\n",
       "6          rwd               Low  13864.388889\n",
       "7          rwd            Medium  24543.181818\n",
       "8          rwd              High  31856.600000"
      ]
     },
     "execution_count": 113,
     "metadata": {},
     "output_type": "execute_result"
    }
   ],
   "source": [
    "Group_data1 = Cars[[\"drive-wheels\", \"horsepower-binned\", \"price\"]]\n",
    "Cars_grouped = Group_data1.groupby([\"drive-wheels\", \"horsepower-binned\"], as_index=False)[\"price\"].mean() #If as_index is kept True we wont be able to create a pivot table from it later on\n",
    "Cars_grouped #It seems to return a pretty fair pivoted table"
   ]
  },
  {
   "cell_type": "code",
   "execution_count": 114,
   "id": "30da54a5-93d6-4a2e-878b-3ab13c3be1ed",
   "metadata": {},
   "outputs": [
    {
     "data": {
      "text/html": [
       "<div>\n",
       "<style scoped>\n",
       "    .dataframe tbody tr th:only-of-type {\n",
       "        vertical-align: middle;\n",
       "    }\n",
       "\n",
       "    .dataframe tbody tr th {\n",
       "        vertical-align: top;\n",
       "    }\n",
       "\n",
       "    .dataframe thead tr th {\n",
       "        text-align: left;\n",
       "    }\n",
       "\n",
       "    .dataframe thead tr:last-of-type th {\n",
       "        text-align: right;\n",
       "    }\n",
       "</style>\n",
       "<table border=\"1\" class=\"dataframe\">\n",
       "  <thead>\n",
       "    <tr>\n",
       "      <th></th>\n",
       "      <th colspan=\"3\" halign=\"left\">price</th>\n",
       "    </tr>\n",
       "    <tr>\n",
       "      <th>horsepower-binned</th>\n",
       "      <th>Low</th>\n",
       "      <th>Medium</th>\n",
       "      <th>High</th>\n",
       "    </tr>\n",
       "    <tr>\n",
       "      <th>drive-wheels</th>\n",
       "      <th></th>\n",
       "      <th></th>\n",
       "      <th></th>\n",
       "    </tr>\n",
       "  </thead>\n",
       "  <tbody>\n",
       "    <tr>\n",
       "      <th>4wd</th>\n",
       "      <td>10241.000000</td>\n",
       "      <td>NaN</td>\n",
       "      <td>NaN</td>\n",
       "    </tr>\n",
       "    <tr>\n",
       "      <th>fwd</th>\n",
       "      <td>8647.138889</td>\n",
       "      <td>15699.300000</td>\n",
       "      <td>NaN</td>\n",
       "    </tr>\n",
       "    <tr>\n",
       "      <th>rwd</th>\n",
       "      <td>13864.388889</td>\n",
       "      <td>24543.181818</td>\n",
       "      <td>31856.6</td>\n",
       "    </tr>\n",
       "  </tbody>\n",
       "</table>\n",
       "</div>"
      ],
      "text/plain": [
       "                          price                       \n",
       "horsepower-binned           Low        Medium     High\n",
       "drive-wheels                                          \n",
       "4wd                10241.000000           NaN      NaN\n",
       "fwd                 8647.138889  15699.300000      NaN\n",
       "rwd                13864.388889  24543.181818  31856.6"
      ]
     },
     "execution_count": 114,
     "metadata": {},
     "output_type": "execute_result"
    }
   ],
   "source": [
    "#Let's get a better pivoted view. This matrix-style pivoting may be best for two kinds of categorical data and one ratio/interval numeric data\n",
    "Cars_grouped_pivot = Cars_grouped.pivot(index=\"drive-wheels\", columns = \"horsepower-binned\")\n",
    "Cars_grouped_pivot"
   ]
  },
  {
   "cell_type": "code",
   "execution_count": 115,
   "id": "a9021332-9ad5-438d-9a54-4f56adfb522d",
   "metadata": {},
   "outputs": [
    {
     "data": {
      "image/png": "[encoded data removed]",
      "text/plain": [
       "<Figure size 640x480 with 2 Axes>"
      ]
     },
     "metadata": {},
     "output_type": "display_data"
    }
   ],
   "source": [
    "#So, lets view the grouped and pivoted values in heatmaps\n",
    "#Caution: The code is complicated and might be explained in the data visualization course\n",
    "import matplotlib.pyplot as plt\n",
    "\n",
    "fig, ax = plt.subplots()\n",
    "im = ax.pcolor(Cars_grouped_pivot, cmap='RdBu')\n",
    "\n",
    "#label names\n",
    "row_labels=Cars_grouped_pivot.columns.levels[1]\n",
    "col_labels=Cars_grouped_pivot.index\n",
    "\n",
    "#move ticks and labels to the center\n",
    "ax.set_xticks(np.arange(Cars_grouped_pivot.shape[1])+0.5, minor=False)\n",
    "ax.set_yticks(np.arange(Cars_grouped_pivot.shape[0])+0.5, minor=False)\n",
    "\n",
    "#inserting labels\n",
    "ax.set_xticklabels(row_labels, minor=False)\n",
    "ax.set_yticklabels(col_labels, minor=False)\n",
    "\n",
    "fig.colorbar(im)\n",
    "plt.show()"
   ]
  },
  {
   "cell_type": "markdown",
   "id": "fb0a6cef-b781-47d8-a046-58a8f87bb6b9",
   "metadata": {},
   "source": [
    "Filtering in data from further model development"
   ]
  },
  {
   "cell_type": "code",
   "execution_count": 117,
   "id": "21c729ba-a3f8-4d87-a6e2-0c6d6a9c6e0d",
   "metadata": {},
   "outputs": [
    {
     "data": {
      "text/html": [
       "<div>\n",
       "<style scoped>\n",
       "    .dataframe tbody tr th:only-of-type {\n",
       "        vertical-align: middle;\n",
       "    }\n",
       "\n",
       "    .dataframe tbody tr th {\n",
       "        vertical-align: top;\n",
       "    }\n",
       "\n",
       "    .dataframe thead th {\n",
       "        text-align: right;\n",
       "    }\n",
       "</style>\n",
       "<table border=\"1\" class=\"dataframe\">\n",
       "  <thead>\n",
       "    <tr style=\"text-align: right;\">\n",
       "      <th></th>\n",
       "      <th>symboling</th>\n",
       "      <th>normalized-losses</th>\n",
       "      <th>wheel-base</th>\n",
       "      <th>length</th>\n",
       "      <th>width</th>\n",
       "      <th>height</th>\n",
       "      <th>curb-weight</th>\n",
       "      <th>engine-size</th>\n",
       "      <th>city-kpl</th>\n",
       "      <th>highway-kpl</th>\n",
       "      <th>price</th>\n",
       "      <th>Bore_N</th>\n",
       "      <th>Stroke_N</th>\n",
       "      <th>Compression_ration_N</th>\n",
       "    </tr>\n",
       "  </thead>\n",
       "  <tbody>\n",
       "    <tr>\n",
       "      <th>symboling</th>\n",
       "      <td>1.000000</td>\n",
       "      <td>0.469772</td>\n",
       "      <td>-0.529145</td>\n",
       "      <td>-0.364511</td>\n",
       "      <td>-0.237262</td>\n",
       "      <td>-0.542261</td>\n",
       "      <td>-0.234743</td>\n",
       "      <td>-0.112069</td>\n",
       "      <td>-0.030158</td>\n",
       "      <td>0.041248</td>\n",
       "      <td>-0.083327</td>\n",
       "      <td>-0.137794</td>\n",
       "      <td>0.008244</td>\n",
       "      <td>-0.181073</td>\n",
       "    </tr>\n",
       "    <tr>\n",
       "      <th>normalized-losses</th>\n",
       "      <td>0.469772</td>\n",
       "      <td>1.000000</td>\n",
       "      <td>-0.057068</td>\n",
       "      <td>0.019433</td>\n",
       "      <td>0.086961</td>\n",
       "      <td>-0.377664</td>\n",
       "      <td>0.099404</td>\n",
       "      <td>0.112362</td>\n",
       "      <td>-0.225255</td>\n",
       "      <td>-0.182011</td>\n",
       "      <td>0.133999</td>\n",
       "      <td>-0.025934</td>\n",
       "      <td>0.055759</td>\n",
       "      <td>-0.114738</td>\n",
       "    </tr>\n",
       "    <tr>\n",
       "      <th>wheel-base</th>\n",
       "      <td>-0.529145</td>\n",
       "      <td>-0.057068</td>\n",
       "      <td>1.000000</td>\n",
       "      <td>0.879005</td>\n",
       "      <td>0.814593</td>\n",
       "      <td>0.583789</td>\n",
       "      <td>0.787584</td>\n",
       "      <td>0.576779</td>\n",
       "      <td>-0.480029</td>\n",
       "      <td>-0.552211</td>\n",
       "      <td>0.589147</td>\n",
       "      <td>0.498650</td>\n",
       "      <td>0.144675</td>\n",
       "      <td>0.249689</td>\n",
       "    </tr>\n",
       "    <tr>\n",
       "      <th>length</th>\n",
       "      <td>-0.364511</td>\n",
       "      <td>0.019433</td>\n",
       "      <td>0.879005</td>\n",
       "      <td>1.000000</td>\n",
       "      <td>0.857271</td>\n",
       "      <td>0.492955</td>\n",
       "      <td>0.881058</td>\n",
       "      <td>0.685531</td>\n",
       "      <td>-0.667658</td>\n",
       "      <td>-0.700186</td>\n",
       "      <td>0.691044</td>\n",
       "      <td>0.608616</td>\n",
       "      <td>0.120888</td>\n",
       "      <td>0.159203</td>\n",
       "    </tr>\n",
       "    <tr>\n",
       "      <th>width</th>\n",
       "      <td>-0.237262</td>\n",
       "      <td>0.086961</td>\n",
       "      <td>0.814593</td>\n",
       "      <td>0.857271</td>\n",
       "      <td>1.000000</td>\n",
       "      <td>0.300995</td>\n",
       "      <td>0.867720</td>\n",
       "      <td>0.731100</td>\n",
       "      <td>-0.638155</td>\n",
       "      <td>-0.684700</td>\n",
       "      <td>0.752795</td>\n",
       "      <td>0.547786</td>\n",
       "      <td>0.182855</td>\n",
       "      <td>0.189008</td>\n",
       "    </tr>\n",
       "    <tr>\n",
       "      <th>height</th>\n",
       "      <td>-0.542261</td>\n",
       "      <td>-0.377664</td>\n",
       "      <td>0.583789</td>\n",
       "      <td>0.492955</td>\n",
       "      <td>0.300995</td>\n",
       "      <td>1.000000</td>\n",
       "      <td>0.310660</td>\n",
       "      <td>0.076255</td>\n",
       "      <td>-0.057087</td>\n",
       "      <td>-0.111568</td>\n",
       "      <td>0.137284</td>\n",
       "      <td>0.179955</td>\n",
       "      <td>-0.081273</td>\n",
       "      <td>0.259526</td>\n",
       "    </tr>\n",
       "    <tr>\n",
       "      <th>curb-weight</th>\n",
       "      <td>-0.234743</td>\n",
       "      <td>0.099404</td>\n",
       "      <td>0.787584</td>\n",
       "      <td>0.881058</td>\n",
       "      <td>0.867720</td>\n",
       "      <td>0.310660</td>\n",
       "      <td>1.000000</td>\n",
       "      <td>0.849090</td>\n",
       "      <td>-0.750390</td>\n",
       "      <td>-0.795515</td>\n",
       "      <td>0.834420</td>\n",
       "      <td>0.642965</td>\n",
       "      <td>0.168642</td>\n",
       "      <td>0.156444</td>\n",
       "    </tr>\n",
       "    <tr>\n",
       "      <th>engine-size</th>\n",
       "      <td>-0.112069</td>\n",
       "      <td>0.112362</td>\n",
       "      <td>0.576779</td>\n",
       "      <td>0.685531</td>\n",
       "      <td>0.731100</td>\n",
       "      <td>0.076255</td>\n",
       "      <td>0.849090</td>\n",
       "      <td>1.000000</td>\n",
       "      <td>-0.651002</td>\n",
       "      <td>-0.679877</td>\n",
       "      <td>0.872337</td>\n",
       "      <td>0.566646</td>\n",
       "      <td>0.208004</td>\n",
       "      <td>0.029005</td>\n",
       "    </tr>\n",
       "    <tr>\n",
       "      <th>city-kpl</th>\n",
       "      <td>-0.030158</td>\n",
       "      <td>-0.225255</td>\n",
       "      <td>-0.480029</td>\n",
       "      <td>-0.667658</td>\n",
       "      <td>-0.638155</td>\n",
       "      <td>-0.057087</td>\n",
       "      <td>-0.750390</td>\n",
       "      <td>-0.651002</td>\n",
       "      <td>1.000000</td>\n",
       "      <td>0.972024</td>\n",
       "      <td>-0.687186</td>\n",
       "      <td>-0.586976</td>\n",
       "      <td>-0.040677</td>\n",
       "      <td>0.330897</td>\n",
       "    </tr>\n",
       "    <tr>\n",
       "      <th>highway-kpl</th>\n",
       "      <td>0.041248</td>\n",
       "      <td>-0.182011</td>\n",
       "      <td>-0.552211</td>\n",
       "      <td>-0.700186</td>\n",
       "      <td>-0.684700</td>\n",
       "      <td>-0.111568</td>\n",
       "      <td>-0.795515</td>\n",
       "      <td>-0.679877</td>\n",
       "      <td>0.972024</td>\n",
       "      <td>1.000000</td>\n",
       "      <td>-0.705115</td>\n",
       "      <td>-0.595528</td>\n",
       "      <td>-0.040282</td>\n",
       "      <td>0.267929</td>\n",
       "    </tr>\n",
       "    <tr>\n",
       "      <th>price</th>\n",
       "      <td>-0.083327</td>\n",
       "      <td>0.133999</td>\n",
       "      <td>0.589147</td>\n",
       "      <td>0.691044</td>\n",
       "      <td>0.752795</td>\n",
       "      <td>0.137284</td>\n",
       "      <td>0.834420</td>\n",
       "      <td>0.872337</td>\n",
       "      <td>-0.687186</td>\n",
       "      <td>-0.705115</td>\n",
       "      <td>1.000000</td>\n",
       "      <td>0.543059</td>\n",
       "      <td>0.083296</td>\n",
       "      <td>0.071176</td>\n",
       "    </tr>\n",
       "    <tr>\n",
       "      <th>Bore_N</th>\n",
       "      <td>-0.137794</td>\n",
       "      <td>-0.025934</td>\n",
       "      <td>0.498650</td>\n",
       "      <td>0.608616</td>\n",
       "      <td>0.547786</td>\n",
       "      <td>0.179955</td>\n",
       "      <td>0.642965</td>\n",
       "      <td>0.566646</td>\n",
       "      <td>-0.586976</td>\n",
       "      <td>-0.595528</td>\n",
       "      <td>0.543059</td>\n",
       "      <td>1.000000</td>\n",
       "      <td>-0.051062</td>\n",
       "      <td>0.001159</td>\n",
       "    </tr>\n",
       "    <tr>\n",
       "      <th>Stroke_N</th>\n",
       "      <td>0.008244</td>\n",
       "      <td>0.055759</td>\n",
       "      <td>0.144675</td>\n",
       "      <td>0.120888</td>\n",
       "      <td>0.182855</td>\n",
       "      <td>-0.081273</td>\n",
       "      <td>0.168642</td>\n",
       "      <td>0.208004</td>\n",
       "      <td>-0.040677</td>\n",
       "      <td>-0.040282</td>\n",
       "      <td>0.083296</td>\n",
       "      <td>-0.051062</td>\n",
       "      <td>1.000000</td>\n",
       "      <td>0.186761</td>\n",
       "    </tr>\n",
       "    <tr>\n",
       "      <th>Compression_ration_N</th>\n",
       "      <td>-0.181073</td>\n",
       "      <td>-0.114738</td>\n",
       "      <td>0.249689</td>\n",
       "      <td>0.159203</td>\n",
       "      <td>0.189008</td>\n",
       "      <td>0.259526</td>\n",
       "      <td>0.156444</td>\n",
       "      <td>0.029005</td>\n",
       "      <td>0.330897</td>\n",
       "      <td>0.267929</td>\n",
       "      <td>0.071176</td>\n",
       "      <td>0.001159</td>\n",
       "      <td>0.186761</td>\n",
       "      <td>1.000000</td>\n",
       "    </tr>\n",
       "  </tbody>\n",
       "</table>\n",
       "</div>"
      ],
      "text/plain": [
       "                      symboling  normalized-losses  wheel-base    length  \\\n",
       "symboling              1.000000           0.469772   -0.529145 -0.364511   \n",
       "normalized-losses      0.469772           1.000000   -0.057068  0.019433   \n",
       "wheel-base            -0.529145          -0.057068    1.000000  0.879005   \n",
       "length                -0.364511           0.019433    0.879005  1.000000   \n",
       "width                 -0.237262           0.086961    0.814593  0.857271   \n",
       "height                -0.542261          -0.377664    0.583789  0.492955   \n",
       "curb-weight           -0.234743           0.099404    0.787584  0.881058   \n",
       "engine-size           -0.112069           0.112362    0.576779  0.685531   \n",
       "city-kpl              -0.030158          -0.225255   -0.480029 -0.667658   \n",
       "highway-kpl            0.041248          -0.182011   -0.552211 -0.700186   \n",
       "price                 -0.083327           0.133999    0.589147  0.691044   \n",
       "Bore_N                -0.137794          -0.025934    0.498650  0.608616   \n",
       "Stroke_N               0.008244           0.055759    0.144675  0.120888   \n",
       "Compression_ration_N  -0.181073          -0.114738    0.249689  0.159203   \n",
       "\n",
       "                         width    height  curb-weight  engine-size  city-kpl  \\\n",
       "symboling            -0.237262 -0.542261    -0.234743    -0.112069 -0.030158   \n",
       "normalized-losses     0.086961 -0.377664     0.099404     0.112362 -0.225255   \n",
       "wheel-base            0.814593  0.583789     0.787584     0.576779 -0.480029   \n",
       "length                0.857271  0.492955     0.881058     0.685531 -0.667658   \n",
       "width                 1.000000  0.300995     0.867720     0.731100 -0.638155   \n",
       "height                0.300995  1.000000     0.310660     0.076255 -0.057087   \n",
       "curb-weight           0.867720  0.310660     1.000000     0.849090 -0.750390   \n",
       "engine-size           0.731100  0.076255     0.849090     1.000000 -0.651002   \n",
       "city-kpl             -0.638155 -0.057087    -0.750390    -0.651002  1.000000   \n",
       "highway-kpl          -0.684700 -0.111568    -0.795515    -0.679877  0.972024   \n",
       "price                 0.752795  0.137284     0.834420     0.872337 -0.687186   \n",
       "Bore_N                0.547786  0.179955     0.642965     0.566646 -0.586976   \n",
       "Stroke_N              0.182855 -0.081273     0.168642     0.208004 -0.040677   \n",
       "Compression_ration_N  0.189008  0.259526     0.156444     0.029005  0.330897   \n",
       "\n",
       "                      highway-kpl     price    Bore_N  Stroke_N  \\\n",
       "symboling                0.041248 -0.083327 -0.137794  0.008244   \n",
       "normalized-losses       -0.182011  0.133999 -0.025934  0.055759   \n",
       "wheel-base              -0.552211  0.589147  0.498650  0.144675   \n",
       "length                  -0.700186  0.691044  0.608616  0.120888   \n",
       "width                   -0.684700  0.752795  0.547786  0.182855   \n",
       "height                  -0.111568  0.137284  0.179955 -0.081273   \n",
       "curb-weight             -0.795515  0.834420  0.642965  0.168642   \n",
       "engine-size             -0.679877  0.872337  0.566646  0.208004   \n",
       "city-kpl                 0.972024 -0.687186 -0.586976 -0.040677   \n",
       "highway-kpl              1.000000 -0.705115 -0.595528 -0.040282   \n",
       "price                   -0.705115  1.000000  0.543059  0.083296   \n",
       "Bore_N                  -0.595528  0.543059  1.000000 -0.051062   \n",
       "Stroke_N                -0.040282  0.083296 -0.051062  1.000000   \n",
       "Compression_ration_N     0.267929  0.071176  0.001159  0.186761   \n",
       "\n",
       "                      Compression_ration_N  \n",
       "symboling                        -0.181073  \n",
       "normalized-losses                -0.114738  \n",
       "wheel-base                        0.249689  \n",
       "length                            0.159203  \n",
       "width                             0.189008  \n",
       "height                            0.259526  \n",
       "curb-weight                       0.156444  \n",
       "engine-size                       0.029005  \n",
       "city-kpl                          0.330897  \n",
       "highway-kpl                       0.267929  \n",
       "price                             0.071176  \n",
       "Bore_N                            0.001159  \n",
       "Stroke_N                          0.186761  \n",
       "Compression_ration_N              1.000000  "
      ]
     },
     "execution_count": 117,
     "metadata": {},
     "output_type": "execute_result"
    }
   ],
   "source": [
    "# Gathering numerical variables with strong positive or negative correlation with the price function to develop a predictor model for price. \n",
    "cars_corr = numeric_cars.corr()\n",
    "cars_corr"
   ]
  },
  {
   "cell_type": "code",
   "execution_count": 118,
   "id": "8234aedf-e4ca-4ff5-ba84-08d7dabfe518",
   "metadata": {},
   "outputs": [
    {
     "data": {
      "text/plain": [
       "symboling               False\n",
       "normalized-losses       False\n",
       "wheel-base              False\n",
       "length                   True\n",
       "width                    True\n",
       "height                  False\n",
       "curb-weight              True\n",
       "engine-size              True\n",
       "city-kpl                 True\n",
       "highway-kpl              True\n",
       "price                    True\n",
       "Bore_N                  False\n",
       "Stroke_N                False\n",
       "Compression_ration_N    False\n",
       "Name: price, dtype: bool"
      ]
     },
     "execution_count": 118,
     "metadata": {},
     "output_type": "execute_result"
    }
   ],
   "source": [
    "Cars_selected = (cars_corr[\"price\"]>0.65) | (cars_corr[\"price\"]<-0.65)\n",
    "Cars_selected #selecting variables that have at least more than 0.65 or less than -0.65 correlation coefficient with the price "
   ]
  },
  {
   "cell_type": "code",
   "execution_count": 123,
   "id": "f10cc77d-773f-43ec-a0c6-434e6f6a13a0",
   "metadata": {},
   "outputs": [
    {
     "data": {
      "text/plain": [
       "highway-kpl            -0.705115\n",
       "city-kpl               -0.687186\n",
       "symboling              -0.083327\n",
       "Compression_ration_N    0.071176\n",
       "Stroke_N                0.083296\n",
       "normalized-losses       0.133999\n",
       "height                  0.137284\n",
       "Bore_N                  0.543059\n",
       "wheel-base              0.589147\n",
       "length                  0.691044\n",
       "width                   0.752795\n",
       "curb-weight             0.834420\n",
       "engine-size             0.872337\n",
       "price                   1.000000\n",
       "Name: price, dtype: float64"
      ]
     },
     "execution_count": 123,
     "metadata": {},
     "output_type": "execute_result"
    }
   ],
   "source": [
    "#But, better way to check correlation of values with price\n",
    "cars_corr[\"price\"].sort_values()"
   ]
  },
  {
   "cell_type": "code",
   "execution_count": 124,
   "id": "65de1a14-804e-4f98-9561-3e0f232be38e",
   "metadata": {},
   "outputs": [
    {
     "data": {
      "image/png": "[encoded data removed]",
      "text/plain": [
       "<Figure size 640x480 with 1 Axes>"
      ]
     },
     "metadata": {},
     "output_type": "display_data"
    }
   ],
   "source": [
    "#The correlation between the independent variables and our dependent variable can also be viewed vistually through bar-histogram plotting\n",
    "corr_graph = cars_corr[\"price\"].drop(\"price\") #this will give us the exact same list as above except for the price row\n",
    "corr_graph.plot(kind = \"barh\")\n",
    "plt.title(\"Correlation value of the variables with car prices\")\n",
    "plt.xlabel(\"Correlation with car price\")\n",
    "plt.ylabel(\"Independent Variables\")\n",
    "plt.show() #this visual can be used in reports"
   ]
  },
  {
   "cell_type": "code",
   "execution_count": 125,
   "id": "84265530-367e-4be4-bf68-e86bb6b46a7f",
   "metadata": {},
   "outputs": [
    {
     "data": {
      "text/plain": [
       "(PearsonRResult(statistic=np.float64(0.6910440897821906), pvalue=np.float64(9.960963222347693e-30)),\n",
       " PearsonRResult(statistic=np.float64(0.7527948631832608), pvalue=np.float64(8.256714148308725e-38)),\n",
       " PearsonRResult(statistic=np.float64(0.8344204348498462), pvalue=np.float64(3.969977536021817e-53)),\n",
       " PearsonRResult(statistic=np.float64(0.8723367498521142), pvalue=np.float64(1.8977171466561833e-63)),\n",
       " PearsonRResult(statistic=np.float64(-0.6871861020862687), pvalue=np.float64(2.729256568478904e-29)),\n",
       " PearsonRResult(statistic=np.float64(-0.7051147088046402), pvalue=np.float64(2.1973260531583354e-31)))"
      ]
     },
     "execution_count": 125,
     "metadata": {},
     "output_type": "execute_result"
    }
   ],
   "source": [
    "#Checking the p-value of the correlations to process the variable with another round of screening\n",
    "from scipy import stats\n",
    "p_value1 = stats.pearsonr(Cars[\"length\"], Cars[\"price\"])\n",
    "p_value2 = stats.pearsonr(Cars[\"width\"], Cars[\"price\"])\n",
    "p_value3 = stats.pearsonr(Cars[\"curb-weight\"], Cars[\"price\"])\n",
    "p_value4 = stats.pearsonr(Cars[\"engine-size\"], Cars[\"price\"])\n",
    "p_value5 = stats.pearsonr(Cars[\"city-kpl\"], Cars[\"price\"])\n",
    "p_value6 = stats.pearsonr(Cars[\"highway-kpl\"], Cars[\"price\"])\n",
    "p_value1, p_value2, p_value3, p_value4, p_value5, p_value6 \n",
    "#all p-values expressed in scientific notation appears to be extremely small, and therefore significant"
   ]
  },
  {
   "cell_type": "code",
   "execution_count": 126,
   "id": "3c73ce32-8f13-4c32-acfe-0205c2a489e7",
   "metadata": {},
   "outputs": [
    {
     "name": "stdout",
     "output_type": "stream",
     "text": [
      "Axes(0.125,0.11;0.775x0.77)\n"
     ]
    },
    {
     "data": {
      "image/png": "[encoded data removed]",
      "text/plain": [
       "<Figure size 640x480 with 1 Axes>"
      ]
     },
     "metadata": {},
     "output_type": "display_data"
    }
   ],
   "source": [
    "print(sns.boxplot(x=\"num-of-cylinders\", y=\"price\", data=Cars)) #was expecting num of cylinders as an ordinal variable to retain a pattern with price but not such found  "
   ]
  },
  {
   "cell_type": "markdown",
   "id": "7a69d9f5-308d-4e69-a356-daf5f2caa0cd",
   "metadata": {},
   "source": [
    "## Model Development"
   ]
  },
  {
   "cell_type": "markdown",
   "id": "a54bd571-8842-4e8b-b2f9-0c98bbfb179d",
   "metadata": {},
   "source": [
    "#### Simple Linear Regression Model"
   ]
  },
  {
   "cell_type": "code",
   "execution_count": 129,
   "id": "4b2424ea-145e-4cd7-a853-b2f47f7edb37",
   "metadata": {},
   "outputs": [
    {
     "data": {
      "text/html": [
       "<style>#sk-container-id-1 {\n",
       "  /* Definition of color scheme common for light and dark mode */\n",
       "  --sklearn-color-text: #000;\n",
       "  --sklearn-color-text-muted: #666;\n",
       "  --sklearn-color-line: gray;\n",
       "  /* Definition of color scheme for unfitted estimators */\n",
       "  --sklearn-color-unfitted-level-0: #fff5e6;\n",
       "  --sklearn-color-unfitted-level-1: #f6e4d2;\n",
       "  --sklearn-color-unfitted-level-2: #ffe0b3;\n",
       "  --sklearn-color-unfitted-level-3: chocolate;\n",
       "  /* Definition of color scheme for fitted estimators */\n",
       "  --sklearn-color-fitted-level-0: #f0f8ff;\n",
       "  --sklearn-color-fitted-level-1: #d4ebff;\n",
       "  --sklearn-color-fitted-level-2: #b3dbfd;\n",
       "  --sklearn-color-fitted-level-3: cornflowerblue;\n",
       "\n",
       "  /* Specific color for light theme */\n",
       "  --sklearn-color-text-on-default-background: var(--sg-text-color, var(--theme-code-foreground, var(--jp-content-font-color1, black)));\n",
       "  --sklearn-color-background: var(--sg-background-color, var(--theme-background, var(--jp-layout-color0, white)));\n",
       "  --sklearn-color-border-box: var(--sg-text-color, var(--theme-code-foreground, var(--jp-content-font-color1, black)));\n",
       "  --sklearn-color-icon: #696969;\n",
       "\n",
       "  @media (prefers-color-scheme: dark) {\n",
       "    /* Redefinition of color scheme for dark theme */\n",
       "    --sklearn-color-text-on-default-background: var(--sg-text-color, var(--theme-code-foreground, var(--jp-content-font-color1, white)));\n",
       "    --sklearn-color-background: var(--sg-background-color, var(--theme-background, var(--jp-layout-color0, #111)));\n",
       "    --sklearn-color-border-box: var(--sg-text-color, var(--theme-code-foreground, var(--jp-content-font-color1, white)));\n",
       "    --sklearn-color-icon: #878787;\n",
       "  }\n",
       "}\n",
       "\n",
       "#sk-container-id-1 {\n",
       "  color: var(--sklearn-color-text);\n",
       "}\n",
       "\n",
       "#sk-container-id-1 pre {\n",
       "  padding: 0;\n",
       "}\n",
       "\n",
       "#sk-container-id-1 input.sk-hidden--visually {\n",
       "  border: 0;\n",
       "  clip: rect(1px 1px 1px 1px);\n",
       "  clip: rect(1px, 1px, 1px, 1px);\n",
       "  height: 1px;\n",
       "  margin: -1px;\n",
       "  overflow: hidden;\n",
       "  padding: 0;\n",
       "  position: absolute;\n",
       "  width: 1px;\n",
       "}\n",
       "\n",
       "#sk-container-id-1 div.sk-dashed-wrapped {\n",
       "  border: 1px dashed var(--sklearn-color-line);\n",
       "  margin: 0 0.4em 0.5em 0.4em;\n",
       "  box-sizing: border-box;\n",
       "  padding-bottom: 0.4em;\n",
       "  background-color: var(--sklearn-color-background);\n",
       "}\n",
       "\n",
       "#sk-container-id-1 div.sk-container {\n",
       "  /* jupyter's `normalize.less` sets `[hidden] { display: none; }`\n",
       "     but bootstrap.min.css set `[hidden] { display: none !important; }`\n",
       "     so we also need the `!important` here to be able to override the\n",
       "     default hidden behavior on the sphinx rendered scikit-learn.org.\n",
       "     See: https://github.com/scikit-learn/scikit-learn/issues/21755 */\n",
       "  display: inline-block !important;\n",
       "  position: relative;\n",
       "}\n",
       "\n",
       "#sk-container-id-1 div.sk-text-repr-fallback {\n",
       "  display: none;\n",
       "}\n",
       "\n",
       "div.sk-parallel-item,\n",
       "div.sk-serial,\n",
       "div.sk-item {\n",
       "  /* draw centered vertical line to link estimators */\n",
       "  background-image: linear-gradient(var(--sklearn-color-text-on-default-background), var(--sklearn-color-text-on-default-background));\n",
       "  background-size: 2px 100%;\n",
       "  background-repeat: no-repeat;\n",
       "  background-position: center center;\n",
       "}\n",
       "\n",
       "/* Parallel-specific style estimator block */\n",
       "\n",
       "#sk-container-id-1 div.sk-parallel-item::after {\n",
       "  content: \"\";\n",
       "  width: 100%;\n",
       "  border-bottom: 2px solid var(--sklearn-color-text-on-default-background);\n",
       "  flex-grow: 1;\n",
       "}\n",
       "\n",
       "#sk-container-id-1 div.sk-parallel {\n",
       "  display: flex;\n",
       "  align-items: stretch;\n",
       "  justify-content: center;\n",
       "  background-color: var(--sklearn-color-background);\n",
       "  position: relative;\n",
       "}\n",
       "\n",
       "#sk-container-id-1 div.sk-parallel-item {\n",
       "  display: flex;\n",
       "  flex-direction: column;\n",
       "}\n",
       "\n",
       "#sk-container-id-1 div.sk-parallel-item:first-child::after {\n",
       "  align-self: flex-end;\n",
       "  width: 50%;\n",
       "}\n",
       "\n",
       "#sk-container-id-1 div.sk-parallel-item:last-child::after {\n",
       "  align-self: flex-start;\n",
       "  width: 50%;\n",
       "}\n",
       "\n",
       "#sk-container-id-1 div.sk-parallel-item:only-child::after {\n",
       "  width: 0;\n",
       "}\n",
       "\n",
       "/* Serial-specific style estimator block */\n",
       "\n",
       "#sk-container-id-1 div.sk-serial {\n",
       "  display: flex;\n",
       "  flex-direction: column;\n",
       "  align-items: center;\n",
       "  background-color: var(--sklearn-color-background);\n",
       "  padding-right: 1em;\n",
       "  padding-left: 1em;\n",
       "}\n",
       "\n",
       "\n",
       "/* Toggleable style: style used for estimator/Pipeline/ColumnTransformer box that is\n",
       "clickable and can be expanded/collapsed.\n",
       "- Pipeline and ColumnTransformer use this feature and define the default style\n",
       "- Estimators will overwrite some part of the style using the `sk-estimator` class\n",
       "*/\n",
       "\n",
       "/* Pipeline and ColumnTransformer style (default) */\n",
       "\n",
       "#sk-container-id-1 div.sk-toggleable {\n",
       "  /* Default theme specific background. It is overwritten whether we have a\n",
       "  specific estimator or a Pipeline/ColumnTransformer */\n",
       "  background-color: var(--sklearn-color-background);\n",
       "}\n",
       "\n",
       "/* Toggleable label */\n",
       "#sk-container-id-1 label.sk-toggleable__label {\n",
       "  cursor: pointer;\n",
       "  display: flex;\n",
       "  width: 100%;\n",
       "  margin-bottom: 0;\n",
       "  padding: 0.5em;\n",
       "  box-sizing: border-box;\n",
       "  text-align: center;\n",
       "  align-items: start;\n",
       "  justify-content: space-between;\n",
       "  gap: 0.5em;\n",
       "}\n",
       "\n",
       "#sk-container-id-1 label.sk-toggleable__label .caption {\n",
       "  font-size: 0.6rem;\n",
       "  font-weight: lighter;\n",
       "  color: var(--sklearn-color-text-muted);\n",
       "}\n",
       "\n",
       "#sk-container-id-1 label.sk-toggleable__label-arrow:before {\n",
       "  /* Arrow on the left of the label */\n",
       "  content: \"▸\";\n",
       "  float: left;\n",
       "  margin-right: 0.25em;\n",
       "  color: var(--sklearn-color-icon);\n",
       "}\n",
       "\n",
       "#sk-container-id-1 label.sk-toggleable__label-arrow:hover:before {\n",
       "  color: var(--sklearn-color-text);\n",
       "}\n",
       "\n",
       "/* Toggleable content - dropdown */\n",
       "\n",
       "#sk-container-id-1 div.sk-toggleable__content {\n",
       "  max-height: 0;\n",
       "  max-width: 0;\n",
       "  overflow: hidden;\n",
       "  text-align: left;\n",
       "  /* unfitted */\n",
       "  background-color: var(--sklearn-color-unfitted-level-0);\n",
       "}\n",
       "\n",
       "#sk-container-id-1 div.sk-toggleable__content.fitted {\n",
       "  /* fitted */\n",
       "  background-color: var(--sklearn-color-fitted-level-0);\n",
       "}\n",
       "\n",
       "#sk-container-id-1 div.sk-toggleable__content pre {\n",
       "  margin: 0.2em;\n",
       "  border-radius: 0.25em;\n",
       "  color: var(--sklearn-color-text);\n",
       "  /* unfitted */\n",
       "  background-color: var(--sklearn-color-unfitted-level-0);\n",
       "}\n",
       "\n",
       "#sk-container-id-1 div.sk-toggleable__content.fitted pre {\n",
       "  /* unfitted */\n",
       "  background-color: var(--sklearn-color-fitted-level-0);\n",
       "}\n",
       "\n",
       "#sk-container-id-1 input.sk-toggleable__control:checked~div.sk-toggleable__content {\n",
       "  /* Expand drop-down */\n",
       "  max-height: 200px;\n",
       "  max-width: 100%;\n",
       "  overflow: auto;\n",
       "}\n",
       "\n",
       "#sk-container-id-1 input.sk-toggleable__control:checked~label.sk-toggleable__label-arrow:before {\n",
       "  content: \"▾\";\n",
       "}\n",
       "\n",
       "/* Pipeline/ColumnTransformer-specific style */\n",
       "\n",
       "#sk-container-id-1 div.sk-label input.sk-toggleable__control:checked~label.sk-toggleable__label {\n",
       "  color: var(--sklearn-color-text);\n",
       "  background-color: var(--sklearn-color-unfitted-level-2);\n",
       "}\n",
       "\n",
       "#sk-container-id-1 div.sk-label.fitted input.sk-toggleable__control:checked~label.sk-toggleable__label {\n",
       "  background-color: var(--sklearn-color-fitted-level-2);\n",
       "}\n",
       "\n",
       "/* Estimator-specific style */\n",
       "\n",
       "/* Colorize estimator box */\n",
       "#sk-container-id-1 div.sk-estimator input.sk-toggleable__control:checked~label.sk-toggleable__label {\n",
       "  /* unfitted */\n",
       "  background-color: var(--sklearn-color-unfitted-level-2);\n",
       "}\n",
       "\n",
       "#sk-container-id-1 div.sk-estimator.fitted input.sk-toggleable__control:checked~label.sk-toggleable__label {\n",
       "  /* fitted */\n",
       "  background-color: var(--sklearn-color-fitted-level-2);\n",
       "}\n",
       "\n",
       "#sk-container-id-1 div.sk-label label.sk-toggleable__label,\n",
       "#sk-container-id-1 div.sk-label label {\n",
       "  /* The background is the default theme color */\n",
       "  color: var(--sklearn-color-text-on-default-background);\n",
       "}\n",
       "\n",
       "/* On hover, darken the color of the background */\n",
       "#sk-container-id-1 div.sk-label:hover label.sk-toggleable__label {\n",
       "  color: var(--sklearn-color-text);\n",
       "  background-color: var(--sklearn-color-unfitted-level-2);\n",
       "}\n",
       "\n",
       "/* Label box, darken color on hover, fitted */\n",
       "#sk-container-id-1 div.sk-label.fitted:hover label.sk-toggleable__label.fitted {\n",
       "  color: var(--sklearn-color-text);\n",
       "  background-color: var(--sklearn-color-fitted-level-2);\n",
       "}\n",
       "\n",
       "/* Estimator label */\n",
       "\n",
       "#sk-container-id-1 div.sk-label label {\n",
       "  font-family: monospace;\n",
       "  font-weight: bold;\n",
       "  display: inline-block;\n",
       "  line-height: 1.2em;\n",
       "}\n",
       "\n",
       "#sk-container-id-1 div.sk-label-container {\n",
       "  text-align: center;\n",
       "}\n",
       "\n",
       "/* Estimator-specific */\n",
       "#sk-container-id-1 div.sk-estimator {\n",
       "  font-family: monospace;\n",
       "  border: 1px dotted var(--sklearn-color-border-box);\n",
       "  border-radius: 0.25em;\n",
       "  box-sizing: border-box;\n",
       "  margin-bottom: 0.5em;\n",
       "  /* unfitted */\n",
       "  background-color: var(--sklearn-color-unfitted-level-0);\n",
       "}\n",
       "\n",
       "#sk-container-id-1 div.sk-estimator.fitted {\n",
       "  /* fitted */\n",
       "  background-color: var(--sklearn-color-fitted-level-0);\n",
       "}\n",
       "\n",
       "/* on hover */\n",
       "#sk-container-id-1 div.sk-estimator:hover {\n",
       "  /* unfitted */\n",
       "  background-color: var(--sklearn-color-unfitted-level-2);\n",
       "}\n",
       "\n",
       "#sk-container-id-1 div.sk-estimator.fitted:hover {\n",
       "  /* fitted */\n",
       "  background-color: var(--sklearn-color-fitted-level-2);\n",
       "}\n",
       "\n",
       "/* Specification for estimator info (e.g. \"i\" and \"?\") */\n",
       "\n",
       "/* Common style for \"i\" and \"?\" */\n",
       "\n",
       ".sk-estimator-doc-link,\n",
       "a:link.sk-estimator-doc-link,\n",
       "a:visited.sk-estimator-doc-link {\n",
       "  float: right;\n",
       "  font-size: smaller;\n",
       "  line-height: 1em;\n",
       "  font-family: monospace;\n",
       "  background-color: var(--sklearn-color-background);\n",
       "  border-radius: 1em;\n",
       "  height: 1em;\n",
       "  width: 1em;\n",
       "  text-decoration: none !important;\n",
       "  margin-left: 0.5em;\n",
       "  text-align: center;\n",
       "  /* unfitted */\n",
       "  border: var(--sklearn-color-unfitted-level-1) 1pt solid;\n",
       "  color: var(--sklearn-color-unfitted-level-1);\n",
       "}\n",
       "\n",
       ".sk-estimator-doc-link.fitted,\n",
       "a:link.sk-estimator-doc-link.fitted,\n",
       "a:visited.sk-estimator-doc-link.fitted {\n",
       "  /* fitted */\n",
       "  border: var(--sklearn-color-fitted-level-1) 1pt solid;\n",
       "  color: var(--sklearn-color-fitted-level-1);\n",
       "}\n",
       "\n",
       "/* On hover */\n",
       "div.sk-estimator:hover .sk-estimator-doc-link:hover,\n",
       ".sk-estimator-doc-link:hover,\n",
       "div.sk-label-container:hover .sk-estimator-doc-link:hover,\n",
       ".sk-estimator-doc-link:hover {\n",
       "  /* unfitted */\n",
       "  background-color: var(--sklearn-color-unfitted-level-3);\n",
       "  color: var(--sklearn-color-background);\n",
       "  text-decoration: none;\n",
       "}\n",
       "\n",
       "div.sk-estimator.fitted:hover .sk-estimator-doc-link.fitted:hover,\n",
       ".sk-estimator-doc-link.fitted:hover,\n",
       "div.sk-label-container:hover .sk-estimator-doc-link.fitted:hover,\n",
       ".sk-estimator-doc-link.fitted:hover {\n",
       "  /* fitted */\n",
       "  background-color: var(--sklearn-color-fitted-level-3);\n",
       "  color: var(--sklearn-color-background);\n",
       "  text-decoration: none;\n",
       "}\n",
       "\n",
       "/* Span, style for the box shown on hovering the info icon */\n",
       ".sk-estimator-doc-link span {\n",
       "  display: none;\n",
       "  z-index: 9999;\n",
       "  position: relative;\n",
       "  font-weight: normal;\n",
       "  right: .2ex;\n",
       "  padding: .5ex;\n",
       "  margin: .5ex;\n",
       "  width: min-content;\n",
       "  min-width: 20ex;\n",
       "  max-width: 50ex;\n",
       "  color: var(--sklearn-color-text);\n",
       "  box-shadow: 2pt 2pt 4pt #999;\n",
       "  /* unfitted */\n",
       "  background: var(--sklearn-color-unfitted-level-0);\n",
       "  border: .5pt solid var(--sklearn-color-unfitted-level-3);\n",
       "}\n",
       "\n",
       ".sk-estimator-doc-link.fitted span {\n",
       "  /* fitted */\n",
       "  background: var(--sklearn-color-fitted-level-0);\n",
       "  border: var(--sklearn-color-fitted-level-3);\n",
       "}\n",
       "\n",
       ".sk-estimator-doc-link:hover span {\n",
       "  display: block;\n",
       "}\n",
       "\n",
       "/* \"?\"-specific style due to the `<a>` HTML tag */\n",
       "\n",
       "#sk-container-id-1 a.estimator_doc_link {\n",
       "  float: right;\n",
       "  font-size: 1rem;\n",
       "  line-height: 1em;\n",
       "  font-family: monospace;\n",
       "  background-color: var(--sklearn-color-background);\n",
       "  border-radius: 1rem;\n",
       "  height: 1rem;\n",
       "  width: 1rem;\n",
       "  text-decoration: none;\n",
       "  /* unfitted */\n",
       "  color: var(--sklearn-color-unfitted-level-1);\n",
       "  border: var(--sklearn-color-unfitted-level-1) 1pt solid;\n",
       "}\n",
       "\n",
       "#sk-container-id-1 a.estimator_doc_link.fitted {\n",
       "  /* fitted */\n",
       "  border: var(--sklearn-color-fitted-level-1) 1pt solid;\n",
       "  color: var(--sklearn-color-fitted-level-1);\n",
       "}\n",
       "\n",
       "/* On hover */\n",
       "#sk-container-id-1 a.estimator_doc_link:hover {\n",
       "  /* unfitted */\n",
       "  background-color: var(--sklearn-color-unfitted-level-3);\n",
       "  color: var(--sklearn-color-background);\n",
       "  text-decoration: none;\n",
       "}\n",
       "\n",
       "#sk-container-id-1 a.estimator_doc_link.fitted:hover {\n",
       "  /* fitted */\n",
       "  background-color: var(--sklearn-color-fitted-level-3);\n",
       "}\n",
       "</style><div id=\"sk-container-id-1\" class=\"sk-top-container\"><div class=\"sk-text-repr-fallback\"><pre>LinearRegression()</pre><b>In a Jupyter environment, please rerun this cell to show the HTML representation or trust the notebook. <br />On GitHub, the HTML representation is unable to render, please try loading this page with nbviewer.org.</b></div><div class=\"sk-container\" hidden><div class=\"sk-item\"><div class=\"sk-estimator  sk-toggleable\"><input class=\"sk-toggleable__control sk-hidden--visually\" id=\"sk-estimator-id-1\" type=\"checkbox\" checked><label for=\"sk-estimator-id-1\" class=\"sk-toggleable__label  sk-toggleable__label-arrow\"><div><div>LinearRegression</div></div><div><a class=\"sk-estimator-doc-link \" rel=\"noreferrer\" target=\"_blank\" href=\"https://scikit-learn.org/1.6/modules/generated/sklearn.linear_model.LinearRegression.html\">?<span>Documentation for LinearRegression</span></a><span class=\"sk-estimator-doc-link \">i<span>Not fitted</span></span></div></label><div class=\"sk-toggleable__content \"><pre>LinearRegression()</pre></div> </div></div></div></div>"
      ],
      "text/plain": [
       "LinearRegression()"
      ]
     },
     "execution_count": 129,
     "metadata": {},
     "output_type": "execute_result"
    }
   ],
   "source": [
    "#As we have fairly identified variables that are likely to be predictors of car prices, let's begin by performing simple linear regression of the variables with the price \n",
    "from sklearn.linear_model import LinearRegression\n",
    "lm = LinearRegression()\n",
    "lm"
   ]
  },
  {
   "cell_type": "code",
   "execution_count": 137,
   "id": "978c1d4b-a574-40d4-9185-c7291edf20ad",
   "metadata": {},
   "outputs": [
    {
     "name": "stdout",
     "output_type": "stream",
     "text": [
      "1\n",
      "[10785.36680388 11855.51707482 14263.35518445 14263.35518445\n",
      " 14575.48234681 21442.27991871]\n",
      "-64481.86891930549\n",
      "[445.89594623]\n"
     ]
    }
   ],
   "source": [
    "X = Cars[[\"length\"]] #turns out we need double bracket outside of the feature to bring it under lm function\n",
    "Y = Cars[\"price\"]\n",
    "lm.fit(X,Y) #training the model\n",
    "Yhat = lm.predict(X)\n",
    "print(Yhat.ndim) #Its a single dimension numpy array with one dim  \n",
    "print(Yhat[0:6]) #In a one-dim array you may not need to to do [0, 0:6] to get 5 consecutive values as would be required for multiple dimensional matrix. \n",
    "                 #So, it returns five predicted value of car price amid consecutive value of car length \n",
    "print(lm.intercept_)\n",
    "print(lm.coef_)"
   ]
  },
  {
   "cell_type": "code",
   "execution_count": 141,
   "id": "44d698ca-c059-43c5-92f0-597ea31c1bc6",
   "metadata": {},
   "outputs": [
    {
     "name": "stdout",
     "output_type": "stream",
     "text": [
      "-174736.03633057085\n",
      "[2852.00956525]\n"
     ]
    }
   ],
   "source": [
    "X = Cars[[\"width\"]]\n",
    "lm.fit(X,Y)\n",
    "print(lm.intercept_)\n",
    "print(lm.coef_)"
   ]
  },
  {
   "cell_type": "code",
   "execution_count": 142,
   "id": "6000becd-f367-464a-a92e-202ea675e6e6",
   "metadata": {},
   "outputs": [
    {
     "name": "stdout",
     "output_type": "stream",
     "text": [
      "-19555.643457210303\n",
      "[12.8189026]\n"
     ]
    }
   ],
   "source": [
    "X = Cars[[\"curb-weight\"]]\n",
    "lm.fit(X,Y)\n",
    "print(lm.intercept_)\n",
    "print(lm.coef_)"
   ]
  },
  {
   "cell_type": "code",
   "execution_count": 143,
   "id": "75b5c5b1-5bf1-44bc-8730-e7e4808d94f9",
   "metadata": {},
   "outputs": [
    {
     "name": "stdout",
     "output_type": "stream",
     "text": [
      "-7962.440979163099\n",
      "[166.8621392]\n"
     ]
    }
   ],
   "source": [
    "X = Cars[[\"engine-size\"]]\n",
    "lm.fit(X,Y)\n",
    "print(lm.intercept_)\n",
    "print(lm.coef_)"
   ]
  },
  {
   "cell_type": "code",
   "execution_count": 144,
   "id": "81201349-157d-4a9a-9d01-2fd2ac4e82cd",
   "metadata": {},
   "outputs": [
    {
     "name": "stdout",
     "output_type": "stream",
     "text": [
      "34653.8421399077\n",
      "[-2002.15748861]\n"
     ]
    }
   ],
   "source": [
    "X=Cars[[\"city-kpl\"]]\n",
    "lm.fit(X,Y)\n",
    "print(lm.intercept_)\n",
    "print(lm.coef_)"
   ]
  },
  {
   "cell_type": "code",
   "execution_count": 145,
   "id": "d25fce33-8499-4a74-9ba4-16918fc4b6c2",
   "metadata": {},
   "outputs": [
    {
     "name": "stdout",
     "output_type": "stream",
     "text": [
      "38470.637005496676\n",
      "[-1935.6114609]\n"
     ]
    }
   ],
   "source": [
    "X=Cars[[\"highway-kpl\"]]\n",
    "lm.fit(X,Y)\n",
    "print(lm.intercept_)\n",
    "print(lm.coef_)"
   ]
  },
  {
   "cell_type": "markdown",
   "id": "a2dba44f-babb-472c-ba70-a2ea0e380fdd",
   "metadata": {},
   "source": [
    "#### Multiple Linear Regression Model"
   ]
  },
  {
   "cell_type": "markdown",
   "id": "f2428403-91f1-4f21-8aae-139160395b66",
   "metadata": {},
   "source": [
    "Checking for multicollinearity through visual inspection"
   ]
  },
  {
   "cell_type": "code",
   "execution_count": 150,
   "id": "d346a245-c4e5-4a75-bb5d-b0769cd51b84",
   "metadata": {},
   "outputs": [
    {
     "name": "stdout",
     "output_type": "stream",
     "text": [
      "-39367.56626004109\n",
      "[ 530.43968804    2.33683764  110.80665419 -782.63160851  457.61418949]\n"
     ]
    }
   ],
   "source": [
    "Z = Cars[[\"width\", \"curb-weight\", \"engine-size\", \"city-kpl\", \"highway-kpl\"]]\n",
    "Y = Cars[\"price\"]\n",
    "Yhat = lm.fit(Z,Y)\n",
    "print(lm.intercept_)\n",
    "print(lm.coef_)"
   ]
  },
  {
   "cell_type": "markdown",
   "id": "a9ef8224-2988-4676-be8f-975ce2acd09a",
   "metadata": {},
   "source": [
    "i.e., Z = 530.44x1 + 2.337x2 + 110.807x3 - 782.632x4 + 457.614x5-39367.57 - 39367.567"
   ]
  },
  {
   "cell_type": "markdown",
   "id": "b5fb90ee-e755-4461-bf64-137d6947c8ec",
   "metadata": {},
   "source": [
    "Cars[[\"width\", \"curb-weight\", \"engine-size\", \"city-kpl\", \"highway-kpl\"]]"
   ]
  },
  {
   "cell_type": "markdown",
   "id": "4d15c874-c80b-4d29-be16-e08d93eef1e6",
   "metadata": {},
   "source": [
    "#### Polynomial Regression Model - Simple Linear Regression Model"
   ]
  },
  {
   "cell_type": "markdown",
   "id": "2a49d691-5d65-4a03-b6e8-3b571b12be11",
   "metadata": {},
   "source": [
    "Polynomial regressions are a way to be the linear regression lines to make it fit across the scatter plot. Honestly, its like cheating in a tic-tac-toe game. \n",
    "Hence, it is important to use right discretion to leverage polynomial regression line to get a better fit, and use it to right advantage. It is important to be able to\n",
    "explain the curvilinearity pattern of the regression line when deploying polynomial equation in terms of bell curve pattern, elasticity etc, and leave enough room for noise.\n",
    "But simply adding higher degree of  polynomials to bend the regression line all over the place to capture the scatter plots can only cause overfitting and lack of pattern"
   ]
  },
  {
   "cell_type": "code",
   "execution_count": 159,
   "id": "e6b3b0ef-e59c-402d-98cc-6602825505d3",
   "metadata": {},
   "outputs": [
    {
     "data": {
      "text/plain": [
       "<Axes: xlabel='highway-kpl', ylabel='price'>"
      ]
     },
     "execution_count": 159,
     "metadata": {},
     "output_type": "execute_result"
    },
    {
     "data": {
      "image/png": "[encoded data removed]",
      "text/plain": [
       "<Figure size 640x480 with 1 Axes>"
      ]
     },
     "metadata": {},
     "output_type": "display_data"
    }
   ],
   "source": [
    "import seaborn as sns\n",
    "sns.regplot(x=Cars[\"highway-kpl\"], y=Cars[\"price\"])\n",
    "#Let's try to fit the line through the scatterplots more appropriately through the use of polynomials"
   ]
  },
  {
   "cell_type": "code",
   "execution_count": 160,
   "id": "fd67b1c7-a99c-4145-8901-fdbda69513f4",
   "metadata": {},
   "outputs": [
    {
     "data": {
      "text/plain": [
       "count    200.000000\n",
       "mean      13.052696\n",
       "std        2.902254\n",
       "min        6.801600\n",
       "25%       10.627500\n",
       "50%       12.753000\n",
       "75%       14.453400\n",
       "max       22.955400\n",
       "Name: highway-kpl, dtype: float64"
      ]
     },
     "execution_count": 160,
     "metadata": {},
     "output_type": "execute_result"
    }
   ],
   "source": [
    "Cars[\"highway-kpl\"].describe()"
   ]
  },
  {
   "cell_type": "code",
   "execution_count": 161,
   "id": "1092a201-219a-45d1-8c5e-cb6380203c27",
   "metadata": {},
   "outputs": [
    {
     "name": "stdout",
     "output_type": "stream",
     "text": [
      "       3        2\n",
      "-20.2 x + 1130 x - 2.105e+04 x + 1.378e+05\n"
     ]
    }
   ],
   "source": [
    "#At first, we need to develop a polynomial model between the given variables \n",
    "import numpy as np\n",
    "x = Cars[\"highway-kpl\"]\n",
    "y = Cars[\"price\"]\n",
    "\n",
    "f = np.polyfit(x, y, 3) #creating a model with the degree value of 3 (upto x-cubed)\n",
    "p = np.poly1d(f)\n",
    "print(p) #so this is the nonlinear equation or (model) that we have to fit in the earlier developed visualization function"
   ]
  },
  {
   "cell_type": "code",
   "execution_count": 162,
   "id": "761f6d02-a4e7-40bd-baae-2deb93879991",
   "metadata": {},
   "outputs": [
    {
     "data": {
      "image/png": "[encoded data removed]",
      "text/plain": [
       "<Figure size 640x480 with 1 Axes>"
      ]
     },
     "metadata": {},
     "output_type": "display_data"
    }
   ],
   "source": [
    "#It appears we need to create a function especially for visual plotting to impose our variables\n",
    "import matplotlib.pyplot as plt\n",
    "def Plotpoly(model, independent_variable, dependent_variable):\n",
    "    x_new = np.linspace(6, 23, 200) #creating 200 quartiles between min and max value of highway-kpl obtained from .describe() function\n",
    "    y_new = model(x_new)\n",
    "\n",
    "    plt.plot(independent_variable, dependent_variable, '.', x_new, y_new, '-')\n",
    "    plt.title(\"Polynomial fit for Highway-KPL and Price\")\n",
    "    plt.xlabel(\"highway-kpl\")\n",
    "    plt.ylabel(\"price of the car\")\n",
    "\n",
    "    plt.show()\n",
    "Plotpoly(p, x, y)\n",
    "#There appears to be a L-shaped patern demonstrating different elasticity or slope degrees throughout the relationship"
   ]
  },
  {
   "cell_type": "markdown",
   "id": "13826cf3-f903-4a8f-9472-d6ce2fd38977",
   "metadata": {},
   "source": [
    "#### Polynomial Regression Model - Multiple Linear Regression Model"
   ]
  },
  {
   "cell_type": "code",
   "execution_count": 164,
   "id": "3a46d46a-3c9c-4aa3-8103-48b122abc6dc",
   "metadata": {},
   "outputs": [
    {
     "data": {
      "text/plain": [
       "(200, 5)"
      ]
     },
     "execution_count": 164,
     "metadata": {},
     "output_type": "execute_result"
    }
   ],
   "source": [
    "#We could try turning our original MLRM into PLRM too. That involves traonsforming our variable into more number of terms suitable for n degree of polynomial. \n",
    "#This beyond the scope of numpy\n",
    "Z.shape #Originally we had 5 variables or determinnants to determine the price "
   ]
  },
  {
   "cell_type": "code",
   "execution_count": 165,
   "id": "88e16af7-deff-4e44-9fb7-ff60b45010c0",
   "metadata": {},
   "outputs": [
    {
     "name": "stdout",
     "output_type": "stream",
     "text": [
      "The first six predictions based on the fitted model is [14556.03179879 20888.40054937  9821.52254915 14596.58143811\n",
      " 14951.34654305 17207.90864895]\n",
      "The intercept is 13205.689999999568\n",
      "The coefficients are[      0.          -30881.98148982  -14145.84207229  -68352.69869822\n",
      " -426439.42871239  370416.36433057   26072.79743124   16146.96218985\n",
      "   74366.5931424   435945.04578711 -387260.05709151   -7853.22090726\n",
      "   11026.0006609   -15924.49472047   16790.25212769   -7384.5480438\n",
      "  -24744.38175321   23706.56848613   72712.02299131 -120464.17979249\n",
      "   56827.30261494]\n"
     ]
    }
   ],
   "source": [
    "#We need to create a sequential input that can allow model training and prediction that can create the new PLRM\n",
    "Z = Cars[[\"width\", \"curb-weight\", \"engine-size\", \"city-kpl\", \"highway-kpl\"]]\n",
    "Y = Cars[\"price\"]\n",
    "\n",
    "from sklearn.preprocessing import StandardScaler, PolynomialFeatures\n",
    "from sklearn.linear_model import LinearRegression\n",
    "\n",
    "pr = PolynomialFeatures(degree=2) \n",
    "Z_pr = pr.fit_transform(Z) #this is transforming the data into polynomials. Using the z_pr.shape function we can know that the features have been transformed into 21 different types \n",
    "    \n",
    "scaler = StandardScaler() \n",
    "Z_pr_scaled = scaler.fit_transform(Z_pr) #this is normalizing the data to a standard scale using mean/standard deviation method (x-mean)/standard deviation\n",
    "    \n",
    "lm = LinearRegression()\n",
    "lm.fit(Z_pr_scaled, Y) #this is fitting/training the data in the model to perform further predictions \n",
    "\n",
    "print(f\"The first six predictions based on the fitted model is {lm.predict(Z_pr_scaled)[0:6]}\")\n",
    "print(f\"The intercept is {lm.intercept_}\")\n",
    "print(f\"The coefficients are{ lm.coef_}\")"
   ]
  },
  {
   "cell_type": "markdown",
   "id": "3f81a224-2df0-461d-a97a-410756836a3e",
   "metadata": {},
   "source": [
    "### Model Evaluation using Visual inspection\n",
    "#### Simple Linear Model"
   ]
  },
  {
   "cell_type": "code",
   "execution_count": 168,
   "id": "a0ed7728-28fa-448c-b69f-c7f829bb19c9",
   "metadata": {},
   "outputs": [
    {
     "data": {
      "text/plain": [
       "<Axes: xlabel='engine-size', ylabel='price'>"
      ]
     },
     "execution_count": 168,
     "metadata": {},
     "output_type": "execute_result"
    },
    {
     "data": {
      "image/png": "[encoded data removed]",
      "text/plain": [
       "<Figure size 640x480 with 1 Axes>"
      ]
     },
     "metadata": {},
     "output_type": "display_data"
    }
   ],
   "source": [
    "#Lets visualize the SLR between engine size and price in a regression plot. Remeber that this method of charting regression does not train model for future predictions. \n",
    "#Only sklearn modules are built for model training as far as we have come now\n",
    "sns.regplot(x=Cars[\"engine-size\"], y=Cars[\"price\"])\n",
    "#As we can see, the slope is quite steep and the scatterplot is well within the range, So the model is atl"
   ]
  },
  {
   "cell_type": "code",
   "execution_count": 169,
   "id": "2adcad72-fc41-423c-8219-4fd473128e64",
   "metadata": {},
   "outputs": [
    {
     "data": {
      "text/plain": [
       "<Axes: xlabel='engine-size', ylabel='price'>"
      ]
     },
     "execution_count": 169,
     "metadata": {},
     "output_type": "execute_result"
    },
    {
     "data": {
      "image/png": "[encoded data removed]",
      "text/plain": [
       "<Figure size 640x480 with 1 Axes>"
      ]
     },
     "metadata": {},
     "output_type": "display_data"
    }
   ],
   "source": [
    "#Lets check the residual plot of the model for further visual screening\n",
    "sns.residplot(x = Cars[\"engine-size\"], y=Cars[\"price\"])\n",
    "#A bit of a bursting out trend is observable amongst the residue values. That is not a very good sign of the model fit, but lets keep moving on for now"
   ]
  },
  {
   "cell_type": "markdown",
   "id": "0a61dbdd-28ee-4888-a399-d05c24317320",
   "metadata": {},
   "source": [
    "### Model Evaluation using Visual inspection\n",
    "#### Multiple Linear Regression Model"
   ]
  },
  {
   "cell_type": "code",
   "execution_count": 172,
   "id": "a7ec178f-8b67-41a6-8aeb-c6b4f9071bcf",
   "metadata": {},
   "outputs": [
    {
     "data": {
      "image/png": "[encoded data removed]",
      "text/plain": [
       "<Figure size 640x480 with 1 Axes>"
      ]
     },
     "metadata": {},
     "output_type": "display_data"
    }
   ],
   "source": [
    "#It is told that it is not possible to check MLRM using regression and residual plot. Hence, it can be only screened through distribution plot\n",
    "Y = Cars[[\"price\"]]\n",
    "Z = Cars[[\"width\", \"curb-weight\", \"engine-size\", \"city-kpl\", \"highway-kpl\"]]\n",
    "\n",
    "import seaborn as sns\n",
    "import matplotlib.pyplot as plt\n",
    "\n",
    "Zhat = lm.fit(Z, Y)\n",
    "Zhat = lm.predict(Z)\n",
    "sns.kdeplot(x=Y[\"price\"], color='red', label=\"Actual Price\")\n",
    "sns.kdeplot(x=Zhat[:, 0], color='blue', label = \"Predicted Price\")\n",
    "\n",
    "plt.title(\"Actual price values versus fitted price values\")\n",
    "plt.xlabel(\"Price(in dollars)\")\n",
    "plt.ylabel(\"Proortion of cars\")\n",
    "plt.legend()\n",
    "plt.show()\n",
    "#Except for few over and under expectations here and there, the distribution seem to overlap well"
   ]
  },
  {
   "cell_type": "markdown",
   "id": "e0f618cb-8601-4680-8d11-115c5582feaf",
   "metadata": {},
   "source": [
    "### Model Evaluation using in-sample evaluation\n",
    "#### Simple Linear Regression Model"
   ]
  },
  {
   "cell_type": "code",
   "execution_count": 174,
   "id": "0f265829-1b82-4d2e-976d-79ab0afa6b5a",
   "metadata": {},
   "outputs": [
    {
     "name": "stdout",
     "output_type": "stream",
     "text": [
      "31755395.41081296\n",
      "0.49718675257265266\n"
     ]
    }
   ],
   "source": [
    "#Calculating Mean-squared Error to begin with\n",
    "X=Cars[[\"highway-kpl\"]]\n",
    "Y = Cars[\"price\"]\n",
    "\n",
    "from sklearn.linear_model import LinearRegression\n",
    "from sklearn.metrics import mean_squared_error\n",
    "\n",
    "lm = LinearRegression()\n",
    "lm.fit(X,Y)\n",
    "Yhat = lm.predict(X)\n",
    "mse_SLRM = mean_squared_error(Y, Yhat)\n",
    "R_squared_SLRM = lm.score(X, Y) #it is strange that they input X and Y value here instead of estimated and actual value\n",
    "print(mse_SLRM)\n",
    "print(R_squared_SLRM) #49 percent predictability or better than normal mean in terms of predictability is not very good i guess"
   ]
  },
  {
   "cell_type": "markdown",
   "id": "942f40a9-b603-41af-ae95-07fddbdfe864",
   "metadata": {},
   "source": [
    "#### Multiple Linear Regression Model"
   ]
  },
  {
   "cell_type": "code",
   "execution_count": 179,
   "id": "cfe6ad4a-3d76-46fb-a43b-6a992b250937",
   "metadata": {},
   "outputs": [
    {
     "name": "stdout",
     "output_type": "stream",
     "text": [
      "12334142.971000047\n",
      "0.8047018340899017\n"
     ]
    }
   ],
   "source": [
    "Z = Cars[[\"width\", \"curb-weight\", \"engine-size\", \"city-kpl\", \"highway-kpl\"]]\n",
    "Y = Cars[\"price\"]\n",
    "\n",
    "from sklearn.linear_model import LinearRegression\n",
    "from sklearn.metrics import mean_squared_error\n",
    "\n",
    "lm = LinearRegression()\n",
    "lm.fit(Z, Y)\n",
    "Yhat = lm.predict(Z)\n",
    "mse_MLRM = mean_squared_error(Y, Yhat)\n",
    "R_squared_MLRM = lm.score(Z, Y)\n",
    "print(mse_MLRM)\n",
    "print(R_squared_MLRM) #The R_squared score has improved signficiantly with MLRM"
   ]
  },
  {
   "cell_type": "markdown",
   "id": "dab08f2c-cb89-466f-a05e-1e486c644226",
   "metadata": {},
   "source": [
    "#### Polynomial regression model of the SLRM"
   ]
  },
  {
   "cell_type": "code",
   "execution_count": 183,
   "id": "c03e4e2f-6516-4146-a4fb-4ef41ee6a3fc",
   "metadata": {},
   "outputs": [
    {
     "name": "stdout",
     "output_type": "stream",
     "text": [
      "21973447.80485354\n",
      "0.6520735923769474\n"
     ]
    }
   ],
   "source": [
    "X = Cars[[\"highway-kpl\"]]\n",
    "Y = Cars[\"price\"]\n",
    "\n",
    "#we repeat the whole model fitting process because it was done differently previously in a way that didn't output polynomially transformed data \n",
    "from sklearn.preprocessing import StandardScaler, PolynomialFeatures\n",
    "from sklearn.linear_model import LinearRegression\n",
    "from sklearn.metrics import mean_squared_error\n",
    "\n",
    "pr = PolynomialFeatures(degree=2) \n",
    "X_pr = pr.fit_transform(X)\n",
    "\n",
    "scaler = StandardScaler() \n",
    "X_pr_scaled = scaler.fit_transform(X_pr)\n",
    "\n",
    "lm= LinearRegression()\n",
    "lm.fit(X_pr_scaled, Y)\n",
    "model = lm.predict(X_pr_scaled)\n",
    "mse_PRM_SLRM = mean_squared_error(Y, model)\n",
    "R_squared_PRM_SLRM = lm.score(X_pr_scaled, Y)\n",
    "print(mse_PRM_SLRM)\n",
    "print(R_squared_PRM_SLRM)"
   ]
  },
  {
   "cell_type": "markdown",
   "id": "20a8b9de-0a73-4866-8f0f-e6313aefc98a",
   "metadata": {},
   "source": [
    "#### Polynomial Regression Model of the MLRM"
   ]
  },
  {
   "cell_type": "code",
   "execution_count": 185,
   "id": "72d6efc7-a37e-404c-a364-aee73c3b074b",
   "metadata": {},
   "outputs": [
    {
     "name": "stdout",
     "output_type": "stream",
     "text": [
      "6206037.040458403\n",
      "0.9017339385134928\n"
     ]
    }
   ],
   "source": [
    "Z_pr_scaled #our earlimer PRM of the MLRM\n",
    "Y = Cars[\"price\"]\n",
    "\n",
    "from sklearn.linear_model import LinearRegression\n",
    "from sklearn.metrics import mean_squared_error\n",
    "\n",
    "lm = LinearRegression()\n",
    "lm.fit(Z_pr_scaled, Y)\n",
    "model = lm.predict(Z_pr_scaled)\n",
    "mse_PRM_MLRM = mean_squared_error(Y, model)\n",
    "R_squared_PRM_MLRM = lm.score(Z_pr_scaled, Y)\n",
    "print(mse_PRM_MLRM)\n",
    "print(R_squared_PRM_MLRM) \n"
   ]
  },
  {
   "cell_type": "code",
   "execution_count": 187,
   "id": "5194824e-7e57-4525-ab83-f06652c88239",
   "metadata": {},
   "outputs": [
    {
     "name": "stdout",
     "output_type": "stream",
     "text": [
      "31755395.41081296 12334142.971000047 21973447.80485354 6206037.040458403\n",
      "0.49718675257265266 0.8047018340899017 0.6520735923769474 0.9017339385134928\n"
     ]
    }
   ],
   "source": [
    "print(mse_SLRM, mse_MLRM, mse_PRM_SLRM, mse_PRM_MLRM)\n",
    "print(R_squared_SLRM, R_squared_MLRM, R_squared_PRM_SLRM, R_squared_PRM_MLRM)"
   ]
  },
  {
   "cell_type": "markdown",
   "id": "f5a30df5-8806-4387-a1ed-3a4a4fdab9a6",
   "metadata": {},
   "source": [
    "The MLRM and PRM_MLRM achieves better prediction of the Car price via their respective model in comparision to PRM_SRM that does fairly well and SLRM that does\n",
    "statistically poor"
   ]
  },
  {
   "cell_type": "markdown",
   "id": "00484f1c-7ea8-4a25-b306-71ebaed70546",
   "metadata": {},
   "source": [
    "## Model Evaluation and testing - Out-of-Sample Evaluation\n",
    "In here we shall now improve the predictability of the model by seperating the predictor data into Training data and Test data"
   ]
  },
  {
   "cell_type": "markdown",
   "id": "25096133-e4b3-4c9e-a662-d8bdf1dba392",
   "metadata": {},
   "source": [
    "Testing the predictibality of out-of-sample data by splitting the data using train_test_split function"
   ]
  },
  {
   "cell_type": "code",
   "execution_count": 191,
   "id": "ef2a50b6-816a-4da2-88e2-843c08d9f8ea",
   "metadata": {},
   "outputs": [
    {
     "name": "stdout",
     "output_type": "stream",
     "text": [
      "x training data is 120\n",
      "x testing data is 80\n",
      "y training data is 120\n",
      "y testing data is 80\n"
     ]
    }
   ],
   "source": [
    "y_data = Cars[\"price\"]\n",
    "x_data = Cars[[\"width\", \"curb-weight\", \"engine-size\", \"city-kpl\", \"highway-kpl\"]]\n",
    "\n",
    "#Beginning the train-test split\n",
    "from sklearn.model_selection import train_test_split\n",
    "x_train, x_test, y_train, y_test = train_test_split(x_data, y_data, test_size = 0.40, random_state = 0) #It doesnt matter the number we assign for random_state until\n",
    "                                                                                                        #we assign the same number every time to ensure consistency in how \n",
    "                                                                                                        #the data are split all the time\n",
    "print(f\"x training data is {x_train.shape[0]}\")\n",
    "print(f\"x testing data is {x_test.shape[0]}\")\n",
    "print(f\"y training data is {y_train.shape[0]}\")\n",
    "print(f\"y testing data is {y_test.shape[0]}\")\n",
    "#So its is 60:40 split of row data between training and testing data"
   ]
  },
  {
   "cell_type": "markdown",
   "id": "4400ddb6-3fe3-4ca3-8a50-2530efc94e9a",
   "metadata": {},
   "source": [
    "### <font color = \"red\"> Warning!!! </font>\n",
    "DO NOT PREPROCESS THE DATA WITHOUT SPLITTING THEM INTO TRAINING AND TESTING SETS!! OR ELSE WE RISK DATA SNOOPING OR LEAKAGE!!! "
   ]
  },
  {
   "cell_type": "code",
   "execution_count": 193,
   "id": "6520f99a-30f7-4fd8-9bf6-3332c31ba413",
   "metadata": {},
   "outputs": [
    {
     "name": "stdout",
     "output_type": "stream",
     "text": [
      "[10101.53490474  7052.37805609 10156.0166988  18170.11272075\n",
      " 18475.56928293]\n",
      "[ 4739.82845425 12775.63358952 16197.44621385 20900.22647265\n",
      "  7219.34555511]\n"
     ]
    }
   ],
   "source": [
    "#Obtaining the prediction data from training and test data\n",
    "from sklearn.linear_model import LinearRegression\n",
    "lm = LinearRegression()\n",
    "lm.fit(x_train, y_train)\n",
    "y_trainhat = lm.predict(x_train)\n",
    "y_testhat = lm.predict(x_test)\n",
    "print(y_trainhat[0:5])\n",
    "print(y_testhat[0:5])"
   ]
  },
  {
   "cell_type": "code",
   "execution_count": 194,
   "id": "0effecd8-91ab-4619-90fb-437c2e2f66b3",
   "metadata": {},
   "outputs": [
    {
     "name": "stdout",
     "output_type": "stream",
     "text": [
      "0.8584304212549516\n",
      "0.7083975933152652\n"
     ]
    }
   ],
   "source": [
    "#Now calcualting the R_Squared_Score or predictibility of the different combinations\n",
    "from sklearn.linear_model import LinearRegression\n",
    "lm = LinearRegression()\n",
    "lm.fit(x_train, y_train) #fitting the model based on which all further predictions shall be made\n",
    "Training_score = lm.score(x_train, y_train)\n",
    "Testing_score = lm.score(x_test, y_test) #we dont need to develop a seperate training model for the test data because you are supposed to evaluate the performance of \n",
    "                                         #trained data on unseen data (i.e., test data), not to train the test data before performing prediction\n",
    "print(Training_score)\n",
    "print(Testing_score)\n",
    "#Unfortunately the predictiability in the test batch appeared to have dropped"
   ]
  },
  {
   "cell_type": "markdown",
   "id": "6c44a21e-3ff5-4f5f-9bcc-0e3443f3cae3",
   "metadata": {},
   "source": [
    "Visually observing the fit of the training data based prediction in distribution plot "
   ]
  },
  {
   "cell_type": "code",
   "execution_count": 202,
   "id": "e2c2a420-235b-45d1-8f9f-700d4a1eba1d",
   "metadata": {},
   "outputs": [
    {
     "name": "stderr",
     "output_type": "stream",
     "text": [
      "C:\\Users\\prien\\AppData\\Local\\Temp\\ipykernel_1480\\1136870551.py:1: UserWarning: \n",
      "\n",
      "`distplot` is a deprecated function and will be removed in seaborn v0.14.0.\n",
      "\n",
      "Please adapt your code to use either `displot` (a figure-level function with\n",
      "similar flexibility) or `kdeplot` (an axes-level function for kernel density plots).\n",
      "\n",
      "For a guide to updating your code to use the new functions, please see\n",
      "https://gist.github.com/mwaskom/de44147ed2974457ad6372750bbe5751\n",
      "\n",
      "  ax1 = sns.distplot(y_train, hist=False, color='r', label = \"Actual values\")\n",
      "C:\\Users\\prien\\AppData\\Local\\Temp\\ipykernel_1480\\1136870551.py:2: UserWarning: \n",
      "\n",
      "`distplot` is a deprecated function and will be removed in seaborn v0.14.0.\n",
      "\n",
      "Please adapt your code to use either `displot` (a figure-level function with\n",
      "similar flexibility) or `kdeplot` (an axes-level function for kernel density plots).\n",
      "\n",
      "For a guide to updating your code to use the new functions, please see\n",
      "https://gist.github.com/mwaskom/de44147ed2974457ad6372750bbe5751\n",
      "\n",
      "  sns.distplot(y_trainhat, hist=False, color='b', label=\"fitted values\", ax=ax1)\n"
     ]
    },
    {
     "data": {
      "image/png": "[encoded data removed]",
      "text/plain": [
       "<Figure size 640x480 with 1 Axes>"
      ]
     },
     "metadata": {},
     "output_type": "display_data"
    }
   ],
   "source": [
    "ax1 = sns.distplot(y_train, hist=False, color='r', label = \"Actual values\")\n",
    "sns.distplot(y_trainhat, hist=False, color='b', label=\"fitted values\", ax=ax1)\n",
    "\n",
    "plt.title(\"Actual price values versus fitted price values for training data\")\n",
    "plt.xlabel(\"Price(in dollars)\")\n",
    "plt.ylabel(\"Proortion of cars\")\n",
    "plt.show()"
   ]
  },
  {
   "cell_type": "markdown",
   "id": "6acb0d5d-f02f-49b8-8a8b-d603d91a61e9",
   "metadata": {},
   "source": [
    "Visually observing the fit of the test data based prediction in distribution plot"
   ]
  },
  {
   "cell_type": "code",
   "execution_count": 205,
   "id": "8ffe7d67-517d-4415-8033-f037a685c20e",
   "metadata": {},
   "outputs": [
    {
     "name": "stderr",
     "output_type": "stream",
     "text": [
      "C:\\Users\\prien\\AppData\\Local\\Temp\\ipykernel_1480\\863650033.py:1: UserWarning: \n",
      "\n",
      "`distplot` is a deprecated function and will be removed in seaborn v0.14.0.\n",
      "\n",
      "Please adapt your code to use either `displot` (a figure-level function with\n",
      "similar flexibility) or `kdeplot` (an axes-level function for kernel density plots).\n",
      "\n",
      "For a guide to updating your code to use the new functions, please see\n",
      "https://gist.github.com/mwaskom/de44147ed2974457ad6372750bbe5751\n",
      "\n",
      "  ax1 = sns.distplot(y_test, hist=False, color='r', label = \"Actual values\")\n",
      "C:\\Users\\prien\\AppData\\Local\\Temp\\ipykernel_1480\\863650033.py:2: UserWarning: \n",
      "\n",
      "`distplot` is a deprecated function and will be removed in seaborn v0.14.0.\n",
      "\n",
      "Please adapt your code to use either `displot` (a figure-level function with\n",
      "similar flexibility) or `kdeplot` (an axes-level function for kernel density plots).\n",
      "\n",
      "For a guide to updating your code to use the new functions, please see\n",
      "https://gist.github.com/mwaskom/de44147ed2974457ad6372750bbe5751\n",
      "\n",
      "  sns.distplot(y_testhat, hist=False, color='b', label=\"fitted values\", ax=ax1)\n"
     ]
    },
    {
     "data": {
      "image/png": "[encoded data removed]",
      "text/plain": [
       "<Figure size 640x480 with 1 Axes>"
      ]
     },
     "metadata": {},
     "output_type": "display_data"
    }
   ],
   "source": [
    "ax1 = sns.distplot(y_test, hist=False, color='r', label = \"Actual values\")\n",
    "sns.distplot(y_testhat, hist=False, color='b', label=\"fitted values\", ax=ax1)\n",
    "\n",
    "plt.title(\"Actual price values versus fitted price values for testing data\")\n",
    "plt.xlabel(\"Price(in dollars)\")\n",
    "plt.ylabel(\"Proortion of cars\")\n",
    "plt.show()\n",
    "#test data looks smoother but unable to tell. We should rather stick with R_squared_score evaluation "
   ]
  },
  {
   "cell_type": "markdown",
   "id": "54a7e7ed-4fe1-42d5-8a62-183c4e793c32",
   "metadata": {},
   "source": [
    "Performing the prediction in test data through polynomial transformation"
   ]
  },
  {
   "cell_type": "code",
   "execution_count": 207,
   "id": "6ff86bea-761b-4113-9919-89a6cb4bd65e",
   "metadata": {},
   "outputs": [
    {
     "data": {
      "text/plain": [
       "0.9220263580196091"
      ]
     },
     "execution_count": 207,
     "metadata": {},
     "output_type": "execute_result"
    }
   ],
   "source": [
    "from sklearn.preprocessing import StandardScaler, PolynomialFeatures\n",
    "from sklearn.linear_model import LinearRegression\n",
    "\n",
    "pr = PolynomialFeatures(degree=2) #Transforming to second degree polynomial\n",
    "x_train_pr = pr.fit_transform(x_train) \n",
    "    \n",
    "scaler = StandardScaler()\n",
    "x_train_pr_scaled = scaler.fit_transform(x_train_pr)\n",
    "\n",
    "lm = LinearRegression()\n",
    "lm.fit(x_train_pr_scaled, y_train)\n",
    "Training_poly_score = lm.score(x_train_pr_scaled, y_train)\n",
    "Training_poly_score"
   ]
  },
  {
   "cell_type": "code",
   "execution_count": 208,
   "id": "1e11359d-38d2-4428-a551-5eff298afe45",
   "metadata": {},
   "outputs": [
    {
     "data": {
      "text/plain": [
       "0.9183926045707299"
      ]
     },
     "execution_count": 208,
     "metadata": {},
     "output_type": "execute_result"
    }
   ],
   "source": [
    "from sklearn.preprocessing import StandardScaler, PolynomialFeatures\n",
    "from sklearn.linear_model import LinearRegression\n",
    "\n",
    "pr = PolynomialFeatures(degree=2) #Transforming to second degree polynomial\n",
    "x_test_pr = pr.fit_transform(x_test)\n",
    "\n",
    "scaler = StandardScaler()\n",
    "x_test_pr_scaled = scaler.fit_transform(x_test_pr)\n",
    "\n",
    "lm = LinearRegression()\n",
    "lm.fit(x_test_pr_scaled, y_test)\n",
    "Test_poly_score = lm.score(x_test_pr_scaled, y_test)\n",
    "Test_poly_score"
   ]
  },
  {
   "cell_type": "code",
   "execution_count": 209,
   "id": "55b2de84-ad58-4194-99f7-c105d27856e0",
   "metadata": {},
   "outputs": [
    {
     "name": "stdout",
     "output_type": "stream",
     "text": [
      "0.8584304212549516 0.7083975933152652 0.9220263580196091 0.9183926045707299\n"
     ]
    }
   ],
   "source": [
    "#So now lets compare the R_squared_score between the train and test data in both monomial and polynomial format\n",
    "print(Training_score, Testing_score, Training_poly_score, Test_poly_score)\n",
    "#As we can see both training and test score has improved visibily following the transformation to polynomial formats"
   ]
  },
  {
   "cell_type": "markdown",
   "id": "7295fab2-816a-4af7-890f-15dfd2b47590",
   "metadata": {},
   "source": [
    "Although we have resorted to transforming to second degree polynomial and obtained improvements in the score, we could try \n",
    "other polynomial degrees simulataneously too see the number of degree that can produce the highest R_squared score in the test data category "
   ]
  },
  {
   "cell_type": "code",
   "execution_count": 214,
   "id": "e7bb6df1-021a-400d-8142-8f7d7f30ae3b",
   "metadata": {},
   "outputs": [
    {
     "data": {
      "image/png": "[encoded data removed]",
      "text/plain": [
       "<Figure size 640x480 with 1 Axes>"
      ]
     },
     "metadata": {},
     "output_type": "display_data"
    }
   ],
   "source": [
    "R_squared_values = []\n",
    "\n",
    "from sklearn.preprocessing import PolynomialFeatures, StandardScaler\n",
    "from sklearn.linear_model import LinearRegression\n",
    "\n",
    "Category = [2, 3, 4, 5]\n",
    "for n in Category:\n",
    "    pr = PolynomialFeatures(degree=n)\n",
    "    x_train_pr = pr.fit_transform(x_train)\n",
    "    x_test_pr = pr.fit_transform(x_test)\n",
    "\n",
    "    Scaler = StandardScaler()\n",
    "    x_train_pr_scaled = Scaler.fit_transform(x_train_pr)\n",
    "    x_test_pr_scaled = Scaler.fit_transform(x_test_pr)\n",
    "\n",
    "    lm = LinearRegression()\n",
    "    x_trainhat = lm.fit(x_train_pr_scaled, y_train)\n",
    "    R_squared_values.append(lm.score(x_test_pr_scaled, y_test))\n",
    "\n",
    "plt.plot(Category, R_squared_values)\n",
    "plt.xlabel(\"order\")\n",
    "plt.ylabel(\"R_squared\")\n",
    "plt.title(\"R_squared_values for different order of degrees\")\n",
    "plt.show()"
   ]
  },
  {
   "cell_type": "markdown",
   "id": "002bf016-84ab-45e0-b612-8a51c53ef37b",
   "metadata": {},
   "source": [
    "As we can see although higher order degreed polynomials perform well in the contexts of training data in terms of R_squared score, the predictability falls once the\n",
    "polynomial attempts to fit the pattern of the target value without filtering out the noise. Although the predictability improves with increasing degree of polynomial the\n",
    "performs can plateau eventually in terms of prediction of unseen data or as soon as after the second degree as in our case. Hence, care should be taken to make sure\n",
    "the predictor is not transformed to higher order polynomial without care to avoid overfitting problem. \n",
    "\n",
    "As such, higher the alpha moderator, the more is the polynomial behavior moderated against overfitting"
   ]
  },
  {
   "cell_type": "markdown",
   "id": "5b08102c-c83e-4b32-82b2-1c50b3994606",
   "metadata": {},
   "source": [
    "### Ridge Regression\n",
    "While deploying the optimal degree of polynomial is a good way to avoid overfitting of the data, moderating the behavior of the polynomial regardless of the \n",
    "degree order is another way to moderate the overfitting attribute of higher-order polynomials. And, such can be accomplished through the application of a penalty term (i.e., alpha) of the ridge regression. The penalization term in Ridge regression relies on a sum-of-squared penalty on its coefficients, also known as L2. Ridge regression is also better at handling multicollinear feature sets than other regression methods, such as normal OLS and LASSO regression. However, LASSO \n",
    "Regression is the best choice for datasets with irrelevant feature sets. \n",
    "\n",
    "In summary, Ridge Regression is a hyperparameter-based regression method committed to preventing the amplification of impact from irrelevant feature data and overfitting. Since Linear Regression Model (i.e., LinearRegression()) performs poorly with datasets with irrelevant features (i.e., often the case in real-world scenarios), hyperparameter based regressions such as Ridge and LASSO Regression becomes the go-to choice.   "
   ]
  },
  {
   "cell_type": "code",
   "execution_count": 218,
   "id": "e0157d9a-b1bb-490f-be9b-45c4ebcd5edd",
   "metadata": {},
   "outputs": [
    {
     "name": "stdout",
     "output_type": "stream",
     "text": [
      "[0.9098125952923349, 0.9058751216044416, 0.9036784682438442, 0.9021429474117283, 0.9009507516315045, 0.8999695056442406, 0.8991324514882787, 0.8984013124630847, 0.8977519938722395]\n",
      "[0.7713815102983625, 0.7636554559843081, 0.7577221597952926, 0.7529878108424825, 0.7490594005778903, 0.7457147511640885, 0.7428163256478388, 0.7402717921452653, 0.7380153342655886]\n"
     ]
    }
   ],
   "source": [
    "y_data = Cars[\"price\"]\n",
    "x_data = Cars[[\"width\", \"curb-weight\", \"engine-size\", \"city-kpl\", \"highway-kpl\"]]\n",
    "\n",
    "from sklearn.preprocessing import PolynomialFeatures, StandardScaler\n",
    "\n",
    "pr = PolynomialFeatures(degree=5)\n",
    "x_train_pr = pr.fit_transform(x_train)\n",
    "x_test_pr = pr.fit_transform(x_test)\n",
    "\n",
    "scaler = StandardScaler()\n",
    "x_train_pr_scaled = scaler.fit_transform(x_train_pr)\n",
    "x_test_pr_scaled = scaler.fit_transform(x_test_pr)\n",
    "\n",
    "from sklearn.linear_model import Ridge\n",
    "import numpy as np\n",
    "Moderators = np.arange(1,10,1) #lets range the alpha value from 1 to 10 added by 1 each time\n",
    "\n",
    "Train_score =[]\n",
    "Test_score = []\n",
    "for numbers in Moderators: #testing the R_squared score for all range of alpha moderator for both train and test data in terms of predictability\n",
    "    Rigemodel = Ridge(alpha=numbers)\n",
    "    Rigemodel.fit(x_train_pr_scaled, y_train)\n",
    "    Train_score.append(Rigemodel.score(x_train_pr_scaled, y_train))\n",
    "    Test_score.append(Rigemodel.score(x_test_pr_scaled, y_test))\n",
    "print(Train_score)\n",
    "print(Test_score) #It is said that trialing the best hyperparameter on test score is not a good practice. Trialing of the hyperparameter or model fit should only be tried on\n",
    "                  #training data or evaluation data (i.e., the mock testing data), but never on testing data. Testing data should only be used for the final prediction \n",
    "                  # Otherwise, the model can overfit. That's called Data Snooping or leakage. Cross Validation Evaluation discussed below is a great to avoid Data snooping"
   ]
  },
  {
   "cell_type": "code",
   "execution_count": 219,
   "id": "a2ce52bd-c062-4d49-9ec7-a57199b01f2e",
   "metadata": {},
   "outputs": [
    {
     "data": {
      "text/plain": [
       "Text(0, 0.5, 'Train_score')"
      ]
     },
     "execution_count": 219,
     "metadata": {},
     "output_type": "execute_result"
    },
    {
     "data": {
      "image/png": "[encoded data removed]",
      "text/plain": [
       "<Figure size 640x480 with 1 Axes>"
      ]
     },
     "metadata": {},
     "output_type": "display_data"
    }
   ],
   "source": [
    "plt.plot(Moderators, Train_score)\n",
    "plt.xlabel(\"Moderators\")\n",
    "plt.ylabel(\"Train_score\")\n",
    "#The prediction ability appear to decrease as the polynomial behavior is more restrained or moderated due to underfitting"
   ]
  },
  {
   "cell_type": "code",
   "execution_count": 220,
   "id": "0686e3a6-38cc-4ff0-9d16-8f277038c7e6",
   "metadata": {},
   "outputs": [
    {
     "data": {
      "text/plain": [
       "Text(0, 0.5, 'Test_score')"
      ]
     },
     "execution_count": 220,
     "metadata": {},
     "output_type": "execute_result"
    },
    {
     "data": {
      "image/png": "[encoded data removed]",
      "text/plain": [
       "<Figure size 640x480 with 1 Axes>"
      ]
     },
     "metadata": {},
     "output_type": "display_data"
    }
   ],
   "source": [
    "plt.plot(Moderators, Test_score)\n",
    "plt.xlabel(\"Moderators\")\n",
    "plt.ylabel(\"Test_score\")\n",
    "#The prediction ability appear to decrease as the polynomial behavior is more restrained or moderated due to underfitting"
   ]
  },
  {
   "cell_type": "markdown",
   "id": "92cc93cd-5f35-43d5-9ef8-c47ebc20809b",
   "metadata": {},
   "source": [
    "#### Below are the demonstrations of \"Data Snooping\" (Fig 1) and method to prevent \"Data Snooping\" by generating evaluation data (Fig 2) \n",
    "Fig 1\n",
    "<left>\n",
    "    <img src=\"Data Snooping.JPG\" width=\"500\" alt=\"Data Snooping\">\n",
    "</left>\n",
    "\n",
    "Fig 2\n",
    "<left>\n",
    "    <img src=\"fig 2.JPG\" width=\"500\" alt=\"Data Snooping\">\n",
    "</left>"
   ]
  },
  {
   "cell_type": "markdown",
   "id": "7d96e406-11eb-434e-bf90-cd6038f19630",
   "metadata": {},
   "source": [
    "### Least Absolute Shrinkage and Selection Operator (LASSO) Regression\n",
    "LASSO Regression is another hyperparameter-based regression method that relies on L1 penalty terms in the form of a sum of absolute value penalties on its coefficients. LASSO regression is very useful for working with datasets in which only a few (say 30 percent) features correlate with the target value. This regression method effectively eliminates the impact of feature sets irrelevant to the target value in the final model. Hence, LASSO Regression performs well in environments that observe low Signal-to-Noise Ratio (SNR). "
   ]
  },
  {
   "cell_type": "code",
   "execution_count": 229,
   "id": "61b3062b-5a69-4a64-8bfb-ad4700d3d751",
   "metadata": {},
   "outputs": [
    {
     "name": "stdout",
     "output_type": "stream",
     "text": [
      "98\n",
      "98\n",
      "42\n",
      "42\n",
      "60\n",
      "60\n"
     ]
    }
   ],
   "source": [
    "# We will work with the Cars data that was earlier used for Ridge Regression. However, this time we shall not poly transform the data, but split the data into train\n",
    "#evaluation, and test batches. \n",
    "y_data = Cars[\"price\"]\n",
    "x_data = Cars[[\"width\", \"curb-weight\", \"engine-size\", \"city-kpl\", \"highway-kpl\"]]\n",
    "\n",
    "#Now, splitting the data into train, eval, and test sets before any preprocessing can happen\n",
    "from sklearn.model_selection import train_test_split\n",
    "x_train_eval, x_test, y_train_eval, y_test = train_test_split(x_data, y_data, test_size = 0.3, random_state = 0)\n",
    "x_train, x_eval, y_train, y_eval = train_test_split(x_train_eval, y_train_eval, test_size = 0.3, random_state = 0)\n",
    "\n",
    "print(x_train.shape[0])\n",
    "print(y_train.shape[0])\n",
    "\n",
    "print(x_eval.shape[0])\n",
    "print(y_eval.shape[0])\n",
    "\n",
    "print(x_test.shape[0])\n",
    "print(y_test.shape[0])"
   ]
  },
  {
   "cell_type": "code",
   "execution_count": 231,
   "id": "002e4826-7f54-4222-9120-056e3ed2984c",
   "metadata": {},
   "outputs": [],
   "source": [
    "#Now standardizing the independent variables for all batches\n",
    "from sklearn.preprocessing import StandardScaler\n",
    "scaler = StandardScaler()\n",
    "x_train_scaled = scaler.fit_transform(x_train)\n",
    "x_eval_scaled = scaler.fit_transform(x_eval)\n",
    "x_test_scaled = scaler.fit_transform(x_test)"
   ]
  },
  {
   "cell_type": "code",
   "execution_count": 236,
   "id": "84dba767-90aa-4db7-aa20-c7c0047cdffc",
   "metadata": {},
   "outputs": [
    {
     "name": "stdout",
     "output_type": "stream",
     "text": [
      "[0.8095818586244856, 0.8095747106941434, 0.8095627382414291, 0.8095459431487123, 0.8095243014358646, 0.8094978502205896, 0.8094665740317186, 0.8094304728725387, 0.8093895466385945, 0.8093437954706088]\n",
      "[0.8431041329764999, 0.8426616776266438, 0.8422150114155262, 0.8417643576155532, 0.8413090376650973, 0.8408502051199359, 0.8403873243238649, 0.8399203965808134, 0.8394494210760337, 0.8389744003468405]\n"
     ]
    }
   ],
   "source": [
    "#Now pursuing the LASSO regression with different parameters\n",
    "import numpy as np\n",
    "from sklearn.linear_model import Lasso\n",
    "\n",
    "parameters = [10, 20, 30, 40, 50, 60, 70, 80, 90, 100]\n",
    "Train_score = []\n",
    "Eval_score = []\n",
    "for nums in parameters:\n",
    "    ls = Lasso(alpha = nums)\n",
    "    ls.fit(x_train_scaled, y_train)\n",
    "    Train_score.append(ls.score(x_train_scaled, y_train))\n",
    "    Eval_score.append(ls.score(x_eval_scaled, y_eval))\n",
    "\n",
    "print(Train_score)\n",
    "print(Eval_score)"
   ]
  },
  {
   "cell_type": "code",
   "execution_count": 237,
   "id": "a54acefd-a497-473f-a726-97d309bb9669",
   "metadata": {},
   "outputs": [
    {
     "data": {
      "text/plain": [
       "Text(0, 0.5, 'R squared score')"
      ]
     },
     "execution_count": 237,
     "metadata": {},
     "output_type": "execute_result"
    },
    {
     "data": {
      "image/png": "[encoded data removed]",
      "text/plain": [
       "<Figure size 640x480 with 1 Axes>"
      ]
     },
     "metadata": {},
     "output_type": "display_data"
    }
   ],
   "source": [
    "import seaborn as sns\n",
    "import matplotlib.pyplot as plt\n",
    "\n",
    "sns.lineplot(Train_score)\n",
    "plt.title(\"Evaluation R2 square under different Lasso penalizing term\")\n",
    "plt.xlabel(\"alpha term\")\n",
    "plt.ylabel(\"R squared score\")\n",
    "# As we can see here, the performance of the model decreases with higher penalties. Therefore, the model never needed coefficient moderation in the first place\n",
    "# Maybe normal linear regression would have been better. Anyway, for now we shall stick to the lowest alpha in out test batch"
   ]
  },
  {
   "cell_type": "code",
   "execution_count": 238,
   "id": "c06a7ac0-e20a-4aeb-98e4-47563a7d45e6",
   "metadata": {},
   "outputs": [
    {
     "name": "stdout",
     "output_type": "stream",
     "text": [
      "10 0.8431041329764999\n",
      "20 0.8426616776266438\n",
      "30 0.8422150114155262\n",
      "40 0.8417643576155532\n",
      "50 0.8413090376650973\n",
      "60 0.8408502051199359\n",
      "70 0.8403873243238649\n",
      "80 0.8399203965808134\n",
      "90 0.8394494210760337\n",
      "100 0.8389744003468405\n"
     ]
    }
   ],
   "source": [
    "for i, nums in enumerate(Eval_score):\n",
    "    print((i+1)*10, nums)"
   ]
  },
  {
   "cell_type": "code",
   "execution_count": 239,
   "id": "219fa408-f50e-4fd9-ac4b-d5e8963194e0",
   "metadata": {},
   "outputs": [
    {
     "name": "stdout",
     "output_type": "stream",
     "text": [
      "The first predictions on unseen data are [ 5336.38161639 12103.95445076 15832.94450748 20805.00731888\n",
      "  8105.13381627  8416.83842428 17923.40004232  6427.47186094\n",
      " 18546.25517386  7663.19357572]\n",
      "The R2 score is 0.7235745392249213\n"
     ]
    }
   ],
   "source": [
    "#Now administering the alpha value with the highest R2 score for our test variable\n",
    "ls = Lasso(alpha = 10)\n",
    "ls.fit(x_train_scaled, y_train)\n",
    "\n",
    "print(f\"The first predictions on unseen data are {ls.predict(x_test_scaled)[0:10]}\")\n",
    "print(f\"The R2 score is {ls.score(x_test_scaled, y_test)}\")\n",
    "# It appears the model performed worse in our test set. This forces us not to discard overfitting possibilities or in fact, data snooping or leakage!!!  In the model. \n",
    "#Maybe we need to check for outliers in the features through clustering functions such as HDBSCAN to remove noise. It is although Lasso is supposed to perform well \n",
    "#with datasets with low SNR, regressions can also be performed with other algorithms such as normal OLS and Ridge. polynomial fits of differing degree or 2nd order degree \n",
    "#may also be adjusted in the regression pipeline. "
   ]
  },
  {
   "cell_type": "markdown",
   "id": "894dfac3-e45a-4d6c-8d93-5fe9c0ce69eb",
   "metadata": {},
   "source": [
    "While the Linear Regression, Ridge Regression, and LASSO Regression are all regression algorithms attempting to explain the degree of one-way relationship between the independent and dependent variables, the three regression algorithms have been essentially compared across different datasets. Below demonstrates the comparison of the algorithms in datasets with distinct SNR and sparseness (i.e., referring to datasets in terms of proportion of empty or zero-valued data). \n",
    "<left>\n",
    "    <img src=\"Performance.JPG\" width=\"800\" alt=\"Data Snooping\">\n",
    "</left>"
   ]
  },
  {
   "cell_type": "markdown",
   "id": "17e63afd-26cb-441c-afc0-1a87c11b8541",
   "metadata": {},
   "source": [
    "### Grid Search"
   ]
  },
  {
   "cell_type": "markdown",
   "id": "df9ac595-8145-401b-9578-8259c8ba0aac",
   "metadata": {},
   "source": [
    "Although we may be able to visually interpret the best penalizing term to moderate coefficients in the regression model. Deploying the Grid Search algorithm can greatly assist in finding the best estimating hyperparameter or penalizing value that offers the highest R-squared Score. "
   ]
  },
  {
   "cell_type": "code",
   "execution_count": 247,
   "id": "422c5f6a-85ca-447b-afe9-477d2417d4f9",
   "metadata": {},
   "outputs": [
    {
     "name": "stdout",
     "output_type": "stream",
     "text": [
      "Ridge(alpha=1000)\n",
      "0.7983246089315942\n"
     ]
    }
   ],
   "source": [
    "y_data = Cars[\"price\"]\n",
    "x_data = Cars[[\"width\", \"curb-weight\", \"engine-size\", \"city-kpl\", \"highway-kpl\"]]\n",
    "\n",
    "#Lets try and find the best estimating parameter from our original dataset\n",
    "from sklearn.model_selection import GridSearchCV\n",
    "from sklearn.linear_model import LinearRegression\n",
    "\n",
    "parameters = [{\"alpha\" : [0.001, 0.01, 0.1, 1, 10, 100, 1000, 10000]}]\n",
    "RR = Ridge()\n",
    "Grid = GridSearchCV(RR, parameters, cv=4)#consult Cross Validation Evaluation method to learn that cv=4 means dividing the data sets into four folds as \n",
    "                                         #training and testing data\n",
    "Grid.fit(x_data, y_data) #we dont need to apply training data here because GridsearchCV function already does it using the Cross validation Evaluation method\n",
    "BestRR = Grid.best_estimator_\n",
    "print(BestRR)\n",
    "print(BestRR.score(x_data, y_data))\n",
    "#It is weired that the best estimator is at alpha=1000, because higher moderation have often led to model underfiting"
   ]
  },
  {
   "cell_type": "markdown",
   "id": "3fbb0a55-dc81-4de3-ace8-bf2d1f3184d3",
   "metadata": {},
   "source": [
    "### Cross Validation Evaluation"
   ]
  },
  {
   "cell_type": "code",
   "execution_count": 249,
   "id": "009236fd-62fa-4f58-99c9-11f46c556ea0",
   "metadata": {},
   "outputs": [
    {
     "data": {
      "text/plain": [
       "array([0.83290645, 0.82964051, 0.51866956, 0.52189711])"
      ]
     },
     "execution_count": 249,
     "metadata": {},
     "output_type": "execute_result"
    }
   ],
   "source": [
    "#Although train_test_splitting method helps to specify test data for prediction analysis, it can have biasness error. splitting the data\n",
    "#using the cross validation evaluation method is a good way to eliminate such biasness\n",
    "from sklearn.model_selection import cross_val_score\n",
    "from sklearn.linear_model import LinearRegression\n",
    "\n",
    "#in here we are processing raw x and y data without preprocessing. It is generally advised to preprocess the data before they are processed through robust methods such as CVE\n",
    "lm = LinearRegression()\n",
    "Rcross = cross_val_score(lm, x_data, y_data, cv=4) #this process involve everything from the splitting of data into train & test datas until analyzing the predictability\n",
    "                                                   #of the sample test data pairs (i.e., both independent & dependent variables)\n",
    "Rcross"
   ]
  },
  {
   "cell_type": "code",
   "execution_count": 250,
   "id": "7d3feb6d-b449-449e-ae3e-8fb193d7dfa5",
   "metadata": {},
   "outputs": [
    {
     "name": "stdout",
     "output_type": "stream",
     "text": [
      "0.675778406770533\n",
      "0.15550354429180302\n"
     ]
    }
   ],
   "source": [
    "#However, we can average the data to create a single score representation of the predictability accuracy of the model deployed in out-of-sample data\n",
    "print(Rcross.mean())\n",
    "print(Rcross.std()) #just to measure the distribution of the scores away from the mean"
   ]
  },
  {
   "cell_type": "code",
   "execution_count": 251,
   "id": "d0e8c8c3-89e7-4acc-9327-a90e72c96d81",
   "metadata": {},
   "outputs": [
    {
     "name": "stdout",
     "output_type": "stream",
     "text": [
      "0.7083975933152652\n",
      "0.675778406770533\n"
     ]
    }
   ],
   "source": [
    "#Scores from different splitting methods to create out-of-sample data can be compared too\n",
    "print(Testing_score)\n",
    "print(Rcross.mean())\n",
    "#The predictability of the model appeared to have fallen from 70% to 67.5% when Cross validation evaluation technique is applied"
   ]
  },
  {
   "cell_type": "code",
   "execution_count": 252,
   "id": "98eeb68f-dab3-471b-88e8-9be00874c54b",
   "metadata": {},
   "outputs": [
    {
     "data": {
      "text/plain": [
       "array([12653.46686644, 17039.78923781, 10858.24194519, 15481.14966802,\n",
       "       14993.74134815, 19065.19415401, 19293.5877131 , 18756.79246796,\n",
       "       10108.85786479, 10108.85786479])"
      ]
     },
     "execution_count": 252,
     "metadata": {},
     "output_type": "execute_result"
    }
   ],
   "source": [
    "#Predicted data (i.e., stiching all y_test data from all four folds in our case) can also be generated\n",
    "from sklearn.model_selection import cross_val_predict\n",
    "yhat = cross_val_predict(lm, x_data, y_data, cv=4)\n",
    "yhat[0:10]"
   ]
  }
 ],
 "metadata": {
  "kernelspec": {
   "display_name": "Python [conda env:RP_env]",
   "language": "python",
   "name": "conda-env-RP_env-py"
  },
  "language_info": {
   "codemirror_mode": {
    "name": "ipython",
    "version": 3
   },
   "file_extension": ".py",
   "mimetype": "text/x-python",
   "name": "python",
   "nbconvert_exporter": "python",
   "pygments_lexer": "ipython3",
   "version": "3.12.9"
  }
 },
 "nbformat": 4,
 "nbformat_minor": 5
}
