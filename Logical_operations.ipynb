{
 "cells": [
  {
   "cell_type": "markdown",
   "id": "61daedc0-19d3-4d61-94a7-49fbbbded40a",
   "metadata": {},
   "source": [
    "# Conditions and Branching"
   ]
  },
  {
   "cell_type": "code",
   "execution_count": 14,
   "id": "8525284e-a512-4c13-ae76-9f94f135d8d7",
   "metadata": {},
   "outputs": [
    {
     "data": {
      "text/plain": [
       "True"
      ]
     },
     "execution_count": 14,
     "metadata": {},
     "output_type": "execute_result"
    }
   ],
   "source": [
    "a = 56\n",
    "b = 72\n",
    "a < b"
   ]
  },
  {
   "cell_type": "code",
   "execution_count": 8,
   "id": "30ef3cd5-da2b-456b-b858-3ba46497c1a9",
   "metadata": {},
   "outputs": [
    {
     "name": "stdout",
     "output_type": "stream",
     "text": [
      "Look from the back\n",
      "have a good day\n"
     ]
    }
   ],
   "source": [
    "Age = 18\n",
    "if (Age>18):\n",
    "    print(\"Go to a rock concert\")\n",
    "elif Age==18:\n",
    "    print(\"Look from the back\")\n",
    "else:\n",
    "    print(\"Go home\")\n",
    "print(\"have a good day\")\n",
    "    #Remember, the querry \"Age = n\" has to be at the line 1"
   ]
  },
  {
   "cell_type": "code",
   "execution_count": 10,
   "id": "8b6ce4d1-de32-406a-b86d-561e788a27d4",
   "metadata": {},
   "outputs": [
    {
     "name": "stdout",
     "output_type": "stream",
     "text": [
      "The album was made in 80s\n",
      "Enjoy\n"
     ]
    }
   ],
   "source": [
    "album_year = 1985\n",
    "if (album_year < 1980) or (album_year > 1989):\n",
    "    print(\"The album was made in 70s or 90s\")\n",
    "else:\n",
    "    print(\"The album was made in 80s\")\n",
    "print(\"Enjoy\")"
   ]
  },
  {
   "cell_type": "code",
   "execution_count": 12,
   "id": "cde60c86-7b5c-45f0-82aa-6988b823dcce",
   "metadata": {},
   "outputs": [
    {
     "name": "stdout",
     "output_type": "stream",
     "text": [
      "The album was made in 80s\n",
      "Go home\n"
     ]
    }
   ],
   "source": [
    "album_year = 1985\n",
    "if (album_year > 1980) and (album_year < 1990):\n",
    "    print(\"The album was made in 80s\")\n",
    "else:\n",
    "    print(\"The album was made in a different time\")\n",
    "print(\"Go home\")"
   ]
  },
  {
   "cell_type": "markdown",
   "id": "eb8cd7a6-1002-4b44-8832-678d8a590476",
   "metadata": {},
   "source": [
    "\n",
    "### Running an ATM machine"
   ]
  },
  {
   "cell_type": "code",
   "execution_count": 226,
   "id": "b9d2d1d0-3056-4a55-bf99-e54c256aa2ea",
   "metadata": {},
   "outputs": [
    {
     "name": "stdin",
     "output_type": "stream",
     "text": [
      "Please dial in the amount you want to withdraw: 2500\n"
     ]
    },
    {
     "name": "stdout",
     "output_type": "stream",
     "text": [
      "please collect your bills\n"
     ]
    }
   ],
   "source": [
    "user_choice = \"Dispense Cash\"\n",
    "\n",
    "if user_choice == \"Dispense Cash\":\n",
    "    Amount = int(input(\"Please dial in the amount you want to withdraw:\"))\n",
    "    if Amount %10 == 0:\n",
    "        print(\"please collect your bills\")\n",
    "    else:\n",
    "        print(\"please dial in amount that is multiple of 10\")\n",
    "else:\n",
    "    print(\"Please get out of the Atm booth\")"
   ]
  },
  {
   "cell_type": "markdown",
   "id": "b6ea6be4-9938-433b-9fb0-17c738586656",
   "metadata": {},
   "source": [
    "### Security door opening "
   ]
  },
  {
   "cell_type": "code",
   "execution_count": 39,
   "id": "bbf3abd3-285e-4bc2-bbb5-492f02492daf",
   "metadata": {},
   "outputs": [
    {
     "name": "stdout",
     "output_type": "stream",
     "text": [
      "Alarm has been activated\n"
     ]
    }
   ],
   "source": [
    "Security_key = True\n",
    "Facial_match = False\n",
    "if Security_key and Facial_match:\n",
    "    print(\"please enter\")\n",
    "else:\n",
    "    print(\"Alarm has been activated\")\n"
   ]
  },
  {
   "cell_type": "markdown",
   "id": "9a0c459e-1b07-4836-807a-e3406811f6fa",
   "metadata": {},
   "source": [
    "### Text Messaging"
   ]
  },
  {
   "cell_type": "code",
   "execution_count": 46,
   "id": "f36a6bbd-7729-4289-a8d5-ec533bd1ac7f",
   "metadata": {},
   "outputs": [
    {
     "name": "stdout",
     "output_type": "stream",
     "text": [
      "\n"
     ]
    }
   ],
   "source": [
    "on_Do_not_disturb = True\n",
    "if on_Do_not_disturb:\n",
    "    print()\n",
    "else:\n",
    "    print(\"Do you want to earn money?\")\n",
    "    "
   ]
  },
  {
   "cell_type": "markdown",
   "id": "e8a3d094-1a0a-477c-b6e5-23038edf562d",
   "metadata": {},
   "source": [
    "# For Loop Functions"
   ]
  },
  {
   "cell_type": "code",
   "execution_count": 11,
   "id": "4e98ffc3-b2c6-4d02-8779-56900429dab4",
   "metadata": {},
   "outputs": [
    {
     "name": "stdout",
     "output_type": "stream",
     "text": [
      "Red\n",
      "Blue\n",
      "Indigo\n",
      "Green\n",
      "White\n"
     ]
    }
   ],
   "source": [
    "#Beginning with the basic idea of \"for\" loop function \n",
    "Color_palette = [\"Red\", \"Blue\", \"Indigo\", \"Green\", \"White\"]\n",
    "for Colors in Color_palette:\n",
    "    print(Colors)"
   ]
  },
  {
   "cell_type": "code",
   "execution_count": 17,
   "id": "da82867c-92ce-44a0-a876-62885313bd23",
   "metadata": {},
   "outputs": [
    {
     "name": "stdout",
     "output_type": "stream",
     "text": [
      "Red\n",
      "Blue\n",
      "Indigo\n",
      "Green\n",
      "White\n"
     ]
    }
   ],
   "source": [
    "#Same thing done in a bit complicated way\n",
    "C = len(Color_palette)\n",
    "for i in range(C):\n",
    "    print(Color_palette[i])"
   ]
  },
  {
   "cell_type": "code",
   "execution_count": null,
   "id": "891cf0e6-0704-45ce-9055-cceace74c6a3",
   "metadata": {},
   "outputs": [],
   "source": [
    "#with numbers\n",
    "for numbers in range(5,10):\n",
    "    print(numbers)"
   ]
  },
  {
   "cell_type": "code",
   "execution_count": 623,
   "id": "974ffced-0f54-4844-9afe-b328811a587b",
   "metadata": {},
   "outputs": [
    {
     "data": {
      "text/plain": [
       "[6, 9, 12, 15, 18, 21, 24]"
      ]
     },
     "execution_count": 623,
     "metadata": {},
     "output_type": "execute_result"
    }
   ],
   "source": [
    "#Appending numbers of choice\n",
    "My_list = []\n",
    "for numbers in range(5,25):\n",
    "    if numbers %3 == 0:\n",
    "        My_list.append(numbers)\n",
    "My_list"
   ]
  },
  {
   "cell_type": "code",
   "execution_count": 635,
   "id": "1efc079d-9354-4f2b-81fd-f91ad21f2897",
   "metadata": {},
   "outputs": [
    {
     "data": {
      "text/plain": [
       "[5, 10, 15, 20, 25, 30, 35, 40, 45]"
      ]
     },
     "execution_count": 635,
     "metadata": {},
     "output_type": "execute_result"
    }
   ],
   "source": [
    "#Doing the samething with List comprehension for efficient coding\n",
    "my_list = []\n",
    "my_list = [numbers for numbers in range(5,50) if numbers %5 == 0] #Deploying list comprehension\n",
    "my_list"
   ]
  },
  {
   "cell_type": "code",
   "execution_count": 29,
   "id": "04c36da4-e3af-4b0f-a639-17e261631740",
   "metadata": {},
   "outputs": [
    {
     "name": "stdout",
     "output_type": "stream",
     "text": [
      "At House no.0, paint Red\n",
      "At House no.1, paint Blue\n",
      "At House no.2, paint Indigo\n",
      "At House no.3, paint Green\n",
      "At House no.4, paint White\n"
     ]
    }
   ],
   "source": [
    "#Using both indexing and object \n",
    "for item, colors in enumerate(Color_palette):\n",
    "    print(f\"At House no.{item}, paint {colors}\")"
   ]
  },
  {
   "cell_type": "markdown",
   "id": "d1fcb46b-d064-4505-bf22-1af525b0e069",
   "metadata": {},
   "source": [
    "# While Loop function\n",
    "###### Fear the unending"
   ]
  },
  {
   "cell_type": "code",
   "execution_count": 7,
   "id": "132e6209-f7aa-45ba-b1cf-b7b963261a26",
   "metadata": {},
   "outputs": [
    {
     "name": "stdout",
     "output_type": "stream",
     "text": [
      "1\n",
      "2\n",
      "3\n",
      "4\n",
      "5\n",
      "6\n",
      "7\n",
      "8\n",
      "9\n",
      "10\n"
     ]
    }
   ],
   "source": [
    "count = 1\n",
    "while count <= 10:\n",
    "    print(count)\n",
    "    count +=1"
   ]
  },
  {
   "cell_type": "code",
   "execution_count": 37,
   "id": "b359ccb2-26d8-4234-8d3c-c50fb419673a",
   "metadata": {},
   "outputs": [
    {
     "name": "stdout",
     "output_type": "stream",
     "text": [
      "2019\n",
      "2020\n",
      "2021\n",
      "2022\n",
      "it took 4 numbers of iterations to find year 2023\n"
     ]
    }
   ],
   "source": [
    "#This is still confusing though\n",
    "dates = [2019, 2020, 2021, 2022, 2023, 2024, 2025]\n",
    "i = 0 \n",
    "years = dates[0] #which basically means years = 2019\n",
    "\n",
    "while years != 2023:\n",
    "    print(years)\n",
    "    i = i+1\n",
    "    years = dates[i]\n",
    "print(f\"it took {i} numbers of iterations to find year 2023\") "
   ]
  },
  {
   "cell_type": "markdown",
   "id": "1fec70a2-df85-4045-9b06-fc1829bb5980",
   "metadata": {},
   "source": [
    "#### Copying value to a new variable until a right cutoff point is found"
   ]
  },
  {
   "cell_type": "code",
   "execution_count": 49,
   "id": "3a86b85f-a654-4ba3-9aaa-65d3b73e0314",
   "metadata": {},
   "outputs": [
    {
     "data": {
      "text/plain": [
       "['orange', 'orange']"
      ]
     },
     "execution_count": 49,
     "metadata": {},
     "output_type": "execute_result"
    }
   ],
   "source": [
    "squares = ['orange', 'orange', 'purple', 'blue ', 'orange']\n",
    "new_squares = []\n",
    "\n",
    "i=0 #setting the beginning point\n",
    "colors = squares[0] \n",
    "while colors == 'orange':\n",
    "    new_squares.append(squares[i])\n",
    "    i = i+1\n",
    "    colors = squares[i]\n",
    "new_squares"
   ]
  },
  {
   "cell_type": "markdown",
   "id": "3dd2964f-d839-4671-ba0d-ba78623a1bc9",
   "metadata": {},
   "source": [
    "# Functions"
   ]
  },
  {
   "cell_type": "code",
   "execution_count": 73,
   "id": "67291a8a-4e7c-4b59-be31-374e76069042",
   "metadata": {},
   "outputs": [
    {
     "data": {
      "text/plain": [
       "0.8333333333333334"
      ]
     },
     "execution_count": 73,
     "metadata": {},
     "output_type": "execute_result"
    }
   ],
   "source": [
    "def multiple(a,b):\n",
    "    c = a/b #c is a local variable \n",
    "    return c #You cannot do a return prompt outside of function\n",
    "multiple(5,6)"
   ]
  },
  {
   "cell_type": "code",
   "execution_count": 83,
   "id": "21067a82-b36a-4af6-a19e-6306dd64a6c8",
   "metadata": {},
   "outputs": [
    {
     "name": "stdout",
     "output_type": "stream",
     "text": [
      "Michael Jackson\n"
     ]
    }
   ],
   "source": [
    "#Works well with strings too\n",
    "def add(a,b):\n",
    "    c = a+b\n",
    "    print(c)\n",
    "add(\"Michael\", \" Jackson\")"
   ]
  },
  {
   "cell_type": "code",
   "execution_count": 106,
   "id": "969c31f8-ad27-4c5f-8d38-2f0378abe9f0",
   "metadata": {},
   "outputs": [
    {
     "name": "stdout",
     "output_type": "stream",
     "text": [
      "10 plus 100 equals 110\n",
      "110\n"
     ]
    }
   ],
   "source": [
    "#adding some context on the function\n",
    "def add(a):\n",
    "    b = a+100\n",
    "    print(a, \"plus 100 equals\", b)\n",
    "    return b\n",
    "result = add(10)\n",
    "print(result)"
   ]
  },
  {
   "cell_type": "code",
   "execution_count": 114,
   "id": "0edfb4ec-9c02-4df7-8bee-ef7410853113",
   "metadata": {},
   "outputs": [
    {
     "name": "stdout",
     "output_type": "stream",
     "text": [
      "Hello Nabin\n"
     ]
    }
   ],
   "source": [
    "def greet(name):\n",
    "    a = \"Hello \" + name\n",
    "    return a\n",
    "prompt = greet(\"Nabin\")\n",
    "print(prompt)"
   ]
  },
  {
   "cell_type": "markdown",
   "id": "a4eac5ca-c190-4567-b038-587fd3aa099c",
   "metadata": {},
   "source": [
    "#### using loops with functions"
   ]
  },
  {
   "cell_type": "code",
   "execution_count": 104,
   "id": "3766d5b1-fc98-48ff-920a-2196336b2cc3",
   "metadata": {},
   "outputs": [
    {
     "name": "stdout",
     "output_type": "stream",
     "text": [
      "Album Black falls in shelf 0\n",
      "Album Damage inc. falls in shelf 1\n",
      "Album St. Anger falls in shelf 2\n",
      "Album Death Magnetic falls in shelf 3\n"
     ]
    }
   ],
   "source": [
    "Metallica_Albums =[\"Black\", \"Damage inc.\", \"St. Anger\", \"Death Magnetic\"]\n",
    "def categorize(files):\n",
    "    for i,j in enumerate(Metallica_Albums):\n",
    "        print(f\"Album {j} falls in shelf {i}\")\n",
    "categorize(Metallica_Albums)"
   ]
  },
  {
   "cell_type": "markdown",
   "id": "711b6f94-4636-4120-a455-41fb4feaba91",
   "metadata": {},
   "source": [
    "#### working with append and remove method with def function"
   ]
  },
  {
   "cell_type": "code",
   "execution_count": 120,
   "id": "e4a87754-a522-460c-970a-5ac05f8df66f",
   "metadata": {},
   "outputs": [
    {
     "data": {
      "text/plain": [
       "['crozax', 45, 'seven7', 54, 7]"
      ]
     },
     "execution_count": 120,
     "metadata": {},
     "output_type": "execute_result"
    }
   ],
   "source": [
    "data = [\"crozax\", 45, \"seven7\", 54]\n",
    "def addelement(data, element):\n",
    "    c = data.append(element)\n",
    "    return c\n",
    "addelement(data, 7)\n",
    "data"
   ]
  },
  {
   "cell_type": "code",
   "execution_count": 126,
   "id": "ae4d7e36-550d-4b6b-bac8-b0a7f7365c24",
   "metadata": {},
   "outputs": [
    {
     "data": {
      "text/plain": [
       "['crozax', 'seven7', 54, 7]"
      ]
     },
     "execution_count": 126,
     "metadata": {},
     "output_type": "execute_result"
    }
   ],
   "source": [
    "def removeelement(data, element):\n",
    "    z = data.remove(element)\n",
    "    return z\n",
    "removeelement(data, 45)\n",
    "data"
   ]
  },
  {
   "cell_type": "markdown",
   "id": "cd1fbc88-e700-49a3-84d5-1eec500e2a30",
   "metadata": {},
   "source": [
    "#### applying fuctions with loops"
   ]
  },
  {
   "cell_type": "code",
   "execution_count": 167,
   "id": "2cc58ba0-aacd-4167-9e44-0e384e585bcf",
   "metadata": {},
   "outputs": [
    {
     "name": "stdout",
     "output_type": "stream",
     "text": [
      "insufficient value\n"
     ]
    }
   ],
   "source": [
    "def equation(a,b):\n",
    "    z = a*5 + b*5 - a*b    \n",
    "#    return z\n",
    "    if z<25:\n",
    "        print(\"insufficient value\")\n",
    "    else:\n",
    "        print(\"sufficient value\")\n",
    "equation(2,2)"
   ]
  },
  {
   "cell_type": "code",
   "execution_count": 185,
   "id": "9c8d7326-2122-4564-ad8e-50e9e8b49bd1",
   "metadata": {},
   "outputs": [
    {
     "data": {
      "text/plain": [
       "5.0"
      ]
     },
     "execution_count": 185,
     "metadata": {},
     "output_type": "execute_result"
    }
   ],
   "source": [
    "def ratings(bandname):\n",
    "    if bandname == \"metallica\": #use \"==\" when working with strings opposed to integers\n",
    "        return 10.0\n",
    "    else:\n",
    "        return 5.0\n",
    "ratings(\"megadeth\")"
   ]
  },
  {
   "cell_type": "code",
   "execution_count": 220,
   "id": "db864cb9-7251-46a3-9d36-645114941cee",
   "metadata": {},
   "outputs": [
    {
     "name": "stdout",
     "output_type": "stream",
     "text": [
      "My favourite food is rice\n",
      "its ok\n",
      "Brocoli is:  None\n",
      "yummy\n",
      "spaghetti is:  None\n"
     ]
    }
   ],
   "source": [
    "favouritefood = \"rice\"\n",
    "def ratings(food):\n",
    "    if food == \"spaghetti\":\n",
    "        print(\"yummy\")\n",
    "    else:\n",
    "        print(\"its ok\")\n",
    "\n",
    "print(f\"My favourite food is {favouritefood}\")\n",
    "print(\"Brocoli is: \", ratings(\"broco\"))\n",
    "print(\"spaghetti is: \", ratings(\"spaghetti\"))"
   ]
  },
  {
   "cell_type": "markdown",
   "id": "ce814983-5cdf-421f-9b4c-4c5ea967499d",
   "metadata": {},
   "source": [
    "# Exception handling"
   ]
  },
  {
   "cell_type": "code",
   "execution_count": 249,
   "id": "7d1096e2-5621-4782-857a-d03eac301eb7",
   "metadata": {},
   "outputs": [
    {
     "name": "stdin",
     "output_type": "stream",
     "text": [
      "Please enter a number to divide a:  df\n"
     ]
    },
    {
     "name": "stdout",
     "output_type": "stream",
     "text": [
      "there was an error\n",
      "function exited\n"
     ]
    }
   ],
   "source": [
    "a = 5\n",
    "try:\n",
    "    b = int(input(\"Please enter a number to divide a: \"))\n",
    "    a = a/b\n",
    "    print(a)\n",
    "except:\n",
    "    print(\"there was an error\")\n",
    "print(\"function exited\")"
   ]
  },
  {
   "cell_type": "code",
   "execution_count": 258,
   "id": "17e15f72-cafa-4c62-b461-f7a36e95e448",
   "metadata": {},
   "outputs": [
    {
     "name": "stdin",
     "output_type": "stream",
     "text": [
      "please enter a number to divide a  des\n"
     ]
    },
    {
     "name": "stdout",
     "output_type": "stream",
     "text": [
      "use numbers only\n"
     ]
    }
   ],
   "source": [
    "#making it a bit more sophisticated\n",
    "a = 5\n",
    "try:\n",
    "    b = int(input(\"please enter a number to divide a \"))\n",
    "    a = a/b\n",
    "except ZeroDivisionError:\n",
    "    print(\"know your maths\")\n",
    "except ValueError:\n",
    "    print(\"use numbers only\")"
   ]
  },
  {
   "cell_type": "code",
   "execution_count": 274,
   "id": "95678235-47b5-4595-8854-e8f7e850342f",
   "metadata": {},
   "outputs": [
    {
     "name": "stdin",
     "output_type": "stream",
     "text": [
      "please enter a number to divide a  45\n"
     ]
    },
    {
     "name": "stdout",
     "output_type": "stream",
     "text": [
      "your remainder is:  0.1111111111111111\n",
      "moving on anyway\n"
     ]
    }
   ],
   "source": [
    "#even more systematic and robust\n",
    "a = 5\n",
    "try:\n",
    "    b = int(input(\"please enter a number to divide a \"))\n",
    "    a = a/b\n",
    "except ZeroDivsionError:\n",
    "    print(\"know your maths\")\n",
    "except ValueError:\n",
    "    print(\"type numbers only\")\n",
    "except:\n",
    "    print(\"unknown error has occured\")\n",
    "else:\n",
    "    print(\"your remainder is: \", a)\n",
    "finally:\n",
    "    print(\"moving on anyway\")"
   ]
  },
  {
   "cell_type": "code",
   "execution_count": 298,
   "id": "f48afad4-2c55-4f88-8278-677ccf7e41c8",
   "metadata": {},
   "outputs": [
    {
     "data": {
      "text/plain": [
       "6.666666666666667"
      ]
     },
     "execution_count": 298,
     "metadata": {},
     "output_type": "execute_result"
    }
   ],
   "source": [
    "#this way you need to have fixed value of numerator to begin with\n",
    "def safe_divide(numerator, denominator):\n",
    "    try:\n",
    "        ans = numerator/denominator\n",
    "        return ans\n",
    "    except ZeroDivisionError:\n",
    "        print(\"Error: Cannot divide by Zero\")\n",
    "    except ValueError:\n",
    "        print(\"Error: Use numbers only\")\n",
    "safe_divide(20, 3)"
   ]
  },
  {
   "cell_type": "code",
   "execution_count": 315,
   "id": "06c07892-f7bc-45cb-85e4-65cdecaef38d",
   "metadata": {},
   "outputs": [
    {
     "name": "stdin",
     "output_type": "stream",
     "text": [
      "please enter a number to proceed with:  dws\n"
     ]
    },
    {
     "name": "stdout",
     "output_type": "stream",
     "text": [
      "Unknown error occured\n"
     ]
    }
   ],
   "source": [
    "try:\n",
    "    num = int(input(\"please enter a number to proceed with: \"))\n",
    "    result = num/(num-5)\n",
    "    print(result)\n",
    "except:\n",
    "    print(\"Unknown error occured\")"
   ]
  },
  {
   "cell_type": "code",
   "execution_count": 310,
   "id": "29381292-57b4-4967-9799-fb285e6f204e",
   "metadata": {},
   "outputs": [
    {
     "name": "stdin",
     "output_type": "stream",
     "text": [
      "please enter a value to find square root of:  30\n"
     ]
    },
    {
     "name": "stdout",
     "output_type": "stream",
     "text": [
      "5.477225575051661\n"
     ]
    }
   ],
   "source": [
    "try:\n",
    "    value = int(input(\"please enter a value to find square root of: \"))\n",
    "    sqrt = value ** 0.5\n",
    "    print(sqrt)\n",
    "except ValueError:\n",
    "    print(\"type positive integers only\") "
   ]
  },
  {
   "cell_type": "markdown",
   "id": "43a20a4d-661f-440d-92f3-bb36e689c56b",
   "metadata": {},
   "source": [
    "#### Date of birth recording"
   ]
  },
  {
   "cell_type": "code",
   "execution_count": 254,
   "id": "f163b74d-2283-4245-ad34-160b7bb4f54f",
   "metadata": {},
   "outputs": [
    {
     "name": "stdin",
     "output_type": "stream",
     "text": [
      "please enter your date of birth:  125fd\n"
     ]
    },
    {
     "name": "stdout",
     "output_type": "stream",
     "text": [
      "please type numbers only\n"
     ]
    }
   ],
   "source": [
    "try:\n",
    "    DOB = int(input(\"please enter your date of birth: \"))\n",
    "    print(DOB)\n",
    "except:\n",
    "    print(\"please type numbers only\")"
   ]
  },
  {
   "cell_type": "markdown",
   "id": "8174d85c-ae63-4422-906d-e3b4712f279e",
   "metadata": {},
   "source": [
    "# Objects and Classes"
   ]
  },
  {
   "cell_type": "markdown",
   "id": "5311a8df-340a-4847-b660-ab98da9ddc6b",
   "metadata": {},
   "source": [
    "### Circle Objects"
   ]
  },
  {
   "cell_type": "code",
   "execution_count": 419,
   "id": "63c7d433-3634-4d89-99fc-024105d51ce1",
   "metadata": {},
   "outputs": [],
   "source": [
    "import matplotlib.pyplot as plt\n",
    "%matplotlib inline\n",
    "\n",
    "class Circle(object):\n",
    "    def __init__ (self, radius=3, color=\"green\"):\n",
    "        self.radius = radius\n",
    "        self.color = color\n",
    "        \n",
    "    def drawcircle(self):\n",
    "        plt.gca().add_patch(plt.Circle((0,0), radius=self.circle, fc=self.color))\n",
    "        plt.axis('scaled')\n",
    "        plt.show"
   ]
  },
  {
   "cell_type": "code",
   "execution_count": 421,
   "id": "d4fb71c6-b766-44bb-88f7-8492c2473ac7",
   "metadata": {},
   "outputs": [],
   "source": [
    "RedCircle = Circle(5, 'red')"
   ]
  },
  {
   "cell_type": "code",
   "execution_count": 423,
   "id": "651cd1a5-cd0a-4c8d-a250-643d09480b82",
   "metadata": {},
   "outputs": [
    {
     "data": {
      "text/plain": [
       "5"
      ]
     },
     "execution_count": 423,
     "metadata": {},
     "output_type": "execute_result"
    }
   ],
   "source": [
    "RedCircle.radius"
   ]
  },
  {
   "cell_type": "code",
   "execution_count": 425,
   "id": "7cbeca22-e4ae-4ccb-a1a8-12ddc6b3ce10",
   "metadata": {},
   "outputs": [
    {
     "data": {
      "text/plain": [
       "'red'"
      ]
     },
     "execution_count": 425,
     "metadata": {},
     "output_type": "execute_result"
    }
   ],
   "source": [
    "RedCircle.color"
   ]
  },
  {
   "cell_type": "code",
   "execution_count": 427,
   "id": "46a4d826-ab51-4fc6-ad4e-232f2014e07c",
   "metadata": {},
   "outputs": [
    {
     "ename": "AttributeError",
     "evalue": "'Circle' object has no attribute 'drawCircle'",
     "output_type": "error",
     "traceback": [
      "\u001b[1;31m---------------------------------------------------------------------------\u001b[0m",
      "\u001b[1;31mAttributeError\u001b[0m                            Traceback (most recent call last)",
      "Cell \u001b[1;32mIn[427], line 1\u001b[0m\n\u001b[1;32m----> 1\u001b[0m RedCircle\u001b[38;5;241m.\u001b[39mdrawCircle()\n",
      "\u001b[1;31mAttributeError\u001b[0m: 'Circle' object has no attribute 'drawCircle'"
     ]
    }
   ],
   "source": [
    "RedCircle.drawCircle()"
   ]
  },
  {
   "cell_type": "markdown",
   "id": "3c605d9a-cf8d-4b61-b0b7-a3f3f8f84bbb",
   "metadata": {},
   "source": [
    "### Rectangular Objects"
   ]
  },
  {
   "cell_type": "code",
   "execution_count": 429,
   "id": "1c60db9a-9f3e-4044-b272-34dd7701cc30",
   "metadata": {},
   "outputs": [],
   "source": [
    "class Rectangle(object):\n",
    "    def __init__(self, width=3, height=5, color ='red'):\n",
    "        self.width = width\n",
    "        self.height = height\n",
    "\n",
    "    def drawrectangle(self):\n",
    "        plt.gca.add_patch(plt.Rectangle((0,0), self.width, self.height, fcself.color))\n",
    "        plt.axis('scaled')\n",
    "        plt.show    "
   ]
  },
  {
   "cell_type": "code",
   "execution_count": 431,
   "id": "ec1a08c0-8f36-4ca4-8136-3c8b0ad14025",
   "metadata": {},
   "outputs": [
    {
     "ename": "AttributeError",
     "evalue": "'Rectangle' object has no attribute 'drawRectangle'",
     "output_type": "error",
     "traceback": [
      "\u001b[1;31m---------------------------------------------------------------------------\u001b[0m",
      "\u001b[1;31mAttributeError\u001b[0m                            Traceback (most recent call last)",
      "Cell \u001b[1;32mIn[431], line 2\u001b[0m\n\u001b[0;32m      1\u001b[0m BlueRectangle \u001b[38;5;241m=\u001b[39m Rectangle(\u001b[38;5;241m5\u001b[39m, \u001b[38;5;241m10\u001b[39m, \u001b[38;5;124m'\u001b[39m\u001b[38;5;124mblue\u001b[39m\u001b[38;5;124m'\u001b[39m)\n\u001b[1;32m----> 2\u001b[0m BlueRectangle\u001b[38;5;241m.\u001b[39mdrawRectangle()\n",
      "\u001b[1;31mAttributeError\u001b[0m: 'Rectangle' object has no attribute 'drawRectangle'"
     ]
    }
   ],
   "source": [
    "BlueRectangle = Rectangle(5, 10, 'blue')\n",
    "BlueRectangle.drawRectangle()"
   ]
  },
  {
   "cell_type": "markdown",
   "id": "724648d9-e022-42e9-9900-1f41060f0fec",
   "metadata": {},
   "source": [
    "### Other Physical Objects of certain attributes "
   ]
  },
  {
   "cell_type": "code",
   "execution_count": 596,
   "id": "a124b366-aae0-4cc2-a8ed-3e006d4f5f86",
   "metadata": {},
   "outputs": [],
   "source": [
    "#defining the properties of the vehicle\n",
    "class Vehicle:\n",
    "    def __init__(self, max_speed, mileage, engine_size, color):\n",
    "        self.max_speed = max_speed\n",
    "        self.mileage = mileage\n",
    "        self.engine_size = engine_size\n",
    "        self.color = color"
   ]
  },
  {
   "cell_type": "code",
   "execution_count": 598,
   "id": "f1d34197-b1c5-46f0-a6a5-359b4d6c477d",
   "metadata": {},
   "outputs": [],
   "source": [
    "#setting a default and common property for the vehicle\n",
    "class Vehicle:\n",
    "    vehicle_type = \"sports\"\n",
    "    def __init__(self, max_speed, mileage, engine_size, color):\n",
    "        self.max_speed = max_speed\n",
    "        self.mileage = mileage\n",
    "        self.engine_size = engine_size\n",
    "        self.color = color"
   ]
  },
  {
   "cell_type": "code",
   "execution_count": 600,
   "id": "fc464860-84f0-4a13-a93d-66eb1f02e959",
   "metadata": {},
   "outputs": [
    {
     "ename": "AttributeError",
     "evalue": "'Vehicle' object has no attribute 'display_properties'",
     "output_type": "error",
     "traceback": [
      "\u001b[1;31m---------------------------------------------------------------------------\u001b[0m",
      "\u001b[1;31mAttributeError\u001b[0m                            Traceback (most recent call last)",
      "Cell \u001b[1;32mIn[600], line 14\u001b[0m\n\u001b[0;32m     12\u001b[0m Vehicle1 \u001b[38;5;241m=\u001b[39m Vehicle(\u001b[38;5;241m390\u001b[39m, \u001b[38;5;241m8\u001b[39m, \u001b[38;5;241m4500\u001b[39m, \u001b[38;5;124m'\u001b[39m\u001b[38;5;124mred\u001b[39m\u001b[38;5;124m'\u001b[39m)\n\u001b[0;32m     13\u001b[0m Vehicle1\u001b[38;5;241m.\u001b[39massign_gearbox(\u001b[38;5;124m'\u001b[39m\u001b[38;5;124mmanual_shift\u001b[39m\u001b[38;5;124m'\u001b[39m)\n\u001b[1;32m---> 14\u001b[0m Vehicle1\u001b[38;5;241m.\u001b[39mdisplay_properties()\n",
      "\u001b[1;31mAttributeError\u001b[0m: 'Vehicle' object has no attribute 'display_properties'"
     ]
    }
   ],
   "source": [
    "#assigning extra features to the vehicle\n",
    "class Vehicle:\n",
    "    vehicle_type = \"sports\"\n",
    "    def __init__(self, max_speed, mileage, engine_size, color):\n",
    "        self.max_speed = max_speed\n",
    "        self.mileage = mileage\n",
    "        self.engine_size = engine_size\n",
    "        self.color = color\n",
    "    def assign_gearbox(self, gearbox):\n",
    "        self.gearbox = gearbox\n",
    "\n",
    "Vehicle1 = Vehicle(390, 8, 4500, 'red')\n",
    "Vehicle1.assign_gearbox('manual_shift')\n",
    "Vehicle1.display_properties()"
   ]
  },
  {
   "cell_type": "code",
   "execution_count": 467,
   "id": "31ec6d68-f5dd-454c-980a-10e326721bf4",
   "metadata": {},
   "outputs": [],
   "source": [
    "#Assigning speed limits to the car\n",
    "class Vehicle:\n",
    "    max_speed = 300\n",
    "    def __init__(self, make, mileage, engine_capacity, color, speed=0):\n",
    "        self.make = make\n",
    "        self.mileage = mileage\n",
    "        self.engine_capacity = engine_capacity\n",
    "        self.speed = speed\n",
    "        \n",
    "    def acceleration(self, acceleration):\n",
    "        if self.speed + acceleration <= Car.max_speed:\n",
    "            self.speed += acceleration\n",
    "        else:\n",
    "            self.speed = max_speed"
   ]
  },
  {
   "cell_type": "code",
   "execution_count": 474,
   "id": "dea14583-5f04-4939-ab58-f1834422e8c7",
   "metadata": {},
   "outputs": [
    {
     "ename": "AttributeError",
     "evalue": "'Vehicle' object has no attribute 'accelerate'",
     "output_type": "error",
     "traceback": [
      "\u001b[1;31m---------------------------------------------------------------------------\u001b[0m",
      "\u001b[1;31mAttributeError\u001b[0m                            Traceback (most recent call last)",
      "Cell \u001b[1;32mIn[474], line 2\u001b[0m\n\u001b[0;32m      1\u001b[0m car1 \u001b[38;5;241m=\u001b[39m Vehicle(\u001b[38;5;124m\"\u001b[39m\u001b[38;5;124mToyota\u001b[39m\u001b[38;5;124m\"\u001b[39m, \u001b[38;5;241m15\u001b[39m, \u001b[38;5;241m2500\u001b[39m, \u001b[38;5;124m\"\u001b[39m\u001b[38;5;124mblue\u001b[39m\u001b[38;5;124m\"\u001b[39m)\n\u001b[1;32m----> 2\u001b[0m car1\u001b[38;5;241m.\u001b[39maccelerate(\u001b[38;5;241m200\u001b[39m)\n",
      "\u001b[1;31mAttributeError\u001b[0m: 'Vehicle' object has no attribute 'accelerate'"
     ]
    }
   ],
   "source": [
    "car1 = Vehicle(\"Toyota\", 15, 2500, \"blue\")\n",
    "car1.accelerate(200)"
   ]
  },
  {
   "cell_type": "markdown",
   "id": "20bb13ba-1dea-4bd9-b286-a3cdeda9bdc3",
   "metadata": {},
   "source": [
    "# Reading and Writing files with \"with\" agrument"
   ]
  },
  {
   "cell_type": "markdown",
   "id": "c3870a2e-c789-4b84-9551-d1dbbf7fe749",
   "metadata": {},
   "source": [
    "### Reading a file"
   ]
  },
  {
   "cell_type": "code",
   "execution_count": 10,
   "id": "4088558f-ad51-4d99-ac71-ab45b9b6f15d",
   "metadata": {},
   "outputs": [
    {
     "name": "stdout",
     "output_type": "stream",
     "text": [
      "Nexus HHS rule of thumb\n",
      "Hybrid crop breeds/species has been mistakenly used against imported commercial crop species only to observe the status of NUS. Anyway, we will still have to make do with what we got and proxy it for imported crop per se\n",
      "\n",
      "We are actually supposed to not populate reason behind non-adoption of cleaner technology for household that at least use LPG or electricity but we are\n",
      "\n",
      "Conflicting responses should be red-flagged\n",
      "\n",
      "If no effects have been responded, no effect needs to be ticked. That can be done later though\n",
      "\n",
      "Direct rain is automatically a source of water farmers rely on. So, something  should be done about moderating it\n",
      "\n",
      "Most if not all people will use traditional biomass to certain extent despite owning clean technology due to cost-effectiveness and usefulness for making cow meal. Willingness to transition to cleaner energy or partial or muted use of clean technology is mostly/only related to cooking and heating purposes (fuelwood versus LPG?induction)\n",
      "\n",
      "If a person is not using cleaner source of energy in full, his/her willingness to transition to cleaner energy will make additional information. This cann be taken as a seperate section that deem analysis\n",
      "\n",
      "\n",
      "During the analysis phase, coding the answers into (0, 1, 2, 3, 4) should be done\n",
      "\n",
      "Loss by HWC in terms of estimated amount does not a standardization value. But i think loss per cropping season makes most sense\n",
      "\n",
      "Number of years since IAPS was sighted can be placed on a different column by making a different question for it. Average sighting on different locations can help let know if the sightings were first observed in lowland then moving upwards \n",
      "\n",
      "After the first phase of cleaning, rather than try to reclean the data again, sub-sections should be developed where seperate analysis can be performed, and data should be cleaned accordingly if required\n",
      "\n",
      "To be honest, all household should be dependent on direct rain if not as complementary. Households that only depend on direct rain should stand out. Their analysis regarding farming choices should be carefully observed\n",
      "\n",
      "The nature of crop that a household plants (indigenous and/or hybrid) can be compared with the comparative advantage the person finds between the two types of crops regarding certain factor\n",
      "\n",
      "Ability to harvest fuelwood as much as one wants can be compared with decision of household to practice agroforestry specially for collecting additional fuelwood and fodder\\\n",
      "\n",
      "Households that only use fuelwood for cooking purpose should also be noted with keen interest. \n",
      "\n",
      "Look out for initial crop-effectiveness of indigenous versus hybrid crop species, it is reversed!\n"
     ]
    }
   ],
   "source": [
    "with open('file.txt', 'r') as file:\n",
    "    file_stuff = file.read()\n",
    "    print(file_stuff)"
   ]
  },
  {
   "cell_type": "code",
   "execution_count": 537,
   "id": "caa8096c-761d-4fc5-879b-4626a3eff620",
   "metadata": {},
   "outputs": [
    {
     "name": "stdout",
     "output_type": "stream",
     "text": [
      "this is important\n"
     ]
    }
   ],
   "source": [
    "#random code to tell if the document has certain words of significance \n",
    "file = open('file.txt', 'r')\n",
    "for lines in file:\n",
    "    if \"HHS\" in lines:\n",
    "        print(\"this is important\")\n",
    "    else:\n",
    "        pass"
   ]
  },
  {
   "cell_type": "code",
   "execution_count": 547,
   "id": "6f80506f-1d39-4b12-af5b-70071fc7afec",
   "metadata": {},
   "outputs": [
    {
     "data": {
      "text/plain": [
       "' used against importe'"
      ]
     },
     "execution_count": 547,
     "metadata": {},
     "output_type": "execute_result"
    }
   ],
   "source": [
    "file.read(21)"
   ]
  },
  {
   "cell_type": "code",
   "execution_count": 553,
   "id": "a1c70329-a569-4955-a8aa-c115a8cdadfa",
   "metadata": {},
   "outputs": [
    {
     "name": "stdout",
     "output_type": "stream",
     "text": [
      "line1 is We are actually supposed to not populate reason behind non-adoption of cleaner technology for household that at least use LPG or electricity but we are\n",
      "\n"
     ]
    }
   ],
   "source": [
    "#just indexing the line with the word\n",
    "print(\"line1 is\", file.readline())"
   ]
  },
  {
   "cell_type": "markdown",
   "id": "e0367f95-9971-4058-a35f-58e5cff1c76a",
   "metadata": {},
   "source": [
    "### writing a file"
   ]
  },
  {
   "cell_type": "code",
   "execution_count": 555,
   "id": "b1d6731b-0d72-4717-afee-06060d24eef8",
   "metadata": {},
   "outputs": [],
   "source": [
    "with open('empty.txt', 'w') as file:\n",
    "    file.write(\"This is line A\\n\")\n",
    "    file.write(\"This is line B\\n\")"
   ]
  },
  {
   "cell_type": "code",
   "execution_count": 566,
   "id": "a696d40d-e711-478c-836e-b6b5b88f4d54",
   "metadata": {},
   "outputs": [],
   "source": [
    "Line = [\"This is a code1\", \"This is code2\", \"This is code3\"]\n",
    "with open('empty.txt', 'w') as file:\n",
    "    for lines in Line:\n",
    "        file.write(lines + \"\\n\")\n",
    "#lines were succesfully written in empty.txt)"
   ]
  },
  {
   "cell_type": "code",
   "execution_count": 574,
   "id": "0cb10841-8339-4381-b43f-38bb98e79bf3",
   "metadata": {},
   "outputs": [],
   "source": [
    "#Need to write new line without rewriting the file\n",
    "New_line = [\"This is a code4\"]\n",
    "with open('empty.txt', 'a') as file:\n",
    "    for lines in New_line:\n",
    "        file.write(lines + \"\\n\")"
   ]
  },
  {
   "cell_type": "markdown",
   "id": "d6b33a12-f2f5-4be1-b9db-16f188c01362",
   "metadata": {},
   "source": [
    "### Copying a file"
   ]
  },
  {
   "cell_type": "code",
   "execution_count": 594,
   "id": "c94fbc5e-a3ca-4029-a140-04230e60ac31",
   "metadata": {},
   "outputs": [],
   "source": [
    "with open('file.txt', 'r') as source_file:\n",
    "    with open('empty.txt', 'w') as destination_file:\n",
    "        for lines in source_file:\n",
    "            destination_file.write(lines)\n",
    "#Files were succesfully copied"
   ]
  }
 ],
 "metadata": {
  "kernelspec": {
   "display_name": "Python [conda env:base] *",
   "language": "python",
   "name": "conda-base-py"
  },
  "language_info": {
   "codemirror_mode": {
    "name": "ipython",
    "version": 3
   },
   "file_extension": ".py",
   "mimetype": "text/x-python",
   "name": "python",
   "nbconvert_exporter": "python",
   "pygments_lexer": "ipython3",
   "version": "3.12.7"
  }
 },
 "nbformat": 4,
 "nbformat_minor": 5
}
