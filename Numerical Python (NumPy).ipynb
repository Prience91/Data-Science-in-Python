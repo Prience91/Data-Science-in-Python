{
 "cells": [
  {
   "cell_type": "code",
   "execution_count": 274,
   "id": "db60f485-c330-4cbe-8629-dcfaaf041b40",
   "metadata": {},
   "outputs": [],
   "source": [
    "import numpy as np"
   ]
  },
  {
   "cell_type": "code",
   "execution_count": 276,
   "id": "a206e254-4b09-4ea3-9207-747185cfb81b",
   "metadata": {},
   "outputs": [
    {
     "name": "stdout",
     "output_type": "stream",
     "text": [
      "1.26.4\n"
     ]
    }
   ],
   "source": [
    "print(np.__version__)"
   ]
  },
  {
   "cell_type": "code",
   "execution_count": 278,
   "id": "05a31f45-786e-4e52-af99-470ffd7a70fe",
   "metadata": {},
   "outputs": [
    {
     "data": {
      "text/plain": [
       "array([3, 4, 5, 7])"
      ]
     },
     "execution_count": 278,
     "metadata": {},
     "output_type": "execute_result"
    }
   ],
   "source": [
    "a  = np.array([3, 4, 5, 7])\n",
    "a"
   ]
  },
  {
   "cell_type": "code",
   "execution_count": 280,
   "id": "22e65c18-be94-4ddf-8583-530ecfd54cc6",
   "metadata": {},
   "outputs": [
    {
     "data": {
      "text/plain": [
       "array([ 3,  4, 10,  7])"
      ]
     },
     "execution_count": 280,
     "metadata": {},
     "output_type": "execute_result"
    }
   ],
   "source": [
    "#editing the values in the array. Arrays are mutable\n",
    "a[2]=10\n",
    "a"
   ]
  },
  {
   "cell_type": "code",
   "execution_count": 282,
   "id": "59165ef9-b811-4273-8218-5af0207f2604",
   "metadata": {},
   "outputs": [
    {
     "data": {
      "text/plain": [
       "array([ 4, 10])"
      ]
     },
     "execution_count": 282,
     "metadata": {},
     "output_type": "execute_result"
    }
   ],
   "source": [
    "#Slicing arrays\n",
    "a[1:3]"
   ]
  },
  {
   "cell_type": "code",
   "execution_count": 284,
   "id": "cd56e744-8472-4430-a580-7f4b4d454274",
   "metadata": {},
   "outputs": [
    {
     "data": {
      "text/plain": [
       "array([ 14,   1, 564])"
      ]
     },
     "execution_count": 284,
     "metadata": {},
     "output_type": "execute_result"
    }
   ],
   "source": [
    "#slicing with space\n",
    "b = np.array([12, 14, 35, 1, 34, 564, 65, 78, 44])\n",
    "b[1:7:2]"
   ]
  },
  {
   "cell_type": "markdown",
   "id": "05bd7e9e-ad8d-46aa-8a29-86b1d3300f55",
   "metadata": {},
   "source": [
    "#### subsetting and value replacement"
   ]
  },
  {
   "cell_type": "code",
   "execution_count": 287,
   "id": "b6fe3cef-72af-46bb-bd31-21b4e69b2afb",
   "metadata": {},
   "outputs": [
    {
     "data": {
      "text/plain": [
       "array([ 14,   1, 564,  78])"
      ]
     },
     "execution_count": 287,
     "metadata": {},
     "output_type": "execute_result"
    }
   ],
   "source": [
    "#selecting or subsetting an array\n",
    "select = [1, 3, 5, 7]\n",
    "subset = b[select]\n",
    "subset"
   ]
  },
  {
   "cell_type": "code",
   "execution_count": 289,
   "id": "f50f9b60-3781-43e1-9ce0-31ff53fe5eed",
   "metadata": {},
   "outputs": [
    {
     "data": {
      "text/plain": [
       "array([  12, 1000,   35, 1000,   34, 1000,   65, 1000,   44])"
      ]
     },
     "execution_count": 289,
     "metadata": {},
     "output_type": "execute_result"
    }
   ],
   "source": [
    "#Multiple value replacement in the original value through the select list\n",
    "b[select]= 1000\n",
    "b"
   ]
  },
  {
   "cell_type": "markdown",
   "id": "1d1a2f2c-1766-467a-ad66-3f52dea28318",
   "metadata": {},
   "source": [
    "#### Basic array exploration"
   ]
  },
  {
   "cell_type": "code",
   "execution_count": 292,
   "id": "4237cdc4-e017-4397-a75b-0b0470662440",
   "metadata": {},
   "outputs": [
    {
     "data": {
      "text/plain": [
       "9"
      ]
     },
     "execution_count": 292,
     "metadata": {},
     "output_type": "execute_result"
    }
   ],
   "source": [
    "#exploring the array\n",
    "b.size"
   ]
  },
  {
   "cell_type": "code",
   "execution_count": 293,
   "id": "54ae3b46-b736-4115-8a61-91a2ddd38116",
   "metadata": {},
   "outputs": [
    {
     "data": {
      "text/plain": [
       "1"
      ]
     },
     "execution_count": 293,
     "metadata": {},
     "output_type": "execute_result"
    }
   ],
   "source": [
    "b.ndim"
   ]
  },
  {
   "cell_type": "code",
   "execution_count": 294,
   "id": "9832154f-e681-41f6-961a-107fbaef0041",
   "metadata": {},
   "outputs": [
    {
     "data": {
      "text/plain": [
       "(9,)"
      ]
     },
     "execution_count": 294,
     "metadata": {},
     "output_type": "execute_result"
    }
   ],
   "source": [
    "b.shape"
   ]
  },
  {
   "cell_type": "markdown",
   "id": "5ac4022f-7a9e-4398-9d09-5c23bfa3d01c",
   "metadata": {},
   "source": [
    "#### Descriptive statistics on array"
   ]
  },
  {
   "cell_type": "code",
   "execution_count": 296,
   "id": "25327b71-1d9b-435f-a0f4-1c65fa13fee6",
   "metadata": {},
   "outputs": [
    {
     "data": {
      "text/plain": [
       "1000"
      ]
     },
     "execution_count": 296,
     "metadata": {},
     "output_type": "execute_result"
    }
   ],
   "source": [
    "#general statistical analysis\n",
    "b.max()\n",
    "#b.mean()\n",
    "#b.std()"
   ]
  },
  {
   "cell_type": "code",
   "execution_count": 301,
   "id": "3f788b5f-1476-4be0-a427-b51df2aea0cd",
   "metadata": {},
   "outputs": [
    {
     "data": {
      "text/plain": [
       "12"
      ]
     },
     "execution_count": 301,
     "metadata": {},
     "output_type": "execute_result"
    }
   ],
   "source": [
    "b.min()"
   ]
  },
  {
   "cell_type": "code",
   "execution_count": 303,
   "id": "343b88a1-21f5-4bc0-bb47-750ef5c5cccf",
   "metadata": {},
   "outputs": [
    {
     "data": {
      "text/plain": [
       "465.55555555555554"
      ]
     },
     "execution_count": 303,
     "metadata": {},
     "output_type": "execute_result"
    }
   ],
   "source": [
    "b.mean()"
   ]
  },
  {
   "cell_type": "code",
   "execution_count": 305,
   "id": "135d1063-e8da-4ae5-9bac-68c2169c6339",
   "metadata": {},
   "outputs": [
    {
     "data": {
      "text/plain": [
       "478.19199098993033"
      ]
     },
     "execution_count": 305,
     "metadata": {},
     "output_type": "execute_result"
    }
   ],
   "source": [
    "b.std()"
   ]
  },
  {
   "cell_type": "code",
   "execution_count": 307,
   "id": "e45475e1-08d6-4258-b394-7f8dc88e3201",
   "metadata": {},
   "outputs": [
    {
     "data": {
      "text/plain": [
       "4190"
      ]
     },
     "execution_count": 307,
     "metadata": {},
     "output_type": "execute_result"
    }
   ],
   "source": [
    "b.sum()"
   ]
  },
  {
   "cell_type": "markdown",
   "id": "041b18d1-9432-4a46-ab1d-b4650b1e7764",
   "metadata": {},
   "source": [
    "#### Basic mathematical operations "
   ]
  },
  {
   "cell_type": "code",
   "execution_count": 310,
   "id": "5f64e88d-f155-4b08-9c6f-19d1b998227c",
   "metadata": {},
   "outputs": [],
   "source": [
    "A = np.linspace(1, 10, num = 5)\n",
    "B = np.linspace(2, 22, num = 5)\n"
   ]
  },
  {
   "cell_type": "code",
   "execution_count": 312,
   "id": "33e66338-935e-4c7e-98ad-6bf9d45e8d0c",
   "metadata": {},
   "outputs": [
    {
     "data": {
      "text/plain": [
       "array([ 3.  , 10.25, 17.5 , 24.75, 32.  ])"
      ]
     },
     "execution_count": 312,
     "metadata": {},
     "output_type": "execute_result"
    }
   ],
   "source": [
    "np.add(A, B)"
   ]
  },
  {
   "cell_type": "code",
   "execution_count": 387,
   "id": "f0471cbc-f4aa-4fe7-8aaa-cad2341c80c8",
   "metadata": {},
   "outputs": [
    {
     "data": {
      "text/plain": [
       "80"
      ]
     },
     "execution_count": 387,
     "metadata": {},
     "output_type": "execute_result"
    }
   ],
   "source": [
    "np.sum(A) #in opposed to \"add\", \"sum: method is used with aggregaring within the array than across acrrays"
   ]
  },
  {
   "cell_type": "code",
   "execution_count": 314,
   "id": "a3c7ccf3-8301-4bd0-820a-aec2229293e9",
   "metadata": {},
   "outputs": [
    {
     "data": {
      "text/plain": [
       "array([ -1.  ,  -3.75,  -6.5 ,  -9.25, -12.  ])"
      ]
     },
     "execution_count": 314,
     "metadata": {},
     "output_type": "execute_result"
    }
   ],
   "source": [
    "np.subtract(A, B)"
   ]
  },
  {
   "cell_type": "code",
   "execution_count": 316,
   "id": "b2d9db55-3d0c-4756-9f1f-82e82346438f",
   "metadata": {},
   "outputs": [
    {
     "data": {
      "text/plain": [
       "array([  2.  ,  22.75,  66.  , 131.75, 220.  ])"
      ]
     },
     "execution_count": 316,
     "metadata": {},
     "output_type": "execute_result"
    }
   ],
   "source": [
    "np.multiply(A, B)"
   ]
  },
  {
   "cell_type": "code",
   "execution_count": 318,
   "id": "dd8858b2-fc3b-49ae-a89f-85f5f2d4657f",
   "metadata": {},
   "outputs": [
    {
     "data": {
      "text/plain": [
       "array([0.5       , 0.46428571, 0.45833333, 0.45588235, 0.45454545])"
      ]
     },
     "execution_count": 318,
     "metadata": {},
     "output_type": "execute_result"
    }
   ],
   "source": [
    "np.divide(A, B)"
   ]
  },
  {
   "cell_type": "code",
   "execution_count": 320,
   "id": "acaa8a70-a641-40b5-8c2f-b65e0bbe9a95",
   "metadata": {},
   "outputs": [
    {
     "data": {
      "text/plain": [
       "442.5"
      ]
     },
     "execution_count": 320,
     "metadata": {},
     "output_type": "execute_result"
    }
   ],
   "source": [
    "#Scalar based dot product is possible with matrices with single row or column\n",
    "np.dot(A,B)"
   ]
  },
  {
   "cell_type": "code",
   "execution_count": 322,
   "id": "36b0e712-ccb7-470a-9507-607ae9846952",
   "metadata": {},
   "outputs": [
    {
     "data": {
      "text/plain": [
       "array([[ 300,  360,  420],\n",
       "       [ 660,  810,  960],\n",
       "       [1020, 1260, 1500]])"
      ]
     },
     "execution_count": 322,
     "metadata": {},
     "output_type": "execute_result"
    }
   ],
   "source": [
    "A = np.array([[1, 2, 3], [4, 5, 6], [7, 8, 9]])\n",
    "B = np.array([[10, 20, 30], [40, 50, 60], [70, 80, 90]])\n",
    "np.dot(A, B)"
   ]
  },
  {
   "cell_type": "markdown",
   "id": "d37445f2-072c-4983-abc2-754f438a7a6b",
   "metadata": {},
   "source": [
    "#### Creating a one-dim array using linsapce"
   ]
  },
  {
   "cell_type": "code",
   "execution_count": 363,
   "id": "5cec8b91-3716-488a-92d3-934fb970eaee",
   "metadata": {},
   "outputs": [
    {
     "data": {
      "text/plain": [
       "array([-1.        , -0.95918367, -0.91836735, -0.87755102, -0.83673469,\n",
       "       -0.79591837, -0.75510204, -0.71428571, -0.67346939, -0.63265306,\n",
       "       -0.59183673, -0.55102041, -0.51020408, -0.46938776, -0.42857143,\n",
       "       -0.3877551 , -0.34693878, -0.30612245, -0.26530612, -0.2244898 ,\n",
       "       -0.18367347, -0.14285714, -0.10204082, -0.06122449, -0.02040816,\n",
       "        0.02040816,  0.06122449,  0.10204082,  0.14285714,  0.18367347,\n",
       "        0.2244898 ,  0.26530612,  0.30612245,  0.34693878,  0.3877551 ,\n",
       "        0.42857143,  0.46938776,  0.51020408,  0.55102041,  0.59183673,\n",
       "        0.63265306,  0.67346939,  0.71428571,  0.75510204,  0.79591837,\n",
       "        0.83673469,  0.87755102,  0.91836735,  0.95918367,  1.        ])"
      ]
     },
     "execution_count": 363,
     "metadata": {},
     "output_type": "execute_result"
    }
   ],
   "source": [
    "Z = np.linspace(-1, 1, num = 50)\n",
    "Z"
   ]
  },
  {
   "cell_type": "code",
   "execution_count": 371,
   "id": "7712b40e-cbec-439d-8e73-9f9e4e951f4f",
   "metadata": {},
   "outputs": [
    {
     "data": {
      "text/plain": [
       "array([ 1,  4,  7, 10, 13, 16, 19, 22, 25, 28, 31, 34, 37, 40, 43, 46, 49])"
      ]
     },
     "execution_count": 371,
     "metadata": {},
     "output_type": "execute_result"
    }
   ],
   "source": [
    "y = np.arange(1, 50, 3) #the diff from linspace is that it does not creates 3 numbers but runs from 1 to 50 by\n",
    "                        #returning every third number\n",
    "y"
   ]
  },
  {
   "cell_type": "code",
   "execution_count": 324,
   "id": "20db3a30-d983-49b8-822a-5331a74b4981",
   "metadata": {},
   "outputs": [
    {
     "data": {
      "text/plain": [
       "<function matplotlib.pyplot.show(close=None, block=None)>"
      ]
     },
     "execution_count": 324,
     "metadata": {},
     "output_type": "execute_result"
    },
    {
     "data": {
      "image/png": "[encoded data removed]",
      "text/plain": [
       "<Figure size 640x480 with 1 Axes>"
      ]
     },
     "metadata": {},
     "output_type": "display_data"
    }
   ],
   "source": [
    "#Creating a beautiful oscilliation graph out of numpy and matplot lib\n",
    "import matplotlib.pyplot as plt\n",
    "A = np.linspace(0, 2*np.pi, num=100)\n",
    "B = np.sin(A)\n",
    "\n",
    "plt.plot(A, B)\n",
    "plt.show"
   ]
  },
  {
   "cell_type": "code",
   "execution_count": 325,
   "id": "316c740e-d4e9-4759-9cdf-021866867466",
   "metadata": {},
   "outputs": [
    {
     "name": "stdout",
     "output_type": "stream",
     "text": [
      "1\n",
      "2\n",
      "3\n",
      "5\n",
      "6\n",
      "7\n"
     ]
    }
   ],
   "source": [
    "#retrieving list out of array\n",
    "A = np.array([1, 2, 3, 5, 6, 7])\n",
    "for nums in A:\n",
    "    print(nums)\n"
   ]
  },
  {
   "cell_type": "markdown",
   "id": "67aeac76-5f03-47d9-825b-82820eaeb44f",
   "metadata": {},
   "source": [
    "#### Locating elements from a matrix (Slicing and Indexing)"
   ]
  },
  {
   "cell_type": "code",
   "execution_count": 329,
   "id": "82ee9680-fe62-475b-8fd6-3595ad6061f7",
   "metadata": {},
   "outputs": [
    {
     "data": {
      "text/plain": [
       "array([[1, 2, 3, 4],\n",
       "       [2, 3, 4, 5],\n",
       "       [5, 6, 7, 8],\n",
       "       [9, 8, 7, 6]])"
      ]
     },
     "execution_count": 329,
     "metadata": {},
     "output_type": "execute_result"
    }
   ],
   "source": [
    "A=np.array([[1, 2, 3, 4], [2, 3, 4, 5], [5, 6, 7, 8], [9, 8, 7, 6]])\n",
    "A"
   ]
  },
  {
   "cell_type": "code",
   "execution_count": 419,
   "id": "0b21bff3-3f53-4029-8349-d4fd55239a6b",
   "metadata": {},
   "outputs": [
    {
     "data": {
      "text/plain": [
       "array([[1, 2, 3, 4],\n",
       "       [2, 3, 4, 5]])"
      ]
     },
     "execution_count": 419,
     "metadata": {},
     "output_type": "execute_result"
    }
   ],
   "source": [
    "A[:2]#All columns and first two rows"
   ]
  },
  {
   "cell_type": "code",
   "execution_count": 427,
   "id": "6b44b747-b4eb-4a84-b0b9-63f6ada1d9ae",
   "metadata": {},
   "outputs": [
    {
     "data": {
      "text/plain": [
       "array([[1, 2],\n",
       "       [2, 3],\n",
       "       [5, 6],\n",
       "       [9, 8]])"
      ]
     },
     "execution_count": 427,
     "metadata": {},
     "output_type": "execute_result"
    }
   ],
   "source": [
    "A[:,:2]#All rows and first two columns"
   ]
  },
  {
   "cell_type": "code",
   "execution_count": 331,
   "id": "5e1fbcbf-3e05-46ab-989f-4a86f3fa711d",
   "metadata": {},
   "outputs": [
    {
     "data": {
      "text/plain": [
       "array([[1, 2],\n",
       "       [2, 3]])"
      ]
     },
     "execution_count": 331,
     "metadata": {},
     "output_type": "execute_result"
    }
   ],
   "source": [
    "A[0:2, 0:2]"
   ]
  },
  {
   "cell_type": "code",
   "execution_count": 333,
   "id": "5251bbe2-3015-4531-872e-98f71cd05861",
   "metadata": {},
   "outputs": [
    {
     "data": {
      "text/plain": [
       "array([[3, 4],\n",
       "       [6, 7]])"
      ]
     },
     "execution_count": 333,
     "metadata": {},
     "output_type": "execute_result"
    }
   ],
   "source": [
    "A[1:3, 1:3]"
   ]
  },
  {
   "cell_type": "code",
   "execution_count": 335,
   "id": "fcb39dc4-33b0-457e-8a68-7909e08a7b21",
   "metadata": {},
   "outputs": [
    {
     "data": {
      "text/plain": [
       "array([[2, 3, 4],\n",
       "       [3, 4, 5],\n",
       "       [6, 7, 8]])"
      ]
     },
     "execution_count": 335,
     "metadata": {},
     "output_type": "execute_result"
    }
   ],
   "source": [
    "A[0:3, 1:4]"
   ]
  },
  {
   "cell_type": "code",
   "execution_count": 406,
   "id": "90cf83e4-7839-4e69-a2b0-28078ba1258e",
   "metadata": {},
   "outputs": [
    {
     "data": {
      "text/plain": [
       "array([1, 4, 9, 6])"
      ]
     },
     "execution_count": 406,
     "metadata": {},
     "output_type": "execute_result"
    }
   ],
   "source": [
    "Selected_numbers = np.array([A[0,0], A[0,3], A[3,0], A[3,3]])#Making an array out of selected numbers from \n",
    "                                                             #the original matrices\n",
    "Selected_numbers"
   ]
  },
  {
   "cell_type": "markdown",
   "id": "019ac484-0a5a-4e76-a95d-cb423edee62d",
   "metadata": {},
   "source": [
    "#### Creating matrices out of matrix shape"
   ]
  },
  {
   "cell_type": "code",
   "execution_count": 338,
   "id": "0da91635-b8da-41af-a2cd-303f63ff973c",
   "metadata": {},
   "outputs": [
    {
     "data": {
      "text/plain": [
       "array([[1., 1., 1., 1., 1.],\n",
       "       [1., 1., 1., 1., 1.],\n",
       "       [1., 1., 1., 1., 1.],\n",
       "       [1., 1., 1., 1., 1.]])"
      ]
     },
     "execution_count": 338,
     "metadata": {},
     "output_type": "execute_result"
    }
   ],
   "source": [
    "np.ones((4, 5))"
   ]
  },
  {
   "cell_type": "code",
   "execution_count": 340,
   "id": "5edcd9f7-4ed4-465c-9e23-fa3cf1397cc5",
   "metadata": {},
   "outputs": [
    {
     "data": {
      "text/plain": [
       "array([[0., 0., 0., 0.],\n",
       "       [0., 0., 0., 0.],\n",
       "       [0., 0., 0., 0.]])"
      ]
     },
     "execution_count": 340,
     "metadata": {},
     "output_type": "execute_result"
    }
   ],
   "source": [
    "np.zeros((3, 4))"
   ]
  },
  {
   "cell_type": "code",
   "execution_count": 434,
   "id": "be8ea614-028a-478b-96fd-fe4403523b05",
   "metadata": {},
   "outputs": [
    {
     "data": {
      "text/plain": [
       "array([[0.11526009, 0.84650917, 0.03532055, 0.72261314, 0.50556605,\n",
       "        0.48852964, 0.44382724],\n",
       "       [0.17728248, 0.5251518 , 0.24626902, 0.21885394, 0.251434  ,\n",
       "        0.0794359 , 0.88640271],\n",
       "       [0.30193839, 0.01865677, 0.81517339, 0.9769199 , 0.25472272,\n",
       "        0.94753624, 0.49118255],\n",
       "       [0.06326817, 0.6013191 , 0.36632355, 0.32817824, 0.87911946,\n",
       "        0.62157151, 0.81937378],\n",
       "       [0.59974336, 0.40756458, 0.09825103, 0.41686982, 0.47055176,\n",
       "        0.52870064, 0.14628833]])"
      ]
     },
     "execution_count": 434,
     "metadata": {},
     "output_type": "execute_result"
    }
   ],
   "source": [
    "randy = np.random.rand(5,7) #as you can see when creating a randowm number, double brackets are not necessary\n",
    "randy "
   ]
  },
  {
   "cell_type": "code",
   "execution_count": 436,
   "id": "6debb5d7-3f0e-4c67-bc1b-435a90d2917e",
   "metadata": {},
   "outputs": [
    {
     "ename": "TypeError",
     "evalue": "Cannot construct a dtype from an array",
     "output_type": "error",
     "traceback": [
      "\u001b[1;31m---------------------------------------------------------------------------\u001b[0m",
      "\u001b[1;31mTypeError\u001b[0m                                 Traceback (most recent call last)",
      "Cell \u001b[1;32mIn[436], line 1\u001b[0m\n\u001b[1;32m----> 1\u001b[0m (randy\u001b[38;5;241m*\u001b[39m\u001b[38;5;241m10\u001b[39m)\u001b[38;5;241m.\u001b[39mastype(\u001b[38;5;28mint\u001b[39m)\n",
      "\u001b[1;31mTypeError\u001b[0m: Cannot construct a dtype from an array"
     ]
    }
   ],
   "source": [
    "(randy*10).astype(int) #trying to convert float into readable integers, this worked on other notebook)"
   ]
  },
  {
   "cell_type": "markdown",
   "id": "cadb2d6d-0651-4724-8a4a-736017cf4a5e",
   "metadata": {},
   "source": [
    "#### Using boolean to check if values in the arrays meets the given criteria"
   ]
  },
  {
   "cell_type": "code",
   "execution_count": 377,
   "id": "4bb341c4-ea80-4199-868c-e280590b2af1",
   "metadata": {},
   "outputs": [
    {
     "data": {
      "text/plain": [
       "array([[9.84679452, 2.95786968, 5.95563792, 8.00823296],\n",
       "       [3.51594629, 4.06168707, 5.72009552, 9.7673222 ],\n",
       "       [9.69023334, 9.26346998, 1.5736791 , 8.18407803],\n",
       "       [4.41457375, 2.03977771, 8.76278989, 7.54208889]])"
      ]
     },
     "execution_count": 377,
     "metadata": {},
     "output_type": "execute_result"
    }
   ],
   "source": [
    "T = np.random.rand(4, 4)*10\n",
    "T"
   ]
  },
  {
   "cell_type": "code",
   "execution_count": 383,
   "id": "5352efd7-2744-4c70-a488-47dcd825a7ae",
   "metadata": {},
   "outputs": [
    {
     "data": {
      "text/plain": [
       "array([[ True, False,  True,  True],\n",
       "       [False, False,  True,  True],\n",
       "       [ True,  True, False,  True],\n",
       "       [False, False,  True,  True]])"
      ]
     },
     "execution_count": 383,
     "metadata": {},
     "output_type": "execute_result"
    }
   ],
   "source": [
    "T > 5"
   ]
  },
  {
   "cell_type": "code",
   "execution_count": 414,
   "id": "52e251bf-790e-4cb0-89d8-bd67153253c5",
   "metadata": {},
   "outputs": [
    {
     "data": {
      "text/plain": [
       "array([9.84679452, 5.95563792, 8.00823296, 5.72009552, 9.7673222 ,\n",
       "       9.69023334, 9.26346998, 8.18407803, 8.76278989, 7.54208889])"
      ]
     },
     "execution_count": 414,
     "metadata": {},
     "output_type": "execute_result"
    }
   ],
   "source": [
    "T[T>5] #Creating an one dim aaray from values that meet the earlier condition "
   ]
  },
  {
   "cell_type": "markdown",
   "id": "7ec45139-1468-41c6-810c-ab42db961994",
   "metadata": {},
   "source": [
    "#### Another way to produce large matrices of random numbers in a click| "
   ]
  },
  {
   "cell_type": "code",
   "execution_count": 402,
   "id": "5cf3b77a-5c63-43e2-bdfe-91d434e1ee36",
   "metadata": {},
   "outputs": [
    {
     "data": {
      "text/plain": [
       "array([[10, 14, 18],\n",
       "       [22, 26, 30],\n",
       "       [34, 38, 42],\n",
       "       [46, 50, 54]])"
      ]
     },
     "execution_count": 402,
     "metadata": {},
     "output_type": "execute_result"
    }
   ],
   "source": [
    "Z = np.arange(10, 58, 4).reshape(4,3) #But it is very important to ensure you have created right number of \n",
    "                                      #elements that can build a matrix of certain shape\n",
    "Z"
   ]
  },
  {
   "cell_type": "markdown",
   "id": "1514963f-8cc5-4567-bd3b-c6acb089718b",
   "metadata": {},
   "source": [
    "#### Changing values in an array"
   ]
  },
  {
   "cell_type": "code",
   "execution_count": 447,
   "id": "fc6c7ed0-07ce-48bb-9d6d-38b808e5aa3d",
   "metadata": {},
   "outputs": [
    {
     "data": {
      "text/plain": [
       "array([[3.88634352, 9.17987456, 0.09396521, 7.56999143],\n",
       "       [3.72397618, 2.91536534, 8.45056324, 5.82685849],\n",
       "       [6.88130567, 8.95468287, 3.56051254, 3.80355178],\n",
       "       [9.1157845 , 9.85414977, 2.96190201, 8.46043905]])"
      ]
     },
     "execution_count": 447,
     "metadata": {},
     "output_type": "execute_result"
    }
   ],
   "source": [
    "M = np.random.rand(4, 4)*10\n",
    "M"
   ]
  },
  {
   "cell_type": "code",
   "execution_count": 449,
   "id": "6b540242-312f-4229-b288-40e1a30e6e27",
   "metadata": {},
   "outputs": [
    {
     "data": {
      "text/plain": [
       "array([[9.17987456, 0.09396521, 7.56999143],\n",
       "       [2.91536534, 8.45056324, 5.82685849],\n",
       "       [8.95468287, 3.56051254, 3.80355178]])"
      ]
     },
     "execution_count": 449,
     "metadata": {},
     "output_type": "execute_result"
    }
   ],
   "source": [
    "Sub_M = M[:3,1:4]\n",
    "Sub_M"
   ]
  },
  {
   "cell_type": "code",
   "execution_count": 451,
   "id": "4b45964b-116f-45be-9365-1c805ebf715a",
   "metadata": {},
   "outputs": [],
   "source": [
    "Sub_M[0,2] = 2"
   ]
  },
  {
   "cell_type": "code",
   "execution_count": 455,
   "id": "baa36a8a-0233-43aa-bb35-ea833b7618ae",
   "metadata": {},
   "outputs": [
    {
     "data": {
      "text/plain": [
       "array([[3.88634352, 9.17987456, 0.09396521, 2.        ],\n",
       "       [3.72397618, 2.91536534, 8.45056324, 5.82685849],\n",
       "       [6.88130567, 8.95468287, 3.56051254, 3.80355178],\n",
       "       [9.1157845 , 9.85414977, 2.96190201, 8.46043905]])"
      ]
     },
     "execution_count": 455,
     "metadata": {},
     "output_type": "execute_result"
    }
   ],
   "source": [
    "M #Replacing values in the subset matrix  directly changes the value in the main matrix "
   ]
  },
  {
   "cell_type": "markdown",
   "id": "76b5ab56-54e2-4616-9e01-a2fe95721a5a",
   "metadata": {},
   "source": [
    "#### Retrieving non-consecutive columns or rows from matrices"
   ]
  },
  {
   "cell_type": "code",
   "execution_count": 458,
   "id": "210abb9f-094d-41cf-8408-7facdd011dd5",
   "metadata": {},
   "outputs": [
    {
     "data": {
      "text/plain": [
       "array([[3.88634352, 2.        ],\n",
       "       [3.72397618, 5.82685849],\n",
       "       [6.88130567, 3.80355178],\n",
       "       [9.1157845 , 8.46043905]])"
      ]
     },
     "execution_count": 458,
     "metadata": {},
     "output_type": "execute_result"
    }
   ],
   "source": [
    "M[:5,[0,3]] "
   ]
  },
  {
   "cell_type": "code",
   "execution_count": 461,
   "id": "25060c49-9686-4f35-91b2-db0ac4d76bfd",
   "metadata": {},
   "outputs": [
    {
     "data": {
      "text/plain": [
       "array([[3.72397618, 2.91536534, 8.45056324, 5.82685849],\n",
       "       [9.1157845 , 9.85414977, 2.96190201, 8.46043905]])"
      ]
     },
     "execution_count": 461,
     "metadata": {},
     "output_type": "execute_result"
    }
   ],
   "source": [
    "M[[1,3],:5]"
   ]
  },
  {
   "cell_type": "markdown",
   "id": "00a0ccfe-8350-494e-9114-2d332733d9d5",
   "metadata": {},
   "source": [
    "#### General Dataset statistics with Numpy done better with Pandas"
   ]
  },
  {
   "cell_type": "code",
   "execution_count": 485,
   "id": "7ddc1c9a-c94f-483c-bf3f-1db8ab4933c2",
   "metadata": {},
   "outputs": [
    {
     "data": {
      "text/plain": [
       "array([[181.45455458, 700.93893346, 936.33296313, 360.49417065,\n",
       "        920.26749681,  35.45132442, 333.06889945],\n",
       "       [484.46668027, 937.98990495,  52.35279122, 521.2903491 ,\n",
       "        116.29275663, 199.55022433, 671.50079776],\n",
       "       [167.34469808, 436.15235957, 514.00441075, 602.14344742,\n",
       "        927.35429931,  51.26989386, 127.69164944],\n",
       "       [300.3551343 , 477.38953068, 411.36837036,  92.32791574,\n",
       "        625.18357203, 553.75512151, 320.33036078],\n",
       "       [313.00224276, 421.32797534, 801.39112748, 726.63379781,\n",
       "        512.03045456, 527.83822508, 103.73768188],\n",
       "       [979.19094634, 846.20805652, 702.26295801,  65.34198549,\n",
       "        405.75560288, 259.85948976, 611.62510762],\n",
       "       [465.71221179, 302.94269073, 764.26262893, 372.51973705,\n",
       "        495.10930662, 121.26192502, 649.02444173],\n",
       "       [121.66243513, 708.5464676 , 174.93943194, 351.90587335,\n",
       "        179.43541409, 509.1478598 , 271.4950117 ],\n",
       "       [ 45.66440358, 779.01883046, 782.2307533 , 143.79577278,\n",
       "        113.95069215, 149.32087152, 972.93548832],\n",
       "       [ 45.12129931, 154.20970818, 412.77720005, 662.73757948,\n",
       "        175.6292808 ,  44.86888049, 926.24803929]])"
      ]
     },
     "execution_count": 485,
     "metadata": {},
     "output_type": "execute_result"
    }
   ],
   "source": [
    "M = np.random.rand(10,7)*1000\n",
    "M"
   ]
  },
  {
   "cell_type": "code",
   "execution_count": 552,
   "id": "751607ac-4b66-4584-ab79-5c6107936663",
   "metadata": {},
   "outputs": [
    {
     "data": {
      "text/plain": [
       "424.6312616170362"
      ]
     },
     "execution_count": 552,
     "metadata": {},
     "output_type": "execute_result"
    }
   ],
   "source": [
    "M[2:,0:7].mean() #Say we want the mean of the third last row of the matrix"
   ]
  },
  {
   "cell_type": "code",
   "execution_count": 526,
   "id": "200fc4e3-f55e-496e-815a-e906ffbc3e39",
   "metadata": {},
   "outputs": [
    {
     "name": "stdout",
     "output_type": "stream",
     "text": [
      "498.7657477984271\n",
      "231.85435145385796\n"
     ]
    }
   ],
   "source": [
    "print(M[:,-1].mean())\n",
    "print(M[M[:,-2]>500][:,-1].mean()) #In here, we average mean of all values in the last column that corresponds \n",
    "                                 #with the values that are greater than 500 in the second last column "
   ]
  }
 ],
 "metadata": {
  "kernelspec": {
   "display_name": "Python [conda env:base] *",
   "language": "python",
   "name": "conda-base-py"
  },
  "language_info": {
   "codemirror_mode": {
    "name": "ipython",
    "version": 3
   },
   "file_extension": ".py",
   "mimetype": "text/x-python",
   "name": "python",
   "nbconvert_exporter": "python",
   "pygments_lexer": "ipython3",
   "version": "3.12.7"
  }
 },
 "nbformat": 4,
 "nbformat_minor": 5
}
