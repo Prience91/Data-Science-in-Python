{
 "cells": [
  {
   "cell_type": "markdown",
   "id": "0a4880e6-73a7-4bf7-b918-935080a1d8b4",
   "metadata": {},
   "source": [
    "An international firm that is looking to expand its business in different countries across the world has recruited you. You have been hired as a junior Data\n",
    "Engineer and are tasked with creating a script that can extract the list of the top 10 largest economies of the world in descending order of their GDPs in Billion USD (rounded to 2 decimal places), as logged by the International Monetary Fund (IMF)."
   ]
  },
  {
   "cell_type": "code",
   "execution_count": 40,
   "id": "1ac96f8d-40a6-4b16-a8ae-44febd240cf9",
   "metadata": {},
   "outputs": [],
   "source": [
    "URL = \"https://web.archive.org/web/20230902185326/https://en.wikipedia.org/wiki/List_of_countries_by_GDP_%28nominal%29\""
   ]
  },
  {
   "cell_type": "code",
   "execution_count": 42,
   "id": "458428c8-b5ae-406b-bdbd-269fde376531",
   "metadata": {},
   "outputs": [
    {
     "data": {
      "text/html": [
       "<div>\n",
       "<style scoped>\n",
       "    .dataframe tbody tr th:only-of-type {\n",
       "        vertical-align: middle;\n",
       "    }\n",
       "\n",
       "    .dataframe tbody tr th {\n",
       "        vertical-align: top;\n",
       "    }\n",
       "\n",
       "    .dataframe thead tr th {\n",
       "        text-align: left;\n",
       "    }\n",
       "\n",
       "    .dataframe thead tr:last-of-type th {\n",
       "        text-align: right;\n",
       "    }\n",
       "</style>\n",
       "<table border=\"1\" class=\"dataframe\">\n",
       "  <thead>\n",
       "    <tr>\n",
       "      <th></th>\n",
       "      <th>UN region</th>\n",
       "      <th colspan=\"2\" halign=\"left\">IMF[1][13]</th>\n",
       "      <th colspan=\"2\" halign=\"left\">World Bank[14]</th>\n",
       "      <th colspan=\"2\" halign=\"left\">United Nations[15]</th>\n",
       "    </tr>\n",
       "    <tr>\n",
       "      <th></th>\n",
       "      <th>UN region</th>\n",
       "      <th>Estimate</th>\n",
       "      <th>Year</th>\n",
       "      <th>Estimate</th>\n",
       "      <th>Year</th>\n",
       "      <th>Estimate</th>\n",
       "      <th>Year</th>\n",
       "    </tr>\n",
       "    <tr>\n",
       "      <th>Country/Territory</th>\n",
       "      <th></th>\n",
       "      <th></th>\n",
       "      <th></th>\n",
       "      <th></th>\n",
       "      <th></th>\n",
       "      <th></th>\n",
       "      <th></th>\n",
       "    </tr>\n",
       "  </thead>\n",
       "  <tbody>\n",
       "    <tr>\n",
       "      <th>(World,)</th>\n",
       "      <td>—</td>\n",
       "      <td>105568776</td>\n",
       "      <td>2023</td>\n",
       "      <td>100562011</td>\n",
       "      <td>2022</td>\n",
       "      <td>96698005</td>\n",
       "      <td>2021</td>\n",
       "    </tr>\n",
       "    <tr>\n",
       "      <th>(United States,)</th>\n",
       "      <td>Americas</td>\n",
       "      <td>26854599</td>\n",
       "      <td>2023</td>\n",
       "      <td>25462700</td>\n",
       "      <td>2022</td>\n",
       "      <td>23315081</td>\n",
       "      <td>2021</td>\n",
       "    </tr>\n",
       "    <tr>\n",
       "      <th>(China,)</th>\n",
       "      <td>Asia</td>\n",
       "      <td>19373586</td>\n",
       "      <td>[n 1]2023</td>\n",
       "      <td>17963171</td>\n",
       "      <td>[n 3]2022</td>\n",
       "      <td>17734131</td>\n",
       "      <td>[n 1]2021</td>\n",
       "    </tr>\n",
       "    <tr>\n",
       "      <th>(Japan,)</th>\n",
       "      <td>Asia</td>\n",
       "      <td>4409738</td>\n",
       "      <td>2023</td>\n",
       "      <td>4231141</td>\n",
       "      <td>2022</td>\n",
       "      <td>4940878</td>\n",
       "      <td>2021</td>\n",
       "    </tr>\n",
       "    <tr>\n",
       "      <th>(Germany,)</th>\n",
       "      <td>Europe</td>\n",
       "      <td>4308854</td>\n",
       "      <td>2023</td>\n",
       "      <td>4072192</td>\n",
       "      <td>2022</td>\n",
       "      <td>4259935</td>\n",
       "      <td>2021</td>\n",
       "    </tr>\n",
       "  </tbody>\n",
       "</table>\n",
       "</div>"
      ],
      "text/plain": [
       "                  UN region IMF[1][13]            World Bank[14]             \\\n",
       "                  UN region   Estimate       Year       Estimate       Year   \n",
       "Country/Territory                                                             \n",
       "(World,)                  —  105568776       2023      100562011       2022   \n",
       "(United States,)   Americas   26854599       2023       25462700       2022   \n",
       "(China,)               Asia   19373586  [n 1]2023       17963171  [n 3]2022   \n",
       "(Japan,)               Asia    4409738       2023        4231141       2022   \n",
       "(Germany,)           Europe    4308854       2023        4072192       2022   \n",
       "\n",
       "                  United Nations[15]             \n",
       "                            Estimate       Year  \n",
       "Country/Territory                                \n",
       "(World,)                    96698005       2021  \n",
       "(United States,)            23315081       2021  \n",
       "(China,)                    17734131  [n 1]2021  \n",
       "(Japan,)                     4940878       2021  \n",
       "(Germany,)                   4259935       2021  "
      ]
     },
     "execution_count": 42,
     "metadata": {},
     "output_type": "execute_result"
    }
   ],
   "source": [
    "import pandas as pd\n",
    "import html5lib\n",
    "try:\n",
    "    table = pd.read_html(URL)\n",
    "    GDP = table[3]\n",
    "    GDP\n",
    "except ValueError:\n",
    "    print(\"No values\")\n",
    "except IndexError:\n",
    "    print(\"No Indexing\")\n",
    "GDP.set_index(\"Country/Territory\", inplace=True)\n",
    "GDP.head()"
   ]
  },
  {
   "cell_type": "code",
   "execution_count": 43,
   "id": "626aef83-3951-4b11-a185-c3615fcdc9c5",
   "metadata": {},
   "outputs": [
    {
     "data": {
      "text/html": [
       "<div>\n",
       "<style scoped>\n",
       "    .dataframe tbody tr th:only-of-type {\n",
       "        vertical-align: middle;\n",
       "    }\n",
       "\n",
       "    .dataframe tbody tr th {\n",
       "        vertical-align: top;\n",
       "    }\n",
       "\n",
       "    .dataframe thead tr th {\n",
       "        text-align: left;\n",
       "    }\n",
       "\n",
       "    .dataframe thead tr:last-of-type th {\n",
       "        text-align: right;\n",
       "    }\n",
       "</style>\n",
       "<table border=\"1\" class=\"dataframe\">\n",
       "  <thead>\n",
       "    <tr>\n",
       "      <th></th>\n",
       "      <th>UN region</th>\n",
       "      <th colspan=\"2\" halign=\"left\">IMF[1][13]</th>\n",
       "    </tr>\n",
       "    <tr>\n",
       "      <th></th>\n",
       "      <th>UN region</th>\n",
       "      <th>Estimate</th>\n",
       "      <th>Year</th>\n",
       "    </tr>\n",
       "    <tr>\n",
       "      <th>Country/Territory</th>\n",
       "      <th></th>\n",
       "      <th></th>\n",
       "      <th></th>\n",
       "    </tr>\n",
       "  </thead>\n",
       "  <tbody>\n",
       "    <tr>\n",
       "      <th>(World,)</th>\n",
       "      <td>—</td>\n",
       "      <td>105568776</td>\n",
       "      <td>2023</td>\n",
       "    </tr>\n",
       "    <tr>\n",
       "      <th>(United States,)</th>\n",
       "      <td>Americas</td>\n",
       "      <td>26854599</td>\n",
       "      <td>2023</td>\n",
       "    </tr>\n",
       "    <tr>\n",
       "      <th>(China,)</th>\n",
       "      <td>Asia</td>\n",
       "      <td>19373586</td>\n",
       "      <td>[n 1]2023</td>\n",
       "    </tr>\n",
       "    <tr>\n",
       "      <th>(Japan,)</th>\n",
       "      <td>Asia</td>\n",
       "      <td>4409738</td>\n",
       "      <td>2023</td>\n",
       "    </tr>\n",
       "    <tr>\n",
       "      <th>(Germany,)</th>\n",
       "      <td>Europe</td>\n",
       "      <td>4308854</td>\n",
       "      <td>2023</td>\n",
       "    </tr>\n",
       "  </tbody>\n",
       "</table>\n",
       "</div>"
      ],
      "text/plain": [
       "                  UN region IMF[1][13]           \n",
       "                  UN region   Estimate       Year\n",
       "Country/Territory                                \n",
       "(World,)                  —  105568776       2023\n",
       "(United States,)   Americas   26854599       2023\n",
       "(China,)               Asia   19373586  [n 1]2023\n",
       "(Japan,)               Asia    4409738       2023\n",
       "(Germany,)           Europe    4308854       2023"
      ]
     },
     "execution_count": 43,
     "metadata": {},
     "output_type": "execute_result"
    }
   ],
   "source": [
    "GDP_IMF = GDP.iloc[:, :3]\n",
    "GDP_IMF.head()"
   ]
  },
  {
   "cell_type": "code",
   "execution_count": 46,
   "id": "93c8b2cc-4790-42d8-9046-71fe79340a3e",
   "metadata": {},
   "outputs": [
    {
     "data": {
      "text/plain": [
       "UN region   UN region    object\n",
       "IMF[1][13]  Estimate     object\n",
       "            Year         object\n",
       "dtype: object"
      ]
     },
     "execution_count": 46,
     "metadata": {},
     "output_type": "execute_result"
    }
   ],
   "source": [
    "GDP_IMF.dtypes\n",
    "#so they are all objects"
   ]
  },
  {
   "cell_type": "markdown",
   "id": "e19a8139-6152-4d8e-a79e-55d75ee6f916",
   "metadata": {},
   "source": [
    "Get and Post requests using Requests"
   ]
  },
  {
   "cell_type": "code",
   "execution_count": 49,
   "id": "83453fbb-67ed-4121-95ac-af5b0682aa7a",
   "metadata": {},
   "outputs": [
    {
     "data": {
      "text/plain": [
       "200"
      ]
     },
     "execution_count": 49,
     "metadata": {},
     "output_type": "execute_result"
    }
   ],
   "source": [
    "import requests \n",
    "URL = \"https://www.ibm.com/us-en\"\n",
    "r = requests.get(URL)\n",
    "r.status_code #family of 2XX means that the website is responding well to our requests"
   ]
  },
  {
   "cell_type": "code",
   "execution_count": 51,
   "id": "dd60f55d-7b9d-47e3-bc27-12ad15923485",
   "metadata": {},
   "outputs": [],
   "source": [
    "r.request.body\n",
    "#print(r.rq.header)"
   ]
  },
  {
   "cell_type": "code",
   "execution_count": 61,
   "id": "4a5ede17-ce06-4ac0-881d-b7544487d20f",
   "metadata": {},
   "outputs": [
    {
     "data": {
      "text/plain": [
       "{'User-Agent': 'python-requests/2.32.3', 'Accept-Encoding': 'gzip, deflate, br', 'Accept': '*/*', 'Connection': 'keep-alive'}"
      ]
     },
     "execution_count": 61,
     "metadata": {},
     "output_type": "execute_result"
    }
   ],
   "source": [
    "r.request.headers"
   ]
  },
  {
   "cell_type": "code",
   "execution_count": 63,
   "id": "bea09f9d-863b-4a45-9a4c-97187bbc2d72",
   "metadata": {},
   "outputs": [
    {
     "data": {
      "text/plain": [
       "'<!DOCTYPE HTML>\\n<html lang=\"en\">\\n<head>\\r\\n    \\r\\n    \\r\\n    \\r\\n    \\r\\n    \\r\\n    \\r\\n    \\r\\n      \\r\\n    \\r\\n  '"
      ]
     },
     "execution_count": 63,
     "metadata": {},
     "output_type": "execute_result"
    }
   ],
   "source": [
    "r.text[1:100]"
   ]
  },
  {
   "cell_type": "markdown",
   "id": "913dd32f-a2b9-492d-99a9-5dee08f89580",
   "metadata": {},
   "source": [
    "Webscraping and parsing htmls using Requests and BeautifulSoup"
   ]
  },
  {
   "cell_type": "code",
   "execution_count": 66,
   "id": "bf1d4bf2-6b8b-4851-b69b-bccac7310ab8",
   "metadata": {},
   "outputs": [
    {
     "data": {
      "text/plain": [
       "'<!DOCTYPE html>\\n\\n<html class=\"client-nojs vector-feature-language-in-header-enabled vector-feature-language-in-main-page-header-disabled vector-feature-page-tools-pinned-disabled vector-feature-toc-pi'"
      ]
     },
     "execution_count": 66,
     "metadata": {},
     "output_type": "execute_result"
    }
   ],
   "source": [
    "url = 'https://en.wikipedia.org/wiki/IBM'\n",
    "import requests\n",
    "from bs4 import BeautifulSoup\n",
    "\n",
    "response = requests.get(url)\n",
    "html_content = response.text\n",
    "soup = BeautifulSoup(html_content, 'html.parser')\n",
    "str(soup)[:200] #getting only snippet or truncated version of the request"
   ]
  },
  {
   "cell_type": "code",
   "execution_count": 68,
   "id": "405f7553-a026-4618-8329-c3271ae4d38b",
   "metadata": {},
   "outputs": [],
   "source": [
    "#Finding all <a> tags in the html and printing their texts\n",
    "links = soup.find_all('a')\n",
    "for link in links:\n",
    "    pass #Because we do not want the below code to run yet\n",
    "    #print(link.text[:200]) "
   ]
  },
  {
   "cell_type": "markdown",
   "id": "d10c0175-45d2-4884-85ab-98ba1b27695c",
   "metadata": {},
   "source": [
    "## Wrangling with APIs\n",
    "Example 1: Random Users API"
   ]
  },
  {
   "cell_type": "code",
   "execution_count": 71,
   "id": "7c4f7630-597e-4ca1-93b8-cb72456b4231",
   "metadata": {},
   "outputs": [
    {
     "data": {
      "text/plain": [
       "[<randomuser.RandomUser at 0x1d4b1fcdee0>,\n",
       " <randomuser.RandomUser at 0x1d4b1fcccb0>,\n",
       " <randomuser.RandomUser at 0x1d4b1fcd730>,\n",
       " <randomuser.RandomUser at 0x1d4b1fcd220>,\n",
       " <randomuser.RandomUser at 0x1d4b1fcd8b0>,\n",
       " <randomuser.RandomUser at 0x1d4b1fcd580>,\n",
       " <randomuser.RandomUser at 0x1d4b1fccb60>,\n",
       " <randomuser.RandomUser at 0x1d4b1fcd850>,\n",
       " <randomuser.RandomUser at 0x1d4b1fcf470>,\n",
       " <randomuser.RandomUser at 0x1d4b1fcd5e0>,\n",
       " <randomuser.RandomUser at 0x1d4b1fcd520>,\n",
       " <randomuser.RandomUser at 0x1d4b1fcd550>]"
      ]
     },
     "execution_count": 71,
     "metadata": {},
     "output_type": "execute_result"
    }
   ],
   "source": [
    "from randomuser import RandomUser\n",
    "r = RandomUser()\n",
    "profile_list =r.generate_users(12)\n",
    "profile_list"
   ]
  },
  {
   "cell_type": "code",
   "execution_count": 72,
   "id": "bc259f78-d411-4006-91e8-14b30a578a27",
   "metadata": {},
   "outputs": [
    {
     "name": "stdout",
     "output_type": "stream",
     "text": [
      "organicgoose602  latife.ayverdi@example.com\n",
      "sadkoala610  vilmar.darosa@example.com\n",
      "bigrabbit754  roberto.clark@example.com\n",
      "heavysnake893  sina.roy@example.com\n",
      "silverzebra898  lucy.thompson@example.com\n",
      "whiterabbit221  buse.orge@example.com\n",
      "lazyrabbit621  rdyn.nkwnzr@example.com\n",
      "goldenmeercat919  emily.horton@example.com\n",
      "orangeswan244  gerry.bishop@example.com\n",
      "heavyzebra802  alessandro.duval@example.com\n",
      "ticklishpeacock575  norman.murray@example.com\n",
      "purpleswan807  mathea.dehli@example.com\n"
     ]
    }
   ],
   "source": [
    "for people in profile_list:\n",
    "    print(people.get_username(), \"\", people.get_email())"
   ]
  },
  {
   "cell_type": "code",
   "execution_count": 73,
   "id": "f6225b1e-dcab-4086-a7e7-839b827bd5f4",
   "metadata": {},
   "outputs": [
    {
     "name": "stdout",
     "output_type": "stream",
     "text": [
      "https://randomuser.me/api/portraits/women/48.jpg\n",
      "https://randomuser.me/api/portraits/men/38.jpg\n",
      "https://randomuser.me/api/portraits/men/8.jpg\n",
      "https://randomuser.me/api/portraits/women/79.jpg\n",
      "https://randomuser.me/api/portraits/women/36.jpg\n",
      "https://randomuser.me/api/portraits/women/51.jpg\n",
      "https://randomuser.me/api/portraits/men/47.jpg\n",
      "https://randomuser.me/api/portraits/women/93.jpg\n",
      "https://randomuser.me/api/portraits/men/95.jpg\n",
      "https://randomuser.me/api/portraits/men/75.jpg\n",
      "https://randomuser.me/api/portraits/men/44.jpg\n",
      "https://randomuser.me/api/portraits/women/46.jpg\n"
     ]
    }
   ],
   "source": [
    "for people in profile_list:\n",
    "    print(people.get_picture())"
   ]
  },
  {
   "cell_type": "code",
   "execution_count": 74,
   "id": "98a04889-081a-40ab-b03c-c4ad84782416",
   "metadata": {},
   "outputs": [
    {
     "data": {
      "text/html": [
       "<div>\n",
       "<style scoped>\n",
       "    .dataframe tbody tr th:only-of-type {\n",
       "        vertical-align: middle;\n",
       "    }\n",
       "\n",
       "    .dataframe tbody tr th {\n",
       "        vertical-align: top;\n",
       "    }\n",
       "\n",
       "    .dataframe thead th {\n",
       "        text-align: right;\n",
       "    }\n",
       "</style>\n",
       "<table border=\"1\" class=\"dataframe\">\n",
       "  <thead>\n",
       "    <tr style=\"text-align: right;\">\n",
       "      <th></th>\n",
       "      <th>Name</th>\n",
       "      <th>Email</th>\n",
       "      <th>City</th>\n",
       "      <th>Photo</th>\n",
       "    </tr>\n",
       "  </thead>\n",
       "  <tbody>\n",
       "    <tr>\n",
       "      <th>0</th>\n",
       "      <td>organicgoose602</td>\n",
       "      <td>latife.ayverdi@example.com</td>\n",
       "      <td>Tekirdağ</td>\n",
       "      <td>https://randomuser.me/api/portraits/women/48.jpg</td>\n",
       "    </tr>\n",
       "    <tr>\n",
       "      <th>1</th>\n",
       "      <td>sadkoala610</td>\n",
       "      <td>vilmar.darosa@example.com</td>\n",
       "      <td>Jaraguá do Sul</td>\n",
       "      <td>https://randomuser.me/api/portraits/men/38.jpg</td>\n",
       "    </tr>\n",
       "    <tr>\n",
       "      <th>2</th>\n",
       "      <td>bigrabbit754</td>\n",
       "      <td>roberto.clark@example.com</td>\n",
       "      <td>Ballarat</td>\n",
       "      <td>https://randomuser.me/api/portraits/men/8.jpg</td>\n",
       "    </tr>\n",
       "    <tr>\n",
       "      <th>3</th>\n",
       "      <td>heavysnake893</td>\n",
       "      <td>sina.roy@example.com</td>\n",
       "      <td>Döttingen</td>\n",
       "      <td>https://randomuser.me/api/portraits/women/79.jpg</td>\n",
       "    </tr>\n",
       "    <tr>\n",
       "      <th>4</th>\n",
       "      <td>silverzebra898</td>\n",
       "      <td>lucy.thompson@example.com</td>\n",
       "      <td>Sunderland</td>\n",
       "      <td>https://randomuser.me/api/portraits/women/36.jpg</td>\n",
       "    </tr>\n",
       "    <tr>\n",
       "      <th>5</th>\n",
       "      <td>whiterabbit221</td>\n",
       "      <td>buse.orge@example.com</td>\n",
       "      <td>Çorum</td>\n",
       "      <td>https://randomuser.me/api/portraits/women/51.jpg</td>\n",
       "    </tr>\n",
       "    <tr>\n",
       "      <th>6</th>\n",
       "      <td>lazyrabbit621</td>\n",
       "      <td>rdyn.nkwnzr@example.com</td>\n",
       "      <td>یزد</td>\n",
       "      <td>https://randomuser.me/api/portraits/men/47.jpg</td>\n",
       "    </tr>\n",
       "    <tr>\n",
       "      <th>7</th>\n",
       "      <td>goldenmeercat919</td>\n",
       "      <td>emily.horton@example.com</td>\n",
       "      <td>Southampton</td>\n",
       "      <td>https://randomuser.me/api/portraits/women/93.jpg</td>\n",
       "    </tr>\n",
       "    <tr>\n",
       "      <th>8</th>\n",
       "      <td>orangeswan244</td>\n",
       "      <td>gerry.bishop@example.com</td>\n",
       "      <td>Letterkenny</td>\n",
       "      <td>https://randomuser.me/api/portraits/men/95.jpg</td>\n",
       "    </tr>\n",
       "    <tr>\n",
       "      <th>9</th>\n",
       "      <td>heavyzebra802</td>\n",
       "      <td>alessandro.duval@example.com</td>\n",
       "      <td>Thusis</td>\n",
       "      <td>https://randomuser.me/api/portraits/men/75.jpg</td>\n",
       "    </tr>\n",
       "    <tr>\n",
       "      <th>10</th>\n",
       "      <td>ticklishpeacock575</td>\n",
       "      <td>norman.murray@example.com</td>\n",
       "      <td>Sheffield</td>\n",
       "      <td>https://randomuser.me/api/portraits/men/44.jpg</td>\n",
       "    </tr>\n",
       "    <tr>\n",
       "      <th>11</th>\n",
       "      <td>purpleswan807</td>\n",
       "      <td>mathea.dehli@example.com</td>\n",
       "      <td>Evje</td>\n",
       "      <td>https://randomuser.me/api/portraits/women/46.jpg</td>\n",
       "    </tr>\n",
       "  </tbody>\n",
       "</table>\n",
       "</div>"
      ],
      "text/plain": [
       "                  Name                         Email            City  \\\n",
       "0      organicgoose602    latife.ayverdi@example.com        Tekirdağ   \n",
       "1          sadkoala610     vilmar.darosa@example.com  Jaraguá do Sul   \n",
       "2         bigrabbit754     roberto.clark@example.com        Ballarat   \n",
       "3        heavysnake893          sina.roy@example.com       Döttingen   \n",
       "4       silverzebra898     lucy.thompson@example.com      Sunderland   \n",
       "5       whiterabbit221         buse.orge@example.com           Çorum   \n",
       "6        lazyrabbit621       rdyn.nkwnzr@example.com             یزد   \n",
       "7     goldenmeercat919      emily.horton@example.com     Southampton   \n",
       "8        orangeswan244      gerry.bishop@example.com     Letterkenny   \n",
       "9        heavyzebra802  alessandro.duval@example.com          Thusis   \n",
       "10  ticklishpeacock575     norman.murray@example.com       Sheffield   \n",
       "11       purpleswan807      mathea.dehli@example.com            Evje   \n",
       "\n",
       "                                               Photo  \n",
       "0   https://randomuser.me/api/portraits/women/48.jpg  \n",
       "1     https://randomuser.me/api/portraits/men/38.jpg  \n",
       "2      https://randomuser.me/api/portraits/men/8.jpg  \n",
       "3   https://randomuser.me/api/portraits/women/79.jpg  \n",
       "4   https://randomuser.me/api/portraits/women/36.jpg  \n",
       "5   https://randomuser.me/api/portraits/women/51.jpg  \n",
       "6     https://randomuser.me/api/portraits/men/47.jpg  \n",
       "7   https://randomuser.me/api/portraits/women/93.jpg  \n",
       "8     https://randomuser.me/api/portraits/men/95.jpg  \n",
       "9     https://randomuser.me/api/portraits/men/75.jpg  \n",
       "10    https://randomuser.me/api/portraits/men/44.jpg  \n",
       "11  https://randomuser.me/api/portraits/women/46.jpg  "
      ]
     },
     "execution_count": 74,
     "metadata": {},
     "output_type": "execute_result"
    }
   ],
   "source": [
    "Users = []\n",
    "for people in profile_list:\n",
    "    Users.append({'Name': people.get_username(), \"Email\": people.get_email(), 'City': people.get_city(), 'Photo': people.get_picture()})\n",
    "pd.DataFrame(Users) \n",
    "#Webscraping was not observed with this illustrated API however"
   ]
  },
  {
   "cell_type": "markdown",
   "id": "a03b999a-abab-44a3-a925-2b18c7e8f443",
   "metadata": {},
   "source": [
    "Example 2:FruityVice API"
   ]
  },
  {
   "cell_type": "code",
   "execution_count": 76,
   "id": "066c566e-5493-44ab-812c-0699feb6c799",
   "metadata": {},
   "outputs": [
    {
     "data": {
      "text/html": [
       "<div>\n",
       "<style scoped>\n",
       "    .dataframe tbody tr th:only-of-type {\n",
       "        vertical-align: middle;\n",
       "    }\n",
       "\n",
       "    .dataframe tbody tr th {\n",
       "        vertical-align: top;\n",
       "    }\n",
       "\n",
       "    .dataframe thead th {\n",
       "        text-align: right;\n",
       "    }\n",
       "</style>\n",
       "<table border=\"1\" class=\"dataframe\">\n",
       "  <thead>\n",
       "    <tr style=\"text-align: right;\">\n",
       "      <th></th>\n",
       "      <th>name</th>\n",
       "      <th>id</th>\n",
       "      <th>family</th>\n",
       "      <th>order</th>\n",
       "      <th>genus</th>\n",
       "      <th>nutritions</th>\n",
       "    </tr>\n",
       "  </thead>\n",
       "  <tbody>\n",
       "    <tr>\n",
       "      <th>0</th>\n",
       "      <td>Persimmon</td>\n",
       "      <td>52</td>\n",
       "      <td>Ebenaceae</td>\n",
       "      <td>Rosales</td>\n",
       "      <td>Diospyros</td>\n",
       "      <td>{'calories': 81, 'fat': 0.0, 'sugar': 18.0, 'c...</td>\n",
       "    </tr>\n",
       "    <tr>\n",
       "      <th>1</th>\n",
       "      <td>Strawberry</td>\n",
       "      <td>3</td>\n",
       "      <td>Rosaceae</td>\n",
       "      <td>Rosales</td>\n",
       "      <td>Fragaria</td>\n",
       "      <td>{'calories': 29, 'fat': 0.4, 'sugar': 5.4, 'ca...</td>\n",
       "    </tr>\n",
       "    <tr>\n",
       "      <th>2</th>\n",
       "      <td>Banana</td>\n",
       "      <td>1</td>\n",
       "      <td>Musaceae</td>\n",
       "      <td>Zingiberales</td>\n",
       "      <td>Musa</td>\n",
       "      <td>{'calories': 96, 'fat': 0.2, 'sugar': 17.2, 'c...</td>\n",
       "    </tr>\n",
       "    <tr>\n",
       "      <th>3</th>\n",
       "      <td>Tomato</td>\n",
       "      <td>5</td>\n",
       "      <td>Solanaceae</td>\n",
       "      <td>Solanales</td>\n",
       "      <td>Solanum</td>\n",
       "      <td>{'calories': 74, 'fat': 0.2, 'sugar': 2.6, 'ca...</td>\n",
       "    </tr>\n",
       "    <tr>\n",
       "      <th>4</th>\n",
       "      <td>Pear</td>\n",
       "      <td>4</td>\n",
       "      <td>Rosaceae</td>\n",
       "      <td>Rosales</td>\n",
       "      <td>Pyrus</td>\n",
       "      <td>{'calories': 57, 'fat': 0.1, 'sugar': 10.0, 'c...</td>\n",
       "    </tr>\n",
       "  </tbody>\n",
       "</table>\n",
       "</div>"
      ],
      "text/plain": [
       "         name  id      family         order      genus  \\\n",
       "0   Persimmon  52   Ebenaceae       Rosales  Diospyros   \n",
       "1  Strawberry   3    Rosaceae       Rosales   Fragaria   \n",
       "2      Banana   1    Musaceae  Zingiberales       Musa   \n",
       "3      Tomato   5  Solanaceae     Solanales    Solanum   \n",
       "4        Pear   4    Rosaceae       Rosales      Pyrus   \n",
       "\n",
       "                                          nutritions  \n",
       "0  {'calories': 81, 'fat': 0.0, 'sugar': 18.0, 'c...  \n",
       "1  {'calories': 29, 'fat': 0.4, 'sugar': 5.4, 'ca...  \n",
       "2  {'calories': 96, 'fat': 0.2, 'sugar': 17.2, 'c...  \n",
       "3  {'calories': 74, 'fat': 0.2, 'sugar': 2.6, 'ca...  \n",
       "4  {'calories': 57, 'fat': 0.1, 'sugar': 10.0, 'c...  "
      ]
     },
     "execution_count": 76,
     "metadata": {},
     "output_type": "execute_result"
    }
   ],
   "source": [
    "import json\n",
    "data = requests.get(\"https://web.archive.org/web/20240929211114/https://fruityvice.com/api/fruit/all\")\n",
    "result = json.loads(data.text) #loads results in the form of lists\n",
    "pd.DataFrame(result).head()\n",
    "#the nutrition column in nested and needs to be seperated"
   ]
  },
  {
   "cell_type": "code",
   "execution_count": 77,
   "id": "2d36c048-5aaf-4469-8e6c-fd3d7a4c6b39",
   "metadata": {},
   "outputs": [
    {
     "data": {
      "text/html": [
       "<div>\n",
       "<style scoped>\n",
       "    .dataframe tbody tr th:only-of-type {\n",
       "        vertical-align: middle;\n",
       "    }\n",
       "\n",
       "    .dataframe tbody tr th {\n",
       "        vertical-align: top;\n",
       "    }\n",
       "\n",
       "    .dataframe thead th {\n",
       "        text-align: right;\n",
       "    }\n",
       "</style>\n",
       "<table border=\"1\" class=\"dataframe\">\n",
       "  <thead>\n",
       "    <tr style=\"text-align: right;\">\n",
       "      <th></th>\n",
       "      <th>name</th>\n",
       "      <th>id</th>\n",
       "      <th>family</th>\n",
       "      <th>order</th>\n",
       "      <th>genus</th>\n",
       "      <th>nutritions.calories</th>\n",
       "      <th>nutritions.fat</th>\n",
       "      <th>nutritions.sugar</th>\n",
       "      <th>nutritions.carbohydrates</th>\n",
       "      <th>nutritions.protein</th>\n",
       "    </tr>\n",
       "  </thead>\n",
       "  <tbody>\n",
       "    <tr>\n",
       "      <th>0</th>\n",
       "      <td>Persimmon</td>\n",
       "      <td>52</td>\n",
       "      <td>Ebenaceae</td>\n",
       "      <td>Rosales</td>\n",
       "      <td>Diospyros</td>\n",
       "      <td>81</td>\n",
       "      <td>0.0</td>\n",
       "      <td>18.0</td>\n",
       "      <td>18.0</td>\n",
       "      <td>0.0</td>\n",
       "    </tr>\n",
       "    <tr>\n",
       "      <th>1</th>\n",
       "      <td>Strawberry</td>\n",
       "      <td>3</td>\n",
       "      <td>Rosaceae</td>\n",
       "      <td>Rosales</td>\n",
       "      <td>Fragaria</td>\n",
       "      <td>29</td>\n",
       "      <td>0.4</td>\n",
       "      <td>5.4</td>\n",
       "      <td>5.5</td>\n",
       "      <td>0.8</td>\n",
       "    </tr>\n",
       "    <tr>\n",
       "      <th>2</th>\n",
       "      <td>Banana</td>\n",
       "      <td>1</td>\n",
       "      <td>Musaceae</td>\n",
       "      <td>Zingiberales</td>\n",
       "      <td>Musa</td>\n",
       "      <td>96</td>\n",
       "      <td>0.2</td>\n",
       "      <td>17.2</td>\n",
       "      <td>22.0</td>\n",
       "      <td>1.0</td>\n",
       "    </tr>\n",
       "    <tr>\n",
       "      <th>3</th>\n",
       "      <td>Tomato</td>\n",
       "      <td>5</td>\n",
       "      <td>Solanaceae</td>\n",
       "      <td>Solanales</td>\n",
       "      <td>Solanum</td>\n",
       "      <td>74</td>\n",
       "      <td>0.2</td>\n",
       "      <td>2.6</td>\n",
       "      <td>3.9</td>\n",
       "      <td>0.9</td>\n",
       "    </tr>\n",
       "    <tr>\n",
       "      <th>4</th>\n",
       "      <td>Pear</td>\n",
       "      <td>4</td>\n",
       "      <td>Rosaceae</td>\n",
       "      <td>Rosales</td>\n",
       "      <td>Pyrus</td>\n",
       "      <td>57</td>\n",
       "      <td>0.1</td>\n",
       "      <td>10.0</td>\n",
       "      <td>15.0</td>\n",
       "      <td>0.4</td>\n",
       "    </tr>\n",
       "  </tbody>\n",
       "</table>\n",
       "</div>"
      ],
      "text/plain": [
       "         name  id      family         order      genus  nutritions.calories  \\\n",
       "0   Persimmon  52   Ebenaceae       Rosales  Diospyros                   81   \n",
       "1  Strawberry   3    Rosaceae       Rosales   Fragaria                   29   \n",
       "2      Banana   1    Musaceae  Zingiberales       Musa                   96   \n",
       "3      Tomato   5  Solanaceae     Solanales    Solanum                   74   \n",
       "4        Pear   4    Rosaceae       Rosales      Pyrus                   57   \n",
       "\n",
       "   nutritions.fat  nutritions.sugar  nutritions.carbohydrates  \\\n",
       "0             0.0              18.0                      18.0   \n",
       "1             0.4               5.4                       5.5   \n",
       "2             0.2              17.2                      22.0   \n",
       "3             0.2               2.6                       3.9   \n",
       "4             0.1              10.0                      15.0   \n",
       "\n",
       "   nutritions.protein  \n",
       "0                 0.0  \n",
       "1                 0.8  \n",
       "2                 1.0  \n",
       "3                 0.9  \n",
       "4                 0.4  "
      ]
     },
     "execution_count": 77,
     "metadata": {},
     "output_type": "execute_result"
    }
   ],
   "source": [
    "Fruits = pd.json_normalize(result) #The pd.json is a unique function that can handle nested structures and create the entire\n",
    "                                    #list/dictionary type into a dataframe\n",
    "Fruits.head()"
   ]
  },
  {
   "cell_type": "code",
   "execution_count": 78,
   "id": "905c41ca-983e-466f-ac34-9d86de95b431",
   "metadata": {},
   "outputs": [
    {
     "data": {
      "text/html": [
       "<div>\n",
       "<style scoped>\n",
       "    .dataframe tbody tr th:only-of-type {\n",
       "        vertical-align: middle;\n",
       "    }\n",
       "\n",
       "    .dataframe tbody tr th {\n",
       "        vertical-align: top;\n",
       "    }\n",
       "\n",
       "    .dataframe thead th {\n",
       "        text-align: right;\n",
       "    }\n",
       "</style>\n",
       "<table border=\"1\" class=\"dataframe\">\n",
       "  <thead>\n",
       "    <tr style=\"text-align: right;\">\n",
       "      <th></th>\n",
       "      <th>id</th>\n",
       "      <th>family</th>\n",
       "      <th>order</th>\n",
       "      <th>genus</th>\n",
       "      <th>nutritions.calories</th>\n",
       "      <th>nutritions.fat</th>\n",
       "      <th>nutritions.sugar</th>\n",
       "      <th>nutritions.carbohydrates</th>\n",
       "      <th>nutritions.protein</th>\n",
       "    </tr>\n",
       "    <tr>\n",
       "      <th>name</th>\n",
       "      <th></th>\n",
       "      <th></th>\n",
       "      <th></th>\n",
       "      <th></th>\n",
       "      <th></th>\n",
       "      <th></th>\n",
       "      <th></th>\n",
       "      <th></th>\n",
       "      <th></th>\n",
       "    </tr>\n",
       "  </thead>\n",
       "  <tbody>\n",
       "    <tr>\n",
       "      <th>Persimmon</th>\n",
       "      <td>52</td>\n",
       "      <td>Ebenaceae</td>\n",
       "      <td>Rosales</td>\n",
       "      <td>Diospyros</td>\n",
       "      <td>81</td>\n",
       "      <td>0.0</td>\n",
       "      <td>18.0</td>\n",
       "      <td>18.0</td>\n",
       "      <td>0.0</td>\n",
       "    </tr>\n",
       "    <tr>\n",
       "      <th>Strawberry</th>\n",
       "      <td>3</td>\n",
       "      <td>Rosaceae</td>\n",
       "      <td>Rosales</td>\n",
       "      <td>Fragaria</td>\n",
       "      <td>29</td>\n",
       "      <td>0.4</td>\n",
       "      <td>5.4</td>\n",
       "      <td>5.5</td>\n",
       "      <td>0.8</td>\n",
       "    </tr>\n",
       "    <tr>\n",
       "      <th>Banana</th>\n",
       "      <td>1</td>\n",
       "      <td>Musaceae</td>\n",
       "      <td>Zingiberales</td>\n",
       "      <td>Musa</td>\n",
       "      <td>96</td>\n",
       "      <td>0.2</td>\n",
       "      <td>17.2</td>\n",
       "      <td>22.0</td>\n",
       "      <td>1.0</td>\n",
       "    </tr>\n",
       "    <tr>\n",
       "      <th>Tomato</th>\n",
       "      <td>5</td>\n",
       "      <td>Solanaceae</td>\n",
       "      <td>Solanales</td>\n",
       "      <td>Solanum</td>\n",
       "      <td>74</td>\n",
       "      <td>0.2</td>\n",
       "      <td>2.6</td>\n",
       "      <td>3.9</td>\n",
       "      <td>0.9</td>\n",
       "    </tr>\n",
       "    <tr>\n",
       "      <th>Pear</th>\n",
       "      <td>4</td>\n",
       "      <td>Rosaceae</td>\n",
       "      <td>Rosales</td>\n",
       "      <td>Pyrus</td>\n",
       "      <td>57</td>\n",
       "      <td>0.1</td>\n",
       "      <td>10.0</td>\n",
       "      <td>15.0</td>\n",
       "      <td>0.4</td>\n",
       "    </tr>\n",
       "  </tbody>\n",
       "</table>\n",
       "</div>"
      ],
      "text/plain": [
       "            id      family         order      genus  nutritions.calories  \\\n",
       "name                                                                       \n",
       "Persimmon   52   Ebenaceae       Rosales  Diospyros                   81   \n",
       "Strawberry   3    Rosaceae       Rosales   Fragaria                   29   \n",
       "Banana       1    Musaceae  Zingiberales       Musa                   96   \n",
       "Tomato       5  Solanaceae     Solanales    Solanum                   74   \n",
       "Pear         4    Rosaceae       Rosales      Pyrus                   57   \n",
       "\n",
       "            nutritions.fat  nutritions.sugar  nutritions.carbohydrates  \\\n",
       "name                                                                     \n",
       "Persimmon              0.0              18.0                      18.0   \n",
       "Strawberry             0.4               5.4                       5.5   \n",
       "Banana                 0.2              17.2                      22.0   \n",
       "Tomato                 0.2               2.6                       3.9   \n",
       "Pear                   0.1              10.0                      15.0   \n",
       "\n",
       "            nutritions.protein  \n",
       "name                            \n",
       "Persimmon                  0.0  \n",
       "Strawberry                 0.8  \n",
       "Banana                     1.0  \n",
       "Tomato                     0.9  \n",
       "Pear                       0.4  "
      ]
     },
     "execution_count": 78,
     "metadata": {},
     "output_type": "execute_result"
    }
   ],
   "source": [
    "Fruits = Fruits.set_index(\"name\")\n",
    "Fruits.head()"
   ]
  },
  {
   "cell_type": "code",
   "execution_count": 79,
   "id": "baa16303-ecad-4b6f-9994-87fd02763609",
   "metadata": {},
   "outputs": [
    {
     "data": {
      "text/plain": [
       "np.int64(74)"
      ]
     },
     "execution_count": 79,
     "metadata": {},
     "output_type": "execute_result"
    }
   ],
   "source": [
    "Fruits.loc[\"Tomato\"][\"nutritions.calories\"] #Finding out calories in Tomato"
   ]
  },
  {
   "cell_type": "code",
   "execution_count": 82,
   "id": "a30bcb42-3a42-4167-b403-232c4f86c844",
   "metadata": {},
   "outputs": [
    {
     "data": {
      "text/html": [
       "<div>\n",
       "<style scoped>\n",
       "    .dataframe tbody tr th:only-of-type {\n",
       "        vertical-align: middle;\n",
       "    }\n",
       "\n",
       "    .dataframe tbody tr th {\n",
       "        vertical-align: top;\n",
       "    }\n",
       "\n",
       "    .dataframe thead th {\n",
       "        text-align: right;\n",
       "    }\n",
       "</style>\n",
       "<table border=\"1\" class=\"dataframe\">\n",
       "  <thead>\n",
       "    <tr style=\"text-align: right;\">\n",
       "      <th></th>\n",
       "      <th>name</th>\n",
       "      <th>id</th>\n",
       "      <th>family</th>\n",
       "      <th>order</th>\n",
       "      <th>genus</th>\n",
       "      <th>nutritions.calories</th>\n",
       "      <th>nutritions.fat</th>\n",
       "      <th>nutritions.sugar</th>\n",
       "      <th>nutritions.carbohydrates</th>\n",
       "      <th>nutritions.protein</th>\n",
       "    </tr>\n",
       "  </thead>\n",
       "  <tbody>\n",
       "    <tr>\n",
       "      <th>0</th>\n",
       "      <td>Persimmon</td>\n",
       "      <td>52</td>\n",
       "      <td>Ebenaceae</td>\n",
       "      <td>Rosales</td>\n",
       "      <td>Diospyros</td>\n",
       "      <td>81</td>\n",
       "      <td>0.0</td>\n",
       "      <td>18.0</td>\n",
       "      <td>18.0</td>\n",
       "      <td>0.0</td>\n",
       "    </tr>\n",
       "    <tr>\n",
       "      <th>1</th>\n",
       "      <td>Strawberry</td>\n",
       "      <td>3</td>\n",
       "      <td>Rosaceae</td>\n",
       "      <td>Rosales</td>\n",
       "      <td>Fragaria</td>\n",
       "      <td>29</td>\n",
       "      <td>0.4</td>\n",
       "      <td>5.4</td>\n",
       "      <td>5.5</td>\n",
       "      <td>0.8</td>\n",
       "    </tr>\n",
       "    <tr>\n",
       "      <th>2</th>\n",
       "      <td>Banana</td>\n",
       "      <td>1</td>\n",
       "      <td>Musaceae</td>\n",
       "      <td>Zingiberales</td>\n",
       "      <td>Musa</td>\n",
       "      <td>96</td>\n",
       "      <td>0.2</td>\n",
       "      <td>17.2</td>\n",
       "      <td>22.0</td>\n",
       "      <td>1.0</td>\n",
       "    </tr>\n",
       "    <tr>\n",
       "      <th>3</th>\n",
       "      <td>Tomato</td>\n",
       "      <td>5</td>\n",
       "      <td>Solanaceae</td>\n",
       "      <td>Solanales</td>\n",
       "      <td>Solanum</td>\n",
       "      <td>74</td>\n",
       "      <td>0.2</td>\n",
       "      <td>2.6</td>\n",
       "      <td>3.9</td>\n",
       "      <td>0.9</td>\n",
       "    </tr>\n",
       "    <tr>\n",
       "      <th>4</th>\n",
       "      <td>Pear</td>\n",
       "      <td>4</td>\n",
       "      <td>Rosaceae</td>\n",
       "      <td>Rosales</td>\n",
       "      <td>Pyrus</td>\n",
       "      <td>57</td>\n",
       "      <td>0.1</td>\n",
       "      <td>10.0</td>\n",
       "      <td>15.0</td>\n",
       "      <td>0.4</td>\n",
       "    </tr>\n",
       "  </tbody>\n",
       "</table>\n",
       "</div>"
      ],
      "text/plain": [
       "         name  id      family         order      genus  nutritions.calories  \\\n",
       "0   Persimmon  52   Ebenaceae       Rosales  Diospyros                   81   \n",
       "1  Strawberry   3    Rosaceae       Rosales   Fragaria                   29   \n",
       "2      Banana   1    Musaceae  Zingiberales       Musa                   96   \n",
       "3      Tomato   5  Solanaceae     Solanales    Solanum                   74   \n",
       "4        Pear   4    Rosaceae       Rosales      Pyrus                   57   \n",
       "\n",
       "   nutritions.fat  nutritions.sugar  nutritions.carbohydrates  \\\n",
       "0             0.0              18.0                      18.0   \n",
       "1             0.4               5.4                       5.5   \n",
       "2             0.2              17.2                      22.0   \n",
       "3             0.2               2.6                       3.9   \n",
       "4             0.1              10.0                      15.0   \n",
       "\n",
       "   nutritions.protein  \n",
       "0                 0.0  \n",
       "1                 0.8  \n",
       "2                 1.0  \n",
       "3                 0.9  \n",
       "4                 0.4  "
      ]
     },
     "execution_count": 82,
     "metadata": {},
     "output_type": "execute_result"
    }
   ],
   "source": [
    "Fruits = Fruits.reset_index()\n",
    "Fruits.head()"
   ]
  },
  {
   "cell_type": "code",
   "execution_count": 83,
   "id": "753b47bb-33be-44f5-ac48-e352e78020b2",
   "metadata": {},
   "outputs": [
    {
     "data": {
      "text/plain": [
       "np.int64(96)"
      ]
     },
     "execution_count": 83,
     "metadata": {},
     "output_type": "execute_result"
    }
   ],
   "source": [
    "#Alternative way to go by the search, but not very useful\n",
    "Banana = Fruits.loc[Fruits[\"name\"] == \"Banana\"]\n",
    "Banana.iloc[0][\"nutritions.calories\"]"
   ]
  },
  {
   "cell_type": "markdown",
   "id": "1597a45c-d2f8-4a7f-a710-8e84c09fd0d5",
   "metadata": {},
   "source": [
    "Using Pandas to scrape data from html"
   ]
  },
  {
   "cell_type": "code",
   "execution_count": 137,
   "id": "30fe35e6-04bb-4eb3-b792-dc2e2f013c7f",
   "metadata": {},
   "outputs": [
    {
     "data": {
      "text/html": [
       "<div>\n",
       "<style scoped>\n",
       "    .dataframe tbody tr th:only-of-type {\n",
       "        vertical-align: middle;\n",
       "    }\n",
       "\n",
       "    .dataframe tbody tr th {\n",
       "        vertical-align: top;\n",
       "    }\n",
       "\n",
       "    .dataframe thead th {\n",
       "        text-align: right;\n",
       "    }\n",
       "</style>\n",
       "<table border=\"1\" class=\"dataframe\">\n",
       "  <thead>\n",
       "    <tr style=\"text-align: right;\">\n",
       "      <th></th>\n",
       "      <th>Rank</th>\n",
       "      <th>State</th>\n",
       "      <th>Goods (2022)</th>\n",
       "      <th>Services (2021)</th>\n",
       "      <th>Goods and services</th>\n",
       "    </tr>\n",
       "  </thead>\n",
       "  <tbody>\n",
       "    <tr>\n",
       "      <th>0</th>\n",
       "      <td>–</td>\n",
       "      <td>World</td>\n",
       "      <td>50526</td>\n",
       "      <td>11533</td>\n",
       "      <td>62059</td>\n",
       "    </tr>\n",
       "    <tr>\n",
       "      <th>1</th>\n",
       "      <td>–</td>\n",
       "      <td>European Union</td>\n",
       "      <td>5858</td>\n",
       "      <td>2313</td>\n",
       "      <td>8171</td>\n",
       "    </tr>\n",
       "    <tr>\n",
       "      <th>2</th>\n",
       "      <td>1</td>\n",
       "      <td>China</td>\n",
       "      <td>6310</td>\n",
       "      <td>829</td>\n",
       "      <td>7138</td>\n",
       "    </tr>\n",
       "    <tr>\n",
       "      <th>3</th>\n",
       "      <td>2</td>\n",
       "      <td>United States</td>\n",
       "      <td>5441</td>\n",
       "      <td>1345</td>\n",
       "      <td>6786</td>\n",
       "    </tr>\n",
       "    <tr>\n",
       "      <th>4</th>\n",
       "      <td>3</td>\n",
       "      <td>Germany</td>\n",
       "      <td>3227</td>\n",
       "      <td>751</td>\n",
       "      <td>3978</td>\n",
       "    </tr>\n",
       "  </tbody>\n",
       "</table>\n",
       "</div>"
      ],
      "text/plain": [
       "  Rank           State  Goods (2022)  Services (2021)  Goods and services\n",
       "0    –           World         50526            11533               62059\n",
       "1    –  European Union          5858             2313                8171\n",
       "2    1           China          6310              829                7138\n",
       "3    2   United States          5441             1345                6786\n",
       "4    3         Germany          3227              751                3978"
      ]
     },
     "execution_count": 137,
     "metadata": {},
     "output_type": "execute_result"
    }
   ],
   "source": [
    "URL = \"https://en.wikipedia.org/wiki/International_trade\"\n",
    "import pandas as pd\n",
    "HTML = pd.read_html(URL)\n",
    "Data = HTML[4]\n",
    "Data.head()"
   ]
  },
  {
   "cell_type": "code",
   "execution_count": 80,
   "id": "fac595a3-ad1a-4ec8-be2e-ae51d1ae1947",
   "metadata": {},
   "outputs": [
    {
     "ename": "NameError",
     "evalue": "name 'Data' is not defined",
     "output_type": "error",
     "traceback": [
      "\u001b[1;31m---------------------------------------------------------------------------\u001b[0m",
      "\u001b[1;31mNameError\u001b[0m                                 Traceback (most recent call last)",
      "Cell \u001b[1;32mIn[80], line 1\u001b[0m\n\u001b[1;32m----> 1\u001b[0m Data_chief \u001b[38;5;241m=\u001b[39m Data[[\u001b[38;5;124m\"\u001b[39m\u001b[38;5;124mState\u001b[39m\u001b[38;5;124m\"\u001b[39m, \u001b[38;5;124m\"\u001b[39m\u001b[38;5;124mGoods and services\u001b[39m\u001b[38;5;124m\"\u001b[39m]]\n\u001b[0;32m      2\u001b[0m Data_chief\u001b[38;5;241m.\u001b[39mhead()\n",
      "\u001b[1;31mNameError\u001b[0m: name 'Data' is not defined"
     ]
    }
   ],
   "source": [
    "Data_chief = Data[[\"State\", \"Goods and services\"]]\n",
    "Data_chief.head()"
   ]
  },
  {
   "cell_type": "code",
   "execution_count": 118,
   "id": "aceb91f7-8879-4685-8118-ea6318b12eab",
   "metadata": {},
   "outputs": [],
   "source": [
    "#Another neater ways to parse html data from wikkipedia into DataFrame\n",
    "import requests\n",
    "from bs4 import BeautifulSoup\n",
    "import pandas as pd\n",
    "\n",
    "URL = \"https://en.wikipedia.org/wiki/World_population\"\n",
    "File = requests.get(URL).text\n",
    "Soup = BeautifulSoup(File, \"html.parser\")"
   ]
  },
  {
   "cell_type": "code",
   "execution_count": 88,
   "id": "78a5c3d9-6a56-40b4-92a3-9d2327ded7b2",
   "metadata": {},
   "outputs": [
    {
     "data": {
      "text/plain": [
       "27"
      ]
     },
     "execution_count": 88,
     "metadata": {},
     "output_type": "execute_result"
    }
   ],
   "source": [
    "len(tables)"
   ]
  },
  {
   "cell_type": "code",
   "execution_count": 84,
   "id": "b65ae62b-1dfa-4083-bf94-d82695a2842c",
   "metadata": {},
   "outputs": [],
   "source": [
    "tables = Soup.find_all('table')"
   ]
  },
  {
   "cell_type": "code",
   "execution_count": 100,
   "id": "8d927024-828e-4556-9802-5ff297c2726f",
   "metadata": {},
   "outputs": [
    {
     "name": "stdout",
     "output_type": "stream",
     "text": [
      "6\n"
     ]
    }
   ],
   "source": [
    "#Now we check the actual wikkipedia webpage to find the heading name of the table that we are interested in to locate the index of the table\n",
    "for index, table in enumerate(tables):\n",
    "    if(\"10 most densely populated countries\" in str(table)):\n",
    "        table_index = index\n",
    "print(table_index)"
   ]
  },
  {
   "cell_type": "code",
   "execution_count": 116,
   "id": "1c03764a-5ecb-4d8e-a77a-65ccc61982dd",
   "metadata": {},
   "outputs": [
    {
     "data": {
      "text/html": [
       "<div>\n",
       "<style scoped>\n",
       "    .dataframe tbody tr th:only-of-type {\n",
       "        vertical-align: middle;\n",
       "    }\n",
       "\n",
       "    .dataframe tbody tr th {\n",
       "        vertical-align: top;\n",
       "    }\n",
       "\n",
       "    .dataframe thead th {\n",
       "        text-align: right;\n",
       "    }\n",
       "</style>\n",
       "<table border=\"1\" class=\"dataframe\">\n",
       "  <thead>\n",
       "    <tr style=\"text-align: right;\">\n",
       "      <th></th>\n",
       "      <th>Rank</th>\n",
       "      <th>Country</th>\n",
       "      <th>Population</th>\n",
       "      <th>Area</th>\n",
       "      <th>Density</th>\n",
       "    </tr>\n",
       "  </thead>\n",
       "  <tbody>\n",
       "    <tr>\n",
       "      <th>0</th>\n",
       "      <td>1</td>\n",
       "      <td>Singapore</td>\n",
       "      <td>5,921,231</td>\n",
       "      <td>719</td>\n",
       "      <td>8,235</td>\n",
       "    </tr>\n",
       "    <tr>\n",
       "      <th>1</th>\n",
       "      <td>2</td>\n",
       "      <td>Bangladesh</td>\n",
       "      <td>165,650,475</td>\n",
       "      <td>148,460</td>\n",
       "      <td>1,116</td>\n",
       "    </tr>\n",
       "    <tr>\n",
       "      <th>2</th>\n",
       "      <td>3</td>\n",
       "      <td>Palestine[note 3][99]</td>\n",
       "      <td>5,223,000</td>\n",
       "      <td>6,025</td>\n",
       "      <td>867</td>\n",
       "    </tr>\n",
       "    <tr>\n",
       "      <th>3</th>\n",
       "      <td>4</td>\n",
       "      <td>Taiwan[note 4]</td>\n",
       "      <td>23,580,712</td>\n",
       "      <td>35,980</td>\n",
       "      <td>655</td>\n",
       "    </tr>\n",
       "    <tr>\n",
       "      <th>4</th>\n",
       "      <td>5</td>\n",
       "      <td>South Korea</td>\n",
       "      <td>51,844,834</td>\n",
       "      <td>99,720</td>\n",
       "      <td>520</td>\n",
       "    </tr>\n",
       "  </tbody>\n",
       "</table>\n",
       "</div>"
      ],
      "text/plain": [
       "  Rank                Country   Population     Area Density\n",
       "0    1              Singapore    5,921,231      719   8,235\n",
       "1    2             Bangladesh  165,650,475  148,460   1,116\n",
       "2    3  Palestine[note 3][99]    5,223,000    6,025     867\n",
       "3    4         Taiwan[note 4]   23,580,712   35,980     655\n",
       "4    5            South Korea   51,844,834   99,720     520"
      ]
     },
     "execution_count": 116,
     "metadata": {},
     "output_type": "execute_result"
    }
   ],
   "source": [
    "#This does not really make too much sense\n",
    "population_data = pd.DataFrame(columns=[\"Rank\", \"Country\", \"Population\", \"Area\", \"Density\"])\n",
    "\n",
    "for row in tables[table_index].tbody.find_all(\"tr\"):\n",
    "    col = row.find_all(\"td\")\n",
    "    if col:\n",
    "        rank = col[0].text.strip()\n",
    "        country = col[1].text.strip()\n",
    "        population = col[2].text.strip()\n",
    "        area = col[3].text.strip()\n",
    "        density = col[4].text.strip()\n",
    "\n",
    "        # Create a temporary DataFrame for the new row\n",
    "        new_row = pd.DataFrame([{\"Rank\": rank, \"Country\": country, \"Population\": population, \"Area\": area, \"Density\": density}])\n",
    "\n",
    "        # Use concat \n",
    "        population_data = pd.concat([population_data, new_row], ignore_index=True)\n",
    "\n",
    "population_data.head()"
   ]
  },
  {
   "cell_type": "markdown",
   "id": "8a76a709-b1d1-404b-989b-ed2cd36bc8ac",
   "metadata": {},
   "source": [
    "Working with HTML (Extras)"
   ]
  },
  {
   "cell_type": "code",
   "execution_count": 145,
   "id": "effde0b4-0c51-44cc-80eb-0612a9d88640",
   "metadata": {},
   "outputs": [],
   "source": [
    "import requests\n",
    "from bs4 import BeautifulSoup\n",
    "import html5lib"
   ]
  },
  {
   "cell_type": "code",
   "execution_count": 151,
   "id": "c221d31f-70a9-41bb-8c75-6af34d14cad9",
   "metadata": {},
   "outputs": [
    {
     "data": {
      "text/plain": [
       "<!DOCTYPE html>\n",
       "<html><head><title>Page Title</title></head><body><h3><b id=\"boldest\">Lebron James</b></h3><p> Salary: $ 92,000,000 </p><h3> Stephen Curry</h3><p> Salary: $85,000, 000 </p><h3> Kevin Durant </h3><p> Salary: $73,200, 000</p></body></html>"
      ]
     },
     "execution_count": 151,
     "metadata": {},
     "output_type": "execute_result"
    }
   ],
   "source": [
    "HTML = \"<!DOCTYPE html><html><head><title>Page Title</title></head><body><h3><b id='boldest'>Lebron James</b></h3><p> Salary: $ 92,000,000 </p><h3> Stephen Curry</h3><p> Salary: $85,000, 000 </p><h3> Kevin Durant </h3><p> Salary: $73,200, 000</p></body></html>\"\n",
    "soup = BeautifulSoup(HTML, 'html5lib')\n",
    "soup"
   ]
  },
  {
   "cell_type": "code",
   "execution_count": 157,
   "id": "34d9297d-cb68-43b4-88f6-aacb380637a3",
   "metadata": {},
   "outputs": [
    {
     "name": "stdout",
     "output_type": "stream",
     "text": [
      "<!DOCTYPE html>\n",
      "<html>\n",
      " <head>\n",
      "  <title>\n",
      "   Page Title\n",
      "  </title>\n",
      " </head>\n",
      " <body>\n",
      "  <h3>\n",
      "   <b id=\"boldest\">\n",
      "    Lebron James\n",
      "   </b>\n",
      "  </h3>\n",
      "  <p>\n",
      "   Salary: $ 92,000,000\n",
      "  </p>\n",
      "  <h3>\n",
      "   Stephen Curry\n",
      "  </h3>\n",
      "  <p>\n",
      "   Salary: $85,000, 000\n",
      "  </p>\n",
      "  <h3>\n",
      "   Kevin Durant\n",
      "  </h3>\n",
      "  <p>\n",
      "   Salary: $73,200, 000\n",
      "  </p>\n",
      " </body>\n",
      "</html>\n",
      "\n"
     ]
    }
   ],
   "source": [
    "print(soup.prettify())"
   ]
  },
  {
   "cell_type": "code",
   "execution_count": 159,
   "id": "5dceedcf-b5bd-4e36-b799-060d1a69c83d",
   "metadata": {},
   "outputs": [
    {
     "data": {
      "text/plain": [
       "<title>Page Title</title>"
      ]
     },
     "execution_count": 159,
     "metadata": {},
     "output_type": "execute_result"
    }
   ],
   "source": [
    "soup.title"
   ]
  },
  {
   "cell_type": "code",
   "execution_count": 175,
   "id": "cfb4ffa8-f2c6-4938-a36b-5adb49307237",
   "metadata": {},
   "outputs": [
    {
     "data": {
      "text/plain": [
       "<h3><b id=\"boldest\">Lebron James</b></h3>"
      ]
     },
     "execution_count": 175,
     "metadata": {},
     "output_type": "execute_result"
    }
   ],
   "source": [
    "tag_object = soup.h3\n",
    "tag_object"
   ]
  },
  {
   "cell_type": "code",
   "execution_count": 177,
   "id": "84fec518-0697-4a67-8075-eb84f13ef7ea",
   "metadata": {},
   "outputs": [
    {
     "data": {
      "text/plain": [
       "<b id=\"boldest\">Lebron James</b>"
      ]
     },
     "execution_count": 177,
     "metadata": {},
     "output_type": "execute_result"
    }
   ],
   "source": [
    "tag_child = tag_object.b\n",
    "tag_child"
   ]
  },
  {
   "cell_type": "code",
   "execution_count": 181,
   "id": "e9d9de0d-554f-4961-b2f0-f2c4a1ba6d68",
   "metadata": {},
   "outputs": [
    {
     "data": {
      "text/plain": [
       "<h3><b id=\"boldest\">Lebron James</b></h3>"
      ]
     },
     "execution_count": 181,
     "metadata": {},
     "output_type": "execute_result"
    }
   ],
   "source": [
    "tag_parent = tag_child.parent\n",
    "tag_parent"
   ]
  },
  {
   "cell_type": "code",
   "execution_count": 185,
   "id": "5607e604-4ffa-4f32-98ff-bbbe8b45d576",
   "metadata": {},
   "outputs": [
    {
     "data": {
      "text/plain": [
       "<body><h3><b id=\"boldest\">Lebron James</b></h3><p> Salary: $ 92,000,000 </p><h3> Stephen Curry</h3><p> Salary: $85,000, 000 </p><h3> Kevin Durant </h3><p> Salary: $73,200, 000</p></body>"
      ]
     },
     "execution_count": 185,
     "metadata": {},
     "output_type": "execute_result"
    }
   ],
   "source": [
    "tag_highest = tag_parent.parent\n",
    "tag_highest"
   ]
  },
  {
   "cell_type": "code",
   "execution_count": 189,
   "id": "43468c6c-e1e8-4798-90ad-e824edac9930",
   "metadata": {},
   "outputs": [
    {
     "data": {
      "text/plain": [
       "<p> Salary: $ 92,000,000 </p>"
      ]
     },
     "execution_count": 189,
     "metadata": {},
     "output_type": "execute_result"
    }
   ],
   "source": [
    "tag_sibling = tag_object.next_sibling\n",
    "tag_sibling"
   ]
  },
  {
   "cell_type": "code",
   "execution_count": 191,
   "id": "e63496d1-fdda-45e9-844f-f2564a15c03f",
   "metadata": {},
   "outputs": [
    {
     "data": {
      "text/plain": [
       "' Salary: $ 92,000,000 '"
      ]
     },
     "execution_count": 191,
     "metadata": {},
     "output_type": "execute_result"
    }
   ],
   "source": [
    "#Checking texts in a tag\n",
    "tag_sibling.string"
   ]
  },
  {
   "cell_type": "markdown",
   "id": "7ca87cb3-be06-4c2d-b166-dae8fab2196b",
   "metadata": {},
   "source": [
    "Working with table type html"
   ]
  },
  {
   "cell_type": "code",
   "execution_count": 206,
   "id": "3213f7f7-4460-414d-950b-f786f269df99",
   "metadata": {},
   "outputs": [
    {
     "data": {
      "text/plain": [
       "<html><head></head><body><table><tbody><tr><td id=\"flight\">Flight No</td><td>Launch site</td><td>Payload mass</td></tr><tr><td>1</td><td><a href=\"https://en.wikipedia.org/wiki/Florida\">Florida</a></td><td>300 kg</td></tr><tr><td>2</td><td><a href=\"https://en.wikipedia.org/wiki/Texas\">Texas</a></td><td>94 kg</td></tr><tr><td>3</td><td><a href=\"https://en.wikipedia.org/wiki/Florida\">Florida</a><a> </a></td><td>80 kg</td></tr></tbody></table></body></html>"
      ]
     },
     "execution_count": 206,
     "metadata": {},
     "output_type": "execute_result"
    }
   ],
   "source": [
    "html = \"<table><tr><td id='flight'>Flight No</td><td>Launch site</td><td>Payload mass</td></tr><tr><td>1</td><td><a href='https://en.wikipedia.org/wiki/Florida'>Florida</a></td><td>300 kg</td></tr><tr><td>2</td><td><a href='https://en.wikipedia.org/wiki/Texas'>Texas</a></td><td>94 kg</td></tr><tr><td>3</td><td><a href='https://en.wikipedia.org/wiki/Florida'>Florida<a> </td><td>80 kg</td></tr></table>\"\n",
    "Table = BeautifulSoup(html, \"html5lib\")\n",
    "Table #It appears we do not need get requests to retrieve htmls"
   ]
  },
  {
   "cell_type": "code",
   "execution_count": 210,
   "id": "6aa75839-d549-43aa-88b1-33cb24d65729",
   "metadata": {},
   "outputs": [
    {
     "name": "stdout",
     "output_type": "stream",
     "text": [
      "<html>\n",
      " <head>\n",
      " </head>\n",
      " <body>\n",
      "  <table>\n",
      "   <tbody>\n",
      "    <tr>\n",
      "     <td id=\"flight\">\n",
      "      Flight No\n",
      "     </td>\n",
      "     <td>\n",
      "      Launch site\n",
      "     </td>\n",
      "     <td>\n",
      "      Payload mass\n",
      "     </td>\n",
      "    </tr>\n",
      "    <tr>\n",
      "     <td>\n",
      "      1\n",
      "     </td>\n",
      "     <td>\n",
      "      <a href=\"https://en.wikipedia.org/wiki/Florida\">\n",
      "       Florida\n",
      "      </a>\n",
      "     </td>\n",
      "     <td>\n",
      "      300 kg\n",
      "     </td>\n",
      "    </tr>\n",
      "    <tr>\n",
      "     <td>\n",
      "      2\n",
      "     </td>\n",
      "     <td>\n",
      "      <a href=\"https://en.wikipedia.org/wiki/Texas\">\n",
      "       Texas\n",
      "      </a>\n",
      "     </td>\n",
      "     <td>\n",
      "      94 kg\n",
      "     </td>\n",
      "    </tr>\n",
      "    <tr>\n",
      "     <td>\n",
      "      3\n",
      "     </td>\n",
      "     <td>\n",
      "      <a href=\"https://en.wikipedia.org/wiki/Florida\">\n",
      "       Florida\n",
      "      </a>\n",
      "      <a>\n",
      "      </a>\n",
      "     </td>\n",
      "     <td>\n",
      "      80 kg\n",
      "     </td>\n",
      "    </tr>\n",
      "   </tbody>\n",
      "  </table>\n",
      " </body>\n",
      "</html>\n",
      "\n"
     ]
    }
   ],
   "source": [
    "print(Table.prettify())"
   ]
  },
  {
   "cell_type": "code",
   "execution_count": 214,
   "id": "2d753223-08a5-42d5-b87e-f6132be88cbe",
   "metadata": {},
   "outputs": [
    {
     "data": {
      "text/plain": [
       "[<tr><td id=\"flight\">Flight No</td><td>Launch site</td><td>Payload mass</td></tr>,\n",
       " <tr><td>1</td><td><a href=\"https://en.wikipedia.org/wiki/Florida\">Florida</a></td><td>300 kg</td></tr>,\n",
       " <tr><td>2</td><td><a href=\"https://en.wikipedia.org/wiki/Texas\">Texas</a></td><td>94 kg</td></tr>,\n",
       " <tr><td>3</td><td><a href=\"https://en.wikipedia.org/wiki/Florida\">Florida</a><a> </a></td><td>80 kg</td></tr>]"
      ]
     },
     "execution_count": 214,
     "metadata": {},
     "output_type": "execute_result"
    }
   ],
   "source": [
    "Table_rows = Table.find_all(\"tr\")\n",
    "Table_rows"
   ]
  },
  {
   "cell_type": "code",
   "execution_count": 218,
   "id": "6c20aa3a-e8e8-4ba6-8bc7-c9042c8a0950",
   "metadata": {},
   "outputs": [
    {
     "data": {
      "text/plain": [
       "<tr><td id=\"flight\">Flight No</td><td>Launch site</td><td>Payload mass</td></tr>"
      ]
     },
     "execution_count": 218,
     "metadata": {},
     "output_type": "execute_result"
    }
   ],
   "source": [
    "first_row = Table_rows[0]\n",
    "first_row"
   ]
  },
  {
   "cell_type": "code",
   "execution_count": 222,
   "id": "d1f48c12-eb13-44c6-931a-17820abf71bd",
   "metadata": {},
   "outputs": [
    {
     "data": {
      "text/plain": [
       "<td id=\"flight\">Flight No</td>"
      ]
     },
     "execution_count": 222,
     "metadata": {},
     "output_type": "execute_result"
    }
   ],
   "source": [
    "first_row.td"
   ]
  },
  {
   "cell_type": "code",
   "execution_count": 224,
   "id": "25b6d27d-eafc-4b3a-aeef-8b7e7fa13749",
   "metadata": {},
   "outputs": [
    {
     "name": "stdout",
     "output_type": "stream",
     "text": [
      "0 is <tr><td id=\"flight\">Flight No</td><td>Launch site</td><td>Payload mass</td></tr>\n",
      "1 is <tr><td>1</td><td><a href=\"https://en.wikipedia.org/wiki/Florida\">Florida</a></td><td>300 kg</td></tr>\n",
      "2 is <tr><td>2</td><td><a href=\"https://en.wikipedia.org/wiki/Texas\">Texas</a></td><td>94 kg</td></tr>\n",
      "3 is <tr><td>3</td><td><a href=\"https://en.wikipedia.org/wiki/Florida\">Florida</a><a> </a></td><td>80 kg</td></tr>\n"
     ]
    }
   ],
   "source": [
    "for i, rows in enumerate(Table_rows):\n",
    "    print(i, \"is\", rows)"
   ]
  },
  {
   "cell_type": "code",
   "execution_count": 232,
   "id": "37c638fa-4c2c-46d5-99af-6bd946b5355b",
   "metadata": {},
   "outputs": [
    {
     "data": {
      "text/plain": [
       "[<a href=\"https://en.wikipedia.org/wiki/Florida\">Florida</a>,\n",
       " <a href=\"https://en.wikipedia.org/wiki/Texas\">Texas</a>,\n",
       " <a href=\"https://en.wikipedia.org/wiki/Florida\">Florida</a>]"
      ]
     },
     "execution_count": 232,
     "metadata": {},
     "output_type": "execute_result"
    }
   ],
   "source": [
    "Table.find_all(href = True) #FInding every details in the html that is anchored with a link"
   ]
  },
  {
   "cell_type": "code",
   "execution_count": 234,
   "id": "dad3edff-2457-4517-9bb4-d47db565c122",
   "metadata": {},
   "outputs": [
    {
     "data": {
      "text/plain": [
       "['Texas']"
      ]
     },
     "execution_count": 234,
     "metadata": {},
     "output_type": "execute_result"
    }
   ],
   "source": [
    "Table.find_all(string=\"Texas\")"
   ]
  },
  {
   "cell_type": "code",
   "execution_count": 258,
   "id": "ff959160-de34-416c-9fa8-acbdf8aa6938",
   "metadata": {},
   "outputs": [
    {
     "name": "stderr",
     "output_type": "stream",
     "text": [
      "C:\\Users\\prien\\AppData\\Local\\Temp\\ipykernel_13960\\1042993597.py:3: MarkupResemblesLocatorWarning: The input looks more like a URL than markup. You may want to use an HTTP client like requests to get the document behind the URL, and feed that document to Beautiful Soup.\n",
      "  Data = BeautifulSoup(url, \"html5lib\")\n"
     ]
    },
    {
     "data": {
      "text/plain": [
       "<html><head></head><body>https://www.ibm.com</body></html>"
      ]
     },
     "execution_count": 258,
     "metadata": {},
     "output_type": "execute_result"
    }
   ],
   "source": [
    "url = \"https://www.ibm.com\" \n",
    "html_content = requests.get(url).text\n",
    "Data = BeautifulSoup(url, \"html5lib\")\n",
    "Data"
   ]
  },
  {
   "cell_type": "code",
   "execution_count": 265,
   "id": "f9911dfd-30de-41e1-a716-24677fb96647",
   "metadata": {},
   "outputs": [],
   "source": [
    "for links in Data.find_all('a', href=True):\n",
    "    print(links.get(href))"
   ]
  },
  {
   "cell_type": "code",
   "execution_count": 278,
   "id": "28d42c5f-66ab-48ca-836f-ab3a3e3b27fb",
   "metadata": {},
   "outputs": [],
   "source": [
    "import requests\n",
    "from bs4 import BeautifulSoup\n",
    "URL = \"https://cf-courses-data.s3.us.cloud-object-storage.appdomain.cloud/IBM-DA0321EN-SkillsNetwork/labs/datasets/HTMLColorCodes.html\"\n",
    "HTML = requests.get(URL).text\n",
    "Soup= BeautifulSoup(HTML, \"html5lib\")"
   ]
  },
  {
   "cell_type": "code",
   "execution_count": 291,
   "id": "d79cfd9b-6c75-49ba-ab75-914b8a7db8bc",
   "metadata": {},
   "outputs": [
    {
     "data": {
      "text/plain": [
       "'dodgerblue'"
      ]
     },
     "execution_count": 291,
     "metadata": {},
     "output_type": "execute_result"
    }
   ],
   "source": [
    "for rows in Soup.find_all(\"tr\"):\n",
    "    cols = rows.find_all(\"td\")\n",
    "    color_name = cols[2].string\n",
    "    color_code = cols[3].string\n",
    "color_name"
   ]
  },
  {
   "cell_type": "markdown",
   "id": "9785b7a8-46e0-4476-91d3-db67b28d05f8",
   "metadata": {},
   "source": [
    "### API and webscraping project"
   ]
  },
  {
   "cell_type": "code",
   "execution_count": 131,
   "id": "8cfaa27a-957b-4131-a74b-e8efbf6a99db",
   "metadata": {},
   "outputs": [
    {
     "name": "stdout",
     "output_type": "stream",
     "text": [
      "Collecting yfinance\n",
      "  Downloading yfinance-0.2.59-py2.py3-none-any.whl.metadata (5.7 kB)\n",
      "Requirement already satisfied: pandas>=1.3.0 in d:\\anaconda_navigator\\envs\\rp_env\\lib\\site-packages (from yfinance) (2.2.3)\n",
      "Requirement already satisfied: numpy>=1.16.5 in d:\\anaconda_navigator\\envs\\rp_env\\lib\\site-packages (from yfinance) (2.2.5)\n",
      "Requirement already satisfied: requests>=2.31 in d:\\anaconda_navigator\\envs\\rp_env\\lib\\site-packages (from yfinance) (2.32.3)\n",
      "Collecting multitasking>=0.0.7 (from yfinance)\n",
      "  Using cached multitasking-0.0.11-py3-none-any.whl.metadata (5.5 kB)\n",
      "Requirement already satisfied: platformdirs>=2.0.0 in d:\\anaconda_navigator\\envs\\rp_env\\lib\\site-packages (from yfinance) (4.3.7)\n",
      "Requirement already satisfied: pytz>=2022.5 in d:\\anaconda_navigator\\envs\\rp_env\\lib\\site-packages (from yfinance) (2025.2)\n",
      "Collecting frozendict>=2.3.4 (from yfinance)\n",
      "  Using cached frozendict-2.4.6-py312-none-any.whl.metadata (23 kB)\n",
      "Collecting peewee>=3.16.2 (from yfinance)\n",
      "  Downloading peewee-3.18.1.tar.gz (3.0 MB)\n",
      "     ---------------------------------------- 0.0/3.0 MB ? eta -:--:--\n",
      "     --- ------------------------------------ 0.3/3.0 MB ? eta -:--:--\n",
      "     ---------- ----------------------------- 0.8/3.0 MB 2.6 MB/s eta 0:00:01\n",
      "     -------------------- ------------------- 1.6/3.0 MB 2.9 MB/s eta 0:00:01\n",
      "     --------------------------- ------------ 2.1/3.0 MB 3.1 MB/s eta 0:00:01\n",
      "     ---------------------------------- ----- 2.6/3.0 MB 2.7 MB/s eta 0:00:01\n",
      "     ---------------------------------------- 3.0/3.0 MB 2.7 MB/s eta 0:00:00\n",
      "  Installing build dependencies: started\n",
      "  Installing build dependencies: finished with status 'done'\n",
      "  Getting requirements to build wheel: started\n",
      "  Getting requirements to build wheel: finished with status 'done'\n",
      "  Preparing metadata (pyproject.toml): started\n",
      "  Preparing metadata (pyproject.toml): finished with status 'done'\n",
      "Requirement already satisfied: beautifulsoup4>=4.11.1 in d:\\anaconda_navigator\\envs\\rp_env\\lib\\site-packages (from yfinance) (4.12.3)\n",
      "Collecting curl_cffi>=0.7 (from yfinance)\n",
      "  Downloading curl_cffi-0.10.0-cp39-abi3-win_amd64.whl.metadata (12 kB)\n",
      "Collecting protobuf<6,>=5.29.0 (from yfinance)\n",
      "  Downloading protobuf-5.29.4-cp310-abi3-win_amd64.whl.metadata (592 bytes)\n",
      "Collecting websockets>=11.0 (from yfinance)\n",
      "  Downloading websockets-15.0.1-cp312-cp312-win_amd64.whl.metadata (7.0 kB)\n",
      "Requirement already satisfied: soupsieve>1.2 in d:\\anaconda_navigator\\envs\\rp_env\\lib\\site-packages (from beautifulsoup4>=4.11.1->yfinance) (2.5)\n",
      "Requirement already satisfied: cffi>=1.12.0 in d:\\anaconda_navigator\\envs\\rp_env\\lib\\site-packages (from curl_cffi>=0.7->yfinance) (1.17.1)\n",
      "Requirement already satisfied: certifi>=2024.2.2 in d:\\anaconda_navigator\\envs\\rp_env\\lib\\site-packages (from curl_cffi>=0.7->yfinance) (2025.1.31)\n",
      "Requirement already satisfied: python-dateutil>=2.8.2 in d:\\anaconda_navigator\\envs\\rp_env\\lib\\site-packages (from pandas>=1.3.0->yfinance) (2.9.0.post0)\n",
      "Requirement already satisfied: tzdata>=2022.7 in d:\\anaconda_navigator\\envs\\rp_env\\lib\\site-packages (from pandas>=1.3.0->yfinance) (2025.2)\n",
      "Requirement already satisfied: charset-normalizer<4,>=2 in d:\\anaconda_navigator\\envs\\rp_env\\lib\\site-packages (from requests>=2.31->yfinance) (3.3.2)\n",
      "Requirement already satisfied: idna<4,>=2.5 in d:\\anaconda_navigator\\envs\\rp_env\\lib\\site-packages (from requests>=2.31->yfinance) (3.7)\n",
      "Requirement already satisfied: urllib3<3,>=1.21.1 in d:\\anaconda_navigator\\envs\\rp_env\\lib\\site-packages (from requests>=2.31->yfinance) (2.3.0)\n",
      "Requirement already satisfied: pycparser in d:\\anaconda_navigator\\envs\\rp_env\\lib\\site-packages (from cffi>=1.12.0->curl_cffi>=0.7->yfinance) (2.21)\n",
      "Requirement already satisfied: six>=1.5 in d:\\anaconda_navigator\\envs\\rp_env\\lib\\site-packages (from python-dateutil>=2.8.2->pandas>=1.3.0->yfinance) (1.17.0)\n",
      "Downloading yfinance-0.2.59-py2.py3-none-any.whl (117 kB)\n",
      "Downloading curl_cffi-0.10.0-cp39-abi3-win_amd64.whl (1.4 MB)\n",
      "   ---------------------------------------- 0.0/1.4 MB ? eta -:--:--\n",
      "   --------------- ------------------------ 0.5/1.4 MB 2.1 MB/s eta 0:00:01\n",
      "   ------------------------------ --------- 1.0/1.4 MB 2.4 MB/s eta 0:00:01\n",
      "   ------------------------------ --------- 1.0/1.4 MB 2.4 MB/s eta 0:00:01\n",
      "   ---------------------------------------- 1.4/1.4 MB 1.8 MB/s eta 0:00:00\n",
      "Using cached frozendict-2.4.6-py312-none-any.whl (16 kB)\n",
      "Using cached multitasking-0.0.11-py3-none-any.whl (8.5 kB)\n",
      "Downloading protobuf-5.29.4-cp310-abi3-win_amd64.whl (434 kB)\n",
      "Downloading websockets-15.0.1-cp312-cp312-win_amd64.whl (176 kB)\n",
      "Building wheels for collected packages: peewee\n",
      "  Building wheel for peewee (pyproject.toml): started\n",
      "  Building wheel for peewee (pyproject.toml): finished with status 'done'\n",
      "  Created wheel for peewee: filename=peewee-3.18.1-py3-none-any.whl size=139098 sha256=42e115d6a6b958afde8475a28ca76d00b56e9d71971c4cb7f5221f7b43c98655\n",
      "  Stored in directory: c:\\users\\prien\\appdata\\local\\pip\\cache\\wheels\\1a\\57\\6a\\bb71346381d0d911cd4ce3026f1fa720da76707e4f01cf27dd\n",
      "Successfully built peewee\n",
      "Installing collected packages: peewee, multitasking, websockets, protobuf, frozendict, curl_cffi, yfinance\n",
      "Successfully installed curl_cffi-0.10.0 frozendict-2.4.6 multitasking-0.0.11 peewee-3.18.1 protobuf-5.29.4 websockets-15.0.1 yfinance-0.2.59\n"
     ]
    }
   ],
   "source": [
    "!pip install yfinance #installed directly through pip becouse didnt work through prompt"
   ]
  },
  {
   "cell_type": "code",
   "execution_count": 133,
   "id": "fd0e4051-984d-4a5e-a41a-f778ce7827d5",
   "metadata": {},
   "outputs": [],
   "source": [
    "import yfinance as yf\n",
    "apple = yf.Ticker(\"AAPL\")"
   ]
  },
  {
   "cell_type": "code",
   "execution_count": 159,
   "id": "fe829945-c001-4d90-9b2a-7c5bfaabd7d0",
   "metadata": {},
   "outputs": [
    {
     "data": {
      "text/plain": [
       "yfinance.Ticker object <MSFT>"
      ]
     },
     "execution_count": 159,
     "metadata": {},
     "output_type": "execute_result"
    }
   ],
   "source": [
    "import yfinance as yf\n",
    "msft = yf.Ticker(\"MSFT\")\n",
    "msft"
   ]
  },
  {
   "cell_type": "code",
   "execution_count": 164,
   "id": "d17e7984-b4a3-47d5-a3d0-7a862f1517bf",
   "metadata": {},
   "outputs": [],
   "source": [
    "#msft.info"
   ]
  },
  {
   "cell_type": "code",
   "execution_count": 174,
   "id": "c6a7c3d9-4c66-4b2a-85c9-130aba5bc13c",
   "metadata": {},
   "outputs": [
    {
     "data": {
      "text/html": [
       "<div>\n",
       "<style scoped>\n",
       "    .dataframe tbody tr th:only-of-type {\n",
       "        vertical-align: middle;\n",
       "    }\n",
       "\n",
       "    .dataframe tbody tr th {\n",
       "        vertical-align: top;\n",
       "    }\n",
       "\n",
       "    .dataframe thead th {\n",
       "        text-align: right;\n",
       "    }\n",
       "</style>\n",
       "<table border=\"1\" class=\"dataframe\">\n",
       "  <thead>\n",
       "    <tr style=\"text-align: right;\">\n",
       "      <th></th>\n",
       "      <th>Open</th>\n",
       "      <th>High</th>\n",
       "      <th>Low</th>\n",
       "      <th>Close</th>\n",
       "      <th>Volume</th>\n",
       "      <th>Dividends</th>\n",
       "      <th>Stock Splits</th>\n",
       "    </tr>\n",
       "    <tr>\n",
       "      <th>Date</th>\n",
       "      <th></th>\n",
       "      <th></th>\n",
       "      <th></th>\n",
       "      <th></th>\n",
       "      <th></th>\n",
       "      <th></th>\n",
       "      <th></th>\n",
       "    </tr>\n",
       "  </thead>\n",
       "  <tbody>\n",
       "    <tr>\n",
       "      <th>2025-05-01 00:00:00-04:00</th>\n",
       "      <td>431.109985</td>\n",
       "      <td>436.989990</td>\n",
       "      <td>424.899994</td>\n",
       "      <td>425.399994</td>\n",
       "      <td>58938100</td>\n",
       "      <td>0.0</td>\n",
       "      <td>0.0</td>\n",
       "    </tr>\n",
       "    <tr>\n",
       "      <th>2025-05-02 00:00:00-04:00</th>\n",
       "      <td>431.739990</td>\n",
       "      <td>439.440002</td>\n",
       "      <td>429.989990</td>\n",
       "      <td>435.279999</td>\n",
       "      <td>30757400</td>\n",
       "      <td>0.0</td>\n",
       "      <td>0.0</td>\n",
       "    </tr>\n",
       "    <tr>\n",
       "      <th>2025-05-05 00:00:00-04:00</th>\n",
       "      <td>432.869995</td>\n",
       "      <td>439.500000</td>\n",
       "      <td>432.109985</td>\n",
       "      <td>436.170013</td>\n",
       "      <td>20136100</td>\n",
       "      <td>0.0</td>\n",
       "      <td>0.0</td>\n",
       "    </tr>\n",
       "    <tr>\n",
       "      <th>2025-05-06 00:00:00-04:00</th>\n",
       "      <td>432.200012</td>\n",
       "      <td>437.730011</td>\n",
       "      <td>431.170013</td>\n",
       "      <td>433.309998</td>\n",
       "      <td>15104200</td>\n",
       "      <td>0.0</td>\n",
       "      <td>0.0</td>\n",
       "    </tr>\n",
       "    <tr>\n",
       "      <th>2025-05-07 00:00:00-04:00</th>\n",
       "      <td>433.839996</td>\n",
       "      <td>438.119995</td>\n",
       "      <td>431.109985</td>\n",
       "      <td>433.350006</td>\n",
       "      <td>23295300</td>\n",
       "      <td>0.0</td>\n",
       "      <td>0.0</td>\n",
       "    </tr>\n",
       "  </tbody>\n",
       "</table>\n",
       "</div>"
      ],
      "text/plain": [
       "                                 Open        High         Low       Close  \\\n",
       "Date                                                                        \n",
       "2025-05-01 00:00:00-04:00  431.109985  436.989990  424.899994  425.399994   \n",
       "2025-05-02 00:00:00-04:00  431.739990  439.440002  429.989990  435.279999   \n",
       "2025-05-05 00:00:00-04:00  432.869995  439.500000  432.109985  436.170013   \n",
       "2025-05-06 00:00:00-04:00  432.200012  437.730011  431.170013  433.309998   \n",
       "2025-05-07 00:00:00-04:00  433.839996  438.119995  431.109985  433.350006   \n",
       "\n",
       "                             Volume  Dividends  Stock Splits  \n",
       "Date                                                          \n",
       "2025-05-01 00:00:00-04:00  58938100        0.0           0.0  \n",
       "2025-05-02 00:00:00-04:00  30757400        0.0           0.0  \n",
       "2025-05-05 00:00:00-04:00  20136100        0.0           0.0  \n",
       "2025-05-06 00:00:00-04:00  15104200        0.0           0.0  \n",
       "2025-05-07 00:00:00-04:00  23295300        0.0           0.0  "
      ]
     },
     "execution_count": 174,
     "metadata": {},
     "output_type": "execute_result"
    }
   ],
   "source": [
    "Microsoft_price = msft.history(period=\"max\")\n",
    "Microsoft_price.tail()"
   ]
  },
  {
   "cell_type": "code",
   "execution_count": 182,
   "id": "ba560564-007b-4580-94df-f513785bbda9",
   "metadata": {},
   "outputs": [
    {
     "data": {
      "text/plain": [
       "<Axes: xlabel='Date'>"
      ]
     },
     "execution_count": 182,
     "metadata": {},
     "output_type": "execute_result"
    },
    {
     "data": {
      "image/png": "[encoded data removed]",
      "text/plain": [
       "<Figure size 640x480 with 1 Axes>"
      ]
     },
     "metadata": {},
     "output_type": "display_data"
    }
   ],
   "source": [
    "import matplotlib as plt\n",
    "Microsoft_price.plot()"
   ]
  },
  {
   "cell_type": "code",
   "execution_count": 202,
   "id": "26f61745-f742-47ee-963e-6a32a9a765f2",
   "metadata": {},
   "outputs": [
    {
     "data": {
      "text/plain": [
       "<Axes: xlabel='Date'>"
      ]
     },
     "execution_count": 202,
     "metadata": {},
     "output_type": "execute_result"
    },
    {
     "data": {
      "image/png": "[encoded data removed]",
      "text/plain": [
       "<Figure size 640x480 with 1 Axes>"
      ]
     },
     "metadata": {},
     "output_type": "display_data"
    }
   ],
   "source": [
    "msft.dividends.plot()"
   ]
  },
  {
   "cell_type": "markdown",
   "id": "7dfe7170-5ecf-4056-8cbc-936cd3b137ae",
   "metadata": {},
   "source": [
    "Working on NETFLIX data"
   ]
  },
  {
   "cell_type": "code",
   "execution_count": 205,
   "id": "3d2efa4c-b629-4865-8c20-cc82df33aa36",
   "metadata": {},
   "outputs": [],
   "source": [
    "import requests\n",
    "from bs4 import BeautifulSoup\n",
    "\n",
    "URL = \"https://cf-courses-data.s3.us.cloud-object-storage.appdomain.cloud/IBMDeveloperSkillsNetwork-PY0220EN-SkillsNetwork/labs/project/netflix_data_webpage.html\"\n",
    "File = requests.get(URL).text\n",
    "Soup = BeautifulSoup(File, \"html5lib\")"
   ]
  },
  {
   "cell_type": "code",
   "execution_count": 225,
   "id": "428eb0e0-789b-4d93-a4ac-80e789d923a3",
   "metadata": {},
   "outputs": [
    {
     "data": {
      "text/html": [
       "<div>\n",
       "<style scoped>\n",
       "    .dataframe tbody tr th:only-of-type {\n",
       "        vertical-align: middle;\n",
       "    }\n",
       "\n",
       "    .dataframe tbody tr th {\n",
       "        vertical-align: top;\n",
       "    }\n",
       "\n",
       "    .dataframe thead th {\n",
       "        text-align: right;\n",
       "    }\n",
       "</style>\n",
       "<table border=\"1\" class=\"dataframe\">\n",
       "  <thead>\n",
       "    <tr style=\"text-align: right;\">\n",
       "      <th></th>\n",
       "      <th>Date</th>\n",
       "      <th>Open</th>\n",
       "      <th>High</th>\n",
       "      <th>Low</th>\n",
       "      <th>Close</th>\n",
       "      <th>Volume</th>\n",
       "    </tr>\n",
       "  </thead>\n",
       "  <tbody>\n",
       "    <tr>\n",
       "      <th>0</th>\n",
       "      <td>Jun 01, 2021</td>\n",
       "      <td>504.01</td>\n",
       "      <td>536.13</td>\n",
       "      <td>482.14</td>\n",
       "      <td>528.21</td>\n",
       "      <td>528.21</td>\n",
       "    </tr>\n",
       "    <tr>\n",
       "      <th>0</th>\n",
       "      <td>May 01, 2021</td>\n",
       "      <td>512.65</td>\n",
       "      <td>518.95</td>\n",
       "      <td>478.54</td>\n",
       "      <td>502.81</td>\n",
       "      <td>502.81</td>\n",
       "    </tr>\n",
       "    <tr>\n",
       "      <th>0</th>\n",
       "      <td>Apr 01, 2021</td>\n",
       "      <td>529.93</td>\n",
       "      <td>563.56</td>\n",
       "      <td>499.00</td>\n",
       "      <td>513.47</td>\n",
       "      <td>513.47</td>\n",
       "    </tr>\n",
       "    <tr>\n",
       "      <th>0</th>\n",
       "      <td>Mar 01, 2021</td>\n",
       "      <td>545.57</td>\n",
       "      <td>556.99</td>\n",
       "      <td>492.85</td>\n",
       "      <td>521.66</td>\n",
       "      <td>521.66</td>\n",
       "    </tr>\n",
       "    <tr>\n",
       "      <th>0</th>\n",
       "      <td>Feb 01, 2021</td>\n",
       "      <td>536.79</td>\n",
       "      <td>566.65</td>\n",
       "      <td>518.28</td>\n",
       "      <td>538.85</td>\n",
       "      <td>538.85</td>\n",
       "    </tr>\n",
       "  </tbody>\n",
       "</table>\n",
       "</div>"
      ],
      "text/plain": [
       "           Date    Open    High     Low   Close  Volume\n",
       "0  Jun 01, 2021  504.01  536.13  482.14  528.21  528.21\n",
       "0  May 01, 2021  512.65  518.95  478.54  502.81  502.81\n",
       "0  Apr 01, 2021  529.93  563.56  499.00  513.47  513.47\n",
       "0  Mar 01, 2021  545.57  556.99  492.85  521.66  521.66\n",
       "0  Feb 01, 2021  536.79  566.65  518.28  538.85  538.85"
      ]
     },
     "execution_count": 225,
     "metadata": {},
     "output_type": "execute_result"
    }
   ],
   "source": [
    "Stock_detail = pd.DataFrame(columns=[\"Date\", \"Open\", \"High\", \"Low\", \"Close\", \"Volume\"])\n",
    "for rows in Soup.find(\"tbody\").find_all(\"tr\"):\n",
    "    col = rows.find_all(\"td\")\n",
    "    Date = col[0].text.strip()\n",
    "    Open = col[1].text.strip()\n",
    "    High = col[2].text.strip()\n",
    "    Low = col[3].text.strip()\n",
    "    Close = col[4].text.strip()\n",
    "    Volume = col[5].text.strip()\n",
    "    Data = pd.DataFrame({\"Date\":[Date], \n",
    "                         \"Open\":[Open],\n",
    "                         \"High\":[High],\n",
    "                         \"Low\":[Low], \n",
    "                         \"Close\":[Close], \n",
    "                         \"Volume\":[Volume]})\n",
    "    Stock_detail = pd.concat([Stock_detail, Data])\n",
    "Stock_detail.head()"
   ]
  },
  {
   "cell_type": "markdown",
   "id": "b6046545-1d3e-4307-bfec-14c1fe3bbbe1",
   "metadata": {},
   "source": [
    "Tesla Versus GameStop"
   ]
  },
  {
   "cell_type": "code",
   "execution_count": 10,
   "id": "e6589b16-db3d-4bc3-a42a-1278e4836108",
   "metadata": {},
   "outputs": [],
   "source": [
    "import requests\n",
    "from bs4 import BeautifulSoup\n",
    "import yfinance as yf\n",
    "import pandas as pd\n",
    "Tesla = yf.Ticker(\"TSLA\")\n",
    "#Tesla.info"
   ]
  },
  {
   "cell_type": "code",
   "execution_count": 12,
   "id": "7ffdae96-052e-43bc-af75-82b311e2defe",
   "metadata": {},
   "outputs": [
    {
     "data": {
      "text/html": [
       "<div>\n",
       "<style scoped>\n",
       "    .dataframe tbody tr th:only-of-type {\n",
       "        vertical-align: middle;\n",
       "    }\n",
       "\n",
       "    .dataframe tbody tr th {\n",
       "        vertical-align: top;\n",
       "    }\n",
       "\n",
       "    .dataframe thead th {\n",
       "        text-align: right;\n",
       "    }\n",
       "</style>\n",
       "<table border=\"1\" class=\"dataframe\">\n",
       "  <thead>\n",
       "    <tr style=\"text-align: right;\">\n",
       "      <th></th>\n",
       "      <th>Open</th>\n",
       "      <th>High</th>\n",
       "      <th>Low</th>\n",
       "      <th>Close</th>\n",
       "      <th>Volume</th>\n",
       "      <th>Dividends</th>\n",
       "      <th>Stock Splits</th>\n",
       "    </tr>\n",
       "    <tr>\n",
       "      <th>Date</th>\n",
       "      <th></th>\n",
       "      <th></th>\n",
       "      <th></th>\n",
       "      <th></th>\n",
       "      <th></th>\n",
       "      <th></th>\n",
       "      <th></th>\n",
       "    </tr>\n",
       "  </thead>\n",
       "  <tbody>\n",
       "    <tr>\n",
       "      <th>2025-05-02 00:00:00-04:00</th>\n",
       "      <td>284.899994</td>\n",
       "      <td>294.779999</td>\n",
       "      <td>279.809998</td>\n",
       "      <td>287.209991</td>\n",
       "      <td>114454700</td>\n",
       "      <td>0.0</td>\n",
       "      <td>0.0</td>\n",
       "    </tr>\n",
       "    <tr>\n",
       "      <th>2025-05-05 00:00:00-04:00</th>\n",
       "      <td>284.570007</td>\n",
       "      <td>284.850006</td>\n",
       "      <td>274.399994</td>\n",
       "      <td>280.260010</td>\n",
       "      <td>94618900</td>\n",
       "      <td>0.0</td>\n",
       "      <td>0.0</td>\n",
       "    </tr>\n",
       "    <tr>\n",
       "      <th>2025-05-06 00:00:00-04:00</th>\n",
       "      <td>273.109985</td>\n",
       "      <td>277.730011</td>\n",
       "      <td>271.350006</td>\n",
       "      <td>275.350006</td>\n",
       "      <td>76715800</td>\n",
       "      <td>0.0</td>\n",
       "      <td>0.0</td>\n",
       "    </tr>\n",
       "    <tr>\n",
       "      <th>2025-05-07 00:00:00-04:00</th>\n",
       "      <td>276.880005</td>\n",
       "      <td>277.920013</td>\n",
       "      <td>271.000000</td>\n",
       "      <td>276.220001</td>\n",
       "      <td>71592600</td>\n",
       "      <td>0.0</td>\n",
       "      <td>0.0</td>\n",
       "    </tr>\n",
       "    <tr>\n",
       "      <th>2025-05-08 00:00:00-04:00</th>\n",
       "      <td>279.630005</td>\n",
       "      <td>287.259399</td>\n",
       "      <td>279.410004</td>\n",
       "      <td>286.799988</td>\n",
       "      <td>43031358</td>\n",
       "      <td>0.0</td>\n",
       "      <td>0.0</td>\n",
       "    </tr>\n",
       "  </tbody>\n",
       "</table>\n",
       "</div>"
      ],
      "text/plain": [
       "                                 Open        High         Low       Close  \\\n",
       "Date                                                                        \n",
       "2025-05-02 00:00:00-04:00  284.899994  294.779999  279.809998  287.209991   \n",
       "2025-05-05 00:00:00-04:00  284.570007  284.850006  274.399994  280.260010   \n",
       "2025-05-06 00:00:00-04:00  273.109985  277.730011  271.350006  275.350006   \n",
       "2025-05-07 00:00:00-04:00  276.880005  277.920013  271.000000  276.220001   \n",
       "2025-05-08 00:00:00-04:00  279.630005  287.259399  279.410004  286.799988   \n",
       "\n",
       "                              Volume  Dividends  Stock Splits  \n",
       "Date                                                           \n",
       "2025-05-02 00:00:00-04:00  114454700        0.0           0.0  \n",
       "2025-05-05 00:00:00-04:00   94618900        0.0           0.0  \n",
       "2025-05-06 00:00:00-04:00   76715800        0.0           0.0  \n",
       "2025-05-07 00:00:00-04:00   71592600        0.0           0.0  \n",
       "2025-05-08 00:00:00-04:00   43031358        0.0           0.0  "
      ]
     },
     "execution_count": 12,
     "metadata": {},
     "output_type": "execute_result"
    }
   ],
   "source": [
    "Tesla_data = Tesla.history(period = \"max\")#it appears tha API is programmed to return dataframes\n",
    "Tesla_data.tail()"
   ]
  },
  {
   "cell_type": "code",
   "execution_count": 16,
   "id": "e5c006de-e9bf-4797-8778-9b316863b3b2",
   "metadata": {},
   "outputs": [
    {
     "data": {
      "text/html": [
       "<div>\n",
       "<style scoped>\n",
       "    .dataframe tbody tr th:only-of-type {\n",
       "        vertical-align: middle;\n",
       "    }\n",
       "\n",
       "    .dataframe tbody tr th {\n",
       "        vertical-align: top;\n",
       "    }\n",
       "\n",
       "    .dataframe thead th {\n",
       "        text-align: right;\n",
       "    }\n",
       "</style>\n",
       "<table border=\"1\" class=\"dataframe\">\n",
       "  <thead>\n",
       "    <tr style=\"text-align: right;\">\n",
       "      <th></th>\n",
       "      <th>Date</th>\n",
       "      <th>Revenue</th>\n",
       "    </tr>\n",
       "  </thead>\n",
       "  <tbody>\n",
       "    <tr>\n",
       "      <th>0</th>\n",
       "      <td>2021</td>\n",
       "      <td>53823</td>\n",
       "    </tr>\n",
       "    <tr>\n",
       "      <th>0</th>\n",
       "      <td>2020</td>\n",
       "      <td>31536</td>\n",
       "    </tr>\n",
       "    <tr>\n",
       "      <th>0</th>\n",
       "      <td>2019</td>\n",
       "      <td>24578</td>\n",
       "    </tr>\n",
       "    <tr>\n",
       "      <th>0</th>\n",
       "      <td>2018</td>\n",
       "      <td>21461</td>\n",
       "    </tr>\n",
       "    <tr>\n",
       "      <th>0</th>\n",
       "      <td>2017</td>\n",
       "      <td>11759</td>\n",
       "    </tr>\n",
       "  </tbody>\n",
       "</table>\n",
       "</div>"
      ],
      "text/plain": [
       "   Date Revenue\n",
       "0  2021   53823\n",
       "0  2020   31536\n",
       "0  2019   24578\n",
       "0  2018   21461\n",
       "0  2017   11759"
      ]
     },
     "execution_count": 16,
     "metadata": {},
     "output_type": "execute_result"
    }
   ],
   "source": [
    "URL = \"https://cf-courses-data.s3.us.cloud-object-storage.appdomain.cloud/IBMDeveloperSkillsNetwork-PY0220EN-SkillsNetwork/labs/project/revenue.htm\"\n",
    "File = requests.get(URL).text\n",
    "Soup = BeautifulSoup(File, \"html5lib\")\n",
    "\n",
    "Tesla_Revenue = pd.DataFrame(columns=[\"Date\", \"Revenue\"])\n",
    "for rows in Soup.find(\"tbody\").find_all(\"tr\"):\n",
    "    cols = rows.find_all(\"td\")\n",
    "    Date = cols[0].text\n",
    "    Revenue = cols[1].text.strip().replace(\"$\", \"\").replace(\",\", \"\") #cleaning up the revenue column to keep integers only\n",
    "    Data = pd.DataFrame({\"Date\":[Date], \"Revenue\":[Revenue]})\n",
    "    Tesla_Revenue = pd.concat([Tesla_Revenue, Data])\n",
    "Tesla_Revenue.head()"
   ]
  },
  {
   "cell_type": "code",
   "execution_count": 18,
   "id": "b16934ac-d080-437a-ad39-f125817bfe01",
   "metadata": {},
   "outputs": [
    {
     "data": {
      "text/plain": [
       "Date       object\n",
       "Revenue    object\n",
       "dtype: object"
      ]
     },
     "execution_count": 18,
     "metadata": {},
     "output_type": "execute_result"
    }
   ],
   "source": [
    "Tesla_Revenue.dtypes"
   ]
  },
  {
   "cell_type": "code",
   "execution_count": 40,
   "id": "78794188-db00-4e87-a85e-db12cd983977",
   "metadata": {},
   "outputs": [],
   "source": [
    "#Lets make the Revenue column statistically processable\n",
    "Tesla_Revenue[\"Revenue\"] = Tesla_Revenue[\"Revenue\"].astype(int).fillna(0) #lets fill the null values in zeroes too"
   ]
  },
  {
   "cell_type": "code",
   "execution_count": 42,
   "id": "5a85793a-f948-4e91-a51c-54ed206a1ae8",
   "metadata": {},
   "outputs": [
    {
     "data": {
      "text/plain": [
       "Date       object\n",
       "Revenue     int64\n",
       "dtype: object"
      ]
     },
     "execution_count": 42,
     "metadata": {},
     "output_type": "execute_result"
    }
   ],
   "source": [
    "Tesla_Revenue.dtypes"
   ]
  },
  {
   "cell_type": "code",
   "execution_count": 38,
   "id": "cfe9e5b6-76f0-475d-af8f-7a2639a4fbb5",
   "metadata": {},
   "outputs": [
    {
     "data": {
      "text/plain": [
       "np.float64(12327.692307692309)"
      ]
     },
     "execution_count": 38,
     "metadata": {},
     "output_type": "execute_result"
    }
   ],
   "source": [
    "Tesla_Revenue[\"Revenue\"].mean()"
   ]
  },
  {
   "cell_type": "code",
   "execution_count": 46,
   "id": "3f2afe0e-c238-4fc9-ac57-42be61f62a5e",
   "metadata": {},
   "outputs": [],
   "source": [
    "import yfinance as yf\n",
    "import pandas as pd\n",
    "GME = yf.Ticker(\"GME\")\n",
    "#GME.info"
   ]
  },
  {
   "cell_type": "code",
   "execution_count": 62,
   "id": "68ca04fc-9526-455c-ad4e-d060f79ae6cc",
   "metadata": {},
   "outputs": [
    {
     "data": {
      "text/plain": [
       "Open            float64\n",
       "High            float64\n",
       "Low             float64\n",
       "Close           float64\n",
       "Volume            int64\n",
       "Dividends       float64\n",
       "Stock Splits    float64\n",
       "dtype: object"
      ]
     },
     "execution_count": 62,
     "metadata": {},
     "output_type": "execute_result"
    }
   ],
   "source": [
    "GME_price = GME.history(period=\"max\").tail()\n",
    "GME_price.dtypes"
   ]
  },
  {
   "cell_type": "code",
   "execution_count": 66,
   "id": "6a55adbd-7bb5-40db-81dd-d0277136d4ff",
   "metadata": {},
   "outputs": [
    {
     "data": {
      "text/plain": [
       "<Axes: xlabel='Date'>"
      ]
     },
     "execution_count": 66,
     "metadata": {},
     "output_type": "execute_result"
    },
    {
     "data": {
      "image/png": "[encoded data removed]",
      "text/plain": [
       "<Figure size 640x480 with 1 Axes>"
      ]
     },
     "metadata": {},
     "output_type": "display_data"
    }
   ],
   "source": [
    "import matplotlib.pyplot as plt\n",
    "GME_price[\"Close\"].plot(x=\"Date\", y=\"Price\")"
   ]
  },
  {
   "cell_type": "code",
   "execution_count": 72,
   "id": "1806d67a-0460-4472-b1f2-cdeb00dcace8",
   "metadata": {},
   "outputs": [
    {
     "data": {
      "text/plain": [
       "Date\n",
       "2025-05-02 00:00:00-04:00    0.0\n",
       "2025-05-05 00:00:00-04:00    0.0\n",
       "2025-05-06 00:00:00-04:00    0.0\n",
       "2025-05-07 00:00:00-04:00    0.0\n",
       "2025-05-08 00:00:00-04:00    0.0\n",
       "Name: Dividends, dtype: float64"
      ]
     },
     "execution_count": 72,
     "metadata": {},
     "output_type": "execute_result"
    }
   ],
   "source": [
    "GME_price.Dividends.tail()"
   ]
  },
  {
   "cell_type": "code",
   "execution_count": 76,
   "id": "c7039073-3855-4e4b-8c2e-7d70fa3b4c51",
   "metadata": {},
   "outputs": [],
   "source": [
    "URL = \"https://cf-courses-data.s3.us.cloud-object-storage.appdomain.cloud/IBMDeveloperSkillsNetwork-PY0220EN-SkillsNetwork/labs/project/stock.html\"\n",
    "import requests\n",
    "from bs4 import BeautifulSoup\n",
    "import pandas as pd\n",
    "File = requests.get(URL).text\n",
    "Soup = BeautifulSoup(File, \"html5lib\")\n",
    "#Soup"
   ]
  },
  {
   "cell_type": "code",
   "execution_count": 92,
   "id": "bf91ab8a-5613-4328-8827-0d99e0459c0e",
   "metadata": {},
   "outputs": [
    {
     "data": {
      "text/html": [
       "<div>\n",
       "<style scoped>\n",
       "    .dataframe tbody tr th:only-of-type {\n",
       "        vertical-align: middle;\n",
       "    }\n",
       "\n",
       "    .dataframe tbody tr th {\n",
       "        vertical-align: top;\n",
       "    }\n",
       "\n",
       "    .dataframe thead th {\n",
       "        text-align: right;\n",
       "    }\n",
       "</style>\n",
       "<table border=\"1\" class=\"dataframe\">\n",
       "  <thead>\n",
       "    <tr style=\"text-align: right;\">\n",
       "      <th></th>\n",
       "      <th>Date</th>\n",
       "      <th>Revenue</th>\n",
       "    </tr>\n",
       "  </thead>\n",
       "  <tbody>\n",
       "    <tr>\n",
       "      <th>0</th>\n",
       "      <td>2020</td>\n",
       "      <td>6466</td>\n",
       "    </tr>\n",
       "    <tr>\n",
       "      <th>0</th>\n",
       "      <td>2019</td>\n",
       "      <td>8285</td>\n",
       "    </tr>\n",
       "    <tr>\n",
       "      <th>0</th>\n",
       "      <td>2018</td>\n",
       "      <td>8547</td>\n",
       "    </tr>\n",
       "    <tr>\n",
       "      <th>0</th>\n",
       "      <td>2017</td>\n",
       "      <td>7965</td>\n",
       "    </tr>\n",
       "    <tr>\n",
       "      <th>0</th>\n",
       "      <td>2016</td>\n",
       "      <td>9364</td>\n",
       "    </tr>\n",
       "  </tbody>\n",
       "</table>\n",
       "</div>"
      ],
      "text/plain": [
       "   Date Revenue\n",
       "0  2020    6466\n",
       "0  2019    8285\n",
       "0  2018    8547\n",
       "0  2017    7965\n",
       "0  2016    9364"
      ]
     },
     "execution_count": 92,
     "metadata": {},
     "output_type": "execute_result"
    }
   ],
   "source": [
    "GME_revenue = pd.DataFrame(columns=[\"Date\", \"Revenue\"])\n",
    "for rows in Soup.find(\"tbody\").find_all(\"tr\"):\n",
    "    col = rows.find_all(\"td\") \n",
    "    Date = col[0].text.strip()\n",
    "    Revenue  = col[1].text.strip().replace(\"$\", \"\").replace(\",\",\"\")\n",
    "    temp_df = pd.DataFrame({\"Date\":[Date], \n",
    "                             \"Revenue\":[Revenue]})\n",
    "    GME_revenue = pd.concat([GME_revenue, temp_df])\n",
    "GME_revenue.head()"
   ]
  },
  {
   "cell_type": "code",
   "execution_count": 94,
   "id": "585baed5-a36d-4f26-bbe6-0b78e46be4e9",
   "metadata": {},
   "outputs": [
    {
     "data": {
      "text/plain": [
       "Date       object\n",
       "Revenue    object\n",
       "dtype: object"
      ]
     },
     "execution_count": 94,
     "metadata": {},
     "output_type": "execute_result"
    }
   ],
   "source": [
    "GME_revenue.dtypes"
   ]
  },
  {
   "cell_type": "code",
   "execution_count": 100,
   "id": "276c9fd0-0218-4fa9-ba63-845d98b09f3c",
   "metadata": {},
   "outputs": [
    {
     "data": {
      "text/plain": [
       "Date       object\n",
       "Revenue     int64\n",
       "dtype: object"
      ]
     },
     "execution_count": 100,
     "metadata": {},
     "output_type": "execute_result"
    }
   ],
   "source": [
    "GME_revenue[\"Revenue\"] = GME_revenue[\"Revenue\"].astype(int).fillna(0)\n",
    "GME_revenue.dtypes"
   ]
  },
  {
   "cell_type": "markdown",
   "id": "eebf47ae-2138-4bff-8631-576967c81b4d",
   "metadata": {},
   "source": [
    "Lets scrape a table from a wikkipedia"
   ]
  },
  {
   "cell_type": "code",
   "execution_count": 333,
   "id": "f2ee4b1c-f50f-4c56-88df-3d3378f2bd50",
   "metadata": {},
   "outputs": [
    {
     "data": {
      "text/html": [
       "<div>\n",
       "<style scoped>\n",
       "    .dataframe tbody tr th:only-of-type {\n",
       "        vertical-align: middle;\n",
       "    }\n",
       "\n",
       "    .dataframe tbody tr th {\n",
       "        vertical-align: top;\n",
       "    }\n",
       "\n",
       "    .dataframe thead tr th {\n",
       "        text-align: left;\n",
       "    }\n",
       "</style>\n",
       "<table border=\"1\" class=\"dataframe\">\n",
       "  <thead>\n",
       "    <tr>\n",
       "      <th></th>\n",
       "      <th>Country/Territory</th>\n",
       "      <th colspan=\"2\" halign=\"left\">IMF[4][5]</th>\n",
       "      <th colspan=\"2\" halign=\"left\">World Bank[6]</th>\n",
       "      <th colspan=\"2\" halign=\"left\">United Nations[7]</th>\n",
       "    </tr>\n",
       "    <tr>\n",
       "      <th></th>\n",
       "      <th>Country/Territory</th>\n",
       "      <th>Estimate</th>\n",
       "      <th>Year</th>\n",
       "      <th>Estimate</th>\n",
       "      <th>Year</th>\n",
       "      <th>Estimate</th>\n",
       "      <th>Year</th>\n",
       "    </tr>\n",
       "  </thead>\n",
       "  <tbody>\n",
       "    <tr>\n",
       "      <th>0</th>\n",
       "      <td>Monaco</td>\n",
       "      <td>—</td>\n",
       "      <td>—</td>\n",
       "      <td>256581</td>\n",
       "      <td>2023</td>\n",
       "      <td>256581</td>\n",
       "      <td>2023</td>\n",
       "    </tr>\n",
       "    <tr>\n",
       "      <th>1</th>\n",
       "      <td>Liechtenstein</td>\n",
       "      <td>—</td>\n",
       "      <td>—</td>\n",
       "      <td>186400</td>\n",
       "      <td>2022</td>\n",
       "      <td>201150</td>\n",
       "      <td>2023</td>\n",
       "    </tr>\n",
       "    <tr>\n",
       "      <th>2</th>\n",
       "      <td>Luxembourg</td>\n",
       "      <td>140941</td>\n",
       "      <td>2025</td>\n",
       "      <td>128678</td>\n",
       "      <td>2023</td>\n",
       "      <td>128936</td>\n",
       "      <td>2023</td>\n",
       "    </tr>\n",
       "    <tr>\n",
       "      <th>3</th>\n",
       "      <td>Bermuda</td>\n",
       "      <td>—</td>\n",
       "      <td>—</td>\n",
       "      <td>125842</td>\n",
       "      <td>2023</td>\n",
       "      <td>125842</td>\n",
       "      <td>2023</td>\n",
       "    </tr>\n",
       "    <tr>\n",
       "      <th>4</th>\n",
       "      <td>Ireland</td>\n",
       "      <td>108920</td>\n",
       "      <td>2025</td>\n",
       "      <td>103888</td>\n",
       "      <td>2023</td>\n",
       "      <td>106106</td>\n",
       "      <td>2023</td>\n",
       "    </tr>\n",
       "  </tbody>\n",
       "</table>\n",
       "</div>"
      ],
      "text/plain": [
       "  Country/Territory IMF[4][5]       World Bank[6]       United Nations[7]  \\\n",
       "  Country/Territory  Estimate  Year      Estimate  Year          Estimate   \n",
       "0            Monaco         —     —        256581  2023            256581   \n",
       "1     Liechtenstein         —     —        186400  2022            201150   \n",
       "2        Luxembourg    140941  2025        128678  2023            128936   \n",
       "3           Bermuda         —     —        125842  2023            125842   \n",
       "4           Ireland    108920  2025        103888  2023            106106   \n",
       "\n",
       "         \n",
       "   Year  \n",
       "0  2023  \n",
       "1  2023  \n",
       "2  2023  \n",
       "3  2023  \n",
       "4  2023  "
      ]
     },
     "execution_count": 333,
     "metadata": {},
     "output_type": "execute_result"
    }
   ],
   "source": [
    "URL = \"https://en.wikipedia.org/wiki/List_of_countries_by_GDP_(nominal)_per_capita\"\n",
    "PCI = pd.read_html(URL)\n",
    "table = PCI[1] #I found the correct index out of trial-and-error\n",
    "table.head()"
   ]
  },
  {
   "cell_type": "code",
   "execution_count": 334,
   "id": "c1989d2f-f1ac-423a-b105-edd0ba590dbf",
   "metadata": {},
   "outputs": [
    {
     "data": {
      "text/html": [
       "<div>\n",
       "<style scoped>\n",
       "    .dataframe tbody tr th:only-of-type {\n",
       "        vertical-align: middle;\n",
       "    }\n",
       "\n",
       "    .dataframe tbody tr th {\n",
       "        vertical-align: top;\n",
       "    }\n",
       "\n",
       "    .dataframe thead tr th {\n",
       "        text-align: left;\n",
       "    }\n",
       "</style>\n",
       "<table border=\"1\" class=\"dataframe\">\n",
       "  <thead>\n",
       "    <tr>\n",
       "      <th></th>\n",
       "      <th>Country/Territory</th>\n",
       "      <th colspan=\"2\" halign=\"left\">IMF[4][5]</th>\n",
       "    </tr>\n",
       "    <tr>\n",
       "      <th></th>\n",
       "      <th>Country/Territory</th>\n",
       "      <th>Estimate</th>\n",
       "      <th>Year</th>\n",
       "    </tr>\n",
       "  </thead>\n",
       "  <tbody>\n",
       "    <tr>\n",
       "      <th>0</th>\n",
       "      <td>Monaco</td>\n",
       "      <td>—</td>\n",
       "      <td>—</td>\n",
       "    </tr>\n",
       "    <tr>\n",
       "      <th>1</th>\n",
       "      <td>Liechtenstein</td>\n",
       "      <td>—</td>\n",
       "      <td>—</td>\n",
       "    </tr>\n",
       "    <tr>\n",
       "      <th>2</th>\n",
       "      <td>Luxembourg</td>\n",
       "      <td>140941</td>\n",
       "      <td>2025</td>\n",
       "    </tr>\n",
       "    <tr>\n",
       "      <th>3</th>\n",
       "      <td>Bermuda</td>\n",
       "      <td>—</td>\n",
       "      <td>—</td>\n",
       "    </tr>\n",
       "    <tr>\n",
       "      <th>4</th>\n",
       "      <td>Ireland</td>\n",
       "      <td>108920</td>\n",
       "      <td>2025</td>\n",
       "    </tr>\n",
       "  </tbody>\n",
       "</table>\n",
       "</div>"
      ],
      "text/plain": [
       "  Country/Territory IMF[4][5]      \n",
       "  Country/Territory  Estimate  Year\n",
       "0            Monaco         —     —\n",
       "1     Liechtenstein         —     —\n",
       "2        Luxembourg    140941  2025\n",
       "3           Bermuda         —     —\n",
       "4           Ireland    108920  2025"
      ]
     },
     "execution_count": 334,
     "metadata": {},
     "output_type": "execute_result"
    }
   ],
   "source": [
    "Table1 = table.iloc[:, 0:3]\n",
    "Table1.head()"
   ]
  },
  {
   "cell_type": "code",
   "execution_count": 335,
   "id": "51f54761-5687-452e-8918-914b7eaba4de",
   "metadata": {},
   "outputs": [
    {
     "data": {
      "text/html": [
       "<div>\n",
       "<style scoped>\n",
       "    .dataframe tbody tr th:only-of-type {\n",
       "        vertical-align: middle;\n",
       "    }\n",
       "\n",
       "    .dataframe tbody tr th {\n",
       "        vertical-align: top;\n",
       "    }\n",
       "\n",
       "    .dataframe thead th {\n",
       "        text-align: right;\n",
       "    }\n",
       "</style>\n",
       "<table border=\"1\" class=\"dataframe\">\n",
       "  <thead>\n",
       "    <tr style=\"text-align: right;\">\n",
       "      <th></th>\n",
       "      <th>Estimate</th>\n",
       "      <th>Year</th>\n",
       "    </tr>\n",
       "    <tr>\n",
       "      <th>Country</th>\n",
       "      <th></th>\n",
       "      <th></th>\n",
       "    </tr>\n",
       "  </thead>\n",
       "  <tbody>\n",
       "    <tr>\n",
       "      <th>Monaco</th>\n",
       "      <td>—</td>\n",
       "      <td>—</td>\n",
       "    </tr>\n",
       "    <tr>\n",
       "      <th>Liechtenstein</th>\n",
       "      <td>—</td>\n",
       "      <td>—</td>\n",
       "    </tr>\n",
       "    <tr>\n",
       "      <th>Luxembourg</th>\n",
       "      <td>140941</td>\n",
       "      <td>2025</td>\n",
       "    </tr>\n",
       "    <tr>\n",
       "      <th>Bermuda</th>\n",
       "      <td>—</td>\n",
       "      <td>—</td>\n",
       "    </tr>\n",
       "    <tr>\n",
       "      <th>Ireland</th>\n",
       "      <td>108920</td>\n",
       "      <td>2025</td>\n",
       "    </tr>\n",
       "  </tbody>\n",
       "</table>\n",
       "</div>"
      ],
      "text/plain": [
       "              Estimate  Year\n",
       "Country                     \n",
       "Monaco               —     —\n",
       "Liechtenstein        —     —\n",
       "Luxembourg      140941  2025\n",
       "Bermuda              —     —\n",
       "Ireland         108920  2025"
      ]
     },
     "execution_count": 335,
     "metadata": {},
     "output_type": "execute_result"
    }
   ],
   "source": [
    "Table1.columns = [\"Country\", \"Estimate\", \"Year\"]\n",
    "Table1 = Table1.set_index(\"Country\")\n",
    "Table1.head()"
   ]
  },
  {
   "cell_type": "code",
   "execution_count": 336,
   "id": "91375f26-c349-4a67-91ed-c4740069f05b",
   "metadata": {},
   "outputs": [
    {
     "data": {
      "text/plain": [
       "Estimate    object\n",
       "Year        object\n",
       "dtype: object"
      ]
     },
     "execution_count": 336,
     "metadata": {},
     "output_type": "execute_result"
    }
   ],
   "source": [
    "Table1.dtypes"
   ]
  },
  {
   "cell_type": "code",
   "execution_count": 350,
   "id": "1561a11a-fe78-4257-8327-4ee9d3be3a71",
   "metadata": {},
   "outputs": [
    {
     "data": {
      "text/html": [
       "<div>\n",
       "<style scoped>\n",
       "    .dataframe tbody tr th:only-of-type {\n",
       "        vertical-align: middle;\n",
       "    }\n",
       "\n",
       "    .dataframe tbody tr th {\n",
       "        vertical-align: top;\n",
       "    }\n",
       "\n",
       "    .dataframe thead th {\n",
       "        text-align: right;\n",
       "    }\n",
       "</style>\n",
       "<table border=\"1\" class=\"dataframe\">\n",
       "  <thead>\n",
       "    <tr style=\"text-align: right;\">\n",
       "      <th></th>\n",
       "      <th>Estimate</th>\n",
       "      <th>Year</th>\n",
       "    </tr>\n",
       "    <tr>\n",
       "      <th>Country</th>\n",
       "      <th></th>\n",
       "      <th></th>\n",
       "    </tr>\n",
       "  </thead>\n",
       "  <tbody>\n",
       "    <tr>\n",
       "      <th>Luxembourg</th>\n",
       "      <td>140941</td>\n",
       "      <td>2025</td>\n",
       "    </tr>\n",
       "    <tr>\n",
       "      <th>Ireland</th>\n",
       "      <td>108920</td>\n",
       "      <td>2025</td>\n",
       "    </tr>\n",
       "    <tr>\n",
       "      <th>Switzerland</th>\n",
       "      <td>104896</td>\n",
       "      <td>2025</td>\n",
       "    </tr>\n",
       "    <tr>\n",
       "      <th>Singapore</th>\n",
       "      <td>92932</td>\n",
       "      <td>2025</td>\n",
       "    </tr>\n",
       "    <tr>\n",
       "      <th>Iceland</th>\n",
       "      <td>90284</td>\n",
       "      <td>2025</td>\n",
       "    </tr>\n",
       "  </tbody>\n",
       "</table>\n",
       "</div>"
      ],
      "text/plain": [
       "            Estimate  Year\n",
       "Country                   \n",
       "Luxembourg    140941  2025\n",
       "Ireland       108920  2025\n",
       "Switzerland   104896  2025\n",
       "Singapore      92932  2025\n",
       "Iceland        90284  2025"
      ]
     },
     "execution_count": 350,
     "metadata": {},
     "output_type": "execute_result"
    }
   ],
   "source": [
    "import numpy as np\n",
    "Table1 = Table1.replace(\"—\", np.nan).dropna() #replacing all \"--\" values with Not a Number value before dropping all not available values\n",
    "Table1.head()"
   ]
  },
  {
   "cell_type": "code",
   "execution_count": 354,
   "id": "610b262e-99ec-4735-b554-7b9fa14a1b43",
   "metadata": {},
   "outputs": [
    {
     "data": {
      "text/plain": [
       "Estimate     int64\n",
       "Year        object\n",
       "dtype: object"
      ]
     },
     "execution_count": 354,
     "metadata": {},
     "output_type": "execute_result"
    }
   ],
   "source": [
    "Table1[\"Estimate\"] = Table1[\"Estimate\"].astype(int) #converting the estimate value into integers for statistical purpose\n",
    "Table1.dtypes"
   ]
  },
  {
   "cell_type": "code",
   "execution_count": 365,
   "id": "be6544c6-edd2-4f31-8f1a-6b5d43864b15",
   "metadata": {},
   "outputs": [
    {
     "data": {
      "text/html": [
       "<div>\n",
       "<style scoped>\n",
       "    .dataframe tbody tr th:only-of-type {\n",
       "        vertical-align: middle;\n",
       "    }\n",
       "\n",
       "    .dataframe tbody tr th {\n",
       "        vertical-align: top;\n",
       "    }\n",
       "\n",
       "    .dataframe thead th {\n",
       "        text-align: right;\n",
       "    }\n",
       "</style>\n",
       "<table border=\"1\" class=\"dataframe\">\n",
       "  <thead>\n",
       "    <tr style=\"text-align: right;\">\n",
       "      <th></th>\n",
       "      <th>Estimate</th>\n",
       "    </tr>\n",
       "  </thead>\n",
       "  <tbody>\n",
       "    <tr>\n",
       "      <th>count</th>\n",
       "      <td>196.000000</td>\n",
       "    </tr>\n",
       "    <tr>\n",
       "      <th>mean</th>\n",
       "      <td>18848.882653</td>\n",
       "    </tr>\n",
       "    <tr>\n",
       "      <th>std</th>\n",
       "      <td>24303.371385</td>\n",
       "    </tr>\n",
       "    <tr>\n",
       "      <th>min</th>\n",
       "      <td>251.000000</td>\n",
       "    </tr>\n",
       "    <tr>\n",
       "      <th>25%</th>\n",
       "      <td>2839.250000</td>\n",
       "    </tr>\n",
       "    <tr>\n",
       "      <th>50%</th>\n",
       "      <td>7826.500000</td>\n",
       "    </tr>\n",
       "    <tr>\n",
       "      <th>75%</th>\n",
       "      <td>26127.000000</td>\n",
       "    </tr>\n",
       "    <tr>\n",
       "      <th>max</th>\n",
       "      <td>140941.000000</td>\n",
       "    </tr>\n",
       "  </tbody>\n",
       "</table>\n",
       "</div>"
      ],
      "text/plain": [
       "            Estimate\n",
       "count     196.000000\n",
       "mean    18848.882653\n",
       "std     24303.371385\n",
       "min       251.000000\n",
       "25%      2839.250000\n",
       "50%      7826.500000\n",
       "75%     26127.000000\n",
       "max    140941.000000"
      ]
     },
     "execution_count": 365,
     "metadata": {},
     "output_type": "execute_result"
    }
   ],
   "source": [
    "Table1.describe() #calculating descriptive statistics. The distribution looks skewed visually. Needs to check through histogram"
   ]
  },
  {
   "cell_type": "code",
   "execution_count": 390,
   "id": "14414760-ddaa-4554-a7e1-33b029ae70cc",
   "metadata": {},
   "outputs": [
    {
     "data": {
      "text/plain": [
       "(array([124.,  25.,  19.,  11.,   7.,   3.,   4.,   2.,   0.,   1.]),\n",
       " array([   251.,  14320.,  28389.,  42458.,  56527.,  70596.,  84665.,\n",
       "         98734., 112803., 126872., 140941.]),\n",
       " <BarContainer object of 10 artists>)"
      ]
     },
     "execution_count": 390,
     "metadata": {},
     "output_type": "execute_result"
    },
    {
     "data": {
      "image/png": "[encoded data removed]",
      "text/plain": [
       "<Figure size 640x480 with 1 Axes>"
      ]
     },
     "metadata": {},
     "output_type": "display_data"
    }
   ],
   "source": [
    "plt.hist(Table1[\"Estimate\"]) #So, the data is quite skeweed to the left"
   ]
  },
  {
   "cell_type": "code",
   "execution_count": 393,
   "id": "6c7125e2-3c67-4334-94e1-24ea2d2dd213",
   "metadata": {},
   "outputs": [
    {
     "name": "stdout",
     "output_type": "stream",
     "text": [
      "<class 'pandas.core.frame.DataFrame'>\n",
      "Index: 196 entries, Luxembourg to South Sudan\n",
      "Data columns (total 2 columns):\n",
      " #   Column    Non-Null Count  Dtype \n",
      "---  ------    --------------  ----- \n",
      " 0   Estimate  196 non-null    int64 \n",
      " 1   Year      196 non-null    object\n",
      "dtypes: int64(1), object(1)\n",
      "memory usage: 8.7+ KB\n"
     ]
    }
   ],
   "source": [
    "Table1.info() #info() is a great way to check presence of null values and get a summary of dtypes in the serieses"
   ]
  },
  {
   "cell_type": "code",
   "execution_count": null,
   "id": "73cd84dc-833b-4085-84c3-52450abc80fd",
   "metadata": {},
   "outputs": [],
   "source": []
  }
 ],
 "metadata": {
  "kernelspec": {
   "display_name": "Python [conda env:RP_env]",
   "language": "python",
   "name": "conda-env-RP_env-py"
  },
  "language_info": {
   "codemirror_mode": {
    "name": "ipython",
    "version": 3
   },
   "file_extension": ".py",
   "mimetype": "text/x-python",
   "name": "python",
   "nbconvert_exporter": "python",
   "pygments_lexer": "ipython3",
   "version": "3.12.9"
  }
 },
 "nbformat": 4,
 "nbformat_minor": 5
}
