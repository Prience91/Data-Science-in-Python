{
 "cells": [
  {
   "cell_type": "markdown",
   "id": "257b0c2b-7266-4526-a157-3469272075fc",
   "metadata": {},
   "source": [
    "## Supervised Learning Models"
   ]
  },
  {
   "cell_type": "code",
   "execution_count": 310,
   "id": "e1f04d86-3740-4ec6-8c63-66c779009537",
   "metadata": {},
   "outputs": [
    {
     "data": {
      "text/html": [
       "<div>\n",
       "<style scoped>\n",
       "    .dataframe tbody tr th:only-of-type {\n",
       "        vertical-align: middle;\n",
       "    }\n",
       "\n",
       "    .dataframe tbody tr th {\n",
       "        vertical-align: top;\n",
       "    }\n",
       "\n",
       "    .dataframe thead th {\n",
       "        text-align: right;\n",
       "    }\n",
       "</style>\n",
       "<table border=\"1\" class=\"dataframe\">\n",
       "  <thead>\n",
       "    <tr style=\"text-align: right;\">\n",
       "      <th></th>\n",
       "      <th>Unnamed: 0</th>\n",
       "      <th>MODELYEAR</th>\n",
       "      <th>MAKE</th>\n",
       "      <th>MODEL</th>\n",
       "      <th>VEHICLECLASS</th>\n",
       "      <th>ENGINESIZE</th>\n",
       "      <th>CYLINDERS</th>\n",
       "      <th>TRANSMISSION</th>\n",
       "      <th>FUELTYPE</th>\n",
       "      <th>FUELCONSUMPTION_CITY</th>\n",
       "      <th>FUELCONSUMPTION_HWY</th>\n",
       "      <th>FUELCONSUMPTION_COMB</th>\n",
       "      <th>FUELCONSUMPTION_COMB_MPG</th>\n",
       "      <th>CO2EMISSIONS</th>\n",
       "    </tr>\n",
       "  </thead>\n",
       "  <tbody>\n",
       "    <tr>\n",
       "      <th>487</th>\n",
       "      <td>487</td>\n",
       "      <td>2014</td>\n",
       "      <td>HONDA</td>\n",
       "      <td>ACCORD HYBRID</td>\n",
       "      <td>MID-SIZE</td>\n",
       "      <td>2.0</td>\n",
       "      <td>4</td>\n",
       "      <td>AV</td>\n",
       "      <td>X</td>\n",
       "      <td>4.7</td>\n",
       "      <td>4.9</td>\n",
       "      <td>4.8</td>\n",
       "      <td>59</td>\n",
       "      <td>110</td>\n",
       "    </tr>\n",
       "    <tr>\n",
       "      <th>153</th>\n",
       "      <td>153</td>\n",
       "      <td>2014</td>\n",
       "      <td>BUICK</td>\n",
       "      <td>VERANO</td>\n",
       "      <td>COMPACT</td>\n",
       "      <td>2.0</td>\n",
       "      <td>4</td>\n",
       "      <td>AS6</td>\n",
       "      <td>Z</td>\n",
       "      <td>11.5</td>\n",
       "      <td>7.9</td>\n",
       "      <td>9.9</td>\n",
       "      <td>29</td>\n",
       "      <td>228</td>\n",
       "    </tr>\n",
       "    <tr>\n",
       "      <th>534</th>\n",
       "      <td>534</td>\n",
       "      <td>2014</td>\n",
       "      <td>INFINITI</td>\n",
       "      <td>Q60 COUPE</td>\n",
       "      <td>SUBCOMPACT</td>\n",
       "      <td>3.7</td>\n",
       "      <td>6</td>\n",
       "      <td>M6</td>\n",
       "      <td>Z</td>\n",
       "      <td>13.5</td>\n",
       "      <td>9.3</td>\n",
       "      <td>11.6</td>\n",
       "      <td>24</td>\n",
       "      <td>267</td>\n",
       "    </tr>\n",
       "    <tr>\n",
       "      <th>470</th>\n",
       "      <td>470</td>\n",
       "      <td>2014</td>\n",
       "      <td>GMC</td>\n",
       "      <td>YUKON</td>\n",
       "      <td>SUV - STANDARD</td>\n",
       "      <td>5.3</td>\n",
       "      <td>8</td>\n",
       "      <td>A6</td>\n",
       "      <td>E</td>\n",
       "      <td>21.5</td>\n",
       "      <td>14.6</td>\n",
       "      <td>18.4</td>\n",
       "      <td>15</td>\n",
       "      <td>294</td>\n",
       "    </tr>\n",
       "    <tr>\n",
       "      <th>675</th>\n",
       "      <td>675</td>\n",
       "      <td>2014</td>\n",
       "      <td>LEXUS</td>\n",
       "      <td>RX 350 AWD</td>\n",
       "      <td>SUV - SMALL</td>\n",
       "      <td>3.5</td>\n",
       "      <td>6</td>\n",
       "      <td>AS8</td>\n",
       "      <td>X</td>\n",
       "      <td>12.7</td>\n",
       "      <td>9.1</td>\n",
       "      <td>11.1</td>\n",
       "      <td>25</td>\n",
       "      <td>255</td>\n",
       "    </tr>\n",
       "    <tr>\n",
       "      <th>773</th>\n",
       "      <td>773</td>\n",
       "      <td>2014</td>\n",
       "      <td>MERCEDES-BENZ</td>\n",
       "      <td>SLK 250</td>\n",
       "      <td>TWO-SEATER</td>\n",
       "      <td>1.8</td>\n",
       "      <td>4</td>\n",
       "      <td>AS7</td>\n",
       "      <td>Z</td>\n",
       "      <td>10.3</td>\n",
       "      <td>7.2</td>\n",
       "      <td>8.9</td>\n",
       "      <td>32</td>\n",
       "      <td>205</td>\n",
       "    </tr>\n",
       "  </tbody>\n",
       "</table>\n",
       "</div>"
      ],
      "text/plain": [
       "     Unnamed: 0  MODELYEAR           MAKE          MODEL    VEHICLECLASS  \\\n",
       "487         487       2014          HONDA  ACCORD HYBRID        MID-SIZE   \n",
       "153         153       2014          BUICK         VERANO         COMPACT   \n",
       "534         534       2014       INFINITI      Q60 COUPE      SUBCOMPACT   \n",
       "470         470       2014            GMC          YUKON  SUV - STANDARD   \n",
       "675         675       2014          LEXUS     RX 350 AWD     SUV - SMALL   \n",
       "773         773       2014  MERCEDES-BENZ        SLK 250      TWO-SEATER   \n",
       "\n",
       "     ENGINESIZE  CYLINDERS TRANSMISSION FUELTYPE  FUELCONSUMPTION_CITY  \\\n",
       "487         2.0          4           AV        X                   4.7   \n",
       "153         2.0          4          AS6        Z                  11.5   \n",
       "534         3.7          6           M6        Z                  13.5   \n",
       "470         5.3          8           A6        E                  21.5   \n",
       "675         3.5          6          AS8        X                  12.7   \n",
       "773         1.8          4          AS7        Z                  10.3   \n",
       "\n",
       "     FUELCONSUMPTION_HWY  FUELCONSUMPTION_COMB  FUELCONSUMPTION_COMB_MPG  \\\n",
       "487                  4.9                   4.8                        59   \n",
       "153                  7.9                   9.9                        29   \n",
       "534                  9.3                  11.6                        24   \n",
       "470                 14.6                  18.4                        15   \n",
       "675                  9.1                  11.1                        25   \n",
       "773                  7.2                   8.9                        32   \n",
       "\n",
       "     CO2EMISSIONS  \n",
       "487           110  \n",
       "153           228  \n",
       "534           267  \n",
       "470           294  \n",
       "675           255  \n",
       "773           205  "
      ]
     },
     "execution_count": 310,
     "metadata": {},
     "output_type": "execute_result"
    }
   ],
   "source": [
    "import pandas as pd\n",
    "File = pd.read_csv(\"Vehicle.csv\")\n",
    "FC = pd.DataFrame(File) #FC = Fuel Consumption\n",
    "FC.sample(6)"
   ]
  },
  {
   "cell_type": "code",
   "execution_count": 312,
   "id": "ece7d0a8-118f-4b14-891a-4bf34ab4a9b1",
   "metadata": {},
   "outputs": [
    {
     "data": {
      "text/plain": [
       "Index(['Unnamed: 0', 'MODELYEAR', 'MAKE', 'MODEL', 'VEHICLECLASS',\n",
       "       'ENGINESIZE', 'CYLINDERS', 'TRANSMISSION', 'FUELTYPE',\n",
       "       'FUELCONSUMPTION_CITY', 'FUELCONSUMPTION_HWY', 'FUELCONSUMPTION_COMB',\n",
       "       'FUELCONSUMPTION_COMB_MPG', 'CO2EMISSIONS'],\n",
       "      dtype='object')"
      ]
     },
     "execution_count": 312,
     "metadata": {},
     "output_type": "execute_result"
    }
   ],
   "source": [
    "FC.columns"
   ]
  },
  {
   "cell_type": "code",
   "execution_count": 314,
   "id": "cc640a60-c0a6-4334-9e6d-652601d83cb9",
   "metadata": {},
   "outputs": [],
   "source": [
    "FC.drop(columns = \"Unnamed: 0\", inplace = True)"
   ]
  },
  {
   "cell_type": "code",
   "execution_count": 316,
   "id": "0a5d021c-0c24-4538-8e81-1945e8528830",
   "metadata": {},
   "outputs": [
    {
     "name": "stdout",
     "output_type": "stream",
     "text": [
      "<class 'pandas.core.frame.DataFrame'>\n",
      "RangeIndex: 1067 entries, 0 to 1066\n",
      "Data columns (total 13 columns):\n",
      " #   Column                    Non-Null Count  Dtype  \n",
      "---  ------                    --------------  -----  \n",
      " 0   MODELYEAR                 1067 non-null   int64  \n",
      " 1   MAKE                      1067 non-null   object \n",
      " 2   MODEL                     1067 non-null   object \n",
      " 3   VEHICLECLASS              1067 non-null   object \n",
      " 4   ENGINESIZE                1067 non-null   float64\n",
      " 5   CYLINDERS                 1067 non-null   int64  \n",
      " 6   TRANSMISSION              1067 non-null   object \n",
      " 7   FUELTYPE                  1067 non-null   object \n",
      " 8   FUELCONSUMPTION_CITY      1067 non-null   float64\n",
      " 9   FUELCONSUMPTION_HWY       1067 non-null   float64\n",
      " 10  FUELCONSUMPTION_COMB      1067 non-null   float64\n",
      " 11  FUELCONSUMPTION_COMB_MPG  1067 non-null   int64  \n",
      " 12  CO2EMISSIONS              1067 non-null   int64  \n",
      "dtypes: float64(4), int64(4), object(5)\n",
      "memory usage: 108.5+ KB\n"
     ]
    }
   ],
   "source": [
    "FC.info()"
   ]
  },
  {
   "cell_type": "code",
   "execution_count": 318,
   "id": "1eae1637-e96d-44c9-8ec8-401d4db11839",
   "metadata": {},
   "outputs": [
    {
     "data": {
      "image/png": "[encoded data removed]",
      "text/plain": [
       "<Figure size 640x480 with 4 Axes>"
      ]
     },
     "metadata": {},
     "output_type": "display_data"
    }
   ],
   "source": [
    "import numpy as np\n",
    "import pandas as pd\n",
    "import matplotlib.pyplot as plt\n",
    "\n",
    "\n",
    "FC_short = FC[[\"ENGINESIZE\", \"CYLINDERS\", \"FUELCONSUMPTION_COMB\", \"CO2EMISSIONS\"]]\n",
    "FC_short.hist() #This is another way to create a multiview histogram may be explained in more detail in Data Visualization course\n",
    "plt.show()"
   ]
  },
  {
   "cell_type": "code",
   "execution_count": 319,
   "id": "bb2050a7-a13a-48cc-b5ca-feaa71ff540f",
   "metadata": {},
   "outputs": [
    {
     "data": {
      "text/plain": [
       "array([ 4,  6, 12,  8, 10,  3,  5])"
      ]
     },
     "execution_count": 319,
     "metadata": {},
     "output_type": "execute_result"
    }
   ],
   "source": [
    "FC[\"CYLINDERS\"].unique()"
   ]
  },
  {
   "cell_type": "code",
   "execution_count": 320,
   "id": "957a3649-9e3d-4fd2-9e0f-9f4c2e30dfd2",
   "metadata": {},
   "outputs": [
    {
     "data": {
      "text/plain": [
       "<Axes: xlabel='CYLINDERS', ylabel='CO2EMISSIONS'>"
      ]
     },
     "execution_count": 320,
     "metadata": {},
     "output_type": "execute_result"
    },
    {
     "data": {
      "image/png": "[encoded data removed]",
      "text/plain": [
       "<Figure size 640x480 with 1 Axes>"
      ]
     },
     "metadata": {},
     "output_type": "display_data"
    }
   ],
   "source": [
    "#plotting the relationship between engine size and CO2 emissions\n",
    "import matplotlib.pyplot as pyplot\n",
    "import seaborn as sns\n",
    "sns.boxplot(x=FC[\"CYLINDERS\"], y=FC[\"CO2EMISSIONS\"], color=\"blue\")"
   ]
  },
  {
   "cell_type": "markdown",
   "id": "056035cb-de54-4977-a86a-a3a86d76d15b",
   "metadata": {},
   "source": [
    "### Simple Linear Regression"
   ]
  },
  {
   "cell_type": "code",
   "execution_count": 322,
   "id": "56b375dd-9657-4da0-baa5-0e81e654bd44",
   "metadata": {},
   "outputs": [
    {
     "name": "stdout",
     "output_type": "stream",
     "text": [
      "853\n",
      "214\n",
      "853\n",
      "214\n"
     ]
    }
   ],
   "source": [
    "#Splitting the engine size data at 80:20 ratio to test its predictability against CO2 emissions \n",
    "import pandas as pd\n",
    "from sklearn.model_selection import train_test_split\n",
    "x_data = FC[[\"CYLINDERS\"]]\n",
    "y_data = FC[[\"CO2EMISSIONS\"]]\n",
    "\n",
    "x_train, x_test, y_train, y_test = train_test_split(x_data, y_data, test_size = 0.20, random_state=0)\n",
    "print(x_train.shape[0])\n",
    "print(y_test.shape[0])\n",
    "print(y_train.shape[0])\n",
    "print(y_test.shape[0])"
   ]
  },
  {
   "cell_type": "code",
   "execution_count": 324,
   "id": "7021f20b-e14b-4c23-bdcf-cf04b9b7be97",
   "metadata": {},
   "outputs": [
    {
     "name": "stdout",
     "output_type": "stream",
     "text": [
      "[[30.01473943]] [84.00737445] 0.6938815719098186\n"
     ]
    }
   ],
   "source": [
    "from sklearn.linear_model import LinearRegression\n",
    "lm = LinearRegression()\n",
    "lm.fit(x_train, y_train)\n",
    "Coefficient = lm.coef_\n",
    "Intercept = lm.intercept_\n",
    "Test_score = lm.score(x_test, y_test)\n",
    "\n",
    "print(Coefficient, Intercept, Test_score)\n",
    "#Given the nature of the class of data of Cylinders as being ordinal data, running an ANOVA can be better"
   ]
  },
  {
   "cell_type": "code",
   "execution_count": 325,
   "id": "cffce50c-c559-47dd-827c-12275a6cf5b3",
   "metadata": {},
   "outputs": [
    {
     "name": "stdout",
     "output_type": "stream",
     "text": [
      "                                 OLS Regression Results                                \n",
      "=======================================================================================\n",
      "Dep. Variable:           CO2EMISSIONS   R-squared (uncentered):                   0.975\n",
      "Model:                            OLS   Adj. R-squared (uncentered):              0.975\n",
      "Method:                 Least Squares   F-statistic:                          4.225e+04\n",
      "Date:                Fri, 30 May 2025   Prob (F-statistic):                        0.00\n",
      "Time:                        19:14:07   Log-Likelihood:                         -5486.9\n",
      "No. Observations:                1067   AIC:                                  1.098e+04\n",
      "Df Residuals:                    1066   BIC:                                  1.098e+04\n",
      "Df Model:                           1                                                  \n",
      "Covariance Type:            nonrobust                                                  \n",
      "==============================================================================\n",
      "                 coef    std err          t      P>|t|      [0.025      0.975]\n",
      "------------------------------------------------------------------------------\n",
      "CYLINDERS     42.9668      0.209    205.553      0.000      42.557      43.377\n",
      "==============================================================================\n",
      "Omnibus:                      121.539   Durbin-Watson:                   0.910\n",
      "Prob(Omnibus):                  0.000   Jarque-Bera (JB):              239.947\n",
      "Skew:                          -0.702   Prob(JB):                     7.87e-53\n",
      "Kurtosis:                       4.851   Cond. No.                         1.00\n",
      "==============================================================================\n",
      "\n",
      "Notes:\n",
      "[1] R² is computed without centering (uncentered) since the model does not contain a constant.\n",
      "[2] Standard Errors assume that the covariance matrix of the errors is correctly specified.\n"
     ]
    }
   ],
   "source": [
    "import statsmodels.api as sm\n",
    "x = FC[\"CYLINDERS\"]\n",
    "y = FC[\"CO2EMISSIONS\"]\n",
    "z = sm.add_constant(x)\n",
    "\n",
    "model = sm.OLS(y,x).fit()\n",
    "print(model.summary())\n",
    "#Through a signficant f-statistics, it can be proven that the difference in mean of each cylinder type is statistically signficant"
   ]
  },
  {
   "cell_type": "markdown",
   "id": "3cb7445b-cdd6-4928-ba82-98b600d6b6c1",
   "metadata": {},
   "source": [
    "### Multiple Linear Regression Model"
   ]
  },
  {
   "cell_type": "code",
   "execution_count": 328,
   "id": "335755cf-2360-4fee-b4ad-c2a0545a9e70",
   "metadata": {},
   "outputs": [
    {
     "data": {
      "text/html": [
       "<div>\n",
       "<style scoped>\n",
       "    .dataframe tbody tr th:only-of-type {\n",
       "        vertical-align: middle;\n",
       "    }\n",
       "\n",
       "    .dataframe tbody tr th {\n",
       "        vertical-align: top;\n",
       "    }\n",
       "\n",
       "    .dataframe thead th {\n",
       "        text-align: right;\n",
       "    }\n",
       "</style>\n",
       "<table border=\"1\" class=\"dataframe\">\n",
       "  <thead>\n",
       "    <tr style=\"text-align: right;\">\n",
       "      <th></th>\n",
       "      <th>ENGINESIZE</th>\n",
       "      <th>CYLINDERS</th>\n",
       "      <th>FUELCONSUMPTION_CITY</th>\n",
       "      <th>FUELCONSUMPTION_HWY</th>\n",
       "      <th>FUELCONSUMPTION_COMB</th>\n",
       "      <th>FUELCONSUMPTION_COMB_MPG</th>\n",
       "      <th>CO2EMISSIONS</th>\n",
       "    </tr>\n",
       "  </thead>\n",
       "  <tbody>\n",
       "    <tr>\n",
       "      <th>0</th>\n",
       "      <td>2.0</td>\n",
       "      <td>4</td>\n",
       "      <td>9.9</td>\n",
       "      <td>6.7</td>\n",
       "      <td>8.5</td>\n",
       "      <td>33</td>\n",
       "      <td>196</td>\n",
       "    </tr>\n",
       "    <tr>\n",
       "      <th>1</th>\n",
       "      <td>2.4</td>\n",
       "      <td>4</td>\n",
       "      <td>11.2</td>\n",
       "      <td>7.7</td>\n",
       "      <td>9.6</td>\n",
       "      <td>29</td>\n",
       "      <td>221</td>\n",
       "    </tr>\n",
       "    <tr>\n",
       "      <th>2</th>\n",
       "      <td>1.5</td>\n",
       "      <td>4</td>\n",
       "      <td>6.0</td>\n",
       "      <td>5.8</td>\n",
       "      <td>5.9</td>\n",
       "      <td>48</td>\n",
       "      <td>136</td>\n",
       "    </tr>\n",
       "    <tr>\n",
       "      <th>3</th>\n",
       "      <td>3.5</td>\n",
       "      <td>6</td>\n",
       "      <td>12.7</td>\n",
       "      <td>9.1</td>\n",
       "      <td>11.1</td>\n",
       "      <td>25</td>\n",
       "      <td>255</td>\n",
       "    </tr>\n",
       "    <tr>\n",
       "      <th>4</th>\n",
       "      <td>3.5</td>\n",
       "      <td>6</td>\n",
       "      <td>12.1</td>\n",
       "      <td>8.7</td>\n",
       "      <td>10.6</td>\n",
       "      <td>27</td>\n",
       "      <td>244</td>\n",
       "    </tr>\n",
       "  </tbody>\n",
       "</table>\n",
       "</div>"
      ],
      "text/plain": [
       "   ENGINESIZE  CYLINDERS  FUELCONSUMPTION_CITY  FUELCONSUMPTION_HWY  \\\n",
       "0         2.0          4                   9.9                  6.7   \n",
       "1         2.4          4                  11.2                  7.7   \n",
       "2         1.5          4                   6.0                  5.8   \n",
       "3         3.5          6                  12.7                  9.1   \n",
       "4         3.5          6                  12.1                  8.7   \n",
       "\n",
       "   FUELCONSUMPTION_COMB  FUELCONSUMPTION_COMB_MPG  CO2EMISSIONS  \n",
       "0                   8.5                        33           196  \n",
       "1                   9.6                        29           221  \n",
       "2                   5.9                        48           136  \n",
       "3                  11.1                        25           255  \n",
       "4                  10.6                        27           244  "
      ]
     },
     "execution_count": 328,
     "metadata": {},
     "output_type": "execute_result"
    }
   ],
   "source": [
    "#before creating a model we ought to remove the non-numeric variables from our dataframe\n",
    "import pandas as pd\n",
    "FC_numeric = FC.select_dtypes(include = [\"int64\", \"float64\"])\n",
    "FC_numeric.drop(columns = \"MODELYEAR\", inplace = True)\n",
    "FC_numeric.head()"
   ]
  },
  {
   "cell_type": "code",
   "execution_count": 329,
   "id": "5713441a-6ac7-48bc-9fcc-945dbb4387b8",
   "metadata": {},
   "outputs": [
    {
     "data": {
      "text/html": [
       "<div>\n",
       "<style scoped>\n",
       "    .dataframe tbody tr th:only-of-type {\n",
       "        vertical-align: middle;\n",
       "    }\n",
       "\n",
       "    .dataframe tbody tr th {\n",
       "        vertical-align: top;\n",
       "    }\n",
       "\n",
       "    .dataframe thead th {\n",
       "        text-align: right;\n",
       "    }\n",
       "</style>\n",
       "<table border=\"1\" class=\"dataframe\">\n",
       "  <thead>\n",
       "    <tr style=\"text-align: right;\">\n",
       "      <th></th>\n",
       "      <th>ENGINESIZE</th>\n",
       "      <th>CYLINDERS</th>\n",
       "      <th>FUELCONSUMPTION_CITY</th>\n",
       "      <th>FUELCONSUMPTION_HWY</th>\n",
       "      <th>FUELCONSUMPTION_COMB</th>\n",
       "      <th>FUELCONSUMPTION_COMB_MPG</th>\n",
       "      <th>CO2EMISSIONS</th>\n",
       "    </tr>\n",
       "  </thead>\n",
       "  <tbody>\n",
       "    <tr>\n",
       "      <th>ENGINESIZE</th>\n",
       "      <td>1.000000</td>\n",
       "      <td>0.934011</td>\n",
       "      <td>0.832225</td>\n",
       "      <td>0.778746</td>\n",
       "      <td>0.819482</td>\n",
       "      <td>-0.808554</td>\n",
       "      <td>0.874154</td>\n",
       "    </tr>\n",
       "    <tr>\n",
       "      <th>CYLINDERS</th>\n",
       "      <td>0.934011</td>\n",
       "      <td>1.000000</td>\n",
       "      <td>0.796473</td>\n",
       "      <td>0.724594</td>\n",
       "      <td>0.776788</td>\n",
       "      <td>-0.770430</td>\n",
       "      <td>0.849685</td>\n",
       "    </tr>\n",
       "    <tr>\n",
       "      <th>FUELCONSUMPTION_CITY</th>\n",
       "      <td>0.832225</td>\n",
       "      <td>0.796473</td>\n",
       "      <td>1.000000</td>\n",
       "      <td>0.965718</td>\n",
       "      <td>0.995542</td>\n",
       "      <td>-0.935613</td>\n",
       "      <td>0.898039</td>\n",
       "    </tr>\n",
       "    <tr>\n",
       "      <th>FUELCONSUMPTION_HWY</th>\n",
       "      <td>0.778746</td>\n",
       "      <td>0.724594</td>\n",
       "      <td>0.965718</td>\n",
       "      <td>1.000000</td>\n",
       "      <td>0.985804</td>\n",
       "      <td>-0.893809</td>\n",
       "      <td>0.861748</td>\n",
       "    </tr>\n",
       "    <tr>\n",
       "      <th>FUELCONSUMPTION_COMB</th>\n",
       "      <td>0.819482</td>\n",
       "      <td>0.776788</td>\n",
       "      <td>0.995542</td>\n",
       "      <td>0.985804</td>\n",
       "      <td>1.000000</td>\n",
       "      <td>-0.927965</td>\n",
       "      <td>0.892129</td>\n",
       "    </tr>\n",
       "    <tr>\n",
       "      <th>FUELCONSUMPTION_COMB_MPG</th>\n",
       "      <td>-0.808554</td>\n",
       "      <td>-0.770430</td>\n",
       "      <td>-0.935613</td>\n",
       "      <td>-0.893809</td>\n",
       "      <td>-0.927965</td>\n",
       "      <td>1.000000</td>\n",
       "      <td>-0.906394</td>\n",
       "    </tr>\n",
       "    <tr>\n",
       "      <th>CO2EMISSIONS</th>\n",
       "      <td>0.874154</td>\n",
       "      <td>0.849685</td>\n",
       "      <td>0.898039</td>\n",
       "      <td>0.861748</td>\n",
       "      <td>0.892129</td>\n",
       "      <td>-0.906394</td>\n",
       "      <td>1.000000</td>\n",
       "    </tr>\n",
       "  </tbody>\n",
       "</table>\n",
       "</div>"
      ],
      "text/plain": [
       "                          ENGINESIZE  CYLINDERS  FUELCONSUMPTION_CITY  \\\n",
       "ENGINESIZE                  1.000000   0.934011              0.832225   \n",
       "CYLINDERS                   0.934011   1.000000              0.796473   \n",
       "FUELCONSUMPTION_CITY        0.832225   0.796473              1.000000   \n",
       "FUELCONSUMPTION_HWY         0.778746   0.724594              0.965718   \n",
       "FUELCONSUMPTION_COMB        0.819482   0.776788              0.995542   \n",
       "FUELCONSUMPTION_COMB_MPG   -0.808554  -0.770430             -0.935613   \n",
       "CO2EMISSIONS                0.874154   0.849685              0.898039   \n",
       "\n",
       "                          FUELCONSUMPTION_HWY  FUELCONSUMPTION_COMB  \\\n",
       "ENGINESIZE                           0.778746              0.819482   \n",
       "CYLINDERS                            0.724594              0.776788   \n",
       "FUELCONSUMPTION_CITY                 0.965718              0.995542   \n",
       "FUELCONSUMPTION_HWY                  1.000000              0.985804   \n",
       "FUELCONSUMPTION_COMB                 0.985804              1.000000   \n",
       "FUELCONSUMPTION_COMB_MPG            -0.893809             -0.927965   \n",
       "CO2EMISSIONS                         0.861748              0.892129   \n",
       "\n",
       "                          FUELCONSUMPTION_COMB_MPG  CO2EMISSIONS  \n",
       "ENGINESIZE                               -0.808554      0.874154  \n",
       "CYLINDERS                                -0.770430      0.849685  \n",
       "FUELCONSUMPTION_CITY                     -0.935613      0.898039  \n",
       "FUELCONSUMPTION_HWY                      -0.893809      0.861748  \n",
       "FUELCONSUMPTION_COMB                     -0.927965      0.892129  \n",
       "FUELCONSUMPTION_COMB_MPG                  1.000000     -0.906394  \n",
       "CO2EMISSIONS                             -0.906394      1.000000  "
      ]
     },
     "execution_count": 329,
     "metadata": {},
     "output_type": "execute_result"
    }
   ],
   "source": [
    "FC_corr = FC_numeric.corr()\n",
    "FC_corr"
   ]
  },
  {
   "cell_type": "code",
   "execution_count": 330,
   "id": "3b4271e1-dd9e-4404-b3a0-1a92b3a96420",
   "metadata": {},
   "outputs": [
    {
     "data": {
      "text/plain": [
       "FUELCONSUMPTION_COMB_MPG   -0.906394\n",
       "CYLINDERS                   0.849685\n",
       "FUELCONSUMPTION_HWY         0.861748\n",
       "ENGINESIZE                  0.874154\n",
       "FUELCONSUMPTION_COMB        0.892129\n",
       "FUELCONSUMPTION_CITY        0.898039\n",
       "CO2EMISSIONS                1.000000\n",
       "Name: CO2EMISSIONS, dtype: float64"
      ]
     },
     "execution_count": 330,
     "metadata": {},
     "output_type": "execute_result"
    }
   ],
   "source": [
    "#checking the correlation specifically with CO@EMISSION (i.e., target variable)\n",
    "FC_corr[\"CO2EMISSIONS\"].sort_values()\n",
    "#all variables appear to have a strong positive/negative correlation with the target value"
   ]
  },
  {
   "cell_type": "code",
   "execution_count": 331,
   "id": "1954b73e-4d4b-4b97-907c-dd350194284e",
   "metadata": {},
   "outputs": [
    {
     "data": {
      "text/plain": [
       "Index(['ENGINESIZE', 'CYLINDERS', 'FUELCONSUMPTION_CITY',\n",
       "       'FUELCONSUMPTION_HWY', 'FUELCONSUMPTION_COMB',\n",
       "       'FUELCONSUMPTION_COMB_MPG'],\n",
       "      dtype='object')"
      ]
     },
     "execution_count": 331,
     "metadata": {},
     "output_type": "execute_result"
    }
   ],
   "source": [
    "FC_numeric_ind = FC_numeric.drop(columns = \"CO2EMISSIONS\")\n",
    "FC_numeric_ind.columns"
   ]
  },
  {
   "cell_type": "code",
   "execution_count": 333,
   "id": "04957420-e015-4acb-92dd-124ad55c55b1",
   "metadata": {},
   "outputs": [
    {
     "data": {
      "text/plain": [
       "<function matplotlib.pyplot.show(close=None, block=None)>"
      ]
     },
     "execution_count": 333,
     "metadata": {},
     "output_type": "execute_result"
    },
    {
     "data": {
      "image/png": "[encoded data removed]",
      "text/plain": [
       "<Figure size 640x480 with 2 Axes>"
      ]
     },
     "metadata": {},
     "output_type": "display_data"
    }
   ],
   "source": [
    "#heat maps can be a good way to check for multicollinearity between the independent variables\n",
    "FC_corr_ind =FC_numeric_ind.corr()\n",
    "\n",
    "import seaborn as sns\n",
    "import matplotlib.pyplot as plt\n",
    "sns.heatmap(FC_corr_ind, annot=True, cmap=\"coolwarm\", fmt=\".2f\")\n",
    "plt.title(\"Correlation plotting across the independent variables\")\n",
    "plt.show\n",
    "#the independent variables appear to be highly correlated"
   ]
  },
  {
   "cell_type": "code",
   "execution_count": 334,
   "id": "61787113-04a9-4163-9b3b-e69c4daf7ab0",
   "metadata": {},
   "outputs": [
    {
     "data": {
      "image/png": "[encoded data removed]",
      "text/plain": [
       "<Figure size 640x480 with 2 Axes>"
      ]
     },
     "metadata": {},
     "output_type": "display_data"
    },
    {
     "data": {
      "text/plain": [
       "<Figure size 400x300 with 0 Axes>"
      ]
     },
     "metadata": {},
     "output_type": "display_data"
    }
   ],
   "source": [
    "#Filtering out correlation values that are over 0.8 and under -0.8\n",
    "import numpy as np\n",
    "import seaborn as sns\n",
    "filterout = (FC_corr_ind >= -0.80) & (FC_corr_ind <= 0.80) #since the variables are highly correlated we shall only cut off a highly correlated variables\n",
    "filterout = np.triu(filterout) #this helps to keep only the upper triangle of the correlation matrix \n",
    "\n",
    "sns.heatmap(FC_corr_ind, annot=True, cmap=\"coolwarm\", fmt=\".2f\", mask = ~filterout) # the \"~\" is important to get the exact opposite of the filterout\n",
    "plt.figure(figsize = (4, 3))\n",
    "plt.show()\n",
    "#we have decided to move with all independent variables with storng correlation with the target variable at the momemnt "
   ]
  },
  {
   "cell_type": "code",
   "execution_count": 335,
   "id": "078db1aa-7ef5-426d-ad0e-88e53a0b8ad6",
   "metadata": {},
   "outputs": [
    {
     "name": "stdout",
     "output_type": "stream",
     "text": [
      "<class 'pandas.core.frame.DataFrame'>\n",
      "RangeIndex: 1067 entries, 0 to 1066\n",
      "Data columns (total 13 columns):\n",
      " #   Column                    Non-Null Count  Dtype  \n",
      "---  ------                    --------------  -----  \n",
      " 0   MODELYEAR                 1067 non-null   int64  \n",
      " 1   MAKE                      1067 non-null   object \n",
      " 2   MODEL                     1067 non-null   object \n",
      " 3   VEHICLECLASS              1067 non-null   object \n",
      " 4   ENGINESIZE                1067 non-null   float64\n",
      " 5   CYLINDERS                 1067 non-null   int64  \n",
      " 6   TRANSMISSION              1067 non-null   object \n",
      " 7   FUELTYPE                  1067 non-null   object \n",
      " 8   FUELCONSUMPTION_CITY      1067 non-null   float64\n",
      " 9   FUELCONSUMPTION_HWY       1067 non-null   float64\n",
      " 10  FUELCONSUMPTION_COMB      1067 non-null   float64\n",
      " 11  FUELCONSUMPTION_COMB_MPG  1067 non-null   int64  \n",
      " 12  CO2EMISSIONS              1067 non-null   int64  \n",
      "dtypes: float64(4), int64(4), object(5)\n",
      "memory usage: 108.5+ KB\n"
     ]
    }
   ],
   "source": [
    "FC.info()"
   ]
  },
  {
   "cell_type": "code",
   "execution_count": 337,
   "id": "a8fadbb3-baf7-4e97-bf20-54f35c7057bc",
   "metadata": {},
   "outputs": [
    {
     "data": {
      "image/png": "[encoded data removed]",
      "text/plain": [
       "<Figure size 640x480 with 1 Axes>"
      ]
     },
     "metadata": {},
     "output_type": "display_data"
    }
   ],
   "source": [
    "#Lets check if fueltype has anything to do with C02 emissions. Beginning with boxplotting\n",
    "import seaborn as sns\n",
    "sns.boxplot(x= FC[\"FUELTYPE\"], y = FC[\"CO2EMISSIONS\"])\n",
    "plt.xticks(rotation=45, ha=\"right\")\n",
    "plt.show()\n",
    "#no pattern is observed"
   ]
  },
  {
   "cell_type": "code",
   "execution_count": 338,
   "id": "d4adf233-b802-4250-a92e-4d4167f8a676",
   "metadata": {},
   "outputs": [
    {
     "data": {
      "text/plain": [
       "FUELTYPE\n",
       "X    514\n",
       "Z    434\n",
       "E     92\n",
       "D     27\n",
       "Name: count, dtype: int64"
      ]
     },
     "execution_count": 338,
     "metadata": {},
     "output_type": "execute_result"
    }
   ],
   "source": [
    "#checking through ANOVA by the means of Mean\n",
    "FC[\"FUELTYPE\"].value_counts()"
   ]
  },
  {
   "cell_type": "code",
   "execution_count": 345,
   "id": "9d469f59-2144-4178-8441-39765a616330",
   "metadata": {},
   "outputs": [],
   "source": [
    "#Categorizing the fueltypes based on emissions \n",
    "FC_X = FC[FC[\"FUELTYPE\"] == \"X\"]\n",
    "FC_Z = FC[FC[\"FUELTYPE\"] == \"Z\"]\n",
    "FC_E = FC[FC[\"FUELTYPE\"] == \"E\"]\n",
    "FC_D = FC[FC[\"FUELTYPE\"] == \"D\"]"
   ]
  },
  {
   "cell_type": "code",
   "execution_count": 349,
   "id": "23f60ac8-d650-4942-b55c-555917a16836",
   "metadata": {},
   "outputs": [
    {
     "data": {
      "text/plain": [
       "LeveneResult(statistic=np.float64(2.021088252763729), pvalue=np.float64(0.10925619979634896))"
      ]
     },
     "execution_count": 349,
     "metadata": {},
     "output_type": "execute_result"
    }
   ],
   "source": [
    "import scipy.stats \n",
    "scipy.stats.levene(FC_X[\"CO2EMISSIONS\"], FC_Z[\"CO2EMISSIONS\"], FC_E[\"CO2EMISSIONS\"], FC_D[\"CO2EMISSIONS\"], center = \"mean\")\n",
    "# null hypothesis of unequal variance cannot be rejected"
   ]
  },
  {
   "cell_type": "code",
   "execution_count": 350,
   "id": "48bf6117-0065-4777-b519-3280e2f87fd9",
   "metadata": {},
   "outputs": [
    {
     "data": {
      "text/plain": [
       "(np.float64(28.335), np.float64(1.2511689298700248e-17))"
      ]
     },
     "execution_count": 350,
     "metadata": {},
     "output_type": "execute_result"
    }
   ],
   "source": [
    "f_statistics, p_value = scipy.stats.f_oneway(FC_X[\"CO2EMISSIONS\"], FC_Z[\"CO2EMISSIONS\"], FC_E[\"CO2EMISSIONS\"], FC_D[\"CO2EMISSIONS\"]) \n",
    "round(f_statistics, 3), p_value\n",
    "#the p-value is highly signficant, meaning that the difference in means of the categories have a pattern. we shall add this category into our model"
   ]
  },
  {
   "cell_type": "code",
   "execution_count": 351,
   "id": "40bd5d2d-49e5-4173-86de-2b057e8546a9",
   "metadata": {},
   "outputs": [
    {
     "data": {
      "text/html": [
       "<div>\n",
       "<style scoped>\n",
       "    .dataframe tbody tr th:only-of-type {\n",
       "        vertical-align: middle;\n",
       "    }\n",
       "\n",
       "    .dataframe tbody tr th {\n",
       "        vertical-align: top;\n",
       "    }\n",
       "\n",
       "    .dataframe thead th {\n",
       "        text-align: right;\n",
       "    }\n",
       "</style>\n",
       "<table border=\"1\" class=\"dataframe\">\n",
       "  <thead>\n",
       "    <tr style=\"text-align: right;\">\n",
       "      <th></th>\n",
       "      <th>ENGINESIZE</th>\n",
       "      <th>CYLINDERS</th>\n",
       "      <th>FUELCONSUMPTION_CITY</th>\n",
       "      <th>FUELCONSUMPTION_HWY</th>\n",
       "      <th>FUELCONSUMPTION_COMB</th>\n",
       "      <th>FUELCONSUMPTION_COMB_MPG</th>\n",
       "      <th>E</th>\n",
       "      <th>X</th>\n",
       "      <th>Z</th>\n",
       "    </tr>\n",
       "  </thead>\n",
       "  <tbody>\n",
       "    <tr>\n",
       "      <th>0</th>\n",
       "      <td>2.0</td>\n",
       "      <td>4</td>\n",
       "      <td>9.9</td>\n",
       "      <td>6.7</td>\n",
       "      <td>8.5</td>\n",
       "      <td>33</td>\n",
       "      <td>0</td>\n",
       "      <td>0</td>\n",
       "      <td>1</td>\n",
       "    </tr>\n",
       "    <tr>\n",
       "      <th>1</th>\n",
       "      <td>2.4</td>\n",
       "      <td>4</td>\n",
       "      <td>11.2</td>\n",
       "      <td>7.7</td>\n",
       "      <td>9.6</td>\n",
       "      <td>29</td>\n",
       "      <td>0</td>\n",
       "      <td>0</td>\n",
       "      <td>1</td>\n",
       "    </tr>\n",
       "    <tr>\n",
       "      <th>2</th>\n",
       "      <td>1.5</td>\n",
       "      <td>4</td>\n",
       "      <td>6.0</td>\n",
       "      <td>5.8</td>\n",
       "      <td>5.9</td>\n",
       "      <td>48</td>\n",
       "      <td>0</td>\n",
       "      <td>0</td>\n",
       "      <td>1</td>\n",
       "    </tr>\n",
       "    <tr>\n",
       "      <th>3</th>\n",
       "      <td>3.5</td>\n",
       "      <td>6</td>\n",
       "      <td>12.7</td>\n",
       "      <td>9.1</td>\n",
       "      <td>11.1</td>\n",
       "      <td>25</td>\n",
       "      <td>0</td>\n",
       "      <td>0</td>\n",
       "      <td>1</td>\n",
       "    </tr>\n",
       "    <tr>\n",
       "      <th>4</th>\n",
       "      <td>3.5</td>\n",
       "      <td>6</td>\n",
       "      <td>12.1</td>\n",
       "      <td>8.7</td>\n",
       "      <td>10.6</td>\n",
       "      <td>27</td>\n",
       "      <td>0</td>\n",
       "      <td>0</td>\n",
       "      <td>1</td>\n",
       "    </tr>\n",
       "  </tbody>\n",
       "</table>\n",
       "</div>"
      ],
      "text/plain": [
       "   ENGINESIZE  CYLINDERS  FUELCONSUMPTION_CITY  FUELCONSUMPTION_HWY  \\\n",
       "0         2.0          4                   9.9                  6.7   \n",
       "1         2.4          4                  11.2                  7.7   \n",
       "2         1.5          4                   6.0                  5.8   \n",
       "3         3.5          6                  12.7                  9.1   \n",
       "4         3.5          6                  12.1                  8.7   \n",
       "\n",
       "   FUELCONSUMPTION_COMB  FUELCONSUMPTION_COMB_MPG  E  X  Z  \n",
       "0                   8.5                        33  0  0  1  \n",
       "1                   9.6                        29  0  0  1  \n",
       "2                   5.9                        48  0  0  1  \n",
       "3                  11.1                        25  0  0  1  \n",
       "4                  10.6                        27  0  0  1  "
      ]
     },
     "execution_count": 351,
     "metadata": {},
     "output_type": "execute_result"
    }
   ],
   "source": [
    "FUELTYPE_int = pd.get_dummies(FC[\"FUELTYPE\"], drop_first = True).astype(int) #we need to drop first variable in order to avoid multicollinearity\n",
    "FC_numeric_ind = pd.concat([FC_numeric_ind, FUELTYPE_int], axis=1)\n",
    "FC_numeric_ind.head()"
   ]
  },
  {
   "cell_type": "code",
   "execution_count": 352,
   "id": "e5850ce6-5cb0-4fa9-bacb-67ae2e0b2c9b",
   "metadata": {},
   "outputs": [
    {
     "data": {
      "text/plain": [
       "Index(['ENGINESIZE', 'CYLINDERS', 'FUELCONSUMPTION_CITY',\n",
       "       'FUELCONSUMPTION_HWY', 'FUELCONSUMPTION_COMB',\n",
       "       'FUELCONSUMPTION_COMB_MPG', 'FUELTYPE_E', 'FUELTYPE_X', 'FUELTYPE_Z'],\n",
       "      dtype='object')"
      ]
     },
     "execution_count": 352,
     "metadata": {},
     "output_type": "execute_result"
    }
   ],
   "source": [
    "FC_numeric_ind.rename(columns={\"E\": \"FUELTYPE_E\", \n",
    "                        \"X\": \"FUELTYPE_X\", \n",
    "                        \"Z\": \"FUELTYPE_Z\",}, inplace = True)\n",
    "FC_numeric_ind.columns"
   ]
  },
  {
   "cell_type": "code",
   "execution_count": 353,
   "id": "f0779e93-3976-42df-9b27-da53eaf8f398",
   "metadata": {},
   "outputs": [
    {
     "name": "stdout",
     "output_type": "stream",
     "text": [
      "[[   0.43261602    1.71635222   -6.06095215   -4.56408077   28.07807604\n",
      "    -1.70214876 -142.06293159  -32.94351839  -34.23376753]]\n",
      "[130.51787403]\n",
      "0.9934895098739643\n"
     ]
    }
   ],
   "source": [
    "#Lets perform the regression\n",
    "x_value = FC_numeric_ind\n",
    "y_value = FC[[\"CO2EMISSIONS\"]]\n",
    "\n",
    "from sklearn.model_selection import train_test_split\n",
    "x_train, x_test, y_train, y_test = train_test_split(x_value, y_value, test_size = 0.20, random_state=0)\n",
    "\n",
    "from sklearn.linear_model import LinearRegression\n",
    "lm = LinearRegression()\n",
    "lm.fit(x_train, y_train)\n",
    "print(lm.coef_)\n",
    "print(lm.intercept_)\n",
    "print(lm.score(x_test, y_test))\n",
    "# the R-squared score is signficantly high 99.34 percent and therefore depicts the strength of the model"
   ]
  },
  {
   "cell_type": "markdown",
   "id": "a2d1b5d6-055c-47fb-9d70-b037053e91da",
   "metadata": {},
   "source": [
    "### Logistical Regression\n",
    "Logistical regression is fit for conducting regression to estimate the likelihood of occurence of a certain target variable condensed in the form of \n",
    "opposing binary result (for instance, yes/no). It helps classifying the result by forcing them in at least two classes of opposing charactersitics. Also remeber that\n",
    "Logistical Regression is completely different to Logarithmic regression that is used for sigmoid pattern (i.e., \"S\" pattern) of relationship between data"
   ]
  },
  {
   "cell_type": "code",
   "execution_count": 355,
   "id": "6272d739-ffaa-411d-a5ce-6af707db7e24",
   "metadata": {},
   "outputs": [
    {
     "data": {
      "text/html": [
       "<div>\n",
       "<style scoped>\n",
       "    .dataframe tbody tr th:only-of-type {\n",
       "        vertical-align: middle;\n",
       "    }\n",
       "\n",
       "    .dataframe tbody tr th {\n",
       "        vertical-align: top;\n",
       "    }\n",
       "\n",
       "    .dataframe thead th {\n",
       "        text-align: right;\n",
       "    }\n",
       "</style>\n",
       "<table border=\"1\" class=\"dataframe\">\n",
       "  <thead>\n",
       "    <tr style=\"text-align: right;\">\n",
       "      <th></th>\n",
       "      <th>tenure</th>\n",
       "      <th>age</th>\n",
       "      <th>address</th>\n",
       "      <th>income</th>\n",
       "      <th>ed</th>\n",
       "      <th>employ</th>\n",
       "      <th>equip</th>\n",
       "      <th>callcard</th>\n",
       "      <th>wireless</th>\n",
       "      <th>longmon</th>\n",
       "      <th>...</th>\n",
       "      <th>pager</th>\n",
       "      <th>internet</th>\n",
       "      <th>callwait</th>\n",
       "      <th>confer</th>\n",
       "      <th>ebill</th>\n",
       "      <th>loglong</th>\n",
       "      <th>logtoll</th>\n",
       "      <th>lninc</th>\n",
       "      <th>custcat</th>\n",
       "      <th>churn</th>\n",
       "    </tr>\n",
       "  </thead>\n",
       "  <tbody>\n",
       "    <tr>\n",
       "      <th>0</th>\n",
       "      <td>11.0</td>\n",
       "      <td>33.0</td>\n",
       "      <td>7.0</td>\n",
       "      <td>136.0</td>\n",
       "      <td>5.0</td>\n",
       "      <td>5.0</td>\n",
       "      <td>0.0</td>\n",
       "      <td>1.0</td>\n",
       "      <td>1.0</td>\n",
       "      <td>4.40</td>\n",
       "      <td>...</td>\n",
       "      <td>1.0</td>\n",
       "      <td>0.0</td>\n",
       "      <td>1.0</td>\n",
       "      <td>1.0</td>\n",
       "      <td>0.0</td>\n",
       "      <td>1.482</td>\n",
       "      <td>3.033</td>\n",
       "      <td>4.913</td>\n",
       "      <td>4.0</td>\n",
       "      <td>1.0</td>\n",
       "    </tr>\n",
       "    <tr>\n",
       "      <th>1</th>\n",
       "      <td>33.0</td>\n",
       "      <td>33.0</td>\n",
       "      <td>12.0</td>\n",
       "      <td>33.0</td>\n",
       "      <td>2.0</td>\n",
       "      <td>0.0</td>\n",
       "      <td>0.0</td>\n",
       "      <td>0.0</td>\n",
       "      <td>0.0</td>\n",
       "      <td>9.45</td>\n",
       "      <td>...</td>\n",
       "      <td>0.0</td>\n",
       "      <td>0.0</td>\n",
       "      <td>0.0</td>\n",
       "      <td>0.0</td>\n",
       "      <td>0.0</td>\n",
       "      <td>2.246</td>\n",
       "      <td>3.240</td>\n",
       "      <td>3.497</td>\n",
       "      <td>1.0</td>\n",
       "      <td>1.0</td>\n",
       "    </tr>\n",
       "    <tr>\n",
       "      <th>2</th>\n",
       "      <td>23.0</td>\n",
       "      <td>30.0</td>\n",
       "      <td>9.0</td>\n",
       "      <td>30.0</td>\n",
       "      <td>1.0</td>\n",
       "      <td>2.0</td>\n",
       "      <td>0.0</td>\n",
       "      <td>0.0</td>\n",
       "      <td>0.0</td>\n",
       "      <td>6.30</td>\n",
       "      <td>...</td>\n",
       "      <td>0.0</td>\n",
       "      <td>0.0</td>\n",
       "      <td>0.0</td>\n",
       "      <td>1.0</td>\n",
       "      <td>0.0</td>\n",
       "      <td>1.841</td>\n",
       "      <td>3.240</td>\n",
       "      <td>3.401</td>\n",
       "      <td>3.0</td>\n",
       "      <td>0.0</td>\n",
       "    </tr>\n",
       "    <tr>\n",
       "      <th>3</th>\n",
       "      <td>38.0</td>\n",
       "      <td>35.0</td>\n",
       "      <td>5.0</td>\n",
       "      <td>76.0</td>\n",
       "      <td>2.0</td>\n",
       "      <td>10.0</td>\n",
       "      <td>1.0</td>\n",
       "      <td>1.0</td>\n",
       "      <td>1.0</td>\n",
       "      <td>6.05</td>\n",
       "      <td>...</td>\n",
       "      <td>1.0</td>\n",
       "      <td>1.0</td>\n",
       "      <td>1.0</td>\n",
       "      <td>1.0</td>\n",
       "      <td>1.0</td>\n",
       "      <td>1.800</td>\n",
       "      <td>3.807</td>\n",
       "      <td>4.331</td>\n",
       "      <td>4.0</td>\n",
       "      <td>0.0</td>\n",
       "    </tr>\n",
       "    <tr>\n",
       "      <th>4</th>\n",
       "      <td>7.0</td>\n",
       "      <td>35.0</td>\n",
       "      <td>14.0</td>\n",
       "      <td>80.0</td>\n",
       "      <td>2.0</td>\n",
       "      <td>15.0</td>\n",
       "      <td>0.0</td>\n",
       "      <td>1.0</td>\n",
       "      <td>0.0</td>\n",
       "      <td>7.10</td>\n",
       "      <td>...</td>\n",
       "      <td>0.0</td>\n",
       "      <td>0.0</td>\n",
       "      <td>1.0</td>\n",
       "      <td>1.0</td>\n",
       "      <td>0.0</td>\n",
       "      <td>1.960</td>\n",
       "      <td>3.091</td>\n",
       "      <td>4.382</td>\n",
       "      <td>3.0</td>\n",
       "      <td>0.0</td>\n",
       "    </tr>\n",
       "  </tbody>\n",
       "</table>\n",
       "<p>5 rows × 28 columns</p>\n",
       "</div>"
      ],
      "text/plain": [
       "   tenure   age  address  income   ed  employ  equip  callcard  wireless  \\\n",
       "0    11.0  33.0      7.0   136.0  5.0     5.0    0.0       1.0       1.0   \n",
       "1    33.0  33.0     12.0    33.0  2.0     0.0    0.0       0.0       0.0   \n",
       "2    23.0  30.0      9.0    30.0  1.0     2.0    0.0       0.0       0.0   \n",
       "3    38.0  35.0      5.0    76.0  2.0    10.0    1.0       1.0       1.0   \n",
       "4     7.0  35.0     14.0    80.0  2.0    15.0    0.0       1.0       0.0   \n",
       "\n",
       "   longmon  ...  pager  internet  callwait  confer  ebill  loglong  logtoll  \\\n",
       "0     4.40  ...    1.0       0.0       1.0     1.0    0.0    1.482    3.033   \n",
       "1     9.45  ...    0.0       0.0       0.0     0.0    0.0    2.246    3.240   \n",
       "2     6.30  ...    0.0       0.0       0.0     1.0    0.0    1.841    3.240   \n",
       "3     6.05  ...    1.0       1.0       1.0     1.0    1.0    1.800    3.807   \n",
       "4     7.10  ...    0.0       0.0       1.0     1.0    0.0    1.960    3.091   \n",
       "\n",
       "   lninc  custcat  churn  \n",
       "0  4.913      4.0    1.0  \n",
       "1  3.497      1.0    1.0  \n",
       "2  3.401      3.0    0.0  \n",
       "3  4.331      4.0    0.0  \n",
       "4  4.382      3.0    0.0  \n",
       "\n",
       "[5 rows x 28 columns]"
      ]
     },
     "execution_count": 355,
     "metadata": {},
     "output_type": "execute_result"
    }
   ],
   "source": [
    "#Lets begin with a Telecom based dataset that is used to tell whether the customer is likely to leave or churn the subscription in the near future\n",
    "#based on certain charactersitics or independent variables. As discussed earlier, Logistical regression is perfect for generating outcomes that are\n",
    "#opposing bi-variate\n",
    "import pandas as pd\n",
    "File = pd.read_csv(\"Telcom.csv\")\n",
    "Telcom = pd.DataFrame(File)\n",
    "Telcom.drop(columns = \"Unnamed: 0\", inplace = True)\n",
    "Telcom.head()"
   ]
  },
  {
   "cell_type": "code",
   "execution_count": 356,
   "id": "1afe95f0-5dc4-4725-8078-6667777105e2",
   "metadata": {},
   "outputs": [
    {
     "name": "stdout",
     "output_type": "stream",
     "text": [
      "<class 'pandas.core.frame.DataFrame'>\n",
      "RangeIndex: 200 entries, 0 to 199\n",
      "Data columns (total 28 columns):\n",
      " #   Column    Non-Null Count  Dtype  \n",
      "---  ------    --------------  -----  \n",
      " 0   tenure    200 non-null    float64\n",
      " 1   age       200 non-null    float64\n",
      " 2   address   200 non-null    float64\n",
      " 3   income    200 non-null    float64\n",
      " 4   ed        200 non-null    float64\n",
      " 5   employ    200 non-null    float64\n",
      " 6   equip     200 non-null    float64\n",
      " 7   callcard  200 non-null    float64\n",
      " 8   wireless  200 non-null    float64\n",
      " 9   longmon   200 non-null    float64\n",
      " 10  tollmon   200 non-null    float64\n",
      " 11  equipmon  200 non-null    float64\n",
      " 12  cardmon   200 non-null    float64\n",
      " 13  wiremon   200 non-null    float64\n",
      " 14  longten   200 non-null    float64\n",
      " 15  tollten   200 non-null    float64\n",
      " 16  cardten   200 non-null    float64\n",
      " 17  voice     200 non-null    float64\n",
      " 18  pager     200 non-null    float64\n",
      " 19  internet  200 non-null    float64\n",
      " 20  callwait  200 non-null    float64\n",
      " 21  confer    200 non-null    float64\n",
      " 22  ebill     200 non-null    float64\n",
      " 23  loglong   200 non-null    float64\n",
      " 24  logtoll   200 non-null    float64\n",
      " 25  lninc     200 non-null    float64\n",
      " 26  custcat   200 non-null    float64\n",
      " 27  churn     200 non-null    float64\n",
      "dtypes: float64(28)\n",
      "memory usage: 43.9 KB\n"
     ]
    }
   ],
   "source": [
    "#For this purpose, we shall only take few independent variables and the target variables of our interest\n",
    "Telcom.info()"
   ]
  },
  {
   "cell_type": "code",
   "execution_count": 359,
   "id": "6da9a344-248f-4431-96ec-eccfb1984b90",
   "metadata": {},
   "outputs": [
    {
     "data": {
      "text/html": [
       "<div>\n",
       "<style scoped>\n",
       "    .dataframe tbody tr th:only-of-type {\n",
       "        vertical-align: middle;\n",
       "    }\n",
       "\n",
       "    .dataframe tbody tr th {\n",
       "        vertical-align: top;\n",
       "    }\n",
       "\n",
       "    .dataframe thead th {\n",
       "        text-align: right;\n",
       "    }\n",
       "</style>\n",
       "<table border=\"1\" class=\"dataframe\">\n",
       "  <thead>\n",
       "    <tr style=\"text-align: right;\">\n",
       "      <th></th>\n",
       "      <th>tenure</th>\n",
       "      <th>age</th>\n",
       "      <th>address</th>\n",
       "      <th>income</th>\n",
       "      <th>ed</th>\n",
       "      <th>employ</th>\n",
       "      <th>equip</th>\n",
       "      <th>callcard</th>\n",
       "      <th>wireless</th>\n",
       "      <th>longmon</th>\n",
       "      <th>...</th>\n",
       "      <th>pager</th>\n",
       "      <th>internet</th>\n",
       "      <th>callwait</th>\n",
       "      <th>confer</th>\n",
       "      <th>ebill</th>\n",
       "      <th>loglong</th>\n",
       "      <th>logtoll</th>\n",
       "      <th>lninc</th>\n",
       "      <th>custcat</th>\n",
       "      <th>churn</th>\n",
       "    </tr>\n",
       "  </thead>\n",
       "  <tbody>\n",
       "    <tr>\n",
       "      <th>tenure</th>\n",
       "      <td>False</td>\n",
       "      <td>False</td>\n",
       "      <td>False</td>\n",
       "      <td>False</td>\n",
       "      <td>False</td>\n",
       "      <td>False</td>\n",
       "      <td>False</td>\n",
       "      <td>False</td>\n",
       "      <td>False</td>\n",
       "      <td>False</td>\n",
       "      <td>...</td>\n",
       "      <td>False</td>\n",
       "      <td>False</td>\n",
       "      <td>False</td>\n",
       "      <td>False</td>\n",
       "      <td>False</td>\n",
       "      <td>False</td>\n",
       "      <td>False</td>\n",
       "      <td>False</td>\n",
       "      <td>False</td>\n",
       "      <td>False</td>\n",
       "    </tr>\n",
       "    <tr>\n",
       "      <th>age</th>\n",
       "      <td>False</td>\n",
       "      <td>False</td>\n",
       "      <td>False</td>\n",
       "      <td>False</td>\n",
       "      <td>False</td>\n",
       "      <td>False</td>\n",
       "      <td>False</td>\n",
       "      <td>False</td>\n",
       "      <td>False</td>\n",
       "      <td>False</td>\n",
       "      <td>...</td>\n",
       "      <td>False</td>\n",
       "      <td>False</td>\n",
       "      <td>False</td>\n",
       "      <td>False</td>\n",
       "      <td>False</td>\n",
       "      <td>False</td>\n",
       "      <td>False</td>\n",
       "      <td>False</td>\n",
       "      <td>False</td>\n",
       "      <td>False</td>\n",
       "    </tr>\n",
       "    <tr>\n",
       "      <th>address</th>\n",
       "      <td>False</td>\n",
       "      <td>False</td>\n",
       "      <td>False</td>\n",
       "      <td>False</td>\n",
       "      <td>False</td>\n",
       "      <td>False</td>\n",
       "      <td>False</td>\n",
       "      <td>False</td>\n",
       "      <td>False</td>\n",
       "      <td>False</td>\n",
       "      <td>...</td>\n",
       "      <td>False</td>\n",
       "      <td>False</td>\n",
       "      <td>False</td>\n",
       "      <td>False</td>\n",
       "      <td>False</td>\n",
       "      <td>False</td>\n",
       "      <td>False</td>\n",
       "      <td>False</td>\n",
       "      <td>False</td>\n",
       "      <td>False</td>\n",
       "    </tr>\n",
       "    <tr>\n",
       "      <th>income</th>\n",
       "      <td>False</td>\n",
       "      <td>False</td>\n",
       "      <td>False</td>\n",
       "      <td>False</td>\n",
       "      <td>False</td>\n",
       "      <td>False</td>\n",
       "      <td>False</td>\n",
       "      <td>False</td>\n",
       "      <td>False</td>\n",
       "      <td>False</td>\n",
       "      <td>...</td>\n",
       "      <td>False</td>\n",
       "      <td>False</td>\n",
       "      <td>False</td>\n",
       "      <td>False</td>\n",
       "      <td>False</td>\n",
       "      <td>False</td>\n",
       "      <td>False</td>\n",
       "      <td>False</td>\n",
       "      <td>False</td>\n",
       "      <td>False</td>\n",
       "    </tr>\n",
       "    <tr>\n",
       "      <th>ed</th>\n",
       "      <td>False</td>\n",
       "      <td>False</td>\n",
       "      <td>False</td>\n",
       "      <td>False</td>\n",
       "      <td>False</td>\n",
       "      <td>False</td>\n",
       "      <td>False</td>\n",
       "      <td>False</td>\n",
       "      <td>False</td>\n",
       "      <td>False</td>\n",
       "      <td>...</td>\n",
       "      <td>False</td>\n",
       "      <td>False</td>\n",
       "      <td>False</td>\n",
       "      <td>False</td>\n",
       "      <td>False</td>\n",
       "      <td>False</td>\n",
       "      <td>False</td>\n",
       "      <td>False</td>\n",
       "      <td>False</td>\n",
       "      <td>False</td>\n",
       "    </tr>\n",
       "    <tr>\n",
       "      <th>employ</th>\n",
       "      <td>False</td>\n",
       "      <td>False</td>\n",
       "      <td>False</td>\n",
       "      <td>False</td>\n",
       "      <td>False</td>\n",
       "      <td>False</td>\n",
       "      <td>False</td>\n",
       "      <td>False</td>\n",
       "      <td>False</td>\n",
       "      <td>False</td>\n",
       "      <td>...</td>\n",
       "      <td>False</td>\n",
       "      <td>False</td>\n",
       "      <td>False</td>\n",
       "      <td>False</td>\n",
       "      <td>False</td>\n",
       "      <td>False</td>\n",
       "      <td>False</td>\n",
       "      <td>False</td>\n",
       "      <td>False</td>\n",
       "      <td>False</td>\n",
       "    </tr>\n",
       "    <tr>\n",
       "      <th>equip</th>\n",
       "      <td>False</td>\n",
       "      <td>False</td>\n",
       "      <td>False</td>\n",
       "      <td>False</td>\n",
       "      <td>False</td>\n",
       "      <td>False</td>\n",
       "      <td>False</td>\n",
       "      <td>False</td>\n",
       "      <td>False</td>\n",
       "      <td>False</td>\n",
       "      <td>...</td>\n",
       "      <td>False</td>\n",
       "      <td>False</td>\n",
       "      <td>False</td>\n",
       "      <td>False</td>\n",
       "      <td>False</td>\n",
       "      <td>False</td>\n",
       "      <td>False</td>\n",
       "      <td>False</td>\n",
       "      <td>False</td>\n",
       "      <td>False</td>\n",
       "    </tr>\n",
       "    <tr>\n",
       "      <th>callcard</th>\n",
       "      <td>False</td>\n",
       "      <td>False</td>\n",
       "      <td>False</td>\n",
       "      <td>False</td>\n",
       "      <td>False</td>\n",
       "      <td>False</td>\n",
       "      <td>False</td>\n",
       "      <td>False</td>\n",
       "      <td>False</td>\n",
       "      <td>False</td>\n",
       "      <td>...</td>\n",
       "      <td>False</td>\n",
       "      <td>False</td>\n",
       "      <td>False</td>\n",
       "      <td>False</td>\n",
       "      <td>False</td>\n",
       "      <td>False</td>\n",
       "      <td>False</td>\n",
       "      <td>False</td>\n",
       "      <td>False</td>\n",
       "      <td>False</td>\n",
       "    </tr>\n",
       "    <tr>\n",
       "      <th>wireless</th>\n",
       "      <td>False</td>\n",
       "      <td>False</td>\n",
       "      <td>False</td>\n",
       "      <td>False</td>\n",
       "      <td>False</td>\n",
       "      <td>False</td>\n",
       "      <td>False</td>\n",
       "      <td>False</td>\n",
       "      <td>False</td>\n",
       "      <td>False</td>\n",
       "      <td>...</td>\n",
       "      <td>False</td>\n",
       "      <td>False</td>\n",
       "      <td>False</td>\n",
       "      <td>False</td>\n",
       "      <td>False</td>\n",
       "      <td>False</td>\n",
       "      <td>False</td>\n",
       "      <td>False</td>\n",
       "      <td>False</td>\n",
       "      <td>False</td>\n",
       "    </tr>\n",
       "    <tr>\n",
       "      <th>longmon</th>\n",
       "      <td>False</td>\n",
       "      <td>False</td>\n",
       "      <td>False</td>\n",
       "      <td>False</td>\n",
       "      <td>False</td>\n",
       "      <td>False</td>\n",
       "      <td>False</td>\n",
       "      <td>False</td>\n",
       "      <td>False</td>\n",
       "      <td>False</td>\n",
       "      <td>...</td>\n",
       "      <td>False</td>\n",
       "      <td>False</td>\n",
       "      <td>False</td>\n",
       "      <td>False</td>\n",
       "      <td>False</td>\n",
       "      <td>False</td>\n",
       "      <td>False</td>\n",
       "      <td>False</td>\n",
       "      <td>False</td>\n",
       "      <td>False</td>\n",
       "    </tr>\n",
       "    <tr>\n",
       "      <th>tollmon</th>\n",
       "      <td>False</td>\n",
       "      <td>False</td>\n",
       "      <td>False</td>\n",
       "      <td>False</td>\n",
       "      <td>False</td>\n",
       "      <td>False</td>\n",
       "      <td>False</td>\n",
       "      <td>False</td>\n",
       "      <td>False</td>\n",
       "      <td>False</td>\n",
       "      <td>...</td>\n",
       "      <td>False</td>\n",
       "      <td>False</td>\n",
       "      <td>False</td>\n",
       "      <td>False</td>\n",
       "      <td>False</td>\n",
       "      <td>False</td>\n",
       "      <td>False</td>\n",
       "      <td>False</td>\n",
       "      <td>False</td>\n",
       "      <td>False</td>\n",
       "    </tr>\n",
       "    <tr>\n",
       "      <th>equipmon</th>\n",
       "      <td>False</td>\n",
       "      <td>False</td>\n",
       "      <td>False</td>\n",
       "      <td>False</td>\n",
       "      <td>False</td>\n",
       "      <td>False</td>\n",
       "      <td>False</td>\n",
       "      <td>False</td>\n",
       "      <td>False</td>\n",
       "      <td>False</td>\n",
       "      <td>...</td>\n",
       "      <td>False</td>\n",
       "      <td>False</td>\n",
       "      <td>False</td>\n",
       "      <td>False</td>\n",
       "      <td>False</td>\n",
       "      <td>False</td>\n",
       "      <td>False</td>\n",
       "      <td>False</td>\n",
       "      <td>False</td>\n",
       "      <td>False</td>\n",
       "    </tr>\n",
       "    <tr>\n",
       "      <th>cardmon</th>\n",
       "      <td>False</td>\n",
       "      <td>False</td>\n",
       "      <td>False</td>\n",
       "      <td>False</td>\n",
       "      <td>False</td>\n",
       "      <td>False</td>\n",
       "      <td>False</td>\n",
       "      <td>False</td>\n",
       "      <td>False</td>\n",
       "      <td>False</td>\n",
       "      <td>...</td>\n",
       "      <td>False</td>\n",
       "      <td>False</td>\n",
       "      <td>False</td>\n",
       "      <td>False</td>\n",
       "      <td>False</td>\n",
       "      <td>False</td>\n",
       "      <td>False</td>\n",
       "      <td>False</td>\n",
       "      <td>False</td>\n",
       "      <td>False</td>\n",
       "    </tr>\n",
       "    <tr>\n",
       "      <th>wiremon</th>\n",
       "      <td>False</td>\n",
       "      <td>False</td>\n",
       "      <td>False</td>\n",
       "      <td>False</td>\n",
       "      <td>False</td>\n",
       "      <td>False</td>\n",
       "      <td>False</td>\n",
       "      <td>False</td>\n",
       "      <td>False</td>\n",
       "      <td>False</td>\n",
       "      <td>...</td>\n",
       "      <td>False</td>\n",
       "      <td>False</td>\n",
       "      <td>False</td>\n",
       "      <td>False</td>\n",
       "      <td>False</td>\n",
       "      <td>False</td>\n",
       "      <td>False</td>\n",
       "      <td>False</td>\n",
       "      <td>False</td>\n",
       "      <td>False</td>\n",
       "    </tr>\n",
       "    <tr>\n",
       "      <th>longten</th>\n",
       "      <td>False</td>\n",
       "      <td>False</td>\n",
       "      <td>False</td>\n",
       "      <td>False</td>\n",
       "      <td>False</td>\n",
       "      <td>False</td>\n",
       "      <td>False</td>\n",
       "      <td>False</td>\n",
       "      <td>False</td>\n",
       "      <td>False</td>\n",
       "      <td>...</td>\n",
       "      <td>False</td>\n",
       "      <td>False</td>\n",
       "      <td>False</td>\n",
       "      <td>False</td>\n",
       "      <td>False</td>\n",
       "      <td>False</td>\n",
       "      <td>False</td>\n",
       "      <td>False</td>\n",
       "      <td>False</td>\n",
       "      <td>False</td>\n",
       "    </tr>\n",
       "    <tr>\n",
       "      <th>tollten</th>\n",
       "      <td>False</td>\n",
       "      <td>False</td>\n",
       "      <td>False</td>\n",
       "      <td>False</td>\n",
       "      <td>False</td>\n",
       "      <td>False</td>\n",
       "      <td>False</td>\n",
       "      <td>False</td>\n",
       "      <td>False</td>\n",
       "      <td>False</td>\n",
       "      <td>...</td>\n",
       "      <td>False</td>\n",
       "      <td>False</td>\n",
       "      <td>False</td>\n",
       "      <td>False</td>\n",
       "      <td>False</td>\n",
       "      <td>False</td>\n",
       "      <td>False</td>\n",
       "      <td>False</td>\n",
       "      <td>False</td>\n",
       "      <td>False</td>\n",
       "    </tr>\n",
       "    <tr>\n",
       "      <th>cardten</th>\n",
       "      <td>False</td>\n",
       "      <td>False</td>\n",
       "      <td>False</td>\n",
       "      <td>False</td>\n",
       "      <td>False</td>\n",
       "      <td>False</td>\n",
       "      <td>False</td>\n",
       "      <td>False</td>\n",
       "      <td>False</td>\n",
       "      <td>False</td>\n",
       "      <td>...</td>\n",
       "      <td>False</td>\n",
       "      <td>False</td>\n",
       "      <td>False</td>\n",
       "      <td>False</td>\n",
       "      <td>False</td>\n",
       "      <td>False</td>\n",
       "      <td>False</td>\n",
       "      <td>False</td>\n",
       "      <td>False</td>\n",
       "      <td>False</td>\n",
       "    </tr>\n",
       "    <tr>\n",
       "      <th>voice</th>\n",
       "      <td>False</td>\n",
       "      <td>False</td>\n",
       "      <td>False</td>\n",
       "      <td>False</td>\n",
       "      <td>False</td>\n",
       "      <td>False</td>\n",
       "      <td>False</td>\n",
       "      <td>False</td>\n",
       "      <td>False</td>\n",
       "      <td>False</td>\n",
       "      <td>...</td>\n",
       "      <td>False</td>\n",
       "      <td>False</td>\n",
       "      <td>False</td>\n",
       "      <td>False</td>\n",
       "      <td>False</td>\n",
       "      <td>False</td>\n",
       "      <td>False</td>\n",
       "      <td>False</td>\n",
       "      <td>False</td>\n",
       "      <td>False</td>\n",
       "    </tr>\n",
       "    <tr>\n",
       "      <th>pager</th>\n",
       "      <td>False</td>\n",
       "      <td>False</td>\n",
       "      <td>False</td>\n",
       "      <td>False</td>\n",
       "      <td>False</td>\n",
       "      <td>False</td>\n",
       "      <td>False</td>\n",
       "      <td>False</td>\n",
       "      <td>False</td>\n",
       "      <td>False</td>\n",
       "      <td>...</td>\n",
       "      <td>False</td>\n",
       "      <td>False</td>\n",
       "      <td>False</td>\n",
       "      <td>False</td>\n",
       "      <td>False</td>\n",
       "      <td>False</td>\n",
       "      <td>False</td>\n",
       "      <td>False</td>\n",
       "      <td>False</td>\n",
       "      <td>False</td>\n",
       "    </tr>\n",
       "    <tr>\n",
       "      <th>internet</th>\n",
       "      <td>False</td>\n",
       "      <td>False</td>\n",
       "      <td>False</td>\n",
       "      <td>False</td>\n",
       "      <td>False</td>\n",
       "      <td>False</td>\n",
       "      <td>False</td>\n",
       "      <td>False</td>\n",
       "      <td>False</td>\n",
       "      <td>False</td>\n",
       "      <td>...</td>\n",
       "      <td>False</td>\n",
       "      <td>False</td>\n",
       "      <td>False</td>\n",
       "      <td>False</td>\n",
       "      <td>False</td>\n",
       "      <td>False</td>\n",
       "      <td>False</td>\n",
       "      <td>False</td>\n",
       "      <td>False</td>\n",
       "      <td>False</td>\n",
       "    </tr>\n",
       "    <tr>\n",
       "      <th>callwait</th>\n",
       "      <td>False</td>\n",
       "      <td>False</td>\n",
       "      <td>False</td>\n",
       "      <td>False</td>\n",
       "      <td>False</td>\n",
       "      <td>False</td>\n",
       "      <td>False</td>\n",
       "      <td>False</td>\n",
       "      <td>False</td>\n",
       "      <td>False</td>\n",
       "      <td>...</td>\n",
       "      <td>False</td>\n",
       "      <td>False</td>\n",
       "      <td>False</td>\n",
       "      <td>False</td>\n",
       "      <td>False</td>\n",
       "      <td>False</td>\n",
       "      <td>False</td>\n",
       "      <td>False</td>\n",
       "      <td>False</td>\n",
       "      <td>False</td>\n",
       "    </tr>\n",
       "    <tr>\n",
       "      <th>confer</th>\n",
       "      <td>False</td>\n",
       "      <td>False</td>\n",
       "      <td>False</td>\n",
       "      <td>False</td>\n",
       "      <td>False</td>\n",
       "      <td>False</td>\n",
       "      <td>False</td>\n",
       "      <td>False</td>\n",
       "      <td>False</td>\n",
       "      <td>False</td>\n",
       "      <td>...</td>\n",
       "      <td>False</td>\n",
       "      <td>False</td>\n",
       "      <td>False</td>\n",
       "      <td>False</td>\n",
       "      <td>False</td>\n",
       "      <td>False</td>\n",
       "      <td>False</td>\n",
       "      <td>False</td>\n",
       "      <td>False</td>\n",
       "      <td>False</td>\n",
       "    </tr>\n",
       "    <tr>\n",
       "      <th>ebill</th>\n",
       "      <td>False</td>\n",
       "      <td>False</td>\n",
       "      <td>False</td>\n",
       "      <td>False</td>\n",
       "      <td>False</td>\n",
       "      <td>False</td>\n",
       "      <td>False</td>\n",
       "      <td>False</td>\n",
       "      <td>False</td>\n",
       "      <td>False</td>\n",
       "      <td>...</td>\n",
       "      <td>False</td>\n",
       "      <td>False</td>\n",
       "      <td>False</td>\n",
       "      <td>False</td>\n",
       "      <td>False</td>\n",
       "      <td>False</td>\n",
       "      <td>False</td>\n",
       "      <td>False</td>\n",
       "      <td>False</td>\n",
       "      <td>False</td>\n",
       "    </tr>\n",
       "    <tr>\n",
       "      <th>loglong</th>\n",
       "      <td>False</td>\n",
       "      <td>False</td>\n",
       "      <td>False</td>\n",
       "      <td>False</td>\n",
       "      <td>False</td>\n",
       "      <td>False</td>\n",
       "      <td>False</td>\n",
       "      <td>False</td>\n",
       "      <td>False</td>\n",
       "      <td>False</td>\n",
       "      <td>...</td>\n",
       "      <td>False</td>\n",
       "      <td>False</td>\n",
       "      <td>False</td>\n",
       "      <td>False</td>\n",
       "      <td>False</td>\n",
       "      <td>False</td>\n",
       "      <td>False</td>\n",
       "      <td>False</td>\n",
       "      <td>False</td>\n",
       "      <td>False</td>\n",
       "    </tr>\n",
       "    <tr>\n",
       "      <th>logtoll</th>\n",
       "      <td>False</td>\n",
       "      <td>False</td>\n",
       "      <td>False</td>\n",
       "      <td>False</td>\n",
       "      <td>False</td>\n",
       "      <td>False</td>\n",
       "      <td>False</td>\n",
       "      <td>False</td>\n",
       "      <td>False</td>\n",
       "      <td>False</td>\n",
       "      <td>...</td>\n",
       "      <td>False</td>\n",
       "      <td>False</td>\n",
       "      <td>False</td>\n",
       "      <td>False</td>\n",
       "      <td>False</td>\n",
       "      <td>False</td>\n",
       "      <td>False</td>\n",
       "      <td>False</td>\n",
       "      <td>False</td>\n",
       "      <td>False</td>\n",
       "    </tr>\n",
       "    <tr>\n",
       "      <th>lninc</th>\n",
       "      <td>False</td>\n",
       "      <td>False</td>\n",
       "      <td>False</td>\n",
       "      <td>False</td>\n",
       "      <td>False</td>\n",
       "      <td>False</td>\n",
       "      <td>False</td>\n",
       "      <td>False</td>\n",
       "      <td>False</td>\n",
       "      <td>False</td>\n",
       "      <td>...</td>\n",
       "      <td>False</td>\n",
       "      <td>False</td>\n",
       "      <td>False</td>\n",
       "      <td>False</td>\n",
       "      <td>False</td>\n",
       "      <td>False</td>\n",
       "      <td>False</td>\n",
       "      <td>False</td>\n",
       "      <td>False</td>\n",
       "      <td>False</td>\n",
       "    </tr>\n",
       "    <tr>\n",
       "      <th>custcat</th>\n",
       "      <td>False</td>\n",
       "      <td>False</td>\n",
       "      <td>False</td>\n",
       "      <td>False</td>\n",
       "      <td>False</td>\n",
       "      <td>False</td>\n",
       "      <td>False</td>\n",
       "      <td>False</td>\n",
       "      <td>False</td>\n",
       "      <td>False</td>\n",
       "      <td>...</td>\n",
       "      <td>False</td>\n",
       "      <td>False</td>\n",
       "      <td>False</td>\n",
       "      <td>False</td>\n",
       "      <td>False</td>\n",
       "      <td>False</td>\n",
       "      <td>False</td>\n",
       "      <td>False</td>\n",
       "      <td>False</td>\n",
       "      <td>False</td>\n",
       "    </tr>\n",
       "    <tr>\n",
       "      <th>churn</th>\n",
       "      <td>False</td>\n",
       "      <td>False</td>\n",
       "      <td>False</td>\n",
       "      <td>False</td>\n",
       "      <td>False</td>\n",
       "      <td>False</td>\n",
       "      <td>False</td>\n",
       "      <td>False</td>\n",
       "      <td>False</td>\n",
       "      <td>False</td>\n",
       "      <td>...</td>\n",
       "      <td>False</td>\n",
       "      <td>False</td>\n",
       "      <td>False</td>\n",
       "      <td>False</td>\n",
       "      <td>False</td>\n",
       "      <td>False</td>\n",
       "      <td>False</td>\n",
       "      <td>False</td>\n",
       "      <td>False</td>\n",
       "      <td>False</td>\n",
       "    </tr>\n",
       "  </tbody>\n",
       "</table>\n",
       "<p>28 rows × 28 columns</p>\n",
       "</div>"
      ],
      "text/plain": [
       "          tenure    age  address  income     ed  employ  equip  callcard  \\\n",
       "tenure     False  False    False   False  False   False  False     False   \n",
       "age        False  False    False   False  False   False  False     False   \n",
       "address    False  False    False   False  False   False  False     False   \n",
       "income     False  False    False   False  False   False  False     False   \n",
       "ed         False  False    False   False  False   False  False     False   \n",
       "employ     False  False    False   False  False   False  False     False   \n",
       "equip      False  False    False   False  False   False  False     False   \n",
       "callcard   False  False    False   False  False   False  False     False   \n",
       "wireless   False  False    False   False  False   False  False     False   \n",
       "longmon    False  False    False   False  False   False  False     False   \n",
       "tollmon    False  False    False   False  False   False  False     False   \n",
       "equipmon   False  False    False   False  False   False  False     False   \n",
       "cardmon    False  False    False   False  False   False  False     False   \n",
       "wiremon    False  False    False   False  False   False  False     False   \n",
       "longten    False  False    False   False  False   False  False     False   \n",
       "tollten    False  False    False   False  False   False  False     False   \n",
       "cardten    False  False    False   False  False   False  False     False   \n",
       "voice      False  False    False   False  False   False  False     False   \n",
       "pager      False  False    False   False  False   False  False     False   \n",
       "internet   False  False    False   False  False   False  False     False   \n",
       "callwait   False  False    False   False  False   False  False     False   \n",
       "confer     False  False    False   False  False   False  False     False   \n",
       "ebill      False  False    False   False  False   False  False     False   \n",
       "loglong    False  False    False   False  False   False  False     False   \n",
       "logtoll    False  False    False   False  False   False  False     False   \n",
       "lninc      False  False    False   False  False   False  False     False   \n",
       "custcat    False  False    False   False  False   False  False     False   \n",
       "churn      False  False    False   False  False   False  False     False   \n",
       "\n",
       "          wireless  longmon  ...  pager  internet  callwait  confer  ebill  \\\n",
       "tenure       False    False  ...  False     False     False   False  False   \n",
       "age          False    False  ...  False     False     False   False  False   \n",
       "address      False    False  ...  False     False     False   False  False   \n",
       "income       False    False  ...  False     False     False   False  False   \n",
       "ed           False    False  ...  False     False     False   False  False   \n",
       "employ       False    False  ...  False     False     False   False  False   \n",
       "equip        False    False  ...  False     False     False   False  False   \n",
       "callcard     False    False  ...  False     False     False   False  False   \n",
       "wireless     False    False  ...  False     False     False   False  False   \n",
       "longmon      False    False  ...  False     False     False   False  False   \n",
       "tollmon      False    False  ...  False     False     False   False  False   \n",
       "equipmon     False    False  ...  False     False     False   False  False   \n",
       "cardmon      False    False  ...  False     False     False   False  False   \n",
       "wiremon      False    False  ...  False     False     False   False  False   \n",
       "longten      False    False  ...  False     False     False   False  False   \n",
       "tollten      False    False  ...  False     False     False   False  False   \n",
       "cardten      False    False  ...  False     False     False   False  False   \n",
       "voice        False    False  ...  False     False     False   False  False   \n",
       "pager        False    False  ...  False     False     False   False  False   \n",
       "internet     False    False  ...  False     False     False   False  False   \n",
       "callwait     False    False  ...  False     False     False   False  False   \n",
       "confer       False    False  ...  False     False     False   False  False   \n",
       "ebill        False    False  ...  False     False     False   False  False   \n",
       "loglong      False    False  ...  False     False     False   False  False   \n",
       "logtoll      False    False  ...  False     False     False   False  False   \n",
       "lninc        False    False  ...  False     False     False   False  False   \n",
       "custcat      False    False  ...  False     False     False   False  False   \n",
       "churn        False    False  ...  False     False     False   False  False   \n",
       "\n",
       "          loglong  logtoll  lninc  custcat  churn  \n",
       "tenure      False    False  False    False  False  \n",
       "age         False    False  False    False  False  \n",
       "address     False    False  False    False  False  \n",
       "income      False    False  False    False  False  \n",
       "ed          False    False  False    False  False  \n",
       "employ      False    False  False    False  False  \n",
       "equip       False    False  False    False  False  \n",
       "callcard    False    False  False    False  False  \n",
       "wireless    False    False  False    False  False  \n",
       "longmon     False    False  False    False  False  \n",
       "tollmon     False    False  False    False  False  \n",
       "equipmon    False    False  False    False  False  \n",
       "cardmon     False    False  False    False  False  \n",
       "wiremon     False    False  False    False  False  \n",
       "longten     False    False  False    False  False  \n",
       "tollten     False    False  False    False  False  \n",
       "cardten     False    False  False    False  False  \n",
       "voice       False    False  False    False  False  \n",
       "pager       False    False  False    False  False  \n",
       "internet    False    False  False    False  False  \n",
       "callwait    False    False  False    False  False  \n",
       "confer      False    False  False    False  False  \n",
       "ebill       False    False  False    False  False  \n",
       "loglong     False    False  False    False  False  \n",
       "logtoll     False    False  False    False  False  \n",
       "lninc       False    False  False    False  False  \n",
       "custcat     False    False  False    False  False  \n",
       "churn       False    False  False    False  False  \n",
       "\n",
       "[28 rows x 28 columns]"
      ]
     },
     "execution_count": 359,
     "metadata": {},
     "output_type": "execute_result"
    }
   ],
   "source": [
    "#a quick correlation to observe variables that are properly correlated with our target value\n",
    "Telcom_corr = Telcom.corr() \n",
    "(Telcom_corr >= 0.65) & (Telcom_corr <= -0.65) \n",
    "#(Telcom_corr >= 0.65) & (Telcom_corr <= -0.65) #weak correlations acorss the matrix observed"
   ]
  },
  {
   "cell_type": "code",
   "execution_count": 360,
   "id": "6074322a-0533-4488-bb2b-bb112117a7f5",
   "metadata": {},
   "outputs": [
    {
     "data": {
      "text/plain": [
       "tenure     -0.376860\n",
       "employ     -0.337969\n",
       "loglong    -0.336869\n",
       "callcard   -0.311451\n",
       "longten    -0.294906\n",
       "longmon    -0.292026\n",
       "age        -0.287697\n",
       "address    -0.260659\n",
       "cardten    -0.228634\n",
       "cardmon    -0.177163\n",
       "lninc      -0.117459\n",
       "income     -0.090790\n",
       "confer     -0.081361\n",
       "logtoll    -0.070156\n",
       "tollten    -0.059482\n",
       "callwait   -0.052885\n",
       "tollmon     0.014356\n",
       "custcat     0.014839\n",
       "pager       0.124623\n",
       "voice       0.142315\n",
       "wireless    0.174356\n",
       "wiremon     0.177483\n",
       "ed          0.216112\n",
       "ebill       0.254838\n",
       "internet    0.254838\n",
       "equipmon    0.255348\n",
       "equip       0.275284\n",
       "churn       1.000000\n",
       "Name: churn, dtype: float64"
      ]
     },
     "execution_count": 360,
     "metadata": {},
     "output_type": "execute_result"
    }
   ],
   "source": [
    "Telcom_corr[\"churn\"].sort_values()"
   ]
  },
  {
   "cell_type": "code",
   "execution_count": 361,
   "id": "856b7109-8f39-446a-8b21-fd06a3a458c4",
   "metadata": {},
   "outputs": [
    {
     "data": {
      "text/html": [
       "<div>\n",
       "<style scoped>\n",
       "    .dataframe tbody tr th:only-of-type {\n",
       "        vertical-align: middle;\n",
       "    }\n",
       "\n",
       "    .dataframe tbody tr th {\n",
       "        vertical-align: top;\n",
       "    }\n",
       "\n",
       "    .dataframe thead th {\n",
       "        text-align: right;\n",
       "    }\n",
       "</style>\n",
       "<table border=\"1\" class=\"dataframe\">\n",
       "  <thead>\n",
       "    <tr style=\"text-align: right;\">\n",
       "      <th></th>\n",
       "      <th>tenure</th>\n",
       "      <th>age</th>\n",
       "      <th>address</th>\n",
       "      <th>income</th>\n",
       "      <th>ed</th>\n",
       "      <th>employ</th>\n",
       "      <th>equip</th>\n",
       "    </tr>\n",
       "  </thead>\n",
       "  <tbody>\n",
       "    <tr>\n",
       "      <th>0</th>\n",
       "      <td>11.0</td>\n",
       "      <td>33.0</td>\n",
       "      <td>7.0</td>\n",
       "      <td>136.0</td>\n",
       "      <td>5.0</td>\n",
       "      <td>5.0</td>\n",
       "      <td>0.0</td>\n",
       "    </tr>\n",
       "    <tr>\n",
       "      <th>1</th>\n",
       "      <td>33.0</td>\n",
       "      <td>33.0</td>\n",
       "      <td>12.0</td>\n",
       "      <td>33.0</td>\n",
       "      <td>2.0</td>\n",
       "      <td>0.0</td>\n",
       "      <td>0.0</td>\n",
       "    </tr>\n",
       "    <tr>\n",
       "      <th>2</th>\n",
       "      <td>23.0</td>\n",
       "      <td>30.0</td>\n",
       "      <td>9.0</td>\n",
       "      <td>30.0</td>\n",
       "      <td>1.0</td>\n",
       "      <td>2.0</td>\n",
       "      <td>0.0</td>\n",
       "    </tr>\n",
       "    <tr>\n",
       "      <th>3</th>\n",
       "      <td>38.0</td>\n",
       "      <td>35.0</td>\n",
       "      <td>5.0</td>\n",
       "      <td>76.0</td>\n",
       "      <td>2.0</td>\n",
       "      <td>10.0</td>\n",
       "      <td>1.0</td>\n",
       "    </tr>\n",
       "    <tr>\n",
       "      <th>4</th>\n",
       "      <td>7.0</td>\n",
       "      <td>35.0</td>\n",
       "      <td>14.0</td>\n",
       "      <td>80.0</td>\n",
       "      <td>2.0</td>\n",
       "      <td>15.0</td>\n",
       "      <td>0.0</td>\n",
       "    </tr>\n",
       "  </tbody>\n",
       "</table>\n",
       "</div>"
      ],
      "text/plain": [
       "   tenure   age  address  income   ed  employ  equip\n",
       "0    11.0  33.0      7.0   136.0  5.0     5.0    0.0\n",
       "1    33.0  33.0     12.0    33.0  2.0     0.0    0.0\n",
       "2    23.0  30.0      9.0    30.0  1.0     2.0    0.0\n",
       "3    38.0  35.0      5.0    76.0  2.0    10.0    1.0\n",
       "4     7.0  35.0     14.0    80.0  2.0    15.0    0.0"
      ]
     },
     "execution_count": 361,
     "metadata": {},
     "output_type": "execute_result"
    }
   ],
   "source": [
    "#The correlations are pretty weak on both ends, so lets just take tenure, age, address, income, education, and employment as our independent variable\n",
    "#based on so-called expert information\n",
    "Telcom_log_ind = Telcom[[\"tenure\", \"age\", \"address\", \"income\", \"ed\", \"employ\", \"equip\"]]\n",
    "Telcom_log_ind.head()"
   ]
  },
  {
   "cell_type": "code",
   "execution_count": 362,
   "id": "d58d4c88-ab7f-468d-9903-b00a846767a0",
   "metadata": {},
   "outputs": [
    {
     "data": {
      "text/plain": [
       "array([[-1.13518441, -0.62595491, -0.4588971 ,  0.4751423 ,  1.6961288 ,\n",
       "        -0.58477841, -0.85972695],\n",
       "       [-0.11604313, -0.62595491,  0.03454064, -0.32886061, -0.6433592 ,\n",
       "        -1.14437497, -0.85972695],\n",
       "       [-0.57928917, -0.85594447, -0.261522  , -0.35227817, -1.42318853,\n",
       "        -0.92053635, -0.85972695]])"
      ]
     },
     "execution_count": 362,
     "metadata": {},
     "output_type": "execute_result"
    }
   ],
   "source": [
    "#The norm is to standardize the data before taking them forward for regression\n",
    "from sklearn.preprocessing import StandardScaler\n",
    "Scaler = StandardScaler()\n",
    "\n",
    "Telcom_log_ind_N = Scaler.fit_transform(Telcom_log_ind)\n",
    "Telcom_log_ind_N[0:3]"
   ]
  },
  {
   "cell_type": "code",
   "execution_count": 363,
   "id": "8fb704f2-cb4e-4ee8-8a90-2435054b8b50",
   "metadata": {},
   "outputs": [
    {
     "name": "stdout",
     "output_type": "stream",
     "text": [
      "140 60 140 60\n"
     ]
    }
   ],
   "source": [
    "#Splitting the data create the test model\n",
    "x = Telcom_log_ind_N\n",
    "y = Telcom[\"churn\"]\n",
    "from sklearn.model_selection import train_test_split\n",
    "x_train, x_test, y_train, y_test = train_test_split(x, y, test_size = 0.30, random_state = 0)\n",
    "print(x_train.shape[0], x_test.shape[0], y_train.shape[0], y_test.shape[0])"
   ]
  },
  {
   "cell_type": "markdown",
   "id": "d7de87ab-ae0f-49f3-965f-c775f23be7ce",
   "metadata": {},
   "source": [
    "### <font color = \"red\"> Warning!!! </font>\n",
    "\n",
    "A bad practice that can essentially lead to Data Leakage or snooping is observed in the above two cells. WE SHOULD NEVER PREPROCES THE DATA BEFORE SPLITTING THEM, OR ELSE WE RISK DATA SNOOPING OR LEAKAGE  "
   ]
  },
  {
   "cell_type": "code",
   "execution_count": 370,
   "id": "281da6a1-0617-4cc1-9552-49032c0b7321",
   "metadata": {},
   "outputs": [
    {
     "name": "stdout",
     "output_type": "stream",
     "text": [
      "[[-0.50642837 -0.43138822  0.16435036 -0.00490406  0.32101518 -0.52714828\n",
      "   0.49740547]]\n",
      "[0. 0. 0. 0. 0. 0. 0.]\n"
     ]
    }
   ],
   "source": [
    "#Now, its time for logistical regression\n",
    "from sklearn.linear_model import LogisticRegression\n",
    "lr = LogisticRegression()\n",
    "lr.fit(x_train, y_train) #So x_train (which is in numpy array format) and y_train (which is in series format) seem to fit for regression too\n",
    "y_test_hat = lr.predict(x_test)\n",
    "print(lr.coef_)\n",
    "print(y_test_hat[0:7]) #Predictions that the customers are going to churn out or not. 1 for yes, 0 for no"
   ]
  },
  {
   "cell_type": "code",
   "execution_count": 371,
   "id": "0e8966eb-3a09-47d6-bbab-261eae4b42cd",
   "metadata": {},
   "outputs": [
    {
     "data": {
      "text/plain": [
       "array([[0.59043484, 0.40956516],\n",
       "       [0.56181642, 0.43818358],\n",
       "       [0.52888758, 0.47111242],\n",
       "       [0.97574503, 0.02425497],\n",
       "       [0.89656149, 0.10343851],\n",
       "       [0.93734215, 0.06265785],\n",
       "       [0.98107558, 0.01892442],\n",
       "       [0.63846513, 0.36153487],\n",
       "       [0.97361379, 0.02638621],\n",
       "       [0.45433941, 0.54566059]])"
      ]
     },
     "execution_count": 371,
     "metadata": {},
     "output_type": "execute_result"
    }
   ],
   "source": [
    "#lets see the probability that actually led to such machine learning decision\n",
    "y_test_hat_prob = lr.predict_proba(x_test)\n",
    "y_test_hat_prob [0:10] #note that the probability threshold of 0.5 is used"
   ]
  },
  {
   "cell_type": "code",
   "execution_count": 373,
   "id": "06aa01cf-536c-412b-b7cf-8cd3d2101d9e",
   "metadata": {},
   "outputs": [
    {
     "data": {
      "text/plain": [
       "<matplotlib.legend.Legend at 0x1e789eae600>"
      ]
     },
     "execution_count": 373,
     "metadata": {},
     "output_type": "execute_result"
    },
    {
     "data": {
      "image/png": "[encoded data removed]",
      "text/plain": [
       "<Figure size 640x480 with 1 Axes>"
      ]
     },
     "metadata": {},
     "output_type": "display_data"
    }
   ],
   "source": [
    " #Visually testing the predictability of the churn prediction\n",
    "import seaborn as sns\n",
    "sns.kdeplot(x=y_test_hat, color='red', label=\"Predicted churning\")\n",
    "sns.kdeplot(x=y_test, color='blue', label = \"Actual churning\")\n",
    "plt.title(\"Predicted versus acutual churning data\")\n",
    "plt.legend()\n",
    "#except for few overestimations in the non-churning class [0.0] obcviously leading to underestimation in the churning class [1.0], the mnodel appears quite predictive "
   ]
  },
  {
   "cell_type": "code",
   "execution_count": 374,
   "id": "49fc68d0-3983-4137-a273-fd22ae68d14f",
   "metadata": {},
   "outputs": [
    {
     "data": {
      "text/plain": [
       "0.44708531496581994"
      ]
     },
     "execution_count": 374,
     "metadata": {},
     "output_type": "execute_result"
    }
   ],
   "source": [
    "#The predictability of the model can also be evaluated statistically through the log loss function\n",
    "from sklearn.metrics import log_loss\n",
    "log_loss(y_test, y_test_hat_prob) #it is pretty much like Rsquared scoring, except that it is not ranged between 0 to 1, and smaller the better. Hence, the effectiveness of \n",
    "                                  #the model can only be tested by comparing the log_los score with another model. \n",
    "\n",
    "#Also, note that it doesn't use the predicted test values to calculate the score but instead the probability allocations that led to such predictions. It is because\n",
    "#log_loss has to penalize false classification that are backedup by more confident probability value (i.e., misclassification with probability of 0.85 will be penalized\n",
    "#more with higher log loss in comparision to misclassification with probability of 0.65)"
   ]
  },
  {
   "cell_type": "markdown",
   "id": "c5592fef-d7cf-4bfd-b727-41d8788c44b1",
   "metadata": {},
   "source": [
    "### Multiclass Classifcation\n",
    "In here we shall predict classes within multivariate class variables"
   ]
  },
  {
   "cell_type": "code",
   "execution_count": 376,
   "id": "b4a4e24a-6b43-49b3-a8ca-e5b84ae3e0ca",
   "metadata": {},
   "outputs": [
    {
     "data": {
      "text/html": [
       "<div>\n",
       "<style scoped>\n",
       "    .dataframe tbody tr th:only-of-type {\n",
       "        vertical-align: middle;\n",
       "    }\n",
       "\n",
       "    .dataframe tbody tr th {\n",
       "        vertical-align: top;\n",
       "    }\n",
       "\n",
       "    .dataframe thead th {\n",
       "        text-align: right;\n",
       "    }\n",
       "</style>\n",
       "<table border=\"1\" class=\"dataframe\">\n",
       "  <thead>\n",
       "    <tr style=\"text-align: right;\">\n",
       "      <th></th>\n",
       "      <th>Unnamed: 0</th>\n",
       "      <th>Gender</th>\n",
       "      <th>Age</th>\n",
       "      <th>Height</th>\n",
       "      <th>Weight</th>\n",
       "      <th>family_history_with_overweight</th>\n",
       "      <th>FAVC</th>\n",
       "      <th>FCVC</th>\n",
       "      <th>NCP</th>\n",
       "      <th>CAEC</th>\n",
       "      <th>SMOKE</th>\n",
       "      <th>CH2O</th>\n",
       "      <th>SCC</th>\n",
       "      <th>FAF</th>\n",
       "      <th>TUE</th>\n",
       "      <th>CALC</th>\n",
       "      <th>MTRANS</th>\n",
       "      <th>NObeyesdad</th>\n",
       "    </tr>\n",
       "  </thead>\n",
       "  <tbody>\n",
       "    <tr>\n",
       "      <th>0</th>\n",
       "      <td>0</td>\n",
       "      <td>Female</td>\n",
       "      <td>21.0</td>\n",
       "      <td>1.62</td>\n",
       "      <td>64.0</td>\n",
       "      <td>yes</td>\n",
       "      <td>no</td>\n",
       "      <td>2.0</td>\n",
       "      <td>3.0</td>\n",
       "      <td>Sometimes</td>\n",
       "      <td>no</td>\n",
       "      <td>2.0</td>\n",
       "      <td>no</td>\n",
       "      <td>0.0</td>\n",
       "      <td>1.0</td>\n",
       "      <td>no</td>\n",
       "      <td>Public_Transportation</td>\n",
       "      <td>Normal_Weight</td>\n",
       "    </tr>\n",
       "    <tr>\n",
       "      <th>1</th>\n",
       "      <td>1</td>\n",
       "      <td>Female</td>\n",
       "      <td>21.0</td>\n",
       "      <td>1.52</td>\n",
       "      <td>56.0</td>\n",
       "      <td>yes</td>\n",
       "      <td>no</td>\n",
       "      <td>3.0</td>\n",
       "      <td>3.0</td>\n",
       "      <td>Sometimes</td>\n",
       "      <td>yes</td>\n",
       "      <td>3.0</td>\n",
       "      <td>yes</td>\n",
       "      <td>3.0</td>\n",
       "      <td>0.0</td>\n",
       "      <td>Sometimes</td>\n",
       "      <td>Public_Transportation</td>\n",
       "      <td>Normal_Weight</td>\n",
       "    </tr>\n",
       "    <tr>\n",
       "      <th>2</th>\n",
       "      <td>2</td>\n",
       "      <td>Male</td>\n",
       "      <td>23.0</td>\n",
       "      <td>1.80</td>\n",
       "      <td>77.0</td>\n",
       "      <td>yes</td>\n",
       "      <td>no</td>\n",
       "      <td>2.0</td>\n",
       "      <td>3.0</td>\n",
       "      <td>Sometimes</td>\n",
       "      <td>no</td>\n",
       "      <td>2.0</td>\n",
       "      <td>no</td>\n",
       "      <td>2.0</td>\n",
       "      <td>1.0</td>\n",
       "      <td>Frequently</td>\n",
       "      <td>Public_Transportation</td>\n",
       "      <td>Normal_Weight</td>\n",
       "    </tr>\n",
       "    <tr>\n",
       "      <th>3</th>\n",
       "      <td>3</td>\n",
       "      <td>Male</td>\n",
       "      <td>27.0</td>\n",
       "      <td>1.80</td>\n",
       "      <td>87.0</td>\n",
       "      <td>no</td>\n",
       "      <td>no</td>\n",
       "      <td>3.0</td>\n",
       "      <td>3.0</td>\n",
       "      <td>Sometimes</td>\n",
       "      <td>no</td>\n",
       "      <td>2.0</td>\n",
       "      <td>no</td>\n",
       "      <td>2.0</td>\n",
       "      <td>0.0</td>\n",
       "      <td>Frequently</td>\n",
       "      <td>Walking</td>\n",
       "      <td>Overweight_Level_I</td>\n",
       "    </tr>\n",
       "    <tr>\n",
       "      <th>4</th>\n",
       "      <td>4</td>\n",
       "      <td>Male</td>\n",
       "      <td>22.0</td>\n",
       "      <td>1.78</td>\n",
       "      <td>89.8</td>\n",
       "      <td>no</td>\n",
       "      <td>no</td>\n",
       "      <td>2.0</td>\n",
       "      <td>1.0</td>\n",
       "      <td>Sometimes</td>\n",
       "      <td>no</td>\n",
       "      <td>2.0</td>\n",
       "      <td>no</td>\n",
       "      <td>0.0</td>\n",
       "      <td>0.0</td>\n",
       "      <td>Sometimes</td>\n",
       "      <td>Public_Transportation</td>\n",
       "      <td>Overweight_Level_II</td>\n",
       "    </tr>\n",
       "  </tbody>\n",
       "</table>\n",
       "</div>"
      ],
      "text/plain": [
       "   Unnamed: 0  Gender   Age  Height  Weight family_history_with_overweight  \\\n",
       "0           0  Female  21.0    1.62    64.0                            yes   \n",
       "1           1  Female  21.0    1.52    56.0                            yes   \n",
       "2           2    Male  23.0    1.80    77.0                            yes   \n",
       "3           3    Male  27.0    1.80    87.0                             no   \n",
       "4           4    Male  22.0    1.78    89.8                             no   \n",
       "\n",
       "  FAVC  FCVC  NCP       CAEC SMOKE  CH2O  SCC  FAF  TUE        CALC  \\\n",
       "0   no   2.0  3.0  Sometimes    no   2.0   no  0.0  1.0          no   \n",
       "1   no   3.0  3.0  Sometimes   yes   3.0  yes  3.0  0.0   Sometimes   \n",
       "2   no   2.0  3.0  Sometimes    no   2.0   no  2.0  1.0  Frequently   \n",
       "3   no   3.0  3.0  Sometimes    no   2.0   no  2.0  0.0  Frequently   \n",
       "4   no   2.0  1.0  Sometimes    no   2.0   no  0.0  0.0   Sometimes   \n",
       "\n",
       "                  MTRANS           NObeyesdad  \n",
       "0  Public_Transportation        Normal_Weight  \n",
       "1  Public_Transportation        Normal_Weight  \n",
       "2  Public_Transportation        Normal_Weight  \n",
       "3                Walking   Overweight_Level_I  \n",
       "4  Public_Transportation  Overweight_Level_II  "
      ]
     },
     "execution_count": 376,
     "metadata": {},
     "output_type": "execute_result"
    }
   ],
   "source": [
    "import pandas as pd\n",
    "File = pd.read_csv(\"biometric.csv\")\n",
    "Biometric = pd.DataFrame(File)\n",
    "Biometric.head()"
   ]
  },
  {
   "cell_type": "code",
   "execution_count": 377,
   "id": "19be117d-b032-49ae-a412-b3d6e7da3ef4",
   "metadata": {},
   "outputs": [
    {
     "data": {
      "text/plain": [
       "array(['Normal_Weight', 'Overweight_Level_I', 'Overweight_Level_II',\n",
       "       'Obesity_Type_I', 'Insufficient_Weight', 'Obesity_Type_II',\n",
       "       'Obesity_Type_III'], dtype=object)"
      ]
     },
     "execution_count": 377,
     "metadata": {},
     "output_type": "execute_result"
    }
   ],
   "source": [
    "#Lets train the model to predict a new patient biometric into one of those categories\n",
    "Biometric[\"NObeyesdad\"].unique()"
   ]
  },
  {
   "cell_type": "code",
   "execution_count": 378,
   "id": "d2e1457c-ea68-4227-a8c9-9d268055c488",
   "metadata": {},
   "outputs": [
    {
     "data": {
      "image/png": "[encoded data removed]",
      "text/plain": [
       "<Figure size 511.111x500 with 1 Axes>"
      ]
     },
     "metadata": {},
     "output_type": "display_data"
    }
   ],
   "source": [
    "#The idea is to check if the count distribution of each category variable is evenly distributed to rule out unbalancement\n",
    "import seaborn as sns\n",
    "sns.catplot(y = Biometric[\"NObeyesdad\"], kind = \"count\") #we will put our variable in the y-axis for better visuals\n",
    "plt.ylabel(\"Obesity category\")\n",
    "plt.show()\n",
    "#the variables appear to have even distribution, which is good"
   ]
  },
  {
   "cell_type": "code",
   "execution_count": 386,
   "id": "f429d146-8e9d-476b-8968-d6272fb5eb0a",
   "metadata": {},
   "outputs": [
    {
     "name": "stdout",
     "output_type": "stream",
     "text": [
      "<class 'pandas.core.frame.DataFrame'>\n",
      "RangeIndex: 2111 entries, 0 to 2110\n",
      "Data columns (total 17 columns):\n",
      " #   Column                          Non-Null Count  Dtype  \n",
      "---  ------                          --------------  -----  \n",
      " 0   Gender                          2111 non-null   object \n",
      " 1   Age                             2111 non-null   float64\n",
      " 2   Height                          2111 non-null   float64\n",
      " 3   Weight                          2111 non-null   float64\n",
      " 4   family_history_with_overweight  2111 non-null   object \n",
      " 5   FAVC                            2111 non-null   object \n",
      " 6   FCVC                            2111 non-null   float64\n",
      " 7   NCP                             2111 non-null   float64\n",
      " 8   CAEC                            2111 non-null   object \n",
      " 9   SMOKE                           2111 non-null   object \n",
      " 10  CH2O                            2111 non-null   float64\n",
      " 11  SCC                             2111 non-null   object \n",
      " 12  FAF                             2111 non-null   float64\n",
      " 13  TUE                             2111 non-null   float64\n",
      " 14  CALC                            2111 non-null   object \n",
      " 15  MTRANS                          2111 non-null   object \n",
      " 16  NObeyesdad                      2111 non-null   object \n",
      "dtypes: float64(8), object(9)\n",
      "memory usage: 280.5+ KB\n"
     ]
    }
   ],
   "source": [
    "Biometric.drop(columns = \"Unnamed: 0\", inplace=True)\n",
    "Biometric.info()"
   ]
  },
  {
   "cell_type": "code",
   "execution_count": 387,
   "id": "b2dbbcfa-e15f-4767-91fb-07fff2a0eb79",
   "metadata": {},
   "outputs": [
    {
     "data": {
      "text/html": [
       "<div>\n",
       "<style scoped>\n",
       "    .dataframe tbody tr th:only-of-type {\n",
       "        vertical-align: middle;\n",
       "    }\n",
       "\n",
       "    .dataframe tbody tr th {\n",
       "        vertical-align: top;\n",
       "    }\n",
       "\n",
       "    .dataframe thead th {\n",
       "        text-align: right;\n",
       "    }\n",
       "</style>\n",
       "<table border=\"1\" class=\"dataframe\">\n",
       "  <thead>\n",
       "    <tr style=\"text-align: right;\">\n",
       "      <th></th>\n",
       "      <th>Age</th>\n",
       "      <th>Height</th>\n",
       "      <th>Weight</th>\n",
       "      <th>FCVC</th>\n",
       "      <th>NCP</th>\n",
       "      <th>CH2O</th>\n",
       "      <th>FAF</th>\n",
       "      <th>TUE</th>\n",
       "    </tr>\n",
       "  </thead>\n",
       "  <tbody>\n",
       "    <tr>\n",
       "      <th>0</th>\n",
       "      <td>21.0</td>\n",
       "      <td>1.62</td>\n",
       "      <td>64.0</td>\n",
       "      <td>2.0</td>\n",
       "      <td>3.0</td>\n",
       "      <td>2.0</td>\n",
       "      <td>0.0</td>\n",
       "      <td>1.0</td>\n",
       "    </tr>\n",
       "    <tr>\n",
       "      <th>1</th>\n",
       "      <td>21.0</td>\n",
       "      <td>1.52</td>\n",
       "      <td>56.0</td>\n",
       "      <td>3.0</td>\n",
       "      <td>3.0</td>\n",
       "      <td>3.0</td>\n",
       "      <td>3.0</td>\n",
       "      <td>0.0</td>\n",
       "    </tr>\n",
       "    <tr>\n",
       "      <th>2</th>\n",
       "      <td>23.0</td>\n",
       "      <td>1.80</td>\n",
       "      <td>77.0</td>\n",
       "      <td>2.0</td>\n",
       "      <td>3.0</td>\n",
       "      <td>2.0</td>\n",
       "      <td>2.0</td>\n",
       "      <td>1.0</td>\n",
       "    </tr>\n",
       "    <tr>\n",
       "      <th>3</th>\n",
       "      <td>27.0</td>\n",
       "      <td>1.80</td>\n",
       "      <td>87.0</td>\n",
       "      <td>3.0</td>\n",
       "      <td>3.0</td>\n",
       "      <td>2.0</td>\n",
       "      <td>2.0</td>\n",
       "      <td>0.0</td>\n",
       "    </tr>\n",
       "    <tr>\n",
       "      <th>4</th>\n",
       "      <td>22.0</td>\n",
       "      <td>1.78</td>\n",
       "      <td>89.8</td>\n",
       "      <td>2.0</td>\n",
       "      <td>1.0</td>\n",
       "      <td>2.0</td>\n",
       "      <td>0.0</td>\n",
       "      <td>0.0</td>\n",
       "    </tr>\n",
       "  </tbody>\n",
       "</table>\n",
       "</div>"
      ],
      "text/plain": [
       "    Age  Height  Weight  FCVC  NCP  CH2O  FAF  TUE\n",
       "0  21.0    1.62    64.0   2.0  3.0   2.0  0.0  1.0\n",
       "1  21.0    1.52    56.0   3.0  3.0   3.0  3.0  0.0\n",
       "2  23.0    1.80    77.0   2.0  3.0   2.0  2.0  1.0\n",
       "3  27.0    1.80    87.0   3.0  3.0   2.0  2.0  0.0\n",
       "4  22.0    1.78    89.8   2.0  1.0   2.0  0.0  0.0"
      ]
     },
     "execution_count": 387,
     "metadata": {},
     "output_type": "execute_result"
    }
   ],
   "source": [
    "#At first, we need to scale all the continuous data and merge it into the original dataframe\n",
    "Biometric_numeric = Biometric.select_dtypes(include = [\"float64\", \"int64\"])\n",
    "Biometric_numeric.head()"
   ]
  },
  {
   "cell_type": "code",
   "execution_count": 388,
   "id": "790fb707-0f24-47d6-9a05-e4e47812f6b7",
   "metadata": {},
   "outputs": [
    {
     "data": {
      "text/plain": [
       "Index(['Age', 'Height', 'Weight', 'FCVC', 'NCP', 'CH2O', 'FAF', 'TUE'], dtype='object')"
      ]
     },
     "execution_count": 388,
     "metadata": {},
     "output_type": "execute_result"
    }
   ],
   "source": [
    "Columns1 = Biometric_numeric.columns\n",
    "Columns1 #we will need to add this columns later for the standardized versions"
   ]
  },
  {
   "cell_type": "code",
   "execution_count": 389,
   "id": "3996af09-8c46-4c79-80f3-8541c50b8c7b",
   "metadata": {},
   "outputs": [
    {
     "data": {
      "text/html": [
       "<div>\n",
       "<style scoped>\n",
       "    .dataframe tbody tr th:only-of-type {\n",
       "        vertical-align: middle;\n",
       "    }\n",
       "\n",
       "    .dataframe tbody tr th {\n",
       "        vertical-align: top;\n",
       "    }\n",
       "\n",
       "    .dataframe thead th {\n",
       "        text-align: right;\n",
       "    }\n",
       "</style>\n",
       "<table border=\"1\" class=\"dataframe\">\n",
       "  <thead>\n",
       "    <tr style=\"text-align: right;\">\n",
       "      <th></th>\n",
       "      <th>Age</th>\n",
       "      <th>Height</th>\n",
       "      <th>Weight</th>\n",
       "      <th>FCVC</th>\n",
       "      <th>NCP</th>\n",
       "      <th>CH2O</th>\n",
       "      <th>FAF</th>\n",
       "      <th>TUE</th>\n",
       "    </tr>\n",
       "  </thead>\n",
       "  <tbody>\n",
       "    <tr>\n",
       "      <th>0</th>\n",
       "      <td>-0.522124</td>\n",
       "      <td>-0.875589</td>\n",
       "      <td>-0.862558</td>\n",
       "      <td>-0.785019</td>\n",
       "      <td>0.404153</td>\n",
       "      <td>-0.013073</td>\n",
       "      <td>-1.188039</td>\n",
       "      <td>0.561997</td>\n",
       "    </tr>\n",
       "    <tr>\n",
       "      <th>1</th>\n",
       "      <td>-0.522124</td>\n",
       "      <td>-1.947599</td>\n",
       "      <td>-1.168077</td>\n",
       "      <td>1.088342</td>\n",
       "      <td>0.404153</td>\n",
       "      <td>1.618759</td>\n",
       "      <td>2.339750</td>\n",
       "      <td>-1.080625</td>\n",
       "    </tr>\n",
       "    <tr>\n",
       "      <th>2</th>\n",
       "      <td>-0.206889</td>\n",
       "      <td>1.054029</td>\n",
       "      <td>-0.366090</td>\n",
       "      <td>-0.785019</td>\n",
       "      <td>0.404153</td>\n",
       "      <td>-0.013073</td>\n",
       "      <td>1.163820</td>\n",
       "      <td>0.561997</td>\n",
       "    </tr>\n",
       "    <tr>\n",
       "      <th>3</th>\n",
       "      <td>0.423582</td>\n",
       "      <td>1.054029</td>\n",
       "      <td>0.015808</td>\n",
       "      <td>1.088342</td>\n",
       "      <td>0.404153</td>\n",
       "      <td>-0.013073</td>\n",
       "      <td>1.163820</td>\n",
       "      <td>-1.080625</td>\n",
       "    </tr>\n",
       "    <tr>\n",
       "      <th>4</th>\n",
       "      <td>-0.364507</td>\n",
       "      <td>0.839627</td>\n",
       "      <td>0.122740</td>\n",
       "      <td>-0.785019</td>\n",
       "      <td>-2.167023</td>\n",
       "      <td>-0.013073</td>\n",
       "      <td>-1.188039</td>\n",
       "      <td>-1.080625</td>\n",
       "    </tr>\n",
       "  </tbody>\n",
       "</table>\n",
       "</div>"
      ],
      "text/plain": [
       "        Age    Height    Weight      FCVC       NCP      CH2O       FAF  \\\n",
       "0 -0.522124 -0.875589 -0.862558 -0.785019  0.404153 -0.013073 -1.188039   \n",
       "1 -0.522124 -1.947599 -1.168077  1.088342  0.404153  1.618759  2.339750   \n",
       "2 -0.206889  1.054029 -0.366090 -0.785019  0.404153 -0.013073  1.163820   \n",
       "3  0.423582  1.054029  0.015808  1.088342  0.404153 -0.013073  1.163820   \n",
       "4 -0.364507  0.839627  0.122740 -0.785019 -2.167023 -0.013073 -1.188039   \n",
       "\n",
       "        TUE  \n",
       "0  0.561997  \n",
       "1 -1.080625  \n",
       "2  0.561997  \n",
       "3 -1.080625  \n",
       "4 -1.080625  "
      ]
     },
     "execution_count": 389,
     "metadata": {},
     "output_type": "execute_result"
    }
   ],
   "source": [
    "#Standardizing the data for better machine training\n",
    "from sklearn.preprocessing import StandardScaler\n",
    "Scaler = StandardScaler()\n",
    "Biometric_numeric_std = Scaler.fit_transform(Biometric_numeric)\n",
    "Biometric_numeric_std = pd.DataFrame(Biometric_numeric_std)\n",
    "Biometric_numeric_std.columns = Columns1 #we need to add column names because there are no columns for dataframes that are being genderated from arrays\n",
    "Biometric_numeric_std.head()"
   ]
  },
  {
   "cell_type": "markdown",
   "id": "0de9b1e8-e7d9-4133-b4a2-641efb069f8d",
   "metadata": {},
   "source": [
    "### <font color = \"red\"> Warning!!! </font>\n",
    "\n",
    "A bad practice that can essentially lead to Data Leakage or snooping is observed in the above cell. WE SHOULD NEVER PREPROCES THE DATA BEFORE SPLITTING THEM, OR ELSE WE RISK DATA SNOOPING OR LEAKAGE  "
   ]
  },
  {
   "cell_type": "code",
   "execution_count": 391,
   "id": "58fd03f8-8716-4792-84cc-e9b9a65e75bd",
   "metadata": {},
   "outputs": [
    {
     "data": {
      "text/html": [
       "<div>\n",
       "<style scoped>\n",
       "    .dataframe tbody tr th:only-of-type {\n",
       "        vertical-align: middle;\n",
       "    }\n",
       "\n",
       "    .dataframe tbody tr th {\n",
       "        vertical-align: top;\n",
       "    }\n",
       "\n",
       "    .dataframe thead th {\n",
       "        text-align: right;\n",
       "    }\n",
       "</style>\n",
       "<table border=\"1\" class=\"dataframe\">\n",
       "  <thead>\n",
       "    <tr style=\"text-align: right;\">\n",
       "      <th></th>\n",
       "      <th>Gender</th>\n",
       "      <th>family_history_with_overweight</th>\n",
       "      <th>FAVC</th>\n",
       "      <th>CAEC</th>\n",
       "      <th>SMOKE</th>\n",
       "      <th>SCC</th>\n",
       "      <th>CALC</th>\n",
       "      <th>MTRANS</th>\n",
       "      <th>NObeyesdad</th>\n",
       "      <th>Age</th>\n",
       "      <th>Height</th>\n",
       "      <th>Weight</th>\n",
       "      <th>FCVC</th>\n",
       "      <th>NCP</th>\n",
       "      <th>CH2O</th>\n",
       "      <th>FAF</th>\n",
       "      <th>TUE</th>\n",
       "    </tr>\n",
       "  </thead>\n",
       "  <tbody>\n",
       "    <tr>\n",
       "      <th>0</th>\n",
       "      <td>Female</td>\n",
       "      <td>yes</td>\n",
       "      <td>no</td>\n",
       "      <td>Sometimes</td>\n",
       "      <td>no</td>\n",
       "      <td>no</td>\n",
       "      <td>no</td>\n",
       "      <td>Public_Transportation</td>\n",
       "      <td>Normal_Weight</td>\n",
       "      <td>-0.522124</td>\n",
       "      <td>-0.875589</td>\n",
       "      <td>-0.862558</td>\n",
       "      <td>-0.785019</td>\n",
       "      <td>0.404153</td>\n",
       "      <td>-0.013073</td>\n",
       "      <td>-1.188039</td>\n",
       "      <td>0.561997</td>\n",
       "    </tr>\n",
       "    <tr>\n",
       "      <th>1</th>\n",
       "      <td>Female</td>\n",
       "      <td>yes</td>\n",
       "      <td>no</td>\n",
       "      <td>Sometimes</td>\n",
       "      <td>yes</td>\n",
       "      <td>yes</td>\n",
       "      <td>Sometimes</td>\n",
       "      <td>Public_Transportation</td>\n",
       "      <td>Normal_Weight</td>\n",
       "      <td>-0.522124</td>\n",
       "      <td>-1.947599</td>\n",
       "      <td>-1.168077</td>\n",
       "      <td>1.088342</td>\n",
       "      <td>0.404153</td>\n",
       "      <td>1.618759</td>\n",
       "      <td>2.339750</td>\n",
       "      <td>-1.080625</td>\n",
       "    </tr>\n",
       "    <tr>\n",
       "      <th>2</th>\n",
       "      <td>Male</td>\n",
       "      <td>yes</td>\n",
       "      <td>no</td>\n",
       "      <td>Sometimes</td>\n",
       "      <td>no</td>\n",
       "      <td>no</td>\n",
       "      <td>Frequently</td>\n",
       "      <td>Public_Transportation</td>\n",
       "      <td>Normal_Weight</td>\n",
       "      <td>-0.206889</td>\n",
       "      <td>1.054029</td>\n",
       "      <td>-0.366090</td>\n",
       "      <td>-0.785019</td>\n",
       "      <td>0.404153</td>\n",
       "      <td>-0.013073</td>\n",
       "      <td>1.163820</td>\n",
       "      <td>0.561997</td>\n",
       "    </tr>\n",
       "    <tr>\n",
       "      <th>3</th>\n",
       "      <td>Male</td>\n",
       "      <td>no</td>\n",
       "      <td>no</td>\n",
       "      <td>Sometimes</td>\n",
       "      <td>no</td>\n",
       "      <td>no</td>\n",
       "      <td>Frequently</td>\n",
       "      <td>Walking</td>\n",
       "      <td>Overweight_Level_I</td>\n",
       "      <td>0.423582</td>\n",
       "      <td>1.054029</td>\n",
       "      <td>0.015808</td>\n",
       "      <td>1.088342</td>\n",
       "      <td>0.404153</td>\n",
       "      <td>-0.013073</td>\n",
       "      <td>1.163820</td>\n",
       "      <td>-1.080625</td>\n",
       "    </tr>\n",
       "    <tr>\n",
       "      <th>4</th>\n",
       "      <td>Male</td>\n",
       "      <td>no</td>\n",
       "      <td>no</td>\n",
       "      <td>Sometimes</td>\n",
       "      <td>no</td>\n",
       "      <td>no</td>\n",
       "      <td>Sometimes</td>\n",
       "      <td>Public_Transportation</td>\n",
       "      <td>Overweight_Level_II</td>\n",
       "      <td>-0.364507</td>\n",
       "      <td>0.839627</td>\n",
       "      <td>0.122740</td>\n",
       "      <td>-0.785019</td>\n",
       "      <td>-2.167023</td>\n",
       "      <td>-0.013073</td>\n",
       "      <td>-1.188039</td>\n",
       "      <td>-1.080625</td>\n",
       "    </tr>\n",
       "  </tbody>\n",
       "</table>\n",
       "</div>"
      ],
      "text/plain": [
       "   Gender family_history_with_overweight FAVC       CAEC SMOKE  SCC  \\\n",
       "0  Female                            yes   no  Sometimes    no   no   \n",
       "1  Female                            yes   no  Sometimes   yes  yes   \n",
       "2    Male                            yes   no  Sometimes    no   no   \n",
       "3    Male                             no   no  Sometimes    no   no   \n",
       "4    Male                             no   no  Sometimes    no   no   \n",
       "\n",
       "         CALC                 MTRANS           NObeyesdad       Age    Height  \\\n",
       "0          no  Public_Transportation        Normal_Weight -0.522124 -0.875589   \n",
       "1   Sometimes  Public_Transportation        Normal_Weight -0.522124 -1.947599   \n",
       "2  Frequently  Public_Transportation        Normal_Weight -0.206889  1.054029   \n",
       "3  Frequently                Walking   Overweight_Level_I  0.423582  1.054029   \n",
       "4   Sometimes  Public_Transportation  Overweight_Level_II -0.364507  0.839627   \n",
       "\n",
       "     Weight      FCVC       NCP      CH2O       FAF       TUE  \n",
       "0 -0.862558 -0.785019  0.404153 -0.013073 -1.188039  0.561997  \n",
       "1 -1.168077  1.088342  0.404153  1.618759  2.339750 -1.080625  \n",
       "2 -0.366090 -0.785019  0.404153 -0.013073  1.163820  0.561997  \n",
       "3  0.015808  1.088342  0.404153 -0.013073  1.163820 -1.080625  \n",
       "4  0.122740 -0.785019 -2.167023 -0.013073 -1.188039 -1.080625  "
      ]
     },
     "execution_count": 391,
     "metadata": {},
     "output_type": "execute_result"
    }
   ],
   "source": [
    "Biometric_scaled = pd.concat([Biometric.drop(columns = Biometric_numeric), Biometric_numeric_std], axis=1)\n",
    "Biometric_scaled.head()\n",
    "#Ok, we have sucesfully replaced the original values of the continuous dtype into standardized ones"
   ]
  },
  {
   "cell_type": "code",
   "execution_count": 392,
   "id": "6bcebf61-cada-496d-b9c9-e354940a23a9",
   "metadata": {},
   "outputs": [
    {
     "data": {
      "text/plain": [
       "Index(['Gender', 'family_history_with_overweight', 'FAVC', 'CAEC', 'SMOKE',\n",
       "       'SCC', 'CALC', 'MTRANS', 'Age', 'Height', 'Weight', 'FCVC', 'NCP',\n",
       "       'CH2O', 'FAF', 'TUE'],\n",
       "      dtype='object')"
      ]
     },
     "execution_count": 392,
     "metadata": {},
     "output_type": "execute_result"
    }
   ],
   "source": [
    "#Now, before we convert the categories into indicators we ought to split the target value because we do not want onehotencoding in it\n",
    "Biometric_scaled_ind = Biometric_scaled.drop(columns = \"NObeyesdad\", axis=1)\n",
    "Biometric_scaled_ind.columns #we shall perform cat.codes method on it because the data is ranked or ordinal"
   ]
  },
  {
   "cell_type": "code",
   "execution_count": 393,
   "id": "52a0e66b-8fa2-455f-ba7c-f3c3742853c0",
   "metadata": {},
   "outputs": [
    {
     "data": {
      "text/plain": [
       "['Gender',\n",
       " 'family_history_with_overweight',\n",
       " 'FAVC',\n",
       " 'CAEC',\n",
       " 'SMOKE',\n",
       " 'SCC',\n",
       " 'CALC',\n",
       " 'MTRANS']"
      ]
     },
     "execution_count": 393,
     "metadata": {},
     "output_type": "execute_result"
    }
   ],
   "source": [
    "#Now, we should convert the category/object type data into indicators to enable machine learning\n",
    "Biometric_categorical_ind = Biometric_scaled_ind.select_dtypes(include = [\"object\"]).columns.tolist()\n",
    "Biometric_categorical_ind #For some reason we are only adapting the columns of the categorical features"
   ]
  },
  {
   "cell_type": "code",
   "execution_count": 396,
   "id": "0efdf6b5-7ff6-4f8d-a49c-cc3b41a4693d",
   "metadata": {},
   "outputs": [
    {
     "data": {
      "text/html": [
       "<div>\n",
       "<style scoped>\n",
       "    .dataframe tbody tr th:only-of-type {\n",
       "        vertical-align: middle;\n",
       "    }\n",
       "\n",
       "    .dataframe tbody tr th {\n",
       "        vertical-align: top;\n",
       "    }\n",
       "\n",
       "    .dataframe thead th {\n",
       "        text-align: right;\n",
       "    }\n",
       "</style>\n",
       "<table border=\"1\" class=\"dataframe\">\n",
       "  <thead>\n",
       "    <tr style=\"text-align: right;\">\n",
       "      <th></th>\n",
       "      <th>Gender_Male</th>\n",
       "      <th>family_history_with_overweight_yes</th>\n",
       "      <th>FAVC_yes</th>\n",
       "      <th>CAEC_Frequently</th>\n",
       "      <th>CAEC_Sometimes</th>\n",
       "      <th>CAEC_no</th>\n",
       "      <th>SMOKE_yes</th>\n",
       "      <th>SCC_yes</th>\n",
       "      <th>CALC_Frequently</th>\n",
       "      <th>CALC_Sometimes</th>\n",
       "      <th>CALC_no</th>\n",
       "      <th>MTRANS_Bike</th>\n",
       "      <th>MTRANS_Motorbike</th>\n",
       "      <th>MTRANS_Public_Transportation</th>\n",
       "      <th>MTRANS_Walking</th>\n",
       "    </tr>\n",
       "  </thead>\n",
       "  <tbody>\n",
       "    <tr>\n",
       "      <th>0</th>\n",
       "      <td>0.0</td>\n",
       "      <td>1.0</td>\n",
       "      <td>0.0</td>\n",
       "      <td>0.0</td>\n",
       "      <td>1.0</td>\n",
       "      <td>0.0</td>\n",
       "      <td>0.0</td>\n",
       "      <td>0.0</td>\n",
       "      <td>0.0</td>\n",
       "      <td>0.0</td>\n",
       "      <td>1.0</td>\n",
       "      <td>0.0</td>\n",
       "      <td>0.0</td>\n",
       "      <td>1.0</td>\n",
       "      <td>0.0</td>\n",
       "    </tr>\n",
       "    <tr>\n",
       "      <th>1</th>\n",
       "      <td>0.0</td>\n",
       "      <td>1.0</td>\n",
       "      <td>0.0</td>\n",
       "      <td>0.0</td>\n",
       "      <td>1.0</td>\n",
       "      <td>0.0</td>\n",
       "      <td>1.0</td>\n",
       "      <td>1.0</td>\n",
       "      <td>0.0</td>\n",
       "      <td>1.0</td>\n",
       "      <td>0.0</td>\n",
       "      <td>0.0</td>\n",
       "      <td>0.0</td>\n",
       "      <td>1.0</td>\n",
       "      <td>0.0</td>\n",
       "    </tr>\n",
       "    <tr>\n",
       "      <th>2</th>\n",
       "      <td>1.0</td>\n",
       "      <td>1.0</td>\n",
       "      <td>0.0</td>\n",
       "      <td>0.0</td>\n",
       "      <td>1.0</td>\n",
       "      <td>0.0</td>\n",
       "      <td>0.0</td>\n",
       "      <td>0.0</td>\n",
       "      <td>1.0</td>\n",
       "      <td>0.0</td>\n",
       "      <td>0.0</td>\n",
       "      <td>0.0</td>\n",
       "      <td>0.0</td>\n",
       "      <td>1.0</td>\n",
       "      <td>0.0</td>\n",
       "    </tr>\n",
       "    <tr>\n",
       "      <th>3</th>\n",
       "      <td>1.0</td>\n",
       "      <td>0.0</td>\n",
       "      <td>0.0</td>\n",
       "      <td>0.0</td>\n",
       "      <td>1.0</td>\n",
       "      <td>0.0</td>\n",
       "      <td>0.0</td>\n",
       "      <td>0.0</td>\n",
       "      <td>1.0</td>\n",
       "      <td>0.0</td>\n",
       "      <td>0.0</td>\n",
       "      <td>0.0</td>\n",
       "      <td>0.0</td>\n",
       "      <td>0.0</td>\n",
       "      <td>1.0</td>\n",
       "    </tr>\n",
       "    <tr>\n",
       "      <th>4</th>\n",
       "      <td>1.0</td>\n",
       "      <td>0.0</td>\n",
       "      <td>0.0</td>\n",
       "      <td>0.0</td>\n",
       "      <td>1.0</td>\n",
       "      <td>0.0</td>\n",
       "      <td>0.0</td>\n",
       "      <td>0.0</td>\n",
       "      <td>0.0</td>\n",
       "      <td>1.0</td>\n",
       "      <td>0.0</td>\n",
       "      <td>0.0</td>\n",
       "      <td>0.0</td>\n",
       "      <td>1.0</td>\n",
       "      <td>0.0</td>\n",
       "    </tr>\n",
       "  </tbody>\n",
       "</table>\n",
       "</div>"
      ],
      "text/plain": [
       "   Gender_Male  family_history_with_overweight_yes  FAVC_yes  CAEC_Frequently  \\\n",
       "0          0.0                                 1.0       0.0              0.0   \n",
       "1          0.0                                 1.0       0.0              0.0   \n",
       "2          1.0                                 1.0       0.0              0.0   \n",
       "3          1.0                                 0.0       0.0              0.0   \n",
       "4          1.0                                 0.0       0.0              0.0   \n",
       "\n",
       "   CAEC_Sometimes  CAEC_no  SMOKE_yes  SCC_yes  CALC_Frequently  \\\n",
       "0             1.0      0.0        0.0      0.0              0.0   \n",
       "1             1.0      0.0        1.0      1.0              0.0   \n",
       "2             1.0      0.0        0.0      0.0              1.0   \n",
       "3             1.0      0.0        0.0      0.0              1.0   \n",
       "4             1.0      0.0        0.0      0.0              0.0   \n",
       "\n",
       "   CALC_Sometimes  CALC_no  MTRANS_Bike  MTRANS_Motorbike  \\\n",
       "0             0.0      1.0          0.0               0.0   \n",
       "1             1.0      0.0          0.0               0.0   \n",
       "2             0.0      0.0          0.0               0.0   \n",
       "3             0.0      0.0          0.0               0.0   \n",
       "4             1.0      0.0          0.0               0.0   \n",
       "\n",
       "   MTRANS_Public_Transportation  MTRANS_Walking  \n",
       "0                           1.0             0.0  \n",
       "1                           1.0             0.0  \n",
       "2                           1.0             0.0  \n",
       "3                           0.0             1.0  \n",
       "4                           1.0             0.0  "
      ]
     },
     "execution_count": 396,
     "metadata": {},
     "output_type": "execute_result"
    }
   ],
   "source": [
    "#Now transforming the categorical data into indicators through one hot encoding method and not cat.codes method because the categories are nominal (i.e., unordered) and \n",
    "#independent variables\n",
    "from sklearn.preprocessing import OneHotEncoder #this is more like a pipeline to automate get_dummies into multiple columns at once as the name suggests\n",
    "encoder = OneHotEncoder(sparse_output = False, drop = \"first\", handle_unknown = \"ignore\") #this will drop first column of every indicated categorical columns\n",
    "encoded = encoder.fit_transform(Biometric_scaled_ind[Biometric_categorical_ind]) #it is interesting that you can acess the column values through list of column names only\n",
    "                                                                                 #Unfortunately, if we do not follow this process of working with column names only we shall \n",
    "                                                                                 #run into problem of not being able to caption the transformed categorical variables correctly\n",
    "encoded_ind_df = pd.DataFrame(encoded, columns = encoder.get_feature_names_out(Biometric_categorical_ind)) #get_feature_names_out is a specific code for OneHotEncoder to name\n",
    "                                                                                                           #the columns\n",
    "encoded_ind_df.head()"
   ]
  },
  {
   "cell_type": "markdown",
   "id": "b3dad049-9342-47cd-8aca-d16458265c80",
   "metadata": {},
   "source": [
    "### <font color = \"red\"> Warning!!! </font>\n",
    "\n",
    "A bad practice that can essentially lead to Data Leakage or snooping is observed in the above cell. WE SHOULD NEVER PREPROCES THE DATA BEFORE SPLITTING THEM, OR ELSE WE RISK DATA SNOOPING OR LEAKAGE  "
   ]
  },
  {
   "cell_type": "code",
   "execution_count": 398,
   "id": "3b2e6fb7-00d2-49cf-84df-1ea575819056",
   "metadata": {},
   "outputs": [
    {
     "data": {
      "text/plain": [
       "array(['Normal_Weight', 'Overweight_Level_I', 'Overweight_Level_II',\n",
       "       'Obesity_Type_I', 'Insufficient_Weight', 'Obesity_Type_II',\n",
       "       'Obesity_Type_III'], dtype=object)"
      ]
     },
     "execution_count": 398,
     "metadata": {},
     "output_type": "execute_result"
    }
   ],
   "source": [
    "Biometric[\"NObeyesdad\"].unique()"
   ]
  },
  {
   "cell_type": "code",
   "execution_count": 399,
   "id": "020a1944-cd75-46a1-9dae-c1fe0c641546",
   "metadata": {},
   "outputs": [
    {
     "data": {
      "text/plain": [
       "Index(['Age', 'Height', 'Weight', 'FCVC', 'NCP', 'CH2O', 'FAF', 'TUE',\n",
       "       'Gender_Male', 'family_history_with_overweight_yes', 'FAVC_yes',\n",
       "       'CAEC_Frequently', 'CAEC_Sometimes', 'CAEC_no', 'SMOKE_yes', 'SCC_yes',\n",
       "       'CALC_Frequently', 'CALC_Sometimes', 'CALC_no', 'MTRANS_Bike',\n",
       "       'MTRANS_Motorbike', 'MTRANS_Public_Transportation', 'MTRANS_Walking'],\n",
       "      dtype='object')"
      ]
     },
     "execution_count": 399,
     "metadata": {},
     "output_type": "execute_result"
    }
   ],
   "source": [
    "#Now. replacing the categorical data with the encoded categorical data\n",
    "Biometric_scaled_encoded_ind = pd.concat([Biometric_scaled_ind.drop(columns = Biometric_categorical_ind), encoded_ind_df], axis=1)\n",
    "Biometric_scaled_encoded_ind.columns"
   ]
  },
  {
   "cell_type": "code",
   "execution_count": 400,
   "id": "7e6d87af-0caf-4500-be53-cf38bd6ee248",
   "metadata": {},
   "outputs": [
    {
     "data": {
      "text/plain": [
       "0    1\n",
       "1    1\n",
       "2    1\n",
       "3    2\n",
       "4    3\n",
       "Name: NObeyesdad_indic, dtype: int8"
      ]
     },
     "execution_count": 400,
     "metadata": {},
     "output_type": "execute_result"
    }
   ],
   "source": [
    "#Now developing the ordered indicator version of the target variable within the original dataframe. Variable were ordered on personal discretion\n",
    "#while OneHotEncoder is used for independent variables, cat.code and LabelEncoder() is used for ordered ordinal data that are dependent variables \n",
    "Order = pd.CategoricalDtype(categories = [\"Insufficient_Weight\", \"Normal_Weight\", \"Overweight_Level_I\", \"Overweight_Level_II\", \"Obesity_Type_I\", \"Obesity_Type_II\", \"Obesity_Type_III\"], ordered=True)\n",
    "Biometric['NObeyesdad_indic'] = Biometric['NObeyesdad'].astype(Order).cat.codes #it appears LabelEncoder() of sklearn is much robust encoding function for machine learning purpose  \n",
    "Biometric['NObeyesdad_indic'].head()"
   ]
  },
  {
   "cell_type": "markdown",
   "id": "3901a5d7-6f59-44b3-92cc-7cac10a76b34",
   "metadata": {},
   "source": [
    "### <font color = \"red\"> Warning!!! </font>\n",
    "\n",
    "A bad practice that can essentially lead to Data Leakage or snooping is observed in the above cell. WE SHOULD NEVER PREPROCES THE DATA BEFORE SPLITTING THEM, OR ELSE WE RISK DATA SNOOPING OR LEAKAGE  "
   ]
  },
  {
   "cell_type": "code",
   "execution_count": 404,
   "id": "fc8797ef-764e-46ba-99ef-bd1c576f4a51",
   "metadata": {},
   "outputs": [
    {
     "name": "stdout",
     "output_type": "stream",
     "text": [
      "1266 845 1266 845\n"
     ]
    }
   ],
   "source": [
    "#Time for model training and prediction\n",
    "x_data = Biometric_scaled_encoded_ind\n",
    "y_data = Biometric['NObeyesdad_indic']\n",
    "from sklearn.model_selection import train_test_split\n",
    "x_train, x_test, y_train, y_test = train_test_split(x_data, y_data, test_size = 0.40, random_state = 0) \n",
    "print(x_train.shape[0], x_test.shape[0], y_train.shape[0], y_test.shape[0])"
   ]
  },
  {
   "cell_type": "markdown",
   "id": "45076689-6955-4b28-97d2-9302663094c2",
   "metadata": {},
   "source": [
    "#### Performing One-versus-All Regression"
   ]
  },
  {
   "cell_type": "code",
   "execution_count": 409,
   "id": "8254f2f1-9c02-43a3-9c56-baefeb899163",
   "metadata": {},
   "outputs": [
    {
     "name": "stderr",
     "output_type": "stream",
     "text": [
      "D:\\Anaconda_navigator\\envs\\RP_env\\Lib\\site-packages\\sklearn\\linear_model\\_logistic.py:1256: FutureWarning: 'multi_class' was deprecated in version 1.5 and will be removed in 1.7. Use OneVsRestClassifier(LogisticRegression(..)) instead. Leave it to its default value to avoid this warning.\n",
      "  warnings.warn(\n"
     ]
    },
    {
     "data": {
      "text/html": [
       "<style>#sk-container-id-2 {\n",
       "  /* Definition of color scheme common for light and dark mode */\n",
       "  --sklearn-color-text: #000;\n",
       "  --sklearn-color-text-muted: #666;\n",
       "  --sklearn-color-line: gray;\n",
       "  /* Definition of color scheme for unfitted estimators */\n",
       "  --sklearn-color-unfitted-level-0: #fff5e6;\n",
       "  --sklearn-color-unfitted-level-1: #f6e4d2;\n",
       "  --sklearn-color-unfitted-level-2: #ffe0b3;\n",
       "  --sklearn-color-unfitted-level-3: chocolate;\n",
       "  /* Definition of color scheme for fitted estimators */\n",
       "  --sklearn-color-fitted-level-0: #f0f8ff;\n",
       "  --sklearn-color-fitted-level-1: #d4ebff;\n",
       "  --sklearn-color-fitted-level-2: #b3dbfd;\n",
       "  --sklearn-color-fitted-level-3: cornflowerblue;\n",
       "\n",
       "  /* Specific color for light theme */\n",
       "  --sklearn-color-text-on-default-background: var(--sg-text-color, var(--theme-code-foreground, var(--jp-content-font-color1, black)));\n",
       "  --sklearn-color-background: var(--sg-background-color, var(--theme-background, var(--jp-layout-color0, white)));\n",
       "  --sklearn-color-border-box: var(--sg-text-color, var(--theme-code-foreground, var(--jp-content-font-color1, black)));\n",
       "  --sklearn-color-icon: #696969;\n",
       "\n",
       "  @media (prefers-color-scheme: dark) {\n",
       "    /* Redefinition of color scheme for dark theme */\n",
       "    --sklearn-color-text-on-default-background: var(--sg-text-color, var(--theme-code-foreground, var(--jp-content-font-color1, white)));\n",
       "    --sklearn-color-background: var(--sg-background-color, var(--theme-background, var(--jp-layout-color0, #111)));\n",
       "    --sklearn-color-border-box: var(--sg-text-color, var(--theme-code-foreground, var(--jp-content-font-color1, white)));\n",
       "    --sklearn-color-icon: #878787;\n",
       "  }\n",
       "}\n",
       "\n",
       "#sk-container-id-2 {\n",
       "  color: var(--sklearn-color-text);\n",
       "}\n",
       "\n",
       "#sk-container-id-2 pre {\n",
       "  padding: 0;\n",
       "}\n",
       "\n",
       "#sk-container-id-2 input.sk-hidden--visually {\n",
       "  border: 0;\n",
       "  clip: rect(1px 1px 1px 1px);\n",
       "  clip: rect(1px, 1px, 1px, 1px);\n",
       "  height: 1px;\n",
       "  margin: -1px;\n",
       "  overflow: hidden;\n",
       "  padding: 0;\n",
       "  position: absolute;\n",
       "  width: 1px;\n",
       "}\n",
       "\n",
       "#sk-container-id-2 div.sk-dashed-wrapped {\n",
       "  border: 1px dashed var(--sklearn-color-line);\n",
       "  margin: 0 0.4em 0.5em 0.4em;\n",
       "  box-sizing: border-box;\n",
       "  padding-bottom: 0.4em;\n",
       "  background-color: var(--sklearn-color-background);\n",
       "}\n",
       "\n",
       "#sk-container-id-2 div.sk-container {\n",
       "  /* jupyter's `normalize.less` sets `[hidden] { display: none; }`\n",
       "     but bootstrap.min.css set `[hidden] { display: none !important; }`\n",
       "     so we also need the `!important` here to be able to override the\n",
       "     default hidden behavior on the sphinx rendered scikit-learn.org.\n",
       "     See: https://github.com/scikit-learn/scikit-learn/issues/21755 */\n",
       "  display: inline-block !important;\n",
       "  position: relative;\n",
       "}\n",
       "\n",
       "#sk-container-id-2 div.sk-text-repr-fallback {\n",
       "  display: none;\n",
       "}\n",
       "\n",
       "div.sk-parallel-item,\n",
       "div.sk-serial,\n",
       "div.sk-item {\n",
       "  /* draw centered vertical line to link estimators */\n",
       "  background-image: linear-gradient(var(--sklearn-color-text-on-default-background), var(--sklearn-color-text-on-default-background));\n",
       "  background-size: 2px 100%;\n",
       "  background-repeat: no-repeat;\n",
       "  background-position: center center;\n",
       "}\n",
       "\n",
       "/* Parallel-specific style estimator block */\n",
       "\n",
       "#sk-container-id-2 div.sk-parallel-item::after {\n",
       "  content: \"\";\n",
       "  width: 100%;\n",
       "  border-bottom: 2px solid var(--sklearn-color-text-on-default-background);\n",
       "  flex-grow: 1;\n",
       "}\n",
       "\n",
       "#sk-container-id-2 div.sk-parallel {\n",
       "  display: flex;\n",
       "  align-items: stretch;\n",
       "  justify-content: center;\n",
       "  background-color: var(--sklearn-color-background);\n",
       "  position: relative;\n",
       "}\n",
       "\n",
       "#sk-container-id-2 div.sk-parallel-item {\n",
       "  display: flex;\n",
       "  flex-direction: column;\n",
       "}\n",
       "\n",
       "#sk-container-id-2 div.sk-parallel-item:first-child::after {\n",
       "  align-self: flex-end;\n",
       "  width: 50%;\n",
       "}\n",
       "\n",
       "#sk-container-id-2 div.sk-parallel-item:last-child::after {\n",
       "  align-self: flex-start;\n",
       "  width: 50%;\n",
       "}\n",
       "\n",
       "#sk-container-id-2 div.sk-parallel-item:only-child::after {\n",
       "  width: 0;\n",
       "}\n",
       "\n",
       "/* Serial-specific style estimator block */\n",
       "\n",
       "#sk-container-id-2 div.sk-serial {\n",
       "  display: flex;\n",
       "  flex-direction: column;\n",
       "  align-items: center;\n",
       "  background-color: var(--sklearn-color-background);\n",
       "  padding-right: 1em;\n",
       "  padding-left: 1em;\n",
       "}\n",
       "\n",
       "\n",
       "/* Toggleable style: style used for estimator/Pipeline/ColumnTransformer box that is\n",
       "clickable and can be expanded/collapsed.\n",
       "- Pipeline and ColumnTransformer use this feature and define the default style\n",
       "- Estimators will overwrite some part of the style using the `sk-estimator` class\n",
       "*/\n",
       "\n",
       "/* Pipeline and ColumnTransformer style (default) */\n",
       "\n",
       "#sk-container-id-2 div.sk-toggleable {\n",
       "  /* Default theme specific background. It is overwritten whether we have a\n",
       "  specific estimator or a Pipeline/ColumnTransformer */\n",
       "  background-color: var(--sklearn-color-background);\n",
       "}\n",
       "\n",
       "/* Toggleable label */\n",
       "#sk-container-id-2 label.sk-toggleable__label {\n",
       "  cursor: pointer;\n",
       "  display: flex;\n",
       "  width: 100%;\n",
       "  margin-bottom: 0;\n",
       "  padding: 0.5em;\n",
       "  box-sizing: border-box;\n",
       "  text-align: center;\n",
       "  align-items: start;\n",
       "  justify-content: space-between;\n",
       "  gap: 0.5em;\n",
       "}\n",
       "\n",
       "#sk-container-id-2 label.sk-toggleable__label .caption {\n",
       "  font-size: 0.6rem;\n",
       "  font-weight: lighter;\n",
       "  color: var(--sklearn-color-text-muted);\n",
       "}\n",
       "\n",
       "#sk-container-id-2 label.sk-toggleable__label-arrow:before {\n",
       "  /* Arrow on the left of the label */\n",
       "  content: \"▸\";\n",
       "  float: left;\n",
       "  margin-right: 0.25em;\n",
       "  color: var(--sklearn-color-icon);\n",
       "}\n",
       "\n",
       "#sk-container-id-2 label.sk-toggleable__label-arrow:hover:before {\n",
       "  color: var(--sklearn-color-text);\n",
       "}\n",
       "\n",
       "/* Toggleable content - dropdown */\n",
       "\n",
       "#sk-container-id-2 div.sk-toggleable__content {\n",
       "  max-height: 0;\n",
       "  max-width: 0;\n",
       "  overflow: hidden;\n",
       "  text-align: left;\n",
       "  /* unfitted */\n",
       "  background-color: var(--sklearn-color-unfitted-level-0);\n",
       "}\n",
       "\n",
       "#sk-container-id-2 div.sk-toggleable__content.fitted {\n",
       "  /* fitted */\n",
       "  background-color: var(--sklearn-color-fitted-level-0);\n",
       "}\n",
       "\n",
       "#sk-container-id-2 div.sk-toggleable__content pre {\n",
       "  margin: 0.2em;\n",
       "  border-radius: 0.25em;\n",
       "  color: var(--sklearn-color-text);\n",
       "  /* unfitted */\n",
       "  background-color: var(--sklearn-color-unfitted-level-0);\n",
       "}\n",
       "\n",
       "#sk-container-id-2 div.sk-toggleable__content.fitted pre {\n",
       "  /* unfitted */\n",
       "  background-color: var(--sklearn-color-fitted-level-0);\n",
       "}\n",
       "\n",
       "#sk-container-id-2 input.sk-toggleable__control:checked~div.sk-toggleable__content {\n",
       "  /* Expand drop-down */\n",
       "  max-height: 200px;\n",
       "  max-width: 100%;\n",
       "  overflow: auto;\n",
       "}\n",
       "\n",
       "#sk-container-id-2 input.sk-toggleable__control:checked~label.sk-toggleable__label-arrow:before {\n",
       "  content: \"▾\";\n",
       "}\n",
       "\n",
       "/* Pipeline/ColumnTransformer-specific style */\n",
       "\n",
       "#sk-container-id-2 div.sk-label input.sk-toggleable__control:checked~label.sk-toggleable__label {\n",
       "  color: var(--sklearn-color-text);\n",
       "  background-color: var(--sklearn-color-unfitted-level-2);\n",
       "}\n",
       "\n",
       "#sk-container-id-2 div.sk-label.fitted input.sk-toggleable__control:checked~label.sk-toggleable__label {\n",
       "  background-color: var(--sklearn-color-fitted-level-2);\n",
       "}\n",
       "\n",
       "/* Estimator-specific style */\n",
       "\n",
       "/* Colorize estimator box */\n",
       "#sk-container-id-2 div.sk-estimator input.sk-toggleable__control:checked~label.sk-toggleable__label {\n",
       "  /* unfitted */\n",
       "  background-color: var(--sklearn-color-unfitted-level-2);\n",
       "}\n",
       "\n",
       "#sk-container-id-2 div.sk-estimator.fitted input.sk-toggleable__control:checked~label.sk-toggleable__label {\n",
       "  /* fitted */\n",
       "  background-color: var(--sklearn-color-fitted-level-2);\n",
       "}\n",
       "\n",
       "#sk-container-id-2 div.sk-label label.sk-toggleable__label,\n",
       "#sk-container-id-2 div.sk-label label {\n",
       "  /* The background is the default theme color */\n",
       "  color: var(--sklearn-color-text-on-default-background);\n",
       "}\n",
       "\n",
       "/* On hover, darken the color of the background */\n",
       "#sk-container-id-2 div.sk-label:hover label.sk-toggleable__label {\n",
       "  color: var(--sklearn-color-text);\n",
       "  background-color: var(--sklearn-color-unfitted-level-2);\n",
       "}\n",
       "\n",
       "/* Label box, darken color on hover, fitted */\n",
       "#sk-container-id-2 div.sk-label.fitted:hover label.sk-toggleable__label.fitted {\n",
       "  color: var(--sklearn-color-text);\n",
       "  background-color: var(--sklearn-color-fitted-level-2);\n",
       "}\n",
       "\n",
       "/* Estimator label */\n",
       "\n",
       "#sk-container-id-2 div.sk-label label {\n",
       "  font-family: monospace;\n",
       "  font-weight: bold;\n",
       "  display: inline-block;\n",
       "  line-height: 1.2em;\n",
       "}\n",
       "\n",
       "#sk-container-id-2 div.sk-label-container {\n",
       "  text-align: center;\n",
       "}\n",
       "\n",
       "/* Estimator-specific */\n",
       "#sk-container-id-2 div.sk-estimator {\n",
       "  font-family: monospace;\n",
       "  border: 1px dotted var(--sklearn-color-border-box);\n",
       "  border-radius: 0.25em;\n",
       "  box-sizing: border-box;\n",
       "  margin-bottom: 0.5em;\n",
       "  /* unfitted */\n",
       "  background-color: var(--sklearn-color-unfitted-level-0);\n",
       "}\n",
       "\n",
       "#sk-container-id-2 div.sk-estimator.fitted {\n",
       "  /* fitted */\n",
       "  background-color: var(--sklearn-color-fitted-level-0);\n",
       "}\n",
       "\n",
       "/* on hover */\n",
       "#sk-container-id-2 div.sk-estimator:hover {\n",
       "  /* unfitted */\n",
       "  background-color: var(--sklearn-color-unfitted-level-2);\n",
       "}\n",
       "\n",
       "#sk-container-id-2 div.sk-estimator.fitted:hover {\n",
       "  /* fitted */\n",
       "  background-color: var(--sklearn-color-fitted-level-2);\n",
       "}\n",
       "\n",
       "/* Specification for estimator info (e.g. \"i\" and \"?\") */\n",
       "\n",
       "/* Common style for \"i\" and \"?\" */\n",
       "\n",
       ".sk-estimator-doc-link,\n",
       "a:link.sk-estimator-doc-link,\n",
       "a:visited.sk-estimator-doc-link {\n",
       "  float: right;\n",
       "  font-size: smaller;\n",
       "  line-height: 1em;\n",
       "  font-family: monospace;\n",
       "  background-color: var(--sklearn-color-background);\n",
       "  border-radius: 1em;\n",
       "  height: 1em;\n",
       "  width: 1em;\n",
       "  text-decoration: none !important;\n",
       "  margin-left: 0.5em;\n",
       "  text-align: center;\n",
       "  /* unfitted */\n",
       "  border: var(--sklearn-color-unfitted-level-1) 1pt solid;\n",
       "  color: var(--sklearn-color-unfitted-level-1);\n",
       "}\n",
       "\n",
       ".sk-estimator-doc-link.fitted,\n",
       "a:link.sk-estimator-doc-link.fitted,\n",
       "a:visited.sk-estimator-doc-link.fitted {\n",
       "  /* fitted */\n",
       "  border: var(--sklearn-color-fitted-level-1) 1pt solid;\n",
       "  color: var(--sklearn-color-fitted-level-1);\n",
       "}\n",
       "\n",
       "/* On hover */\n",
       "div.sk-estimator:hover .sk-estimator-doc-link:hover,\n",
       ".sk-estimator-doc-link:hover,\n",
       "div.sk-label-container:hover .sk-estimator-doc-link:hover,\n",
       ".sk-estimator-doc-link:hover {\n",
       "  /* unfitted */\n",
       "  background-color: var(--sklearn-color-unfitted-level-3);\n",
       "  color: var(--sklearn-color-background);\n",
       "  text-decoration: none;\n",
       "}\n",
       "\n",
       "div.sk-estimator.fitted:hover .sk-estimator-doc-link.fitted:hover,\n",
       ".sk-estimator-doc-link.fitted:hover,\n",
       "div.sk-label-container:hover .sk-estimator-doc-link.fitted:hover,\n",
       ".sk-estimator-doc-link.fitted:hover {\n",
       "  /* fitted */\n",
       "  background-color: var(--sklearn-color-fitted-level-3);\n",
       "  color: var(--sklearn-color-background);\n",
       "  text-decoration: none;\n",
       "}\n",
       "\n",
       "/* Span, style for the box shown on hovering the info icon */\n",
       ".sk-estimator-doc-link span {\n",
       "  display: none;\n",
       "  z-index: 9999;\n",
       "  position: relative;\n",
       "  font-weight: normal;\n",
       "  right: .2ex;\n",
       "  padding: .5ex;\n",
       "  margin: .5ex;\n",
       "  width: min-content;\n",
       "  min-width: 20ex;\n",
       "  max-width: 50ex;\n",
       "  color: var(--sklearn-color-text);\n",
       "  box-shadow: 2pt 2pt 4pt #999;\n",
       "  /* unfitted */\n",
       "  background: var(--sklearn-color-unfitted-level-0);\n",
       "  border: .5pt solid var(--sklearn-color-unfitted-level-3);\n",
       "}\n",
       "\n",
       ".sk-estimator-doc-link.fitted span {\n",
       "  /* fitted */\n",
       "  background: var(--sklearn-color-fitted-level-0);\n",
       "  border: var(--sklearn-color-fitted-level-3);\n",
       "}\n",
       "\n",
       ".sk-estimator-doc-link:hover span {\n",
       "  display: block;\n",
       "}\n",
       "\n",
       "/* \"?\"-specific style due to the `<a>` HTML tag */\n",
       "\n",
       "#sk-container-id-2 a.estimator_doc_link {\n",
       "  float: right;\n",
       "  font-size: 1rem;\n",
       "  line-height: 1em;\n",
       "  font-family: monospace;\n",
       "  background-color: var(--sklearn-color-background);\n",
       "  border-radius: 1rem;\n",
       "  height: 1rem;\n",
       "  width: 1rem;\n",
       "  text-decoration: none;\n",
       "  /* unfitted */\n",
       "  color: var(--sklearn-color-unfitted-level-1);\n",
       "  border: var(--sklearn-color-unfitted-level-1) 1pt solid;\n",
       "}\n",
       "\n",
       "#sk-container-id-2 a.estimator_doc_link.fitted {\n",
       "  /* fitted */\n",
       "  border: var(--sklearn-color-fitted-level-1) 1pt solid;\n",
       "  color: var(--sklearn-color-fitted-level-1);\n",
       "}\n",
       "\n",
       "/* On hover */\n",
       "#sk-container-id-2 a.estimator_doc_link:hover {\n",
       "  /* unfitted */\n",
       "  background-color: var(--sklearn-color-unfitted-level-3);\n",
       "  color: var(--sklearn-color-background);\n",
       "  text-decoration: none;\n",
       "}\n",
       "\n",
       "#sk-container-id-2 a.estimator_doc_link.fitted:hover {\n",
       "  /* fitted */\n",
       "  background-color: var(--sklearn-color-fitted-level-3);\n",
       "}\n",
       "</style><div id=\"sk-container-id-2\" class=\"sk-top-container\"><div class=\"sk-text-repr-fallback\"><pre>LogisticRegression(max_iter=1000, multi_class=&#x27;ovr&#x27;)</pre><b>In a Jupyter environment, please rerun this cell to show the HTML representation or trust the notebook. <br />On GitHub, the HTML representation is unable to render, please try loading this page with nbviewer.org.</b></div><div class=\"sk-container\" hidden><div class=\"sk-item\"><div class=\"sk-estimator fitted sk-toggleable\"><input class=\"sk-toggleable__control sk-hidden--visually\" id=\"sk-estimator-id-2\" type=\"checkbox\" checked><label for=\"sk-estimator-id-2\" class=\"sk-toggleable__label fitted sk-toggleable__label-arrow\"><div><div>LogisticRegression</div></div><div><a class=\"sk-estimator-doc-link fitted\" rel=\"noreferrer\" target=\"_blank\" href=\"https://scikit-learn.org/1.6/modules/generated/sklearn.linear_model.LogisticRegression.html\">?<span>Documentation for LogisticRegression</span></a><span class=\"sk-estimator-doc-link fitted\">i<span>Fitted</span></span></div></label><div class=\"sk-toggleable__content fitted\"><pre>LogisticRegression(max_iter=1000, multi_class=&#x27;ovr&#x27;)</pre></div> </div></div></div></div>"
      ],
      "text/plain": [
       "LogisticRegression(max_iter=1000, multi_class='ovr')"
      ]
     },
     "execution_count": 409,
     "metadata": {},
     "output_type": "execute_result"
    }
   ],
   "source": [
    "from sklearn.linear_model import LogisticRegression\n",
    "lr_1vA = LogisticRegression(multi_class=\"ovr\", max_iter=1000)\n",
    "lr_1vA.fit(x_train, y_train)"
   ]
  },
  {
   "cell_type": "code",
   "execution_count": 410,
   "id": "0084bc89-4096-4c64-abbe-cc5401fdc338",
   "metadata": {},
   "outputs": [
    {
     "data": {
      "text/plain": [
       "array([5, 4, 4, 6, 6, 5, 0, 6, 4], dtype=int8)"
      ]
     },
     "execution_count": 410,
     "metadata": {},
     "output_type": "execute_result"
    }
   ],
   "source": [
    "y_test_hat = lr_1vA.predict(x_test)\n",
    "y_test_hat[0:9]"
   ]
  },
  {
   "cell_type": "code",
   "execution_count": 411,
   "id": "4d3d7e9c-24be-4e82-b760-26e29271728a",
   "metadata": {},
   "outputs": [
    {
     "data": {
      "image/png": "[encoded data removed]",
      "text/plain": [
       "<Figure size 640x480 with 1 Axes>"
      ]
     },
     "metadata": {},
     "output_type": "display_data"
    }
   ],
   "source": [
    "#Now testing the accuracy of the model through visual inspection\n",
    "import seaborn as sns\n",
    "sns.kdeplot(x=y_test_hat, color='red', label=\"Predicted observation\")\n",
    "sns.kdeplot(x=y_test, color='blue', label = \"Actual observation\")\n",
    "plt.title(\"Predicted versus acutual churning data\")\n",
    "plt.xlabel(\"Obesity parameter\") \n",
    "plt.legend()\n",
    "plt.show()\n",
    "#the visual test gives an inaccurate prediction"
   ]
  },
  {
   "cell_type": "code",
   "execution_count": 412,
   "id": "f223d872-288c-4dbc-95f8-38c86339b050",
   "metadata": {},
   "outputs": [
    {
     "data": {
      "text/plain": [
       "0.7846153846153846"
      ]
     },
     "execution_count": 412,
     "metadata": {},
     "output_type": "execute_result"
    }
   ],
   "source": [
    "#performing statistical accuracy test\n",
    "from sklearn.metrics import accuracy_score\n",
    "accuracy_score(y_test, y_test_hat)\n",
    "#78 percent accuracy of the model is observed. The accuracy is tested between 0 to 1 much like R2score for classification prediction"
   ]
  },
  {
   "cell_type": "markdown",
   "id": "b79d80ae-3b2d-45c6-a088-cb4b878791a9",
   "metadata": {},
   "source": [
    "### Performing One-versus-One Regression"
   ]
  },
  {
   "cell_type": "code",
   "execution_count": 415,
   "id": "68ec4502-8d6b-4b30-b124-89fc46662326",
   "metadata": {},
   "outputs": [
    {
     "data": {
      "text/plain": [
       "array([5, 4, 2, 6, 6, 5, 0, 6, 4], dtype=int8)"
      ]
     },
     "execution_count": 415,
     "metadata": {},
     "output_type": "execute_result"
    }
   ],
   "source": [
    "from sklearn.multiclass import OneVsOneClassifier\n",
    "from sklearn.linear_model import LogisticRegression\n",
    "\n",
    "lr_1v1 = OneVsOneClassifier(LogisticRegression(max_iter=1000))\n",
    "lr_1v1.fit(x_train, y_train)\n",
    "y_test_hat = lr_1v1.predict(x_test)\n",
    "y_test_hat[0:9]                  "
   ]
  },
  {
   "cell_type": "code",
   "execution_count": 416,
   "id": "80231150-2f61-4cfd-8af5-675a50a932ad",
   "metadata": {},
   "outputs": [
    {
     "data": {
      "text/plain": [
       "0.9325443786982248"
      ]
     },
     "execution_count": 416,
     "metadata": {},
     "output_type": "execute_result"
    }
   ],
   "source": [
    "from sklearn.metrics import accuracy_score\n",
    "accuracy_score(y_test, y_test_hat)\n",
    "#The accuracy score appears to have improved drastically"
   ]
  },
  {
   "cell_type": "markdown",
   "id": "ee33d892-dfb1-4753-baff-5dfcc519fa34",
   "metadata": {},
   "source": [
    "### Decisions trees\n",
    "#### Can performed in non-parametric datasets\n",
    "While Two-class or Multiclass classification helps in \"identifying\" the class in where a particular instance can be classified into based on a set of variables with \n",
    "different coefficient strengths, Decision tree, helps in \"deciding\" in which class can a particular instance can be classified into also based on a set of \n",
    "variables that proceeded in each step with the objective to reduce entropy and increase information gain. "
   ]
  },
  {
   "cell_type": "code",
   "execution_count": 418,
   "id": "40b2f51e-abb1-45e7-af84-91224ef8d900",
   "metadata": {},
   "outputs": [],
   "source": [
    "import pandas as pd\n",
    "File = pd.read_csv(\"Drug.csv\")\n",
    "Drug = pd.DataFrame(File)\n",
    "Drug.drop(columns = \"Unnamed: 0\", inplace=True)"
   ]
  },
  {
   "cell_type": "code",
   "execution_count": 419,
   "id": "5f53b027-de2e-417d-89bc-2a1563a04d42",
   "metadata": {},
   "outputs": [
    {
     "data": {
      "text/html": [
       "<div>\n",
       "<style scoped>\n",
       "    .dataframe tbody tr th:only-of-type {\n",
       "        vertical-align: middle;\n",
       "    }\n",
       "\n",
       "    .dataframe tbody tr th {\n",
       "        vertical-align: top;\n",
       "    }\n",
       "\n",
       "    .dataframe thead th {\n",
       "        text-align: right;\n",
       "    }\n",
       "</style>\n",
       "<table border=\"1\" class=\"dataframe\">\n",
       "  <thead>\n",
       "    <tr style=\"text-align: right;\">\n",
       "      <th></th>\n",
       "      <th>Age</th>\n",
       "      <th>Sex</th>\n",
       "      <th>BP</th>\n",
       "      <th>Cholesterol</th>\n",
       "      <th>Na_to_K</th>\n",
       "      <th>Drug</th>\n",
       "    </tr>\n",
       "  </thead>\n",
       "  <tbody>\n",
       "    <tr>\n",
       "      <th>0</th>\n",
       "      <td>23</td>\n",
       "      <td>F</td>\n",
       "      <td>HIGH</td>\n",
       "      <td>HIGH</td>\n",
       "      <td>25.355</td>\n",
       "      <td>drugY</td>\n",
       "    </tr>\n",
       "    <tr>\n",
       "      <th>1</th>\n",
       "      <td>47</td>\n",
       "      <td>M</td>\n",
       "      <td>LOW</td>\n",
       "      <td>HIGH</td>\n",
       "      <td>13.093</td>\n",
       "      <td>drugC</td>\n",
       "    </tr>\n",
       "    <tr>\n",
       "      <th>2</th>\n",
       "      <td>47</td>\n",
       "      <td>M</td>\n",
       "      <td>LOW</td>\n",
       "      <td>HIGH</td>\n",
       "      <td>10.114</td>\n",
       "      <td>drugC</td>\n",
       "    </tr>\n",
       "    <tr>\n",
       "      <th>3</th>\n",
       "      <td>28</td>\n",
       "      <td>F</td>\n",
       "      <td>NORMAL</td>\n",
       "      <td>HIGH</td>\n",
       "      <td>7.798</td>\n",
       "      <td>drugX</td>\n",
       "    </tr>\n",
       "    <tr>\n",
       "      <th>4</th>\n",
       "      <td>61</td>\n",
       "      <td>F</td>\n",
       "      <td>LOW</td>\n",
       "      <td>HIGH</td>\n",
       "      <td>18.043</td>\n",
       "      <td>drugY</td>\n",
       "    </tr>\n",
       "  </tbody>\n",
       "</table>\n",
       "</div>"
      ],
      "text/plain": [
       "   Age Sex      BP Cholesterol  Na_to_K   Drug\n",
       "0   23   F    HIGH        HIGH   25.355  drugY\n",
       "1   47   M     LOW        HIGH   13.093  drugC\n",
       "2   47   M     LOW        HIGH   10.114  drugC\n",
       "3   28   F  NORMAL        HIGH    7.798  drugX\n",
       "4   61   F     LOW        HIGH   18.043  drugY"
      ]
     },
     "execution_count": 419,
     "metadata": {},
     "output_type": "execute_result"
    }
   ],
   "source": [
    "#In this df we are expected to decide on drug prescription for new patients based on their medical profile\n",
    "Drug.head()"
   ]
  },
  {
   "cell_type": "code",
   "execution_count": 420,
   "id": "c7821f9b-6328-4e1c-94f7-0d41da6948a9",
   "metadata": {},
   "outputs": [
    {
     "name": "stdout",
     "output_type": "stream",
     "text": [
      "<class 'pandas.core.frame.DataFrame'>\n",
      "RangeIndex: 200 entries, 0 to 199\n",
      "Data columns (total 6 columns):\n",
      " #   Column       Non-Null Count  Dtype  \n",
      "---  ------       --------------  -----  \n",
      " 0   Age          200 non-null    int64  \n",
      " 1   Sex          200 non-null    object \n",
      " 2   BP           200 non-null    object \n",
      " 3   Cholesterol  200 non-null    object \n",
      " 4   Na_to_K      200 non-null    float64\n",
      " 5   Drug         200 non-null    object \n",
      "dtypes: float64(1), int64(1), object(4)\n",
      "memory usage: 9.5+ KB\n"
     ]
    }
   ],
   "source": [
    "Drug.info()"
   ]
  },
  {
   "cell_type": "code",
   "execution_count": 427,
   "id": "3a4ddf6c-3d29-4850-b8ed-d00aeeb4b629",
   "metadata": {},
   "outputs": [
    {
     "data": {
      "text/html": [
       "<div>\n",
       "<style scoped>\n",
       "    .dataframe tbody tr th:only-of-type {\n",
       "        vertical-align: middle;\n",
       "    }\n",
       "\n",
       "    .dataframe tbody tr th {\n",
       "        vertical-align: top;\n",
       "    }\n",
       "\n",
       "    .dataframe thead th {\n",
       "        text-align: right;\n",
       "    }\n",
       "</style>\n",
       "<table border=\"1\" class=\"dataframe\">\n",
       "  <thead>\n",
       "    <tr style=\"text-align: right;\">\n",
       "      <th></th>\n",
       "      <th>Age</th>\n",
       "      <th>Sex</th>\n",
       "      <th>BP</th>\n",
       "      <th>Cholesterol</th>\n",
       "      <th>Na_to_K</th>\n",
       "      <th>Drug</th>\n",
       "    </tr>\n",
       "  </thead>\n",
       "  <tbody>\n",
       "    <tr>\n",
       "      <th>0</th>\n",
       "      <td>23</td>\n",
       "      <td>0</td>\n",
       "      <td>0</td>\n",
       "      <td>0</td>\n",
       "      <td>25.355</td>\n",
       "      <td>drugY</td>\n",
       "    </tr>\n",
       "    <tr>\n",
       "      <th>1</th>\n",
       "      <td>47</td>\n",
       "      <td>1</td>\n",
       "      <td>1</td>\n",
       "      <td>0</td>\n",
       "      <td>13.093</td>\n",
       "      <td>drugC</td>\n",
       "    </tr>\n",
       "    <tr>\n",
       "      <th>2</th>\n",
       "      <td>47</td>\n",
       "      <td>1</td>\n",
       "      <td>1</td>\n",
       "      <td>0</td>\n",
       "      <td>10.114</td>\n",
       "      <td>drugC</td>\n",
       "    </tr>\n",
       "    <tr>\n",
       "      <th>3</th>\n",
       "      <td>28</td>\n",
       "      <td>0</td>\n",
       "      <td>2</td>\n",
       "      <td>0</td>\n",
       "      <td>7.798</td>\n",
       "      <td>drugX</td>\n",
       "    </tr>\n",
       "    <tr>\n",
       "      <th>4</th>\n",
       "      <td>61</td>\n",
       "      <td>0</td>\n",
       "      <td>1</td>\n",
       "      <td>0</td>\n",
       "      <td>18.043</td>\n",
       "      <td>drugY</td>\n",
       "    </tr>\n",
       "  </tbody>\n",
       "</table>\n",
       "</div>"
      ],
      "text/plain": [
       "   Age  Sex  BP  Cholesterol  Na_to_K   Drug\n",
       "0   23    0   0            0   25.355  drugY\n",
       "1   47    1   1            0   13.093  drugC\n",
       "2   47    1   1            0   10.114  drugC\n",
       "3   28    0   2            0    7.798  drugX\n",
       "4   61    0   1            0   18.043  drugY"
      ]
     },
     "execution_count": 427,
     "metadata": {},
     "output_type": "execute_result"
    }
   ],
   "source": [
    "#Lets convert the independent variables into numeric through labelencoding function of sci-kit learn\n",
    "from sklearn.preprocessing import LabelEncoder #although label encoder that assume order (i.e., ordinality) is not suggested for regressor variables \n",
    "                                               #it is excepted for decision tree analysis that does not involve regression. Otherwise, OneHotEncoding is suggested\n",
    "label_encoder = LabelEncoder()\n",
    "Drug[\"Sex\"] = label_encoder.fit_transform(Drug[\"Sex\"])\n",
    "Drug[\"BP\"] = label_encoder.fit_transform(Drug[\"BP\"])\n",
    "Drug[\"Cholesterol\"] = label_encoder.fit_transform(Drug[\"Cholesterol\"])\n",
    "Drug.head()\n",
    "#please note that the orders are kept arbitrary"
   ]
  },
  {
   "cell_type": "markdown",
   "id": "af9011d7-c546-42c2-9361-fcacbe5a0e72",
   "metadata": {},
   "source": [
    "### <font color = \"red\"> Warning!!! </font>\n",
    "\n",
    "A bad practice that can essentially lead to Data Leakage or snooping is observed in the above cell. WE SHOULD NEVER PREPROCESS THE DATA BEFORE SPLITTING THEM, OR ELSE WE RISK DATA SNOOPING OR LEAKAGE  "
   ]
  },
  {
   "cell_type": "code",
   "execution_count": 433,
   "id": "3593de93-64c9-47df-b436-dce0fd07174a",
   "metadata": {},
   "outputs": [],
   "source": [
    "x_value = Drug.drop(columns = \"Drug\", axis=1)\n",
    "y_value = Drug[\"Drug\"]"
   ]
  },
  {
   "cell_type": "code",
   "execution_count": 434,
   "id": "b718f2db-8e98-49e9-a94d-df9c0f6749d5",
   "metadata": {},
   "outputs": [
    {
     "name": "stdout",
     "output_type": "stream",
     "text": [
      "(140, 5) (60, 5) (140,) (60,)\n"
     ]
    }
   ],
   "source": [
    "#Now splitting the data into training and testing variables for predictive analysis\n",
    "from sklearn.model_selection import train_test_split\n",
    "x_train, x_test, y_train, y_test = train_test_split(x_value, y_value, test_size = 0.30, random_state=0)\n",
    "print(x_train.shape, x_test.shape, y_train.shape, y_test.shape) "
   ]
  },
  {
   "cell_type": "code",
   "execution_count": 435,
   "id": "1b7d0a0d-a53a-4cb3-96b2-048dc66ba52a",
   "metadata": {},
   "outputs": [
    {
     "data": {
      "text/plain": [
       "array(['drugC', 'drugX', 'drugY', 'drugY', 'drugY', 'drugX', 'drugX',\n",
       "       'drugX', 'drugY'], dtype=object)"
      ]
     },
     "execution_count": 435,
     "metadata": {},
     "output_type": "execute_result"
    }
   ],
   "source": [
    "#now conducting the decision tree analysis\n",
    "from sklearn.tree import DecisionTreeClassifier, plot_tree\n",
    "dt = DecisionTreeClassifier(criterion = \"entropy\", max_depth = 4) #max_depth is more like how many branches of the tree (i.e., branch order) shall be created for the analysis.\n",
    "                                                                  # it is a hyperparameter alike to alpha for Ridge Regression being conducted on polynomial model\n",
    "dt.fit(x_train, y_train) #note how the function allows purely nominal value (i.e., y_train) for analysis \n",
    "y_test_hat = dt.predict(x_test)\n",
    "y_test_hat[0:9]"
   ]
  },
  {
   "cell_type": "code",
   "execution_count": 436,
   "id": "6b5cb789-c63b-4296-b748-0cb638c6ed68",
   "metadata": {},
   "outputs": [
    {
     "data": {
      "image/png": "[encoded data removed]",
      "text/plain": [
       "<Figure size 640x480 with 1 Axes>"
      ]
     },
     "metadata": {},
     "output_type": "display_data"
    }
   ],
   "source": [
    "#plotting the decisiontree\n",
    "import matplotlib.pyplot as plt\n",
    "plot_tree(dt) #this module is imported from sklearn.tree from above cell\n",
    "plt.show()"
   ]
  },
  {
   "cell_type": "code",
   "execution_count": 437,
   "id": "3373aef5-fa8b-426b-b81f-2621c885a8ef",
   "metadata": {},
   "outputs": [
    {
     "data": {
      "text/plain": [
       "1.0"
      ]
     },
     "execution_count": 437,
     "metadata": {},
     "output_type": "execute_result"
    }
   ],
   "source": [
    "#visual testing of the model effectiveness is not possible because the dependent variables are all categorical. So, statistical testing is proceeded\n",
    "from sklearn.metrics import accuracy_score\n",
    "accuracy_score(y_test, y_test_hat)\n",
    "#thats a perfect 100 percent score, "
   ]
  },
  {
   "cell_type": "markdown",
   "id": "fe64d863-3465-47e7-80cc-65b3e28521c4",
   "metadata": {},
   "source": [
    "### Regression Trees\n",
    "While Decision Trees are good for deciding the target of an instance within a set of nominal classification variables, regression trees are good for deciding the \n",
    "target of an instance within a set of ordinal continuous variable alike to non-decision type regression. Personally, i find the regression tree to have been always made\n",
    "redundant by the usual regression analysis"
   ]
  },
  {
   "cell_type": "code",
   "execution_count": 439,
   "id": "fa94e310-2f99-4577-b958-49ed77c0139e",
   "metadata": {},
   "outputs": [
    {
     "data": {
      "text/html": [
       "<div>\n",
       "<style scoped>\n",
       "    .dataframe tbody tr th:only-of-type {\n",
       "        vertical-align: middle;\n",
       "    }\n",
       "\n",
       "    .dataframe tbody tr th {\n",
       "        vertical-align: top;\n",
       "    }\n",
       "\n",
       "    .dataframe thead th {\n",
       "        text-align: right;\n",
       "    }\n",
       "</style>\n",
       "<table border=\"1\" class=\"dataframe\">\n",
       "  <thead>\n",
       "    <tr style=\"text-align: right;\">\n",
       "      <th></th>\n",
       "      <th>VendorID</th>\n",
       "      <th>passenger_count</th>\n",
       "      <th>trip_distance</th>\n",
       "      <th>RatecodeID</th>\n",
       "      <th>store_and_fwd_flag</th>\n",
       "      <th>PULocationID</th>\n",
       "      <th>DOLocationID</th>\n",
       "      <th>payment_type</th>\n",
       "      <th>fare_amount</th>\n",
       "      <th>mta_tax</th>\n",
       "      <th>tolls_amount</th>\n",
       "      <th>improvement_surcharge</th>\n",
       "      <th>tip_amount</th>\n",
       "    </tr>\n",
       "  </thead>\n",
       "  <tbody>\n",
       "    <tr>\n",
       "      <th>0</th>\n",
       "      <td>2</td>\n",
       "      <td>1</td>\n",
       "      <td>17.63</td>\n",
       "      <td>2</td>\n",
       "      <td>1</td>\n",
       "      <td>132</td>\n",
       "      <td>164</td>\n",
       "      <td>1</td>\n",
       "      <td>70.0</td>\n",
       "      <td>0.5</td>\n",
       "      <td>6.94</td>\n",
       "      <td>1</td>\n",
       "      <td>16.54</td>\n",
       "    </tr>\n",
       "    <tr>\n",
       "      <th>1</th>\n",
       "      <td>2</td>\n",
       "      <td>1</td>\n",
       "      <td>19.52</td>\n",
       "      <td>2</td>\n",
       "      <td>1</td>\n",
       "      <td>132</td>\n",
       "      <td>236</td>\n",
       "      <td>1</td>\n",
       "      <td>70.0</td>\n",
       "      <td>0.5</td>\n",
       "      <td>6.94</td>\n",
       "      <td>1</td>\n",
       "      <td>16.19</td>\n",
       "    </tr>\n",
       "    <tr>\n",
       "      <th>2</th>\n",
       "      <td>2</td>\n",
       "      <td>1</td>\n",
       "      <td>17.81</td>\n",
       "      <td>2</td>\n",
       "      <td>1</td>\n",
       "      <td>132</td>\n",
       "      <td>48</td>\n",
       "      <td>1</td>\n",
       "      <td>70.0</td>\n",
       "      <td>0.5</td>\n",
       "      <td>6.94</td>\n",
       "      <td>1</td>\n",
       "      <td>12.00</td>\n",
       "    </tr>\n",
       "    <tr>\n",
       "      <th>3</th>\n",
       "      <td>2</td>\n",
       "      <td>2</td>\n",
       "      <td>19.30</td>\n",
       "      <td>2</td>\n",
       "      <td>1</td>\n",
       "      <td>132</td>\n",
       "      <td>148</td>\n",
       "      <td>1</td>\n",
       "      <td>70.0</td>\n",
       "      <td>0.5</td>\n",
       "      <td>0.00</td>\n",
       "      <td>1</td>\n",
       "      <td>5.00</td>\n",
       "    </tr>\n",
       "    <tr>\n",
       "      <th>4</th>\n",
       "      <td>2</td>\n",
       "      <td>1</td>\n",
       "      <td>18.75</td>\n",
       "      <td>2</td>\n",
       "      <td>1</td>\n",
       "      <td>132</td>\n",
       "      <td>234</td>\n",
       "      <td>1</td>\n",
       "      <td>70.0</td>\n",
       "      <td>0.5</td>\n",
       "      <td>6.94</td>\n",
       "      <td>1</td>\n",
       "      <td>10.00</td>\n",
       "    </tr>\n",
       "  </tbody>\n",
       "</table>\n",
       "</div>"
      ],
      "text/plain": [
       "   VendorID  passenger_count  trip_distance  RatecodeID  store_and_fwd_flag  \\\n",
       "0         2                1          17.63           2                   1   \n",
       "1         2                1          19.52           2                   1   \n",
       "2         2                1          17.81           2                   1   \n",
       "3         2                2          19.30           2                   1   \n",
       "4         2                1          18.75           2                   1   \n",
       "\n",
       "   PULocationID  DOLocationID  payment_type  fare_amount  mta_tax  \\\n",
       "0           132           164             1         70.0      0.5   \n",
       "1           132           236             1         70.0      0.5   \n",
       "2           132            48             1         70.0      0.5   \n",
       "3           132           148             1         70.0      0.5   \n",
       "4           132           234             1         70.0      0.5   \n",
       "\n",
       "   tolls_amount  improvement_surcharge  tip_amount  \n",
       "0          6.94                      1       16.54  \n",
       "1          6.94                      1       16.19  \n",
       "2          6.94                      1       12.00  \n",
       "3          0.00                      1        5.00  \n",
       "4          6.94                      1       10.00  "
      ]
     },
     "execution_count": 439,
     "metadata": {},
     "output_type": "execute_result"
    }
   ],
   "source": [
    "import pandas as pd\n",
    "File = pd.read_csv(\"taxitip.csv\")\n",
    "Taxitip = pd.DataFrame(File)\n",
    "Taxitip.drop(columns = \"Unnamed: 0\", axis=1, inplace=True)\n",
    "Taxitip.head()"
   ]
  },
  {
   "cell_type": "code",
   "execution_count": 440,
   "id": "cc8eb72d-c004-483c-83db-0bf808d0bc4c",
   "metadata": {},
   "outputs": [
    {
     "name": "stdout",
     "output_type": "stream",
     "text": [
      "<class 'pandas.core.frame.DataFrame'>\n",
      "RangeIndex: 41202 entries, 0 to 41201\n",
      "Data columns (total 13 columns):\n",
      " #   Column                 Non-Null Count  Dtype  \n",
      "---  ------                 --------------  -----  \n",
      " 0   VendorID               41202 non-null  int64  \n",
      " 1   passenger_count        41202 non-null  int64  \n",
      " 2   trip_distance          41202 non-null  float64\n",
      " 3   RatecodeID             41202 non-null  int64  \n",
      " 4   store_and_fwd_flag     41202 non-null  int64  \n",
      " 5   PULocationID           41202 non-null  int64  \n",
      " 6   DOLocationID           41202 non-null  int64  \n",
      " 7   payment_type           41202 non-null  int64  \n",
      " 8   fare_amount            41202 non-null  float64\n",
      " 9   mta_tax                41202 non-null  float64\n",
      " 10  tolls_amount           41202 non-null  float64\n",
      " 11  improvement_surcharge  41202 non-null  int64  \n",
      " 12  tip_amount             41202 non-null  float64\n",
      "dtypes: float64(5), int64(8)\n",
      "memory usage: 4.1 MB\n"
     ]
    }
   ],
   "source": [
    "Taxitip.info()"
   ]
  },
  {
   "cell_type": "code",
   "execution_count": 441,
   "id": "3adcd2dd-5e80-463a-92cc-4b33c0c53b30",
   "metadata": {},
   "outputs": [
    {
     "data": {
      "text/plain": [
       "array([[0.        , 0.        , 0.09283345, 0.25      , 1.        ,\n",
       "        0.48031496, 0.61450382, 0.        , 0.33826531, 1.        ,\n",
       "        0.12175439, 1.        ],\n",
       "       [0.        , 0.        , 0.10278553, 0.25      , 1.        ,\n",
       "        0.48031496, 0.88931298, 0.        , 0.33826531, 1.        ,\n",
       "        0.12175439, 1.        ],\n",
       "       [0.        , 0.        , 0.09378126, 0.25      , 1.        ,\n",
       "        0.48031496, 0.17175573, 0.        , 0.33826531, 1.        ,\n",
       "        0.12175439, 1.        ],\n",
       "       [0.        , 0.14285714, 0.10162709, 0.25      , 1.        ,\n",
       "        0.48031496, 0.55343511, 0.        , 0.33826531, 1.        ,\n",
       "        0.        , 1.        ]])"
      ]
     },
     "execution_count": 441,
     "metadata": {},
     "output_type": "execute_result"
    }
   ],
   "source": [
    "#Before we begin our analysis, lets standardize our independent variables\n",
    "Taxitip_ind = Taxitip.drop(columns = \"tip_amount\", axis=1)\n",
    "from sklearn.preprocessing import MinMaxScaler\n",
    "MinMax = MinMaxScaler() #Lets use the Min-max normalization method of standardization this type as we can pretend that we want all of our values strictly within a range\n",
    "                        #while z-score standardization method usually lay value within -3 to 3, breaches at both sides are still permitted\n",
    "Taxitip_ind_scaled = MinMax.fit_transform(Taxitip_ind)\n",
    "Taxitip_ind_scaled[0:4]"
   ]
  },
  {
   "cell_type": "code",
   "execution_count": 442,
   "id": "4332db11-d66b-4836-8d7b-038632e6376a",
   "metadata": {},
   "outputs": [
    {
     "name": "stdout",
     "output_type": "stream",
     "text": [
      "28841 12361 28841 12361\n"
     ]
    }
   ],
   "source": [
    "#Now lets split our data into train and test variable\n",
    "y_value = Taxitip[\"tip_amount\"]\n",
    "x_value = Taxitip_ind_scaled\n",
    "\n",
    "from sklearn.model_selection import train_test_split\n",
    "x_train, x_test, y_train, y_test = train_test_split(x_value, y_value, test_size = 0.3, random_state = 0)\n",
    "print(x_train.shape[0], x_test.shape[0], y_train.shape[0], y_test.shape[0])"
   ]
  },
  {
   "cell_type": "code",
   "execution_count": 446,
   "id": "9ffdf652-49c0-4a3f-afcc-e3251151ca9d",
   "metadata": {},
   "outputs": [
    {
     "data": {
      "text/plain": [
       "array([14.36672688, 14.36672688, 14.36672688, 14.36672688, 14.36672688,\n",
       "       14.36672688, 14.36672688, 14.36672688, 14.36672688])"
      ]
     },
     "execution_count": 446,
     "metadata": {},
     "output_type": "execute_result"
    }
   ],
   "source": [
    "#Now, proceeding with the Regression Tree\n",
    "from sklearn.tree import DecisionTreeRegressor\n",
    "rt = DecisionTreeRegressor(criterion = \"squared_error\", max_depth = 4)\n",
    "rt.fit(x_train, y_train)\n",
    "y_test_hat = rt.predict(x_test)\n",
    "y_test_hat[0:9]"
   ]
  },
  {
   "cell_type": "code",
   "execution_count": 449,
   "id": "9f5885d2-18fb-4a7a-bd09-7f19a2fcac89",
   "metadata": {},
   "outputs": [
    {
     "data": {
      "image/png": "[encoded data removed]",
      "text/plain": [
       "<Figure size 640x480 with 1 Axes>"
      ]
     },
     "metadata": {},
     "output_type": "display_data"
    }
   ],
   "source": [
    "#plotting the regression tree\n",
    "import matplotlib.pyplot as plt\n",
    "plot_tree(rt) #this module is imported from sklearn.tree from above cell\n",
    "plt.show()"
   ]
  },
  {
   "cell_type": "code",
   "execution_count": 450,
   "id": "b557cf37-ed1a-4201-898a-bc0e83188673",
   "metadata": {},
   "outputs": [
    {
     "data": {
      "image/png": "[encoded data removed]",
      "text/plain": [
       "<Figure size 640x480 with 1 Axes>"
      ]
     },
     "metadata": {},
     "output_type": "display_data"
    }
   ],
   "source": [
    "#Visually test the effectiveness of the model\n",
    "import seaborn as sns\n",
    "import matplotlib.pyplot as plt\n",
    "\n",
    "sns.kdeplot(x = y_test, label = \"actual decision\", color = \"red\")\n",
    "sns.kdeplot(x = y_test_hat, label = \"predicted decision\", color = \"blue\")\n",
    "plt.title(\"Actual versus Predicted decision\")\n",
    "plt.xlabel(\"Values\")\n",
    "plt.xlim(10,20)\n",
    "plt.show() #Visually the prediction appears to be poor"
   ]
  },
  {
   "cell_type": "code",
   "execution_count": 451,
   "id": "f6bd1273-c5b1-49a8-856e-3d424accf992",
   "metadata": {},
   "outputs": [
    {
     "name": "stdout",
     "output_type": "stream",
     "text": [
      "the r_squared score is 4.541776591624314 percentage only\n"
     ]
    }
   ],
   "source": [
    "#Statistically testing the robustness of the decision model\n",
    "rt.score(x_test, y_test)\n",
    "print(f\"the r_squared score is {rt.score(x_test, y_test)*100} percentage only\")\n",
    "#Statistically the prediction appears poor. May be if we had deployed Manhattan standardization method, the result could be different"
   ]
  },
  {
   "cell_type": "markdown",
   "id": "a84c569b-d404-4b43-a8f7-9a61b43afd6f",
   "metadata": {},
   "source": [
    "### Support Vector Machine (SVM)\n",
    "#### Can be perfomed on non-parametric datasets\n",
    "SVMs work by finding the optimal hyperplane that best separates different classes in the feature space. The \"optimal\" hyperplane is the one that has the largest margin (distance) to the nearest training data points of any class, which are called \"support vectors.\" "
   ]
  },
  {
   "cell_type": "markdown",
   "id": "73289057-b1fa-4fd2-808c-67f2ade1d1d6",
   "metadata": {},
   "source": [
    "A digrammatical description of Support Vector Machine\n",
    "<left>\n",
    "    <img src=\"SVM.webp\" width=\"500\" alt=\"Support\n",
    "        Vector Machine\">\n",
    "</left>"
   ]
  },
  {
   "cell_type": "code",
   "execution_count": 454,
   "id": "524c9f9d-8cc7-4016-8f9c-ff900439e096",
   "metadata": {},
   "outputs": [
    {
     "data": {
      "text/plain": [
       "(284807, 32)"
      ]
     },
     "execution_count": 454,
     "metadata": {},
     "output_type": "execute_result"
    }
   ],
   "source": [
    "File = pd.read_csv(\"creditfraud.csv\")\n",
    "Creditfraud = pd.DataFrame(File)\n",
    "Creditfraud.shape"
   ]
  },
  {
   "cell_type": "code",
   "execution_count": 455,
   "id": "8000c715-4112-4c52-b0a6-5cc141acf856",
   "metadata": {},
   "outputs": [
    {
     "name": "stdout",
     "output_type": "stream",
     "text": [
      "<class 'pandas.core.frame.DataFrame'>\n",
      "RangeIndex: 284807 entries, 0 to 284806\n",
      "Data columns (total 32 columns):\n",
      " #   Column      Non-Null Count   Dtype  \n",
      "---  ------      --------------   -----  \n",
      " 0   Unnamed: 0  284807 non-null  int64  \n",
      " 1   Time        284807 non-null  float64\n",
      " 2   V1          284807 non-null  float64\n",
      " 3   V2          284807 non-null  float64\n",
      " 4   V3          284807 non-null  float64\n",
      " 5   V4          284807 non-null  float64\n",
      " 6   V5          284807 non-null  float64\n",
      " 7   V6          284807 non-null  float64\n",
      " 8   V7          284807 non-null  float64\n",
      " 9   V8          284807 non-null  float64\n",
      " 10  V9          284807 non-null  float64\n",
      " 11  V10         284807 non-null  float64\n",
      " 12  V11         284807 non-null  float64\n",
      " 13  V12         284807 non-null  float64\n",
      " 14  V13         284807 non-null  float64\n",
      " 15  V14         284807 non-null  float64\n",
      " 16  V15         284807 non-null  float64\n",
      " 17  V16         284807 non-null  float64\n",
      " 18  V17         284807 non-null  float64\n",
      " 19  V18         284807 non-null  float64\n",
      " 20  V19         284807 non-null  float64\n",
      " 21  V20         284807 non-null  float64\n",
      " 22  V21         284807 non-null  float64\n",
      " 23  V22         284807 non-null  float64\n",
      " 24  V23         284807 non-null  float64\n",
      " 25  V24         284807 non-null  float64\n",
      " 26  V25         284807 non-null  float64\n",
      " 27  V26         284807 non-null  float64\n",
      " 28  V27         284807 non-null  float64\n",
      " 29  V28         284807 non-null  float64\n",
      " 30  Amount      284807 non-null  float64\n",
      " 31  Class       284807 non-null  int64  \n",
      "dtypes: float64(30), int64(2)\n",
      "memory usage: 69.5 MB\n"
     ]
    }
   ],
   "source": [
    "Creditfraud.info() #very rich and well cleaned data. All frature names are encrypted for security reasons"
   ]
  },
  {
   "cell_type": "code",
   "execution_count": 458,
   "id": "76ec8a98-65bb-4355-a6d0-2d33ab67bdf3",
   "metadata": {},
   "outputs": [],
   "source": [
    "Creditfraud.drop(columns = [\"Unnamed: 0\", \"Time\"], inplace = True)"
   ]
  },
  {
   "cell_type": "code",
   "execution_count": 459,
   "id": "235351fc-6abc-4aaf-a4a0-68f4a2b70f63",
   "metadata": {},
   "outputs": [
    {
     "data": {
      "text/plain": [
       "Class\n",
       "0    284315\n",
       "1       492\n",
       "Name: count, dtype: int64"
      ]
     },
     "execution_count": 459,
     "metadata": {},
     "output_type": "execute_result"
    }
   ],
   "source": [
    "Creditfraud[\"Class\"].value_counts()\n",
    "#It appears the decisions in this dataset is very biased towards 0 (i.e., the non-fradulent activity), and therefore it requires us to be careful to \n",
    "#ensure that the dataset is split properly to ensure diversity of the records"
   ]
  },
  {
   "cell_type": "code",
   "execution_count": 463,
   "id": "c25bdbd7-18bb-402a-887b-bf7ebfa6faed",
   "metadata": {},
   "outputs": [
    {
     "data": {
      "text/plain": [
       "V1       -0.101347\n",
       "V2        0.091289\n",
       "V3       -0.192961\n",
       "V4        0.133447\n",
       "V5       -0.094974\n",
       "V6       -0.043643\n",
       "V7       -0.187257\n",
       "V8        0.019875\n",
       "V9       -0.097733\n",
       "V10      -0.216883\n",
       "V11       0.154876\n",
       "V12      -0.260593\n",
       "V13      -0.004570\n",
       "V14      -0.302544\n",
       "V15      -0.004223\n",
       "V16      -0.196539\n",
       "V17      -0.326481\n",
       "V18      -0.111485\n",
       "V19       0.034783\n",
       "V20       0.020090\n",
       "V21       0.040413\n",
       "V22       0.000805\n",
       "V23      -0.002685\n",
       "V24      -0.007221\n",
       "V25       0.003308\n",
       "V26       0.004455\n",
       "V27       0.017580\n",
       "V28       0.009536\n",
       "Amount    0.005632\n",
       "Name: Class, dtype: float64"
      ]
     },
     "execution_count": 463,
     "metadata": {},
     "output_type": "execute_result"
    }
   ],
   "source": [
    "#It pays to measure the correlation of the wide variety of the regressor variables with our decision feature (i.e., Class). However, a full blown\n",
    "#correlation matrix can become very apprehensive in our case, therefore a specific correlation and its visualization shall be rendered\n",
    "Credit_corr = Creditfraud.corr()\n",
    "Credit_corr_Classonly = Credit_corr[\"Class\"].drop(\"Class\")\n",
    "Credit_corr_Classonly"
   ]
  },
  {
   "cell_type": "code",
   "execution_count": 465,
   "id": "22cf7455-6a0a-4bba-a6e0-a79803f6c52d",
   "metadata": {},
   "outputs": [
    {
     "data": {
      "text/plain": [
       "<Axes: >"
      ]
     },
     "execution_count": 465,
     "metadata": {},
     "output_type": "execute_result"
    },
    {
     "data": {
      "image/png": "[encoded data removed]",
      "text/plain": [
       "<Figure size 500x500 with 1 Axes>"
      ]
     },
     "metadata": {},
     "output_type": "display_data"
    }
   ],
   "source": [
    "import matplotlib.pyplot as plt\n",
    "Credit_corr_Classonly.plot(kind = \"barh\", figsize = (5, 5))"
   ]
  },
  {
   "cell_type": "code",
   "execution_count": 466,
   "id": "c76a2a34-4fc9-4900-ba1e-a9771a4f0462",
   "metadata": {},
   "outputs": [
    {
     "data": {
      "text/plain": [
       "Index(['V1', 'V2', 'V3', 'V4', 'V5', 'V6', 'V7', 'V8', 'V9', 'V10', 'V11',\n",
       "       'V12', 'V13', 'V14', 'V15', 'V16', 'V17', 'V18', 'V19', 'V20', 'V21',\n",
       "       'V22', 'V23', 'V24', 'V25', 'V26', 'V27', 'V28', 'Amount'],\n",
       "      dtype='object')"
      ]
     },
     "execution_count": 466,
     "metadata": {},
     "output_type": "execute_result"
    }
   ],
   "source": [
    "#Breaking the dataframe into regressors and regressand\n",
    "Creditfraud_ind = Creditfraud.drop(\"Class\", axis=1)\n",
    "Creditfraud_ind.columns"
   ]
  },
  {
   "cell_type": "code",
   "execution_count": 467,
   "id": "7e5806a6-447c-4c8b-a53c-eadc13d1799b",
   "metadata": {},
   "outputs": [
    {
     "name": "stdout",
     "output_type": "stream",
     "text": [
      "199364 85443 199364 85443\n"
     ]
    }
   ],
   "source": [
    "#standardizing and normalizing the independent variables for further analysis\n",
    "from sklearn.preprocessing import StandardScaler, normalize\n",
    "\n",
    "Scaler = StandardScaler()\n",
    "Creditfraud_ind_scaled = Scaler.fit_transform(Creditfraud_ind)\n",
    "Creditfraud_ind_scaled_converged = normalize(Creditfraud_ind_scaled, norm=\"l1\") #we need further allow l1 type normalization in SVM to allow convergence of the variables\n",
    "\n",
    "#Preparing training and testing variables\n",
    "x_value = Creditfraud_ind_scaled_converged\n",
    "y_value = Creditfraud[\"Class\"]\n",
    "\n",
    "from sklearn.model_selection import train_test_split\n",
    "x_train, x_test, y_train, y_test = train_test_split(x_value, y_value, test_size = 0.30, random_state = 0, stratify = y_value) \n",
    "#stratify function is passed to make sure that the categories in the y_data are stratified in such a way that the all categorical are represented in both test and train sets,\n",
    "#since we our categorical values of the target variable is evenly distributed, stratification was unnecessary)\n",
    "print(x_train.shape[0], x_test.shape[0], y_train.shape[0], y_test.shape[0])"
   ]
  },
  {
   "cell_type": "markdown",
   "id": "09306d9c-d08b-4076-babb-c7ccb188674e",
   "metadata": {},
   "source": [
    "### <font color = \"red\"> Warning!!! </font>\n",
    "\n",
    "A bad practice that can essentially lead to Data Leakage or snooping is observed in the above cell. WE SHOULD NEVER PREPROCES THE DATA BEFORE SPLITTING THEM, OR ELSE WE RISK DATA SNOOPING OR LEAKAGE  "
   ]
  },
  {
   "cell_type": "code",
   "execution_count": 469,
   "id": "64135a30-a3d1-4578-9e9c-cbac940af91d",
   "metadata": {},
   "outputs": [
    {
     "data": {
      "text/plain": [
       "array([0, 0, 0, 0, 0, 1, 0, 0, 0])"
      ]
     },
     "execution_count": 469,
     "metadata": {},
     "output_type": "execute_result"
    }
   ],
   "source": [
    "#Now performing the analysis\n",
    "from sklearn.tree import DecisionTreeClassifier\n",
    "from sklearn.utils.class_weight import compute_sample_weight\n",
    "\n",
    "dt = DecisionTreeClassifier(max_depth = 4)\n",
    "dt.fit(x_train, y_train, compute_sample_weight(\"balanced\", y_train)) #the compute_sample_weight is a function that further allows higher weight to \n",
    "                                                                                              #minority sample data compared to majority sample data. It could be necessary \n",
    "                                                                                              #in our case represents fradulent activity (i.e., anamoly) that needs stronger\n",
    "                                                                                              #attention in our purpose because lower sample data\n",
    "y_test_hat = dt.predict(x_test)\n",
    "y_test_hat[0:9]"
   ]
  },
  {
   "cell_type": "code",
   "execution_count": 470,
   "id": "cce18950-2720-4179-a4bd-04434ebe41e0",
   "metadata": {},
   "outputs": [
    {
     "data": {
      "text/plain": [
       "array([[0.90103346, 0.09896654],\n",
       "       [0.96036144, 0.03963856],\n",
       "       [0.96036144, 0.03963856],\n",
       "       [0.96036144, 0.03963856],\n",
       "       [0.96036144, 0.03963856],\n",
       "       [0.1909965 , 0.8090035 ],\n",
       "       [0.96036144, 0.03963856],\n",
       "       [0.96036144, 0.03963856],\n",
       "       [0.96036144, 0.03963856]])"
      ]
     },
     "execution_count": 470,
     "metadata": {},
     "output_type": "execute_result"
    }
   ],
   "source": [
    "#observing the probability scoring behind the prediction\n",
    "y_test_hat_proba = dt.predict_proba(x_test)\n",
    "y_test_hat_proba[0:9]"
   ]
  },
  {
   "cell_type": "code",
   "execution_count": 471,
   "id": "036cf5d3-2d1e-40cb-8bf5-5d74a23666e0",
   "metadata": {},
   "outputs": [
    {
     "data": {
      "text/plain": [
       "np.float64(0.9411440105326031)"
      ]
     },
     "execution_count": 471,
     "metadata": {},
     "output_type": "execute_result"
    }
   ],
   "source": [
    "#Receiver Operating Characteristic Curve (ROC-AUC) score is a good metric to evaluate model performance. It evaluates model's ability to distinguish positive and negative \n",
    "#classes considering all possible probability thresholds. The higher its value, the better the model is considered for separating the two classes of values.\n",
    "from sklearn.metrics import roc_auc_score\n",
    "roc_auc_score(y_test, y_test_hat_proba[:, 1:2]) #we use the probability value that is specifically assigned to the fradulent credit behavior to test the ability the model\n",
    "                                                #to predict fradulent credit behavior"
   ]
  },
  {
   "cell_type": "code",
   "execution_count": 472,
   "id": "5ff1e09a-366d-4b4f-b212-17c974aaf22f",
   "metadata": {},
   "outputs": [
    {
     "name": "stderr",
     "output_type": "stream",
     "text": [
      "D:\\Anaconda_navigator\\envs\\RP_env\\Lib\\site-packages\\sklearn\\svm\\_base.py:1249: ConvergenceWarning: Liblinear failed to converge, increase the number of iterations.\n",
      "  warnings.warn(\n"
     ]
    },
    {
     "data": {
      "text/plain": [
       "array([-1.25362759, -3.23615542, -1.92063371, -2.34125398, -0.8865119 ,\n",
       "        0.04501957, -1.82943916, -1.50689271, -1.54576866])"
      ]
     },
     "execution_count": 472,
     "metadata": {},
     "output_type": "execute_result"
    }
   ],
   "source": [
    "#Only now are we performing the classification analysis through the SVM method\n",
    "from sklearn.svm import LinearSVC\n",
    "svm = LinearSVC(class_weight = \"balanced\", loss=\"hinge\") #the class_weight function remedies imbalancement in the function\n",
    "                                                         #The \"hinge\" loss is the standard loss function for traditional Support Vector Machines. \n",
    "                                                         #It encourages a wide margin between classes and penalizes misclassifications when the predicted value falls\n",
    "                                                         #on the wrong side of the margin.\n",
    "svm.fit(x_train, y_train)\n",
    "y_test_hat = svm.decision_function(x_test)\n",
    "y_test_hat[0:9] "
   ]
  },
  {
   "cell_type": "code",
   "execution_count": 473,
   "id": "8ea2c01b-15a6-4b5c-91f1-9cc73366c5e4",
   "metadata": {},
   "outputs": [
    {
     "data": {
      "text/plain": [
       "np.float64(0.9847423805774237)"
      ]
     },
     "execution_count": 473,
     "metadata": {},
     "output_type": "execute_result"
    }
   ],
   "source": [
    "from sklearn.metrics import roc_auc_score\n",
    "roc_auc_score(y_test, y_test_hat) #performing the metrics test when using the SVM method, not much difference in the performance of the model is obtained"
   ]
  },
  {
   "cell_type": "markdown",
   "id": "0b66b36f-c172-4886-a608-377c5f5f94e1",
   "metadata": {},
   "source": [
    "### K-Nearest Neighbors (KNN)\n",
    "#### Can be performed on non-parametric datasets\n",
    "K-Nearest Neighbors (KNN) is a fundamental, non-parametric, supervised machine learning algorithm used for both classification and regression tasks. The core idea behind\n",
    "KNN is similar things are near to each other. Although all classification technique is built on the same assumption, KNN may not use a hyperplane to seperate data into\n",
    "classes. Also, the \"K\" in KNN refers to the number of neighbors that a particular classificaiton with incorporate. As such, higher the k value, the more likely is the model likely to underfit and vice-versa "
   ]
  },
  {
   "cell_type": "markdown",
   "id": "44b64943-1386-4868-97d9-25b4ed5bfc66",
   "metadata": {},
   "source": [
    "The idea of K-Nearest Neighbors\n",
    "<left>\n",
    "    <img src=\"KNN.png\" width=\"600\">\n",
    "</left>"
   ]
  },
  {
   "cell_type": "code",
   "execution_count": 476,
   "id": "c1d4b142-bcea-4887-a474-9efa51ce77da",
   "metadata": {},
   "outputs": [
    {
     "data": {
      "text/html": [
       "<div>\n",
       "<style scoped>\n",
       "    .dataframe tbody tr th:only-of-type {\n",
       "        vertical-align: middle;\n",
       "    }\n",
       "\n",
       "    .dataframe tbody tr th {\n",
       "        vertical-align: top;\n",
       "    }\n",
       "\n",
       "    .dataframe thead th {\n",
       "        text-align: right;\n",
       "    }\n",
       "</style>\n",
       "<table border=\"1\" class=\"dataframe\">\n",
       "  <thead>\n",
       "    <tr style=\"text-align: right;\">\n",
       "      <th></th>\n",
       "      <th>region</th>\n",
       "      <th>tenure</th>\n",
       "      <th>age</th>\n",
       "      <th>marital</th>\n",
       "      <th>address</th>\n",
       "      <th>income</th>\n",
       "      <th>ed</th>\n",
       "      <th>employ</th>\n",
       "      <th>retire</th>\n",
       "      <th>gender</th>\n",
       "      <th>reside</th>\n",
       "      <th>custcat</th>\n",
       "    </tr>\n",
       "  </thead>\n",
       "  <tbody>\n",
       "    <tr>\n",
       "      <th>0</th>\n",
       "      <td>2</td>\n",
       "      <td>13</td>\n",
       "      <td>44</td>\n",
       "      <td>1</td>\n",
       "      <td>9</td>\n",
       "      <td>64.0</td>\n",
       "      <td>4</td>\n",
       "      <td>5</td>\n",
       "      <td>0.0</td>\n",
       "      <td>0</td>\n",
       "      <td>2</td>\n",
       "      <td>1</td>\n",
       "    </tr>\n",
       "    <tr>\n",
       "      <th>1</th>\n",
       "      <td>3</td>\n",
       "      <td>11</td>\n",
       "      <td>33</td>\n",
       "      <td>1</td>\n",
       "      <td>7</td>\n",
       "      <td>136.0</td>\n",
       "      <td>5</td>\n",
       "      <td>5</td>\n",
       "      <td>0.0</td>\n",
       "      <td>0</td>\n",
       "      <td>6</td>\n",
       "      <td>4</td>\n",
       "    </tr>\n",
       "    <tr>\n",
       "      <th>2</th>\n",
       "      <td>3</td>\n",
       "      <td>68</td>\n",
       "      <td>52</td>\n",
       "      <td>1</td>\n",
       "      <td>24</td>\n",
       "      <td>116.0</td>\n",
       "      <td>1</td>\n",
       "      <td>29</td>\n",
       "      <td>0.0</td>\n",
       "      <td>1</td>\n",
       "      <td>2</td>\n",
       "      <td>3</td>\n",
       "    </tr>\n",
       "    <tr>\n",
       "      <th>3</th>\n",
       "      <td>2</td>\n",
       "      <td>33</td>\n",
       "      <td>33</td>\n",
       "      <td>0</td>\n",
       "      <td>12</td>\n",
       "      <td>33.0</td>\n",
       "      <td>2</td>\n",
       "      <td>0</td>\n",
       "      <td>0.0</td>\n",
       "      <td>1</td>\n",
       "      <td>1</td>\n",
       "      <td>1</td>\n",
       "    </tr>\n",
       "    <tr>\n",
       "      <th>4</th>\n",
       "      <td>2</td>\n",
       "      <td>23</td>\n",
       "      <td>30</td>\n",
       "      <td>1</td>\n",
       "      <td>9</td>\n",
       "      <td>30.0</td>\n",
       "      <td>1</td>\n",
       "      <td>2</td>\n",
       "      <td>0.0</td>\n",
       "      <td>0</td>\n",
       "      <td>4</td>\n",
       "      <td>3</td>\n",
       "    </tr>\n",
       "  </tbody>\n",
       "</table>\n",
       "</div>"
      ],
      "text/plain": [
       "   region  tenure  age  marital  address  income  ed  employ  retire  gender  \\\n",
       "0       2      13   44        1        9    64.0   4       5     0.0       0   \n",
       "1       3      11   33        1        7   136.0   5       5     0.0       0   \n",
       "2       3      68   52        1       24   116.0   1      29     0.0       1   \n",
       "3       2      33   33        0       12    33.0   2       0     0.0       1   \n",
       "4       2      23   30        1        9    30.0   1       2     0.0       0   \n",
       "\n",
       "   reside  custcat  \n",
       "0       2        1  \n",
       "1       6        4  \n",
       "2       2        3  \n",
       "3       1        1  \n",
       "4       4        3  "
      ]
     },
     "execution_count": 476,
     "metadata": {},
     "output_type": "execute_result"
    }
   ],
   "source": [
    "import pandas as pd\n",
    "File = pd.read_csv(\"Telcom_Cat.csv\")\n",
    "Telcom_Cat = pd.DataFrame(File)\n",
    "Telcom_Cat.drop(columns = \"Unnamed: 0\", axis=1, inplace=True)\n",
    "Telcom_Cat.head()\n",
    "#In this dataframe custcat is our target variable"
   ]
  },
  {
   "cell_type": "code",
   "execution_count": 482,
   "id": "ead988c4-bcdf-4b8b-bbcb-4467c9aadc3d",
   "metadata": {},
   "outputs": [
    {
     "name": "stdout",
     "output_type": "stream",
     "text": [
      "<class 'pandas.core.frame.DataFrame'>\n",
      "RangeIndex: 1000 entries, 0 to 999\n",
      "Data columns (total 12 columns):\n",
      " #   Column   Non-Null Count  Dtype  \n",
      "---  ------   --------------  -----  \n",
      " 0   region   1000 non-null   int64  \n",
      " 1   tenure   1000 non-null   int64  \n",
      " 2   age      1000 non-null   int64  \n",
      " 3   marital  1000 non-null   int64  \n",
      " 4   address  1000 non-null   int64  \n",
      " 5   income   1000 non-null   float64\n",
      " 6   ed       1000 non-null   int64  \n",
      " 7   employ   1000 non-null   int64  \n",
      " 8   retire   1000 non-null   float64\n",
      " 9   gender   1000 non-null   int64  \n",
      " 10  reside   1000 non-null   int64  \n",
      " 11  custcat  1000 non-null   int64  \n",
      "dtypes: float64(2), int64(10)\n",
      "memory usage: 93.9 KB\n"
     ]
    }
   ],
   "source": [
    "Telcom_Cat.info()"
   ]
  },
  {
   "cell_type": "code",
   "execution_count": 483,
   "id": "656a7329-e44f-4f0f-bfa1-86c4dfd91f92",
   "metadata": {},
   "outputs": [
    {
     "data": {
      "text/plain": [
       "region    -0.023771\n",
       "gender    -0.004966\n",
       "retire     0.008908\n",
       "age        0.056909\n",
       "address    0.067913\n",
       "reside     0.082022\n",
       "marital    0.083836\n",
       "employ     0.110011\n",
       "income     0.134525\n",
       "tenure     0.166691\n",
       "ed         0.193864\n",
       "Name: custcat, dtype: float64"
      ]
     },
     "execution_count": 483,
     "metadata": {},
     "output_type": "execute_result"
    }
   ],
   "source": [
    "import matplotlib.pyplot as plt\n",
    "Telcom_Cat_corr = Telcom_Cat.corr()\n",
    "Telcom_Cat_corr_custcat = Telcom_Cat_corr[\"custcat\"].drop(\"custcat\")\n",
    "Telcom_Cat_corr_custcat.sort_values()\n",
    "#the correlation in general is low in both end, however, tenure, income, education, and employment have correlation above 0.1, but we shall still use all variables"
   ]
  },
  {
   "cell_type": "code",
   "execution_count": 484,
   "id": "49523514-ce3d-4d6a-86d3-74a352b5f5c3",
   "metadata": {},
   "outputs": [],
   "source": [
    "#Now breaking the data into independent and dependent variable\n",
    "Telcom_Cat_ind = Telcom_Cat.drop(columns = \"custcat\", axis=1)   "
   ]
  },
  {
   "cell_type": "code",
   "execution_count": 485,
   "id": "432baa0e-2bf7-4361-adc5-5a29a1151310",
   "metadata": {},
   "outputs": [
    {
     "name": "stdout",
     "output_type": "stream",
     "text": [
      "700 300 700 300\n"
     ]
    }
   ],
   "source": [
    "#Preprocessing the data for further machine learning and analysis. Standardizing and normalizing is very important in the context of KNN because it needs calculated the\n",
    "#euclidean distance between the points\n",
    "from sklearn.preprocessing import StandardScaler\n",
    "Scaler = StandardScaler()\n",
    "Telcom_Cat_ind_scaled = Scaler.fit_transform(Telcom_Cat_ind) #Using general z-score standardization for this purpose\n",
    "\n",
    "#Now splitting the standardized data for model training and testing\n",
    "x_value = Telcom_Cat_ind_scaled \n",
    "y_value = Telcom_Cat[\"custcat\"]\n",
    "from sklearn.model_selection import train_test_split\n",
    "x_train, x_test, y_train, y_test = train_test_split(x_value, y_value, test_size = 0.3, random_state = 0)\n",
    "print(x_train.shape[0], x_test.shape[0], y_train.shape[0], y_test.shape[0])"
   ]
  },
  {
   "cell_type": "markdown",
   "id": "956323d9-e93e-47d7-85ee-8d8677e04e39",
   "metadata": {},
   "source": [
    "### <font color = \"red\"> Warning!!! </font>\n",
    "\n",
    "A bad practice that can essentially lead to Data Leakage or snooping is observed in the above cell. WE SHOULD NEVER PREPROCES THE DATA BEFORE SPLITTING THEM, OR ELSE WE RISK DATA SNOOPING OR LEAKAGE  "
   ]
  },
  {
   "cell_type": "code",
   "execution_count": 489,
   "id": "5388bae0-8e86-47b3-9b18-0739712a6ddd",
   "metadata": {},
   "outputs": [
    {
     "name": "stdout",
     "output_type": "stream",
     "text": [
      "[0.27, 0.293, 0.32, 0.337, 0.337, 0.34, 0.36, 0.36, 0.337, 0.363, 0.363]\n"
     ]
    },
    {
     "data": {
      "image/png": "[encoded data removed]",
      "text/plain": [
       "<Figure size 640x480 with 1 Axes>"
      ]
     },
     "metadata": {},
     "output_type": "display_data"
    }
   ],
   "source": [
    "#Beginning the model training process through KNN by deploying a range of k value. \n",
    "import numpy as np\n",
    "import matplotlib.pyplot as plt\n",
    "from sklearn.neighbors import KNeighborsClassifier\n",
    "from sklearn.metrics import accuracy_score\n",
    "k = np.arange(1, 12, 1)\n",
    "scores = []\n",
    "for neighbors in k: # k is the hyperparameter in KNN that adjusts the number of nearest data points that the algorithm considers when making a prediction for an data\n",
    "    KNN = KNeighborsClassifier(n_neighbors=neighbors) \n",
    "    knn_model = KNN.fit(x_train, y_train)\n",
    "    y_test_hat = knn_model.predict(x_test)\n",
    "    comb = round(accuracy_score(y_test_hat, y_test), 3)\n",
    "    scores.append(comb)\n",
    "print(scores)\n",
    "plt.plot(k, scores) #turns out you need to perform with plt function for variables that are not dataframes \n",
    "plt.title(\"Scores across different values of k\")\n",
    "plt.xlabel(\"Number of Ks\")\n",
    "plt.ylabel(\"Model accuracy\")\n",
    "plt.show()"
   ]
  },
  {
   "cell_type": "code",
   "execution_count": 490,
   "id": "02eac741-28e3-4b60-8701-b9dfe2960479",
   "metadata": {},
   "outputs": [
    {
     "name": "stdout",
     "output_type": "stream",
     "text": [
      "1 0.27\n",
      "2 0.293\n",
      "3 0.32\n",
      "4 0.337\n",
      "5 0.337\n",
      "6 0.34\n",
      "7 0.36\n",
      "8 0.36\n",
      "9 0.337\n",
      "10 0.363\n",
      "11 0.363\n"
     ]
    }
   ],
   "source": [
    "for i, values in enumerate(scores):\n",
    "    print (i+1, values)\n",
    "#THE model with K-value of 10th and 11th order appear most robust "
   ]
  },
  {
   "cell_type": "markdown",
   "id": "92c4811e-e21c-4d8d-9a26-b9344d3c7410",
   "metadata": {},
   "source": [
    "#### Conducting Confusion matrix and F1 score evaluations on the K-value that obtained the highest accuracy score (i.e., 10th order)\n",
    "Accuracy score, Confusion matrix, and F1 score evaluation metrics usually follow the evaluation pipeline for classification-based regression such as DecisionTree classifier, KNN, SVM, and Logistical Regressions that evaluates the performance of the prediction through accuracy score. While a confusion matrix allows visual observation of confusions and non-confusions regarding the assignment of records into classification, F1 scores combine precision and recall evaluation metrics to generate metric score.   "
   ]
  },
  {
   "cell_type": "code",
   "execution_count": 494,
   "id": "9c5e4c3c-1d25-4740-ac23-e05f3aa77256",
   "metadata": {},
   "outputs": [
    {
     "data": {
      "text/plain": [
       "custcat\n",
       "1    95\n",
       "3    81\n",
       "2    63\n",
       "4    61\n",
       "Name: count, dtype: int64"
      ]
     },
     "execution_count": 494,
     "metadata": {},
     "output_type": "execute_result"
    }
   ],
   "source": [
    "y_test.value_counts()\n",
    "#so we shall be obtaining the evaluation metrices for each classification out of the four classification we have in our categorical target variable"
   ]
  },
  {
   "cell_type": "code",
   "execution_count": 496,
   "id": "2c1fdecf-5bd8-4056-813e-d65ec50b4b25",
   "metadata": {},
   "outputs": [
    {
     "name": "stdout",
     "output_type": "stream",
     "text": [
      "              precision    recall  f1-score   support\n",
      "\n",
      "           1       0.48      0.51      0.50        90\n",
      "           2       0.25      0.24      0.24        68\n",
      "           3       0.35      0.36      0.35        78\n",
      "           4       0.31      0.30      0.30        64\n",
      "\n",
      "    accuracy                           0.36       300\n",
      "   macro avg       0.35      0.35      0.35       300\n",
      "weighted avg       0.36      0.36      0.36       300\n",
      "\n"
     ]
    }
   ],
   "source": [
    "#At first, we need to obtain the classification report to generate the confusion matrix\n",
    "from sklearn.metrics import classification_report\n",
    "KNN = KNeighborsClassifier(n_neighbors=10) \n",
    "knn_model = KNN.fit(x_train, y_train)\n",
    "y_test_hat = knn_model.predict(x_test)\n",
    "\n",
    "print(classification_report(y_test_hat, y_test))\n",
    "#As we can see here, four batch of scores are obtained for four different classifications in our target variable. It is important that F1-score ranges between 0 to 1, much \n",
    "#like the R2 squared score. "
   ]
  },
  {
   "cell_type": "code",
   "execution_count": 497,
   "id": "d4923345-79e9-49b3-b64d-70e3abb73a86",
   "metadata": {},
   "outputs": [
    {
     "data": {
      "image/png": "[encoded data removed]",
      "text/plain": [
       "<Figure size 640x480 with 2 Axes>"
      ]
     },
     "metadata": {},
     "output_type": "display_data"
    }
   ],
   "source": [
    "#Now plotting the confusion matrix\n",
    "from sklearn.metrics import confusion_matrix\n",
    "import seaborn as sns\n",
    "\n",
    "conf_matrx = confusion_matrix(y_test, y_test_hat)\n",
    "sns.heatmap(conf_matrx, annot = True, cmap = \"Blues\")\n",
    "plt.title(\"Classification confusion\")\n",
    "plt.xlabel(\"actual value\")\n",
    "plt.ylabel(\"predicted value\")\n",
    "plt.show()\n",
    "\n",
    "#As we can see, severe misclassification seems to have occurred, especially regarding the classification of customers in the 2nd and 4th categories, misclassification is higher\n",
    "#than the correct classification. "
   ]
  },
  {
   "cell_type": "code",
   "execution_count": null,
   "id": "48ce1086-d8c4-427e-bfc6-d59889c611cf",
   "metadata": {},
   "outputs": [],
   "source": []
  },
  {
   "cell_type": "markdown",
   "id": "ca57122f-988b-487d-8825-d129503402b6",
   "metadata": {},
   "source": [
    "## Ensemble Models"
   ]
  },
  {
   "cell_type": "markdown",
   "id": "ecf703ee-67e5-4b81-8d29-8809aed1f407",
   "metadata": {},
   "source": [
    "### Random Forest\n",
    "#### Bagging Method (Reducing Overfitting (i.e., variance) without increasing biasness)\n",
    "Random forest is a commonly-used machine learning algorithm that combines the output of multiple decision trees to reach a single result. When multiple decision trees form an ensemble in the random forest algorithm, they predict more accurate results, particularly when the individual trees are uncorrelated with each other. Random Forest as an ensemble learning methods are made up of a set of classifiers—e.g. decision trees—and their predictions are aggregated to identify the most popular result. It utilizes both bagging and feature randomness to create an uncorrelated forest of decision trees. It generates a random subset of features, which ensures low correlation among decision trees. While decision trees consider all the possible feature splits, random forests only select a subset of those features.\n",
    "\n",
    "Random forest algorithms have three main hyperparameters, which need to be set before training. These include node size, the number of trees, and the number of features sampled. From there, the random forest classifier can be used to solve for regression or classification problems. The random forest algorithm is made up of a collection of decision trees, and each tree in the ensemble is comprised of a data sample drawn from a training set with replacement, called the bootstrap sample. Of that training sample, one-third of it is set aside as test data, known as the out-of-bag (oob) sample. Another instance of randomness is then injected through feature bagging, adding more diversity to the dataset and reducing the correlation among decision trees. For a regression task, the individual decision trees will be averaged, and for a classification task, a majority vote—i.e. the most frequent categorical variable—will yield the predicted class. Finally, the oob sample is then used for cross-validation, finalizing that prediction.\n",
    "\n",
    "#### Visual reference of process involved in Random Forest that involves sample bootstrapping and feature sampling\n",
    "<left>\n",
    "    <img src=\"Random Forest.JPG\" width=\"400\">\n",
    "</left>\n"
   ]
  },
  {
   "cell_type": "code",
   "execution_count": 533,
   "id": "8fa979fc-b6f2-49c6-bab7-5a58bb398e2f",
   "metadata": {},
   "outputs": [
    {
     "data": {
      "text/html": [
       "<div>\n",
       "<style scoped>\n",
       "    .dataframe tbody tr th:only-of-type {\n",
       "        vertical-align: middle;\n",
       "    }\n",
       "\n",
       "    .dataframe tbody tr th {\n",
       "        vertical-align: top;\n",
       "    }\n",
       "\n",
       "    .dataframe thead th {\n",
       "        text-align: right;\n",
       "    }\n",
       "</style>\n",
       "<table border=\"1\" class=\"dataframe\">\n",
       "  <thead>\n",
       "    <tr style=\"text-align: right;\">\n",
       "      <th></th>\n",
       "      <th>VendorID</th>\n",
       "      <th>passenger_count</th>\n",
       "      <th>trip_distance</th>\n",
       "      <th>RatecodeID</th>\n",
       "      <th>store_and_fwd_flag</th>\n",
       "      <th>PULocationID</th>\n",
       "      <th>DOLocationID</th>\n",
       "      <th>payment_type</th>\n",
       "      <th>fare_amount</th>\n",
       "      <th>mta_tax</th>\n",
       "      <th>tolls_amount</th>\n",
       "      <th>improvement_surcharge</th>\n",
       "      <th>tip_amount</th>\n",
       "    </tr>\n",
       "  </thead>\n",
       "  <tbody>\n",
       "    <tr>\n",
       "      <th>0</th>\n",
       "      <td>2</td>\n",
       "      <td>1</td>\n",
       "      <td>17.63</td>\n",
       "      <td>2</td>\n",
       "      <td>1</td>\n",
       "      <td>132</td>\n",
       "      <td>164</td>\n",
       "      <td>1</td>\n",
       "      <td>70.0</td>\n",
       "      <td>0.5</td>\n",
       "      <td>6.94</td>\n",
       "      <td>1</td>\n",
       "      <td>16.54</td>\n",
       "    </tr>\n",
       "    <tr>\n",
       "      <th>1</th>\n",
       "      <td>2</td>\n",
       "      <td>1</td>\n",
       "      <td>19.52</td>\n",
       "      <td>2</td>\n",
       "      <td>1</td>\n",
       "      <td>132</td>\n",
       "      <td>236</td>\n",
       "      <td>1</td>\n",
       "      <td>70.0</td>\n",
       "      <td>0.5</td>\n",
       "      <td>6.94</td>\n",
       "      <td>1</td>\n",
       "      <td>16.19</td>\n",
       "    </tr>\n",
       "    <tr>\n",
       "      <th>2</th>\n",
       "      <td>2</td>\n",
       "      <td>1</td>\n",
       "      <td>17.81</td>\n",
       "      <td>2</td>\n",
       "      <td>1</td>\n",
       "      <td>132</td>\n",
       "      <td>48</td>\n",
       "      <td>1</td>\n",
       "      <td>70.0</td>\n",
       "      <td>0.5</td>\n",
       "      <td>6.94</td>\n",
       "      <td>1</td>\n",
       "      <td>12.00</td>\n",
       "    </tr>\n",
       "    <tr>\n",
       "      <th>3</th>\n",
       "      <td>2</td>\n",
       "      <td>2</td>\n",
       "      <td>19.30</td>\n",
       "      <td>2</td>\n",
       "      <td>1</td>\n",
       "      <td>132</td>\n",
       "      <td>148</td>\n",
       "      <td>1</td>\n",
       "      <td>70.0</td>\n",
       "      <td>0.5</td>\n",
       "      <td>0.00</td>\n",
       "      <td>1</td>\n",
       "      <td>5.00</td>\n",
       "    </tr>\n",
       "    <tr>\n",
       "      <th>4</th>\n",
       "      <td>2</td>\n",
       "      <td>1</td>\n",
       "      <td>18.75</td>\n",
       "      <td>2</td>\n",
       "      <td>1</td>\n",
       "      <td>132</td>\n",
       "      <td>234</td>\n",
       "      <td>1</td>\n",
       "      <td>70.0</td>\n",
       "      <td>0.5</td>\n",
       "      <td>6.94</td>\n",
       "      <td>1</td>\n",
       "      <td>10.00</td>\n",
       "    </tr>\n",
       "  </tbody>\n",
       "</table>\n",
       "</div>"
      ],
      "text/plain": [
       "   VendorID  passenger_count  trip_distance  RatecodeID  store_and_fwd_flag  \\\n",
       "0         2                1          17.63           2                   1   \n",
       "1         2                1          19.52           2                   1   \n",
       "2         2                1          17.81           2                   1   \n",
       "3         2                2          19.30           2                   1   \n",
       "4         2                1          18.75           2                   1   \n",
       "\n",
       "   PULocationID  DOLocationID  payment_type  fare_amount  mta_tax  \\\n",
       "0           132           164             1         70.0      0.5   \n",
       "1           132           236             1         70.0      0.5   \n",
       "2           132            48             1         70.0      0.5   \n",
       "3           132           148             1         70.0      0.5   \n",
       "4           132           234             1         70.0      0.5   \n",
       "\n",
       "   tolls_amount  improvement_surcharge  tip_amount  \n",
       "0          6.94                      1       16.54  \n",
       "1          6.94                      1       16.19  \n",
       "2          6.94                      1       12.00  \n",
       "3          0.00                      1        5.00  \n",
       "4          6.94                      1       10.00  "
      ]
     },
     "execution_count": 533,
     "metadata": {},
     "output_type": "execute_result"
    }
   ],
   "source": [
    "#We shall again the use the taxitip dataset for our purpose\n",
    "File = pd.read_csv(\"Taxitip.csv\")\n",
    "Taxitip_RF = pd.DataFrame(File)\n",
    "Taxitip_RF.drop(columns = \"Unnamed: 0\", axis=1, inplace = True)\n",
    "Taxitip_RF.head()"
   ]
  },
  {
   "cell_type": "code",
   "execution_count": 537,
   "id": "ddc3dec0-a60e-4afc-9cc3-027c2437c085",
   "metadata": {},
   "outputs": [
    {
     "name": "stdout",
     "output_type": "stream",
     "text": [
      "32961 8241 32961 8241\n"
     ]
    }
   ],
   "source": [
    "#Now breaking the data for further preprocessing\n",
    "Taxitip_RF_ind = Taxitip_RF.drop(columns = \"tip_amount\")\n",
    "\n",
    "from sklearn.preprocessing import StandardScaler\n",
    "\n",
    "scaler = StandardScaler()\n",
    "Taxitip_RF_ind_std = scaler.fit_transform(Taxitip_RF_ind) #standardizing is not necessary for ensemble models\n",
    "#Now splitting the transform independent data into training and testing data\n",
    "x_value = Taxitip_RF_ind_std\n",
    "y_value = Taxitip_RF[\"tip_amount\"]\n",
    "\n",
    "from sklearn.model_selection import train_test_split\n",
    "x_train, x_test, y_train, y_test = train_test_split(x_value, y_value, test_size = 0.2, random_state=0)\n",
    "print(x_train.shape[0], x_test.shape[0], y_train.shape[0], y_test.shape[0])"
   ]
  },
  {
   "cell_type": "markdown",
   "id": "2b5bdba8-6435-4593-8a2f-0b1439981214",
   "metadata": {},
   "source": [
    "### <font color = \"red\"> Warning!!! </font>\n",
    "\n",
    "A bad practice that can essentially lead to Data Leakage or snooping is observed in the above cell. WE SHOULD NEVER PREPROCES THE DATA BEFORE SPLITTING THEM, OR ELSE WE RISK DATA SNOOPING OR LEAKAGE  "
   ]
  },
  {
   "cell_type": "code",
   "execution_count": 540,
   "id": "33baed74-f116-43ae-99a6-8a16bdeca963",
   "metadata": {},
   "outputs": [],
   "source": [
    "#As we can see below, we have 13 features in our dataset. So, the rule of thumb in deciding on the number of feature to be dedicated for decision tree analysis for \n",
    "#each tree is dividing the number of feature by 13. So we shall dedicate (n/3) number of feature for each tree in the forest as base estimator\n",
    "maxfeatures = int(Taxitip_RF.shape[1]/3)\n",
    "#so we can use 4 features each for each tree of our random forest"
   ]
  },
  {
   "cell_type": "code",
   "execution_count": 542,
   "id": "a737b842-7f2e-4743-a14f-6b3b5689577a",
   "metadata": {},
   "outputs": [
    {
     "name": "stdout",
     "output_type": "stream",
     "text": [
      "[-0.2673712727815034, -0.2400934539922288, -0.23336473818510295, -0.23141762186332837, -0.22768084977837355, -0.22557840292615894, -0.22106379773330276, -0.21988808662303083, -0.22025186027878552, -0.219725757843926, -0.21878250238275276, -0.21802351845556278, -0.21623267950551495, -0.21621686065653378]\n"
     ]
    }
   ],
   "source": [
    "#Likewise for base_estimator or number of trees we shall use a range of multiple of 10 to 150 based on our discretion, We shall use the estimator that generates the \n",
    "#highest R_squared score\n",
    "import numpy as np\n",
    "from sklearn.ensemble import RandomForestRegressor\n",
    "from sklearn.metrics import r2_score\n",
    "\n",
    "Estimated = []\n",
    "trees = np.arange(10, 150, 10)\n",
    "for numbers in trees:\n",
    "    rf = RandomForestRegressor(n_estimators = numbers, max_features = maxfeatures, max_depth = None, random_state = 0) \n",
    "    #we shall set the max_depth to max because overfitting is not a problem with random forest due to random features adjustment per tree \n",
    "    # we shall reinstate the random_state value becuase the randomization process of feature selection and bagging happens here\n",
    "    rf.fit(x_train, y_train)\n",
    "    Scores = rf.score(x_test, y_test)\n",
    "    Estimated.append(Scores)\n",
    "print(Estimated)"
   ]
  },
  {
   "cell_type": "code",
   "execution_count": 543,
   "id": "f5f26026-56ca-4523-9a65-87c27c62776f",
   "metadata": {},
   "outputs": [
    {
     "name": "stdout",
     "output_type": "stream",
     "text": [
      "10 -0.2673712727815034\n",
      "20 -0.2400934539922288\n",
      "30 -0.23336473818510295\n",
      "40 -0.23141762186332837\n",
      "50 -0.22768084977837355\n",
      "60 -0.22557840292615894\n",
      "70 -0.22106379773330276\n",
      "80 -0.21988808662303083\n",
      "90 -0.22025186027878552\n",
      "100 -0.219725757843926\n",
      "110 -0.21878250238275276\n",
      "120 -0.21802351845556278\n",
      "130 -0.21623267950551495\n",
      "140 -0.21621686065653378\n"
     ]
    }
   ],
   "source": [
    "import matplotlib.pyplot as plt\n",
    "for i, scores in enumerate(Estimated):\n",
    "    print((i+1)*10, scores)\n",
    "#as we can see the r2 score below 0 tends to a poor model performance, and therefore the model with least worst performance is one with 140 trees in the forest\n",
    "#the prediction of with 140 base etimations can be compared with actual value through visual screening. "
   ]
  },
  {
   "cell_type": "code",
   "execution_count": 544,
   "id": "8ec7a3dd-10f6-456e-824f-029cd183a861",
   "metadata": {},
   "outputs": [
    {
     "data": {
      "text/plain": [
       "Text(0.5, 1.0, 'errors in the prediction')"
      ]
     },
     "execution_count": 544,
     "metadata": {},
     "output_type": "execute_result"
    },
    {
     "data": {
      "image/png": "[encoded data removed]",
      "text/plain": [
       "<Figure size 640x480 with 1 Axes>"
      ]
     },
     "metadata": {},
     "output_type": "display_data"
    }
   ],
   "source": [
    "#Lets plot the residual error in a histogram of the model with the least number of trees\n",
    "rf = RandomForestRegressor(n_estimators = 140, max_features = maxfeatures, max_depth = None, random_state = 0) \n",
    "rf.fit(x_train, y_train)\n",
    "y_test_hat = rf.predict(x_test)\n",
    "\n",
    "residuals = y_test - y_test_hat\n",
    "import seaborn as sns\n",
    "sns.kdeplot(residuals) \n",
    "plt.title(\"errors in the prediction\")\n",
    "# The error in the data seems to have centralized and spiked in the specific area where the residue is the least or even zero. So, obviously, most of our error are caused to \n",
    "#errors of small magnitudes that is between over and underexpecting $20 as tip amount. However, the frequency or density of no error is the deepest as the residue of zero value\n",
    "#appear to be most prevalent. Visually, this actually proves that the data has been predicting well. "
   ]
  },
  {
   "cell_type": "markdown",
   "id": "aaaa57fc-f24c-4a0f-a664-1bba8cb8f411",
   "metadata": {},
   "source": [
    "### Extreme Gradient Boost (Reducing underfitting (i.e., biasness) without increase variance)\n",
    "Unlike Random Forests, XGBOOST is a ensemble method that adopts the boosting method compared to bagging method, such that the final decisions of the \n",
    "parallely constructed trees are not averaged (for continuous variable) or voted (for categorical variable) as in the bagging method. Instead, trees are constructed \n",
    "sequentially by allowing suceedining tree learn from the errors (residuals) of the preceeding tree. In other words, it iteratively refines the model by focusing on the examples that were misclassified or poorly predicted by the earlier trees. This sequential nature means the training of one tree depends on the previous ones.\n",
    "\n",
    "Also, while Random forest ensemble allows individual trees to retain maximum depth. the trees in boosting method is rather shallow (\"weak learners\"), because they are part of an additive process where many small improvements add up. Hence, we can stick to four levels of branches per tree. However, the number of trees to construct the forest can be applied with the same rule of thumb "
   ]
  },
  {
   "cell_type": "code",
   "execution_count": 3,
   "id": "3efae71e-d9ec-47a3-9003-f728bf14996a",
   "metadata": {},
   "outputs": [
    {
     "ename": "NameError",
     "evalue": "name 'x_train' is not defined",
     "output_type": "error",
     "traceback": [
      "\u001b[1;31m---------------------------------------------------------------------------\u001b[0m",
      "\u001b[1;31mNameError\u001b[0m                                 Traceback (most recent call last)",
      "Cell \u001b[1;32mIn[3], line 12\u001b[0m\n\u001b[0;32m      9\u001b[0m xgb \u001b[38;5;241m=\u001b[39m XGBRegressor(n_estimators \u001b[38;5;241m=\u001b[39m numbers, learning_rate \u001b[38;5;241m=\u001b[39m \u001b[38;5;241m0.1\u001b[39m, max_depth \u001b[38;5;241m=\u001b[39m \u001b[38;5;241m4\u001b[39m, random_state \u001b[38;5;241m=\u001b[39m \u001b[38;5;241m0\u001b[39m) \u001b[38;5;66;03m#learning_rate substitutes feature numbers here because the idea is to\u001b[39;00m\n\u001b[0;32m     10\u001b[0m                                                                                                  \u001b[38;5;66;03m#tackle underfitting through boosted learning. In here, we shall deploy\u001b[39;00m\n\u001b[0;32m     11\u001b[0m                                                                                                  \u001b[38;5;66;03m#learning rate of 0.1 only\u001b[39;00m\n\u001b[1;32m---> 12\u001b[0m xgb\u001b[38;5;241m.\u001b[39mfit(x_train, y_train)\n\u001b[0;32m     13\u001b[0m Scores1 \u001b[38;5;241m=\u001b[39m rf\u001b[38;5;241m.\u001b[39mscore(x_test, y_test)\n\u001b[0;32m     14\u001b[0m Estimated1\u001b[38;5;241m.\u001b[39mappend(Scores)\n",
      "\u001b[1;31mNameError\u001b[0m: name 'x_train' is not defined"
     ]
    }
   ],
   "source": [
    "#Processing the same dataset for this XGBoosting too\n",
    "import numpy as np\n",
    "from xgboost import XGBRegressor #note that XGBOOST does not come from the Sci-kit package\n",
    "from sklearn.metrics import r2_score\n",
    "\n",
    "Estimated1 = []\n",
    "trees = np.arange(10, 150, 10)\n",
    "for numbers in trees:\n",
    "    xgb = XGBRegressor(n_estimators = numbers, learning_rate = 0.1, max_depth = 4, random_state = 0) #learning_rate substitutes feature numbers here because the idea is to\n",
    "                                                                                                     #tackle underfitting through boosted learning. In here, we shall deploy\n",
    "                                                                                                     #learning rate of 0.1 only\n",
    "    xgb.fit(x_train, y_train)\n",
    "    Scores1 = rf.score(x_test, y_test)\n",
    "    Estimated1.append(Scores)\n",
    "print(Estimated1)\n",
    "#it's interesting that models perform with same effectiveness when tested on rsquared. Interestingly, it is the highest R2 score for our earlier random forest model "
   ]
  },
  {
   "cell_type": "code",
   "execution_count": 547,
   "id": "9df7e6e4-4968-44b4-8f27-89becad86f46",
   "metadata": {},
   "outputs": [
    {
     "data": {
      "image/png": "[encoded data removed]",
      "text/plain": [
       "<Figure size 640x480 with 1 Axes>"
      ]
     },
     "metadata": {},
     "output_type": "display_data"
    }
   ],
   "source": [
    "#Comparing the scores between the two ensemble models through graph\n",
    "import seaborn as sns\n",
    "import matplotlib.pyplot as plt\n",
    "\n",
    "sns.lineplot(x = trees, y = Estimated, color = \"blue\", label = \"RF_performance\")\n",
    "sns.lineplot(x = trees, y = Estimated1, color = \"red\", label = \"XGB_performance\")\n",
    "plt.title(\"RandomForests versus XGBoosting model performance\")\n",
    "plt.xlabel(\"Number of trees (base estimators)\")\n",
    "plt.ylabel(\"Rsquared model performance score\")\n",
    "plt.show()"
   ]
  },
  {
   "cell_type": "markdown",
   "id": "b4925876-2f03-40b1-ad8b-878d9f5d974b",
   "metadata": {},
   "source": [
    "### GridsearchCV and Pipelines\n",
    "A combination of GridsearchCV and Pipelines greatly increases the efficiency of the codes as it helps automating the search for the best parameters and hyperparameters without applying the \"for loop\" function and consolidating multiple preprocessing steps into a single pipeine. "
   ]
  },
  {
   "cell_type": "markdown",
   "id": "7722a743-204d-4062-b7af-455475bb898a",
   "metadata": {},
   "source": [
    "#### Case I: Not optimizing for best paramter or hyperparamter"
   ]
  },
  {
   "cell_type": "code",
   "execution_count": 550,
   "id": "0c8a7b4a-55de-48db-a807-b3076d3083ea",
   "metadata": {},
   "outputs": [
    {
     "data": {
      "text/plain": [
       "Index(['Id', 'SepalLengthCm', 'SepalWidthCm', 'PetalLengthCm', 'PetalWidthCm',\n",
       "       'Species'],\n",
       "      dtype='object')"
      ]
     },
     "execution_count": 550,
     "metadata": {},
     "output_type": "execute_result"
    }
   ],
   "source": [
    "#In here we shall deploy GridSearchCV and Pipelines for classification job using the popular IRIS botanical dataset\n",
    "import pandas as pd\n",
    "File = pd.read_csv(\"Iris.csv\")\n",
    "IRIS = pd.DataFrame(File)\n",
    "IRIS.columns"
   ]
  },
  {
   "cell_type": "code",
   "execution_count": 551,
   "id": "be9c4269-dad0-4dbe-ac1e-217d4b12e7a4",
   "metadata": {},
   "outputs": [
    {
     "data": {
      "text/html": [
       "<div>\n",
       "<style scoped>\n",
       "    .dataframe tbody tr th:only-of-type {\n",
       "        vertical-align: middle;\n",
       "    }\n",
       "\n",
       "    .dataframe tbody tr th {\n",
       "        vertical-align: top;\n",
       "    }\n",
       "\n",
       "    .dataframe thead th {\n",
       "        text-align: right;\n",
       "    }\n",
       "</style>\n",
       "<table border=\"1\" class=\"dataframe\">\n",
       "  <thead>\n",
       "    <tr style=\"text-align: right;\">\n",
       "      <th></th>\n",
       "      <th>Id</th>\n",
       "      <th>SepalLengthCm</th>\n",
       "      <th>SepalWidthCm</th>\n",
       "      <th>PetalLengthCm</th>\n",
       "      <th>PetalWidthCm</th>\n",
       "    </tr>\n",
       "  </thead>\n",
       "  <tbody>\n",
       "    <tr>\n",
       "      <th>0</th>\n",
       "      <td>1</td>\n",
       "      <td>5.1</td>\n",
       "      <td>3.5</td>\n",
       "      <td>1.4</td>\n",
       "      <td>0.2</td>\n",
       "    </tr>\n",
       "    <tr>\n",
       "      <th>1</th>\n",
       "      <td>2</td>\n",
       "      <td>4.9</td>\n",
       "      <td>3.0</td>\n",
       "      <td>1.4</td>\n",
       "      <td>0.2</td>\n",
       "    </tr>\n",
       "    <tr>\n",
       "      <th>2</th>\n",
       "      <td>3</td>\n",
       "      <td>4.7</td>\n",
       "      <td>3.2</td>\n",
       "      <td>1.3</td>\n",
       "      <td>0.2</td>\n",
       "    </tr>\n",
       "    <tr>\n",
       "      <th>3</th>\n",
       "      <td>4</td>\n",
       "      <td>4.6</td>\n",
       "      <td>3.1</td>\n",
       "      <td>1.5</td>\n",
       "      <td>0.2</td>\n",
       "    </tr>\n",
       "    <tr>\n",
       "      <th>4</th>\n",
       "      <td>5</td>\n",
       "      <td>5.0</td>\n",
       "      <td>3.6</td>\n",
       "      <td>1.4</td>\n",
       "      <td>0.2</td>\n",
       "    </tr>\n",
       "  </tbody>\n",
       "</table>\n",
       "</div>"
      ],
      "text/plain": [
       "   Id  SepalLengthCm  SepalWidthCm  PetalLengthCm  PetalWidthCm\n",
       "0   1            5.1           3.5            1.4           0.2\n",
       "1   2            4.9           3.0            1.4           0.2\n",
       "2   3            4.7           3.2            1.3           0.2\n",
       "3   4            4.6           3.1            1.5           0.2\n",
       "4   5            5.0           3.6            1.4           0.2"
      ]
     },
     "execution_count": 551,
     "metadata": {},
     "output_type": "execute_result"
    }
   ],
   "source": [
    "#wrangling the dataframe for our purpose\n",
    "#IRIS.drop(columns = \"Id\", axis=1, inplace=True)\n",
    "IRIS_ind = IRIS.drop(columns = \"Species\")\n",
    "IRIS_ind.head()"
   ]
  },
  {
   "cell_type": "code",
   "execution_count": 552,
   "id": "f51dad77-8aa0-46c9-8a47-4848dc12d254",
   "metadata": {},
   "outputs": [
    {
     "name": "stdout",
     "output_type": "stream",
     "text": [
      "105\n",
      "45\n",
      "105\n",
      "45\n"
     ]
    }
   ],
   "source": [
    "#Splitting our data for predictive analysis\n",
    "x_value = IRIS_ind\n",
    "y_value = IRIS[\"Species\"]\n",
    "\n",
    "from sklearn.model_selection import train_test_split\n",
    "x_train, x_test, y_train, y_test = train_test_split(x_value, y_value, test_size = 0.30, random_state = 0, stratify = y_value)\n",
    "print(x_train.shape[0])\n",
    "print(x_test.shape[0])\n",
    "print(y_train.shape[0])\n",
    "print(y_test.shape[0])\n",
    "#since we are not evaluating the model for optimization through the administration of multiple parameters or hyperparameters, we shall not create an evaluation batch"
   ]
  },
  {
   "cell_type": "code",
   "execution_count": 553,
   "id": "41eebc23-7a3a-4b12-91ae-79696e7e9bbd",
   "metadata": {},
   "outputs": [
    {
     "name": "stdout",
     "output_type": "stream",
     "text": [
      "1.0\n",
      "the pipelined model is able to explain 100.0 percent of the variance in the original dataset\n"
     ]
    }
   ],
   "source": [
    "#creating a pipeline that shall perform Standardization, Principal Component Analysis, and K-Nearest Neighbor\n",
    "from sklearn.pipeline import Pipeline\n",
    "from sklearn.preprocessing import StandardScaler\n",
    "from sklearn.decomposition import PCA\n",
    "from sklearn.neighbors import KNeighborsClassifier\n",
    "\n",
    "pipeline = Pipeline([(\"scaler\", StandardScaler()), (\"pca\", PCA(n_components = 2)), (\"knn\", KNeighborsClassifier(n_neighbors = 5))]) \n",
    "\n",
    "pipeline.fit(x_train, y_train) \n",
    "print(pipeline.score(x_test, y_test)) #although accuracy_score is used for classification evaluation pipeline only taks .score as the evaluation method\n",
    "print(f\"the pipelined model is able to explain {round(pipeline.score(x_test, y_test)*100, 2)} percent of the variance in the original dataset\")"
   ]
  },
  {
   "cell_type": "code",
   "execution_count": 554,
   "id": "b5a21479-0d87-4027-96a0-506a968251bb",
   "metadata": {},
   "outputs": [
    {
     "name": "stdout",
     "output_type": "stream",
     "text": [
      "['Iris-virginica' 'Iris-virginica' 'Iris-setosa' 'Iris-setosa'\n",
      " 'Iris-versicolor' 'Iris-setosa' 'Iris-versicolor' 'Iris-virginica'\n",
      " 'Iris-setosa' 'Iris-versicolor']\n"
     ]
    }
   ],
   "source": [
    "y_test_hat = pipeline.predict(x_test)\n",
    "print(y_test_hat[0:10])"
   ]
  },
  {
   "cell_type": "code",
   "execution_count": 555,
   "id": "a299282f-4fdf-49d2-b07e-359106b48a67",
   "metadata": {},
   "outputs": [
    {
     "name": "stdout",
     "output_type": "stream",
     "text": [
      "[0.74901783 0.18926101]\n",
      "[[ 0.48570296  0.44875031 -0.22145055  0.51003232  0.50353001]\n",
      " [-0.02243506  0.39060743  0.91849209  0.02593553  0.05120686]]\n"
     ]
    }
   ],
   "source": [
    "#Apart from providing an efficient means of coding, pipeline also allows independent model evaluation for processes that are stacked together. although it takes an extra prompt\n",
    "piped_pca = pipeline.named_steps[\"pca\"]\n",
    "print(piped_pca.explained_variance_ratio_)\n",
    "print(piped_pca.components_) "
   ]
  },
  {
   "cell_type": "code",
   "execution_count": 556,
   "id": "5f399d24-52eb-4aed-9fda-a23e50cc4ce2",
   "metadata": {},
   "outputs": [
    {
     "name": "stdout",
     "output_type": "stream",
     "text": [
      "                 precision    recall  f1-score   support\n",
      "\n",
      "    Iris-setosa       1.00      1.00      1.00        15\n",
      "Iris-versicolor       1.00      1.00      1.00        15\n",
      " Iris-virginica       1.00      1.00      1.00        15\n",
      "\n",
      "       accuracy                           1.00        45\n",
      "      macro avg       1.00      1.00      1.00        45\n",
      "   weighted avg       1.00      1.00      1.00        45\n",
      "\n"
     ]
    }
   ],
   "source": [
    "#Now pursuing the classification metrics\n",
    "from sklearn.metrics import classification_report\n",
    "print(classification_report(y_test_hat, y_test))"
   ]
  },
  {
   "cell_type": "code",
   "execution_count": 557,
   "id": "282f99a6-6d7c-40da-b969-b6caa7d36f0f",
   "metadata": {},
   "outputs": [
    {
     "data": {
      "image/png": "[encoded data removed]",
      "text/plain": [
       "<Figure size 640x480 with 2 Axes>"
      ]
     },
     "metadata": {},
     "output_type": "display_data"
    }
   ],
   "source": [
    "#Now, generating the confusion matrix\n",
    "from sklearn.metrics import confusion_matrix\n",
    "import seaborn as sns\n",
    "import matplotlib.pyplot as plt\n",
    "\n",
    "conf_matrx = confusion_matrix(y_test_hat, y_test)\n",
    "sns.heatmap(conf_matrx, annot = True, cmap = \"Blues\")\n",
    "plt.title(\"Confusion matrix for IRIS dataset\")\n",
    "plt.xlabel(\"predicted classification\")\n",
    "plt.ylabel(\"actual classification\")\n",
    "plt.show()\n",
    "# the accuracy of the prediction is notable"
   ]
  },
  {
   "cell_type": "markdown",
   "id": "8ae83f8e-62ad-4173-80c9-7ea272c2bf22",
   "metadata": {},
   "source": [
    "#### Case II: Optimizing for parameter and hyperparameter"
   ]
  },
  {
   "cell_type": "code",
   "execution_count": 559,
   "id": "6e2129a7-e3c3-43da-b354-b5e00bd958d3",
   "metadata": {},
   "outputs": [
    {
     "name": "stdout",
     "output_type": "stream",
     "text": [
      "Pipeline(steps=[('scaler', StandardScaler()), ('pca', PCA(n_components=3)),\n",
      "                ('knn', KNeighborsClassifier(n_neighbors=np.int64(3)))])\n",
      " PCA with most explained variance = 3 | Number of k-neighborhood per classification = 4\n"
     ]
    }
   ],
   "source": [
    "# so at first we need to set the range of hyper parameters we are interested in\n",
    "import numpy as np\n",
    "\n",
    "param_grid = {\"pca__n_components\": [2, 3], \n",
    "        \"knn__n_neighbors\": np.arange(1, 5, 1)} #using dictionary in a algorithm after a long while. The double underscore or \"dunder\" is a special syntax in sklearn\n",
    "                                                 #to identify the hyperparameter in a pipeline\n",
    "from sklearn.model_selection import StratifiedKFold\n",
    "#since we shall be using the Cross-validation method to split the score it needs to be directed accoridingly. and we shall use stratified kfolds particularly because \n",
    "#stratification is essential for classification \n",
    "CV = StratifiedKFold(n_splits = 4) #so we have decided to create four different splits \n",
    "\n",
    "#now deploying gridsearch\n",
    "from sklearn.model_selection import GridSearchCV\n",
    "Grid = GridSearchCV(pipeline, param_grid, cv=CV)\n",
    "Grid.fit(x_train, y_train) #we use the same training variables from Case I\n",
    "\n",
    "Best_estimator = Grid.best_estimator_\n",
    "print(Best_estimator)\n",
    "print(\" PCA with most explained variance = 3 | Number of k-neighborhood per classification = 4\")"
   ]
  },
  {
   "cell_type": "code",
   "execution_count": 560,
   "id": "ce723d19-f144-4705-b7d2-54dda4d91154",
   "metadata": {},
   "outputs": [
    {
     "name": "stdout",
     "output_type": "stream",
     "text": [
      "the performance of the model appear to have improved from 100.0 percent to 100.0 percent\n"
     ]
    }
   ],
   "source": [
    "print(f\"the performance of the model appear to have improved from {round(pipeline.score(x_test, y_test)*100, 2)} percent to {round(Grid.score(x_test, y_test),2)*100} percent\")"
   ]
  },
  {
   "cell_type": "code",
   "execution_count": 561,
   "id": "67d52711-7abe-48fa-ad2f-fe864213cde3",
   "metadata": {},
   "outputs": [
    {
     "data": {
      "text/plain": [
       "array(['Iris-virginica', 'Iris-virginica', 'Iris-setosa', 'Iris-setosa',\n",
       "       'Iris-versicolor', 'Iris-setosa', 'Iris-versicolor',\n",
       "       'Iris-virginica', 'Iris-setosa'], dtype=object)"
      ]
     },
     "execution_count": 561,
     "metadata": {},
     "output_type": "execute_result"
    }
   ],
   "source": [
    "y_test_hat_grid = Grid.predict(x_test)\n",
    "y_test_hat_grid[0:9]"
   ]
  },
  {
   "cell_type": "code",
   "execution_count": 562,
   "id": "2fb6e72a-62d0-492d-b0cd-8d36c454e06c",
   "metadata": {},
   "outputs": [
    {
     "name": "stdout",
     "output_type": "stream",
     "text": [
      "                 precision    recall  f1-score   support\n",
      "\n",
      "    Iris-setosa       1.00      1.00      1.00        15\n",
      "Iris-versicolor       1.00      1.00      1.00        15\n",
      " Iris-virginica       1.00      1.00      1.00        15\n",
      "\n",
      "       accuracy                           1.00        45\n",
      "      macro avg       1.00      1.00      1.00        45\n",
      "   weighted avg       1.00      1.00      1.00        45\n",
      "\n"
     ]
    }
   ],
   "source": [
    "#Now evaluating the performance model with classification report confusion matrix\n",
    "from sklearn.metrics import classification_report\n",
    "print(classification_report(y_test_hat_grid, y_test))"
   ]
  },
  {
   "cell_type": "markdown",
   "id": "a9658bf4-922e-4f99-b5bf-5d0625797b11",
   "metadata": {},
   "source": [
    "### Precision and Recall - Two important metrices for evaluation of classification model\n",
    "Precision answers \"Of all the instances the model predicted as positive, how many were actually positive?\".  It focuses on the quality of the positive predictions. A high precision means a low rate of false alarms or False Positive (i.e., when the model predicts something is positive, it's very likely correct).\n",
    "\n",
    "Precision= True Positives (TP) / (True Positives (TP) + False Positives (FP)) \n",
    "\n",
    "Precision is calculated when the cost of false positive is high. Such as flagging genuine emails as spam. Because, we want the True Positives to be accurate with least number of records classified as False Positive (FP)\n",
    "\n",
    "Recall answers \"Of all the instances that the model predicted as positive, did it capture all the positive?\". It focues on the quantity or completeness of the positive predictions. A high recall means a low rate of unsounded alarms or false negatives (i.e., when the model predicts something is positive, it hasn't missed out records that are positive). \n",
    "\n",
    "Recall= True Positive (TP) /(True Positives (TP) + False Negatives (FP)) \n",
    "\n",
    "Recall is calculated when the cost of false negative or missing out of true positive is high. Such as not detecting credit card fradulent activities when the Bank really does not care as much about raising false alarm than not raising true alarm. So, it is when the bank is okay in becoming trigger happy in flagging transactions than being conservative. "
   ]
  },
  {
   "cell_type": "code",
   "execution_count": 563,
   "id": "2942ce5f-2303-4984-9e38-2c450e72a4c2",
   "metadata": {},
   "outputs": [
    {
     "data": {
      "image/png": "[encoded data removed]",
      "text/plain": [
       "<Figure size 640x480 with 2 Axes>"
      ]
     },
     "metadata": {},
     "output_type": "display_data"
    }
   ],
   "source": [
    "#Now, generating the confusion matrix\n",
    "from sklearn.metrics import confusion_matrix\n",
    "import seaborn as sns\n",
    "import matplotlib.pyplot as plt\n",
    "\n",
    "conf_matrx = confusion_matrix(y_test_hat_grid, y_test)\n",
    "sns.heatmap(conf_matrx, annot = True, cmap = \"Blues\")\n",
    "plt.title(\"Confusion matrix for IRIS dataset\")\n",
    "plt.xlabel(\"predicted classification\")\n",
    "plt.ylabel(\"actual classification\")\n",
    "plt.show()\n",
    "#Earlier the model was slightly confused about the second species, this time its spot-on"
   ]
  }
 ],
 "metadata": {
  "kernelspec": {
   "display_name": "Python [conda env:RP_env]",
   "language": "python",
   "name": "conda-env-RP_env-py"
  },
  "language_info": {
   "codemirror_mode": {
    "name": "ipython",
    "version": 3
   },
   "file_extension": ".py",
   "mimetype": "text/x-python",
   "name": "python",
   "nbconvert_exporter": "python",
   "pygments_lexer": "ipython3",
   "version": "3.12.9"
  }
 },
 "nbformat": 4,
 "nbformat_minor": 5
}
